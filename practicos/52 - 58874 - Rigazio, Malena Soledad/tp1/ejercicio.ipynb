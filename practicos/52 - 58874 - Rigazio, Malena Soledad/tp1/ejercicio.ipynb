{
 "cells": [
  {
   "cell_type": "markdown",
   "metadata": {},
   "source": [
    "# Trabajo práctico 1\n",
    "\n"
   ]
  },
  {
   "cell_type": "markdown",
   "metadata": {},
   "source": [
    "## Ejercicio 1 \n",
    "\n",
    "## Ejercicio 1 \n",
    "\n",
    "Escribe una función en Python que procese una lista de cadenas de texto y realice las siguientes acciones:\n",
    "\n",
    "1. Tomar una lista de frases y convertir cada frase en una lista de palabras.\n",
    "1. Luego, debe crear una nueva lista que contenga la cantidad de palabras en cada frase.\n",
    "1. Tambien debe crear un lista que contenga la cantidad de caracteres en cada frase.\n",
    "1. Finalmente, debe imprimir cada frase original junto con la cantidad de palabras que contiene.\n",
    "Ejemplo de uso:\n",
    "```python\n",
    "    frases = [\n",
    "        \"Python es un lenguaje de programación\",\n",
    "        \"Me gusta resolver problemas con código\",\n",
    "        \"Las listas y los bucles son muy útiles\"\n",
    "    ]\n",
    "\n",
    "    procesar_frases(frases)\n",
    "```\n",
    "\n",
    "ejemplo de salida:\n",
    "```bash\n",
    "    La frase: \"Python es un...\"\n",
    "    tiene 6 palabras y 38 caracteres\n",
    "```\n"
   ]
  },
  {
   "cell_type": "code",
   "execution_count": 27,
   "metadata": {},
   "outputs": [
    {
     "name": "stdout",
     "output_type": "stream",
     "text": [
      "La frase: \"Python es un lenguaje de programación\" \n",
      "- Tiene 6 palabras y 37 caracteres. \n",
      "\n",
      "La frase: \"If Elif Else son sentencias condicionales que proporciona toma de decisiones en el código.\" \n",
      "- Tiene 14 palabras y 90 caracteres. \n",
      "\n",
      "La frase: \"Html no es un lenguaje de programación\" \n",
      "- Tiene 7 palabras y 38 caracteres. \n",
      "\n",
      "La frase: \"Java Script es un lenguaje de programación utilizado para crear páginas web interactivas.\" \n",
      "- Tiene 13 palabras y 89 caracteres. \n",
      "\n",
      "Cantidad de palabras: [6, 14, 7, 13]\n",
      "Cantidad de caracteres: [37, 90, 38, 89]\n"
     ]
    }
   ],
   "source": [
    "# Implementar\n",
    "\n",
    "def leerFrases(frases):\n",
    "    cantPalabras = []\n",
    "    cantCaracteres = []\n",
    "\n",
    "    for frase in frases:\n",
    "\n",
    "        palabras = frase.split()\n",
    "        cantidad_palabras = len(palabras)\n",
    "        cantPalabras.append(cantidad_palabras)\n",
    "\n",
    "        cantidad_caracteres = len(frase)\n",
    "        cantCaracteres.append(cantidad_caracteres)\n",
    "\n",
    "        print(f\"La frase: \\\"{frase}\\\" \\n- Tiene {cantidad_palabras} palabras y {cantidad_caracteres} caracteres. \\n\")\n",
    "\n",
    "    return cantPalabras, cantCaracteres\n",
    "\n",
    "frases = [\n",
    "    \"Python es un lenguaje de programación\",\n",
    "    \"If, Elif y Else son sentencias condicionales que proporciona toma de decisiones en el código.\",\n",
    "    \"Html no es un lenguaje de programación\",\n",
    "    \"Java Script es un lenguaje de programación utilizado para crear páginas web interactivas.\",\n",
    "]\n",
    "\n",
    "cantPalabras, cantCaracteres = leerFrases(frases)\n",
    "print(\"Cantidad de palabras:\", cantPalabras)\n",
    "print(\"Cantidad de caracteres:\", cantCaracteres)\n",
    "\n",
    "\n"
   ]
  },
  {
   "cell_type": "markdown",
   "metadata": {},
   "source": [
    "## Ejercicio 2\n",
    "\n",
    "Escribe una función en Python que encuentre los valores de `a`, `b`, y `c` para que la función cuadrática `f(x) = a x^2 + b x + c` pase exactamente por los siguientes puntos:\n",
    "\n",
    "| x  | y  |\n",
    "|---:|---:|\n",
    "|  0 |  0 |\n",
    "|  1 |  8 |\n",
    "|  2 | 12 |\n",
    "|  3 | 12 |\n",
    "|  5 |  0 |\n",
    "\n",
    "### Requisitos:\n",
    "- La función debe explorar posibles valores de `a`, `b`, y `c` utilizando un método de prueba y error.\n",
    "- Debe devolver los valores que hagan que la diferencia entre la función `f(x)` y los valores medidos `y` sea exactamente cero para cada punto.\n",
    "\n",
    "> **Pista**: Los valores de `a`, `b`, y `c` son números pequeños."
   ]
  },
  {
   "cell_type": "code",
   "execution_count": 30,
   "metadata": {},
   "outputs": [
    {
     "name": "stdout",
     "output_type": "stream",
     "text": [
      "Los coeficientes son: \n",
      " a = -2,\n",
      " b = 10,\n",
      " c = 0\n"
     ]
    }
   ],
   "source": [
    "# Implementar\n",
    "\n",
    "def enctCoeficientes():\n",
    "    puntos = [(0, 0), (1, 8), (2, 12), (3, 12), (5, 0)]\n",
    "    \n",
    "    rango = range(-10, 11)\n",
    "    \n",
    "    for a in rango:\n",
    "        for b in rango:\n",
    "            for c in rango:\n",
    "                cumple = True\n",
    "                for x, y in puntos:\n",
    "                    if y != (a * x**2 + b * x + c):\n",
    "                        cumple = False\n",
    "                        break\n",
    "                if cumple:\n",
    "                    return a, b, c\n",
    "    \n",
    "    return None\n",
    "\n",
    "coeficientes = enctCoeficientes()\n",
    "if coeficientes:\n",
    "    a, b, c = coeficientes\n",
    "    print(f\"Los coeficientes son: \\n a = {a},\\n b = {b},\\n c = {c}\")\n",
    "else:\n",
    "    print(\"No se encontraron coeficientes que cumplan con los puntos.\")\n"
   ]
  }
 ],
 "metadata": {
  "kernelspec": {
   "display_name": "Python 3",
   "language": "python",
   "name": "python3"
  },
  "language_info": {
   "codemirror_mode": {
    "name": "ipython",
    "version": 3
   },
   "file_extension": ".py",
   "mimetype": "text/x-python",
   "name": "python",
   "nbconvert_exporter": "python",
   "pygments_lexer": "ipython3",
   "version": "3.12.6"
  }
 },
 "nbformat": 4,
 "nbformat_minor": 2
}
