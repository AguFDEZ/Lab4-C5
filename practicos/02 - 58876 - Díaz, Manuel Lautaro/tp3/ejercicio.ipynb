{
 "cells": [
  {
   "cell_type": "markdown",
   "metadata": {},
   "source": [
    "#TP3"
   ]
  },
  {
   "cell_type": "markdown",
   "metadata": {},
   "source": [
    "## Ejercicio 1: Cargar Datos de ventas.\n",
    "\n",
    "El archivo datos.dat contiene el registro de las ventas realizadas.\n",
    "\n",
    "Tiene un formato de ancho fijo:\n",
    "- fecha:    10 lugares\n",
    "- producto: 30 lugares\n",
    "- precio:   10 lugares\n",
    "- cantidad:  5 lugares\n",
    "\n",
    "hacer una funcion que carge los en una lista de diccionarios. \n",
    "\n",
    "nota: con \n",
    "```python\n",
    "lineas = open(\"datos.dat\", \"r\").readlines() \n",
    "```\n",
    "puede obtener la lista de string de todos los datos "
   ]
  },
  {
   "cell_type": "code",
   "execution_count": 6,
   "metadata": {},
   "outputs": [
    {
     "name": "stdout",
     "output_type": "stream",
     "text": [
      "{'Fecha': '2024-08-27', 'Producto': 'Mirinda   ', 'Precio': '1510', 'Cantidad': '14'}\n",
      "{'Fecha': '2024-08-27', 'Producto': 'Mirinda   ', 'Precio': '1560', 'Cantidad': '12'}\n",
      "{'Fecha': '2024-08-28', 'Producto': 'Torasso   ', 'Precio': ' 940', 'Cantidad': ' 8'}\n",
      "{'Fecha': '2024-08-29', 'Producto': 'Pepsi Cola', 'Precio': '1210', 'Cantidad': '10'}\n",
      "{'Fecha': '2024-08-30', 'Producto': 'Mirinda   ', 'Precio': '1520', 'Cantidad': ' 1'}\n",
      "{'Fecha': '2024-09-01', 'Producto': 'Mirinda   ', 'Precio': '1550', 'Cantidad': '15'}\n",
      "{'Fecha': '2024-09-01', 'Producto': 'Sprite    ', 'Precio': ' 810', 'Cantidad': ' 4'}\n",
      "{'Fecha': '2024-09-02', 'Producto': 'Coca Cola ', 'Precio': '1100', 'Cantidad': ' 4'}\n",
      "{'Fecha': '2024-09-02', 'Producto': 'Pepsi Cola', 'Precio': '1220', 'Cantidad': '13'}\n",
      "{'Fecha': '2024-09-02', 'Producto': 'Torasso   ', 'Precio': ' 910', 'Cantidad': ' 5'}\n",
      "{'Fecha': '2024-09-02', 'Producto': 'Torasso   ', 'Precio': ' 920', 'Cantidad': ' 3'}\n",
      "{'Fecha': '2024-09-03', 'Producto': 'Coca Cola ', 'Precio': '1020', 'Cantidad': ' 8'}\n",
      "{'Fecha': '2024-09-03', 'Producto': 'Mirinda   ', 'Precio': '1570', 'Cantidad': ' 7'}\n",
      "{'Fecha': '2024-09-03', 'Producto': 'Mirinda   ', 'Precio': '1590', 'Cantidad': ' 2'}\n",
      "{'Fecha': '2024-09-04', 'Producto': 'Pepsi Cola', 'Precio': '1220', 'Cantidad': '13'}\n",
      "{'Fecha': '2024-09-05', 'Producto': 'Mirinda   ', 'Precio': '1500', 'Cantidad': ' 3'}\n",
      "{'Fecha': '2024-09-05', 'Producto': 'Pepsi Cola', 'Precio': '1300', 'Cantidad': ' 5'}\n",
      "{'Fecha': '2024-09-06', 'Producto': 'Coca Cola ', 'Precio': '1080', 'Cantidad': ' 1'}\n",
      "{'Fecha': '2024-09-06', 'Producto': 'Sprite    ', 'Precio': ' 860', 'Cantidad': '12'}\n",
      "{'Fecha': '2024-09-06', 'Producto': 'Torasso   ', 'Precio': ' 930', 'Cantidad': ' 3'}\n",
      "{'Fecha': '2024-09-07', 'Producto': 'Coca Cola ', 'Precio': '1080', 'Cantidad': '14'}\n",
      "{'Fecha': '2024-09-07', 'Producto': 'Sprite    ', 'Precio': ' 870', 'Cantidad': '13'}\n",
      "{'Fecha': '2024-09-08', 'Producto': 'Coca Cola ', 'Precio': '1040', 'Cantidad': '10'}\n",
      "{'Fecha': '2024-09-08', 'Producto': 'Mirinda   ', 'Precio': '1580', 'Cantidad': ' 2'}\n",
      "{'Fecha': '2024-09-08', 'Producto': 'Pepsi Cola', 'Precio': '1240', 'Cantidad': ' 9'}\n",
      "{'Fecha': '2024-09-09', 'Producto': 'Mirinda   ', 'Precio': '1500', 'Cantidad': ' 3'}\n",
      "{'Fecha': '2024-09-09', 'Producto': 'Sprite    ', 'Precio': ' 850', 'Cantidad': ' 9'}\n",
      "{'Fecha': '2024-09-10', 'Producto': 'Mirinda   ', 'Precio': '1590', 'Cantidad': ' 8'}\n",
      "{'Fecha': '2024-09-10', 'Producto': 'Pepsi Cola', 'Precio': '1250', 'Cantidad': '12'}\n",
      "{'Fecha': '2024-09-11', 'Producto': 'Sprite    ', 'Precio': ' 810', 'Cantidad': ' 6'}\n",
      "{'Fecha': '2024-09-11', 'Producto': 'Sprite    ', 'Precio': ' 820', 'Cantidad': '14'}\n",
      "{'Fecha': '2024-09-12', 'Producto': 'Coca Cola ', 'Precio': '1080', 'Cantidad': ' 4'}\n",
      "{'Fecha': '2024-09-13', 'Producto': 'Mirinda   ', 'Precio': '1580', 'Cantidad': ' 5'}\n",
      "{'Fecha': '2024-09-13', 'Producto': 'Pepsi Cola', 'Precio': '1250', 'Cantidad': '13'}\n",
      "{'Fecha': '2024-09-14', 'Producto': 'Coca Cola ', 'Precio': '1080', 'Cantidad': '15'}\n",
      "{'Fecha': '2024-09-14', 'Producto': 'Pepsi Cola', 'Precio': '1270', 'Cantidad': '14'}\n",
      "{'Fecha': '2024-09-15', 'Producto': 'Coca Cola ', 'Precio': '1100', 'Cantidad': ' 1'}\n",
      "{'Fecha': '2024-09-15', 'Producto': 'Mirinda   ', 'Precio': '1500', 'Cantidad': '13'}\n",
      "{'Fecha': '2024-09-15', 'Producto': 'Sprite    ', 'Precio': ' 870', 'Cantidad': '14'}\n",
      "{'Fecha': '2024-09-15', 'Producto': 'Torasso   ', 'Precio': ' 900', 'Cantidad': '13'}\n"
     ]
    }
   ],
   "source": [
    "def cargar_datos():\n",
    "    lista_aux = []\n",
    "    \n",
    "    lineas = open(\"datos.dat\", \"r\").readlines()\n",
    "    for linea in lineas:         \n",
    "        fecha = linea[:10]\n",
    "        producto = linea[10:20]\n",
    "        precio = linea[46:50]\n",
    "        cantidad = linea[53:55]\n",
    "        \n",
    "        datos = {\n",
    "            \"Fecha\": fecha,\n",
    "            \"Producto\": producto,\n",
    "            \"Precio\": precio,\n",
    "            \"Cantidad\": cantidad\n",
    "        }\n",
    "        \n",
    "        lista_aux.append(datos)\n",
    "       \n",
    "    return lista_aux\n",
    "\n",
    "\n",
    "datos = cargar_datos()\n",
    "\n",
    "for dato in datos:\n",
    "    print(dato)"
   ]
  },
  {
   "cell_type": "markdown",
   "metadata": {},
   "source": [
    "## Ejercicio 2: Calcular el total de ventas.\n",
    "\n",
    "Hacer una funcion que sume los importes vendidos (precio * cantidad) y las cantidades"
   ]
  },
  {
   "cell_type": "code",
   "execution_count": 9,
   "metadata": {},
   "outputs": [
    {
     "name": "stdout",
     "output_type": "stream",
     "text": [
      "Las ventas fueron de $392,730.00 en 335 unidades\n"
     ]
    }
   ],
   "source": [
    "def calcular_totales(datos):\n",
    "    total_importe = 0\n",
    "    total_cantidad = 0\n",
    "\n",
    "    for linea in datos:    \n",
    "        total_importe += float(linea[\"Precio\"])* int(linea[\"Cantidad\"])\n",
    "        total_cantidad += int(linea[\"Cantidad\"])\n",
    "        \n",
    "    return total_importe, total_cantidad\n",
    "\n",
    "\n",
    "datos = cargar_datos()\n",
    "\n",
    "importe, cantidad = calcular_totales(datos)\n",
    "print(f\"Las ventas fueron de ${importe:,.2f} en {cantidad} unidades\")"
   ]
  },
  {
   "cell_type": "markdown",
   "metadata": {},
   "source": [
    "## Ejercicio 3: Listar las unidades vendidas.\n",
    "\n",
    "Listar cuantas unidades se vendieron en total para cada producto"
   ]
  },
  {
   "cell_type": "code",
   "execution_count": 10,
   "metadata": {},
   "outputs": [
    {
     "name": "stdout",
     "output_type": "stream",
     "text": [
      "Unidades vendidas por producto:\n",
      "Mirinda   : 85 unidades\n",
      "Torasso   : 32 unidades\n",
      "Pepsi Cola: 89 unidades\n",
      "Sprite    : 72 unidades\n",
      "Coca Cola : 57 unidades\n"
     ]
    }
   ],
   "source": [
    "def unidades_vendidas(datos):\n",
    "    ventas = {}\n",
    "    \n",
    "    for linea in datos:\n",
    "        producto = linea[\"Producto\"]\n",
    "        cantidad = int(linea[\"Cantidad\"])\n",
    "        \n",
    "        if producto in ventas:\n",
    "            ventas[producto] += cantidad\n",
    "        else:\n",
    "            ventas[producto] = cantidad\n",
    "    \n",
    "    return ventas  \n",
    "\n",
    "def listar_ventas(datos):\n",
    "    print(\"Unidades vendidas por producto:\")\n",
    "    for producto, cantidad in ventas.items():\n",
    "        print(f\"{producto}: {cantidad} unidades\")\n",
    "\n",
    "\n",
    "datos = cargar_datos()\n",
    "\n",
    "ventas = unidades_vendidas(datos)\n",
    "listar_ventas(ventas)\n"
   ]
  },
  {
   "cell_type": "markdown",
   "metadata": {},
   "source": [
    "##  Ejercicio 4: Listar el precio promedio por producto.\n",
    "\n",
    "Hacer un listado del precio promedio por productos."
   ]
  },
  {
   "cell_type": "code",
   "execution_count": 11,
   "metadata": {},
   "outputs": [
    {
     "name": "stdout",
     "output_type": "stream",
     "text": [
      "Producto: Mirinda   , Precio promedio: 1545.83\n",
      "Producto: Torasso   , Precio promedio: 920.00\n",
      "Producto: Pepsi Cola, Precio promedio: 1245.00\n",
      "Producto: Sprite    , Precio promedio: 841.43\n",
      "Producto: Coca Cola , Precio promedio: 1072.50\n"
     ]
    }
   ],
   "source": [
    "def precio_promedio(datos):\n",
    "    precio_acu = {}\n",
    "    cantidad_acu = {}\n",
    "    elementos = {}\n",
    "\n",
    "    for linea in datos:\n",
    "        producto = linea[\"Producto\"]\n",
    "        precio = float(linea[\"Precio\"]) \n",
    "        \n",
    "        if producto in precio_acu:\n",
    "            precio_acu[producto] += precio\n",
    "            cantidad_acu[producto] += 1\n",
    "        else:\n",
    "            precio_acu[producto] = precio\n",
    "            cantidad_acu[producto] = 1\n",
    "            \n",
    "    elementos = {\n",
    "        \"precios\": precio_acu, \n",
    "        \"cantidades\": cantidad_acu\n",
    "        }\n",
    "    \n",
    "    return elementos\n",
    "\n",
    "\n",
    "def listar_precios(datos):\n",
    "    precios = datos[\"precios\"]\n",
    "    cantidades = datos[\"cantidades\"]\n",
    "\n",
    "    for producto in precios:\n",
    "        promedio = precios[producto] / cantidades[producto]\n",
    "        print(f\"Producto: {producto}, Precio promedio: {promedio:.2f}\")\n",
    "\n",
    "\n",
    "datos = cargar_datos()\n",
    "\n",
    "precios = precio_promedio(datos)\n",
    "listar_precios(precios)"
   ]
  },
  {
   "cell_type": "markdown",
   "metadata": {},
   "source": [
    "### Ejercicio 5: Ranking de productos\n",
    "\n",
    "Realizar un listado de los 3 productos mas vendidos ordenados la cantidad de unidades vendidas (ordenadas de mayor a menor)\n"
   ]
  },
  {
   "cell_type": "code",
   "execution_count": 12,
   "metadata": {},
   "outputs": [
    {
     "name": "stdout",
     "output_type": "stream",
     "text": [
      "Ranking de productos más vendidos:\n",
      "Producto: Pepsi Cola, Cantidad vendida: 89\n",
      "Producto: Mirinda   , Cantidad vendida: 85\n",
      "Producto: Sprite    , Cantidad vendida: 72\n"
     ]
    }
   ],
   "source": [
    "def ranking_productos(datos, top=3):\n",
    "    mas_vendido = {}\n",
    "    \n",
    "    for linea in datos:\n",
    "        producto = linea[\"Producto\"]\n",
    "        cantidad = int(linea[\"Cantidad\"])\n",
    "        \n",
    "        if producto in mas_vendido:\n",
    "            mas_vendido[producto] += cantidad\n",
    "        else:\n",
    "            mas_vendido[producto] = cantidad\n",
    "            \n",
    "        ganadores = sorted(mas_vendido.items(), key=lambda item: item[1], reverse = True)\n",
    "        \n",
    "    return ganadores[:top]\n",
    "\n",
    "def listar_ranking(ranking):\n",
    "    print(\"Ranking de productos más vendidos:\")\n",
    "    for producto, cantidad in ranking:\n",
    "        print(f\"Producto: {producto}, Cantidad vendida: {cantidad}\")\n",
    "\n",
    "\n",
    "datos = cargar_datos()\n",
    "\n",
    "ranking = ranking_productos(datos)\n",
    "listar_ranking(ranking)"
   ]
  },
  {
   "cell_type": "markdown",
   "metadata": {},
   "source": [
    "### Ejercicio 6: Listar las ventas por mes\n",
    "\n",
    "Realizar un listado del total de unidades vendidas por productos separada por mes."
   ]
  },
  {
   "cell_type": "code",
   "execution_count": 13,
   "metadata": {},
   "outputs": [
    {
     "name": "stdout",
     "output_type": "stream",
     "text": [
      "Mes: 2024-08\n",
      "  Producto: Mirinda    - Total Unidades Vendidas: 27\n",
      "  Producto: Torasso    - Total Unidades Vendidas: 8\n",
      "  Producto: Pepsi Cola - Total Unidades Vendidas: 10\n",
      "\n",
      "Mes: 2024-09\n",
      "  Producto: Mirinda    - Total Unidades Vendidas: 58\n",
      "  Producto: Sprite     - Total Unidades Vendidas: 72\n",
      "  Producto: Coca Cola  - Total Unidades Vendidas: 57\n",
      "  Producto: Pepsi Cola - Total Unidades Vendidas: 79\n",
      "  Producto: Torasso    - Total Unidades Vendidas: 24\n",
      "\n"
     ]
    }
   ],
   "source": [
    "def ventas_por_mes(datos):\n",
    "    ventas_mes = {}\n",
    "\n",
    "    for linea in datos:\n",
    "        fecha = linea[\"Fecha\"]\n",
    "        producto = linea[\"Producto\"]\n",
    "        cantidad = int(linea[\"Cantidad\"])\n",
    "        \n",
    "        mes = fecha[:7]\n",
    "        \n",
    "        if mes not in ventas_mes:\n",
    "            ventas_mes[mes] = {}\n",
    "            \n",
    "        if producto in ventas_mes[mes]:\n",
    "            ventas_mes[mes][producto] += cantidad\n",
    "        else:\n",
    "            ventas_mes[mes][producto] = cantidad   \n",
    "\n",
    "    return ventas_mes\n",
    "\n",
    "def listar_ventas_mensuales(ventas):\n",
    "    for mes, productos in ventas.items():\n",
    "        print(f\"Mes: {mes}\")\n",
    "        for producto, cantidad in productos.items():\n",
    "            print(f\"  Producto: {producto} - Total Unidades Vendidas: {cantidad}\")\n",
    "        print()\n",
    "\n",
    "\n",
    "datos = cargar_datos() \n",
    "\n",
    "ventas = ventas_por_mes(datos)\n",
    "listar_ventas_mensuales(ventas)"
   ]
  },
  {
   "cell_type": "markdown",
   "metadata": {},
   "source": [
    "### Ejercicio 7: Informe general\n",
    "\n",
    "Mostrar un listado de productos ordenados alfabeticamente que contengan el precio promedio, la cantidad de unidades vendidas y el importe total vendido para cada producto"
   ]
  },
  {
   "cell_type": "code",
   "execution_count": 14,
   "metadata": {},
   "outputs": [
    {
     "name": "stdout",
     "output_type": "stream",
     "text": [
      "============================================================================\n",
      "Producto             Precio Promedio      Cantidad Vendida     Importe Total       \n",
      "============================================================================\n",
      "Coca Cola            $       1072.50             57            $     8580.00\n",
      "----------------------------------------------------------------------------\n",
      "Mirinda              $       1545.83             85            $    18550.00\n",
      "----------------------------------------------------------------------------\n",
      "Pepsi Cola           $       1245.00             89            $     9960.00\n",
      "----------------------------------------------------------------------------\n",
      "Sprite               $        841.43             72            $     5890.00\n",
      "----------------------------------------------------------------------------\n",
      "Torasso              $        920.00             32            $     4600.00\n",
      "----------------------------------------------------------------------------\n"
     ]
    }
   ],
   "source": [
    "def resumen_ventas(datos):\n",
    "    precio_acu = {}\n",
    "    cantidad_acu = {}\n",
    "    cantidad_prom = {}\n",
    "\n",
    "    for linea in datos:\n",
    "        producto = linea[\"Producto\"]\n",
    "        precio = float(linea[\"Precio\"])\n",
    "        cantidad = int(linea[\"Cantidad\"])\n",
    "\n",
    "        if producto in precio_acu:\n",
    "            precio_acu[producto] += precio\n",
    "            cantidad_prom[producto] += 1\n",
    "            cantidad_acu[producto] += cantidad\n",
    "        else:\n",
    "            precio_acu[producto] = precio\n",
    "            cantidad_prom[producto] = 1\n",
    "            cantidad_acu[producto] = cantidad\n",
    "\n",
    "    elementos = {}\n",
    "    for producto in precio_acu:\n",
    "        elementos[producto] = {\n",
    "            \"Precio Promedio\": precio_acu[producto] / cantidad_prom[producto],\n",
    "            \"Cantidad\": cantidad_acu[producto],\n",
    "            \"Importe total\": precio_acu[producto]\n",
    "        }\n",
    "    \n",
    "    return elementos\n",
    "\n",
    "def informe_ventas(datos):\n",
    "    productos_ordenados = sorted(resumen.keys())  \n",
    "    print(\"=\" * 76)\n",
    "    print(f\"{\"Producto\":20} {\"Precio Promedio\":20} {\"Cantidad Vendida\":20} {\"Importe Total\":20}\")\n",
    "    print(\"=\" * 76)\n",
    "    \n",
    "    for producto in productos_ordenados:\n",
    "        datos_producto = resumen[producto]\n",
    "        print(f\"{producto:<20} $ {datos_producto[\"Precio Promedio\"]:>13.2f} {datos_producto[\"Cantidad\"]:>14} {\" \":10} ${datos_producto[\"Importe total\"]:>12.2f}\")\n",
    "        print(\"-\" * 76)\n",
    "\n",
    "\n",
    "datos = cargar_datos()  \n",
    "\n",
    "resumen = resumen_ventas(datos)\n",
    "informe_ventas(resumen)\n"
   ]
  }
 ],
 "metadata": {
  "kernelspec": {
   "display_name": "Python 3",
   "language": "python",
   "name": "python3"
  },
  "language_info": {
   "codemirror_mode": {
    "name": "ipython",
    "version": 3
   },
   "file_extension": ".py",
   "mimetype": "text/x-python",
   "name": "python",
   "nbconvert_exporter": "python",
   "pygments_lexer": "ipython3",
   "version": "3.12.5"
  }
 },
 "nbformat": 4,
 "nbformat_minor": 2
}
