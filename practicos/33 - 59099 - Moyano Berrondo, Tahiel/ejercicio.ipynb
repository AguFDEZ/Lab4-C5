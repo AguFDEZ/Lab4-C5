{
 "cells": [
  {
   "cell_type": "markdown",
   "metadata": {},
   "source": [
    "# Trabajo práctico 1\n",
    "\n"
   ]
  },
  {
   "cell_type": "markdown",
   "metadata": {},
   "source": [
    "## Ejercicio 1 \n",
    "\n",
    "Escribe una función en Python que procese una lista de cadenas de texto y realice las siguientes acciones:\n",
    "\n",
    "1. Tomar una lista de frases y convertir cada frase en una lista de palabras.\n",
    "1. Luego, debe crear una nueva lista que contenga la cantidad de palabras en cada frase.\n",
    "1. Tambien debe crear un lista que contenga la cantidad de caracteres en cada frase.\n",
    "1. Finalmente, debe imprimir cada frase original junto con la cantidad de palabras que contiene.\n",
    "Ejemplo de uso:\n",
    "```python\n",
    "    frases = [\n",
    "        \"Python es un lenguaje de programación\",\n",
    "        \"Me gusta resolver problemas con código\",\n",
    "        \"Las listas y los bucles son muy útiles\"\n",
    "    ]\n",
    "\n",
    "    procesar_frases(frases)\n",
    "```\n",
    "\n",
    "ejemplo de salida:\n",
    "```bash\n",
    "    La frase: \"Python es un...\"\n",
    "    tiene 6 palabras y 38 caracteres\n",
    "```\n"
   ]
  },
  {
   "cell_type": "code",
   "execution_count": 4,
   "metadata": {},
   "outputs": [
    {
     "name": "stdout",
     "output_type": "stream",
     "text": [
      "La frase:  ['No', 'quiero', 'asustarte', 'bart,', 'pero', 'tal', 'vez', 'el', 'coco,', 'el', 'coco', 'está', 'en', 'la', 'casa']\n",
      "tiene:  [15] palabras y [71] caracteres\n",
      "La frase:  ['oye', 'oye', 'mas', 'despacio', 'cerebrito']\n",
      "tiene:  [5] palabras y [30] caracteres\n"
     ]
    }
   ],
   "source": [
    "# Implementar\n",
    "frase=(\"No quiero asustarte bart, pero tal vez el coco, el coco está en la casa\", \"oye oye mas despacio cerebrito\")\n",
    "\n",
    "#divir frases\n",
    "palabras= frase[0].split()\n",
    "palabras1= frase[1].split()\n",
    "\n",
    "#contar cantidad de palabras\n",
    "cantidad_palabras=[len(palabras)]\n",
    "cantidad_palabras1=[len(palabras1)]\n",
    "\n",
    "#contar cantidad de caracteres\n",
    "contar_caracteres=[len(frase[0])]\n",
    "contar_caracteres1=[len(frase[1])]\n",
    "\n",
    "#imprimir los resultados de la primera frase\n",
    "print(\"La frase: \", palabras)\n",
    "print(\"tiene: \", cantidad_palabras, \"palabras\", \"y\", contar_caracteres, \"caracteres\")\n",
    "\n",
    "#imprimir los resultados de la primera frase\n",
    "print(\"La frase: \", palabras1)\n",
    "print(\"tiene: \", cantidad_palabras1, \"palabras\", \"y\", contar_caracteres1, \"caracteres\")"
   ]
  },
  {
   "cell_type": "markdown",
   "metadata": {},
   "source": [
    "## Ejercicio 2\n",
    "\n",
    "Escribe una función en Python que encuentre los valores de `a`, `b`, y `c` para que la función cuadrática `f(x) = aX^2 + bX + c` pase exactamente por los siguientes puntos:\n",
    "\n",
    "| x  | y  |\n",
    "|---:|---:|\n",
    "|  0 |  0 |\n",
    "|  1 |  8 |\n",
    "|  2 | 12 |\n",
    "|  3 | 12 |\n",
    "|  5 |  0 |\n",
    "\n",
    "### Requisitos:\n",
    "- La función debe explorar posibles valores de `a`, `b`, y `c` utilizando un método de prueba y error.\n",
    "- Debe devolver los valores que hagan que la diferencia entre la función `f(x)` y los valores medidos `y` sea exactamente cero para cada punto.\n",
    "\n",
    "> **Pista**: Los valores de `a`, `b`, y `c` son números pequeños."
   ]
  },
  {
   "cell_type": "code",
   "execution_count": 1,
   "metadata": {},
   "outputs": [
    {
     "name": "stdout",
     "output_type": "stream",
     "text": [
      "solucion: a=-2.0, b=10.0, c=-0.0 \n"
     ]
    }
   ],
   "source": [
    "# Implementar\n",
    "\n",
    "def frange(empezar, parar, paso):\n",
    "    while empezar < parar:\n",
    "        yield round (empezar, 2)\n",
    "        empezar += paso\n",
    "\n",
    "def f(x, a, b, c):\n",
    "    return a*x**2 + b*x + c\n",
    "puntos=[(0, 0), (1,8), (2, 12), (3, 12), (5, 0)]\n",
    "\n",
    "tol = 1e-5\n",
    "\n",
    "for a in frange (-10, 10, 0.1):\n",
    "    for b in frange (-10, 10, 0.1):\n",
    "        for c in frange (-10, 10, 0.1):\n",
    "            resultado=True\n",
    "            for x, y in puntos:\n",
    "                if abs(f(x, a, b, c) - y) > tol:\n",
    "                    resultado=False\n",
    "                    break\n",
    "            if resultado:\n",
    "                print (f\"solucion: a={a}, b={b}, c={c} \")"
   ]
  }
 ],
 "metadata": {
  "kernelspec": {
   "display_name": "Python 3",
   "language": "python",
   "name": "python3"
  },
  "language_info": {
   "codemirror_mode": {
    "name": "ipython",
    "version": 3
   },
   "file_extension": ".py",
   "mimetype": "text/x-python",
   "name": "python",
   "nbconvert_exporter": "python",
   "pygments_lexer": "ipython3",
   "version": "3.12.5"
  }
 },
 "nbformat": 4,
 "nbformat_minor": 2
}
