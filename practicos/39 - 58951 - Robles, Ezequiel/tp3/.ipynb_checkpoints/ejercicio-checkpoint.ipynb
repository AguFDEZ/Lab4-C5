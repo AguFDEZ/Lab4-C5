{
 "cells": [
  {
   "cell_type": "markdown",
   "metadata": {},
   "source": [
    "#TP3"
   ]
  },
  {
   "cell_type": "markdown",
   "metadata": {},
   "source": [
    "## Ejercicio 1: Cargar Datos de ventas.\n",
    "\n",
    "El archivo datos.dat contiene el registro de las ventas realizadas.\n",
    "\n",
    "Tiene un formato de ancho fijo:\n",
    "- fecha:    10 lugares\n",
    "- producto: 30 lugares\n",
    "- precio:   10 lugares\n",
    "- cantidad:  5 lugares\n",
    "\n",
    "hacer una funcion que carge los en una lista de diccionarios. \n",
    "\n",
    "nota: con \n",
    "```python\n",
    "lineas = open(\"datos.dat\", \"r\").readlines() \n",
    "```\n",
    "puede obtener la lista de string de todos los datos "
   ]
  },
  {
   "cell_type": "code",
   "execution_count": 1,
   "metadata": {},
   "outputs": [
    {
     "name": "stdout",
     "output_type": "stream",
     "text": [
      "{'fecha': '2024-08-27', 'producto': 'Mirinda', 'precio': 1510.0, 'cantidad': 14}\n",
      "{'fecha': '2024-08-27', 'producto': 'Mirinda', 'precio': 1560.0, 'cantidad': 12}\n",
      "{'fecha': '2024-08-28', 'producto': 'Torasso', 'precio': 940.0, 'cantidad': 8}\n",
      "{'fecha': '2024-08-29', 'producto': 'Pepsi Cola', 'precio': 1210.0, 'cantidad': 10}\n",
      "{'fecha': '2024-08-30', 'producto': 'Mirinda', 'precio': 1520.0, 'cantidad': 1}\n",
      "{'fecha': '2024-09-01', 'producto': 'Mirinda', 'precio': 1550.0, 'cantidad': 15}\n",
      "{'fecha': '2024-09-01', 'producto': 'Sprite', 'precio': 810.0, 'cantidad': 4}\n",
      "{'fecha': '2024-09-02', 'producto': 'Coca Cola', 'precio': 1100.0, 'cantidad': 4}\n",
      "{'fecha': '2024-09-02', 'producto': 'Pepsi Cola', 'precio': 1220.0, 'cantidad': 13}\n",
      "{'fecha': '2024-09-02', 'producto': 'Torasso', 'precio': 910.0, 'cantidad': 5}\n",
      "{'fecha': '2024-09-02', 'producto': 'Torasso', 'precio': 920.0, 'cantidad': 3}\n",
      "{'fecha': '2024-09-03', 'producto': 'Coca Cola', 'precio': 1020.0, 'cantidad': 8}\n",
      "{'fecha': '2024-09-03', 'producto': 'Mirinda', 'precio': 1570.0, 'cantidad': 7}\n",
      "{'fecha': '2024-09-03', 'producto': 'Mirinda', 'precio': 1590.0, 'cantidad': 2}\n",
      "{'fecha': '2024-09-04', 'producto': 'Pepsi Cola', 'precio': 1220.0, 'cantidad': 13}\n",
      "{'fecha': '2024-09-05', 'producto': 'Mirinda', 'precio': 1500.0, 'cantidad': 3}\n",
      "{'fecha': '2024-09-05', 'producto': 'Pepsi Cola', 'precio': 1300.0, 'cantidad': 5}\n",
      "{'fecha': '2024-09-06', 'producto': 'Coca Cola', 'precio': 1080.0, 'cantidad': 1}\n",
      "{'fecha': '2024-09-06', 'producto': 'Sprite', 'precio': 860.0, 'cantidad': 12}\n",
      "{'fecha': '2024-09-06', 'producto': 'Torasso', 'precio': 930.0, 'cantidad': 3}\n",
      "{'fecha': '2024-09-07', 'producto': 'Coca Cola', 'precio': 1080.0, 'cantidad': 14}\n",
      "{'fecha': '2024-09-07', 'producto': 'Sprite', 'precio': 870.0, 'cantidad': 13}\n",
      "{'fecha': '2024-09-08', 'producto': 'Coca Cola', 'precio': 1040.0, 'cantidad': 10}\n",
      "{'fecha': '2024-09-08', 'producto': 'Mirinda', 'precio': 1580.0, 'cantidad': 2}\n",
      "{'fecha': '2024-09-08', 'producto': 'Pepsi Cola', 'precio': 1240.0, 'cantidad': 9}\n",
      "{'fecha': '2024-09-09', 'producto': 'Mirinda', 'precio': 1500.0, 'cantidad': 3}\n",
      "{'fecha': '2024-09-09', 'producto': 'Sprite', 'precio': 850.0, 'cantidad': 9}\n",
      "{'fecha': '2024-09-10', 'producto': 'Mirinda', 'precio': 1590.0, 'cantidad': 8}\n",
      "{'fecha': '2024-09-10', 'producto': 'Pepsi Cola', 'precio': 1250.0, 'cantidad': 12}\n",
      "{'fecha': '2024-09-11', 'producto': 'Sprite', 'precio': 810.0, 'cantidad': 6}\n",
      "{'fecha': '2024-09-11', 'producto': 'Sprite', 'precio': 820.0, 'cantidad': 14}\n",
      "{'fecha': '2024-09-12', 'producto': 'Coca Cola', 'precio': 1080.0, 'cantidad': 4}\n",
      "{'fecha': '2024-09-13', 'producto': 'Mirinda', 'precio': 1580.0, 'cantidad': 5}\n",
      "{'fecha': '2024-09-13', 'producto': 'Pepsi Cola', 'precio': 1250.0, 'cantidad': 13}\n",
      "{'fecha': '2024-09-14', 'producto': 'Coca Cola', 'precio': 1080.0, 'cantidad': 15}\n",
      "{'fecha': '2024-09-14', 'producto': 'Pepsi Cola', 'precio': 1270.0, 'cantidad': 14}\n",
      "{'fecha': '2024-09-15', 'producto': 'Coca Cola', 'precio': 1100.0, 'cantidad': 1}\n",
      "{'fecha': '2024-09-15', 'producto': 'Mirinda', 'precio': 1500.0, 'cantidad': 13}\n",
      "{'fecha': '2024-09-15', 'producto': 'Sprite', 'precio': 870.0, 'cantidad': 14}\n"
     ]
    }
   ],
   "source": [
    "def cargar_datos():\n",
    "    datos_ventas = \"\"\"\n",
    "2024-08-27Mirinda                             1510   14\n",
    "2024-08-27Mirinda                             1560   12\n",
    "2024-08-28Torasso                              940    8\n",
    "2024-08-29Pepsi Cola                          1210   10\n",
    "2024-08-30Mirinda                             1520    1\n",
    "2024-09-01Mirinda                             1550   15\n",
    "2024-09-01Sprite                               810    4\n",
    "2024-09-02Coca Cola                           1100    4\n",
    "2024-09-02Pepsi Cola                          1220   13\n",
    "2024-09-02Torasso                              910    5\n",
    "2024-09-02Torasso                              920    3\n",
    "2024-09-03Coca Cola                           1020    8\n",
    "2024-09-03Mirinda                             1570    7\n",
    "2024-09-03Mirinda                             1590    2\n",
    "2024-09-04Pepsi Cola                          1220   13\n",
    "2024-09-05Mirinda                             1500    3\n",
    "2024-09-05Pepsi Cola                          1300    5\n",
    "2024-09-06Coca Cola                           1080    1\n",
    "2024-09-06Sprite                               860   12\n",
    "2024-09-06Torasso                              930    3\n",
    "2024-09-07Coca Cola                           1080   14\n",
    "2024-09-07Sprite                               870   13\n",
    "2024-09-08Coca Cola                           1040   10\n",
    "2024-09-08Mirinda                             1580    2\n",
    "2024-09-08Pepsi Cola                          1240    9\n",
    "2024-09-09Mirinda                             1500    3\n",
    "2024-09-09Sprite                               850    9\n",
    "2024-09-10Mirinda                             1590    8\n",
    "2024-09-10Pepsi Cola                          1250   12\n",
    "2024-09-11Sprite                               810    6\n",
    "2024-09-11Sprite                               820   14\n",
    "2024-09-12Coca Cola                           1080    4\n",
    "2024-09-13Mirinda                             1580    5\n",
    "2024-09-13Pepsi Cola                          1250   13\n",
    "2024-09-14Coca Cola                           1080   15\n",
    "2024-09-14Pepsi Cola                          1270   14\n",
    "2024-09-15Coca Cola                           1100    1\n",
    "2024-09-15Mirinda                             1500   13\n",
    "2024-09-15Sprite                               870   14\n",
    "2024-09-15Torasso                            \n",
    "    \"\"\"\n",
    "\n",
    "    lineas = datos_ventas.splitlines()\n",
    "\n",
    "    datos = []\n",
    "\n",
    "    for linea in lineas:\n",
    "        if len(linea) < 55:  \n",
    "            continue\n",
    "\n",
    "        registro = {\n",
    "            'fecha': linea[:10].strip(),           \n",
    "            'producto': linea[10:40].strip(),      \n",
    "            'precio': float(linea[40:50].strip()),  \n",
    "            'cantidad': int(linea[50:55].strip())   \n",
    "        }\n",
    "        datos.append(registro)\n",
    "    \n",
    "    return datos\n",
    "\n",
    "datos = cargar_datos()\n",
    "\n",
    "for dato in datos:\n",
    "    print(dato)"
   ]
  },
  {
   "cell_type": "markdown",
   "metadata": {},
   "source": [
    "## Ejercicio 2: Calcular el total de ventas.\n",
    "\n",
    "Hacer una funcion que sume los importes vendidos (precio * cantidad) y las cantidades"
   ]
  },
  {
   "cell_type": "code",
   "execution_count": 2,
   "metadata": {},
   "outputs": [
    {
     "name": "stdout",
     "output_type": "stream",
     "text": [
      "Las ventas fueron de $381030.00 en 322 unidades\n"
     ]
    }
   ],
   "source": [
    "def calcular_totales(datos):\n",
    "    total_importe = 0  \n",
    "    total_cantidad = 0  \n",
    "\n",
    "    for venta in datos:\n",
    "        total_importe += venta['precio'] * venta['cantidad']\n",
    "        total_cantidad += venta['cantidad']\n",
    "    \n",
    "    return total_importe, total_cantidad\n",
    "\n",
    "importe, cantidad = calcular_totales(datos)\n",
    "\n",
    "print(f\"Las ventas fueron de ${importe:.2f} en {cantidad} unidades\")\n",
    "\n"
   ]
  },
  {
   "cell_type": "markdown",
   "metadata": {},
   "source": [
    "## Ejercicio 3: Listar las unidades vendidas.\n",
    "\n",
    "Listar cuantas unidades se vendieron en total para cada producto"
   ]
  },
  {
   "cell_type": "code",
   "execution_count": 3,
   "metadata": {},
   "outputs": [
    {
     "name": "stdout",
     "output_type": "stream",
     "text": [
      "Mirinda: 85 unidades vendidas\n",
      "Torasso: 19 unidades vendidas\n",
      "Pepsi Cola: 89 unidades vendidas\n",
      "Sprite: 72 unidades vendidas\n",
      "Coca Cola: 57 unidades vendidas\n"
     ]
    }
   ],
   "source": [
    "def unidades_vendidas(datos):\n",
    "    ventas_por_producto = {}\n",
    "\n",
    "    for venta in datos:\n",
    "        producto = venta['producto']\n",
    "        cantidad = venta['cantidad']\n",
    "\n",
    "        if producto in ventas_por_producto:\n",
    "            ventas_por_producto[producto] += cantidad\n",
    "        else:\n",
    "            ventas_por_producto[producto] = cantidad\n",
    "    \n",
    "    return ventas_por_producto\n",
    "\n",
    "def listar_ventas(ventas):\n",
    "    for producto, cantidad in ventas.items():\n",
    "        print(f\"{producto}: {cantidad} unidades vendidas\")\n",
    "\n",
    "ventas = unidades_vendidas(datos)\n",
    "listar_ventas(ventas)\n",
    "\n",
    "\n"
   ]
  },
  {
   "cell_type": "markdown",
   "metadata": {},
   "source": [
    "##  Ejercicio 4: Listar el precio promedio por producto.\n",
    "\n",
    "Hacer un listado del precio promedio por productos."
   ]
  },
  {
   "cell_type": "code",
   "execution_count": 14,
   "metadata": {},
   "outputs": [
    {
     "name": "stdout",
     "output_type": "stream",
     "text": [
      "Mirinda: precio promedio $1542.12\n",
      "Torasso: precio promedio $927.37\n",
      "Pepsi Cola: precio promedio $1241.69\n",
      "Sprite: precio promedio $847.78\n",
      "Coca Cola: precio promedio $1066.32\n"
     ]
    }
   ],
   "source": [
    "def precio_promedio(datos):\n",
    "    precios_por_producto = {}\n",
    "\n",
    "    for venta in datos:\n",
    "        producto = venta['producto']\n",
    "        precio = venta['precio']\n",
    "        cantidad = venta['cantidad']\n",
    "\n",
    "        if producto in precios_por_producto:\n",
    "            precios_por_producto[producto]['suma_precios'] += precio * cantidad\n",
    "            precios_por_producto[producto]['total_cantidad'] += cantidad\n",
    "        else:\n",
    "            precios_por_producto[producto] = {'suma_precios': precio * cantidad, 'total_cantidad': cantidad}\n",
    "\n",
    "    promedio_por_producto = {producto: precios['suma_precios'] / precios['total_cantidad']\n",
    "                             for producto, precios in precios_por_producto.items()}\n",
    "    \n",
    "    return promedio_por_producto\n",
    "\n",
    "def listar_precios(precios):\n",
    "    for producto, promedio in precios.items():\n",
    "        print(f\"{producto}: precio promedio ${promedio:.2f}\")\n",
    "\n",
    "precios = precio_promedio(datos)\n",
    "listar_precios(precios)\n"
   ]
  },
  {
   "cell_type": "markdown",
   "metadata": {},
   "source": [
    "### Ejercicio 5: Ranking de productos\n",
    "\n",
    "Realizar un listado de los 3 productos mas vendidos ordenados la cantidad de unidades vendidas (ordenadas de mayor a menor)\n"
   ]
  },
  {
   "cell_type": "code",
   "execution_count": 15,
   "metadata": {},
   "outputs": [
    {
     "name": "stdout",
     "output_type": "stream",
     "text": [
      "Top 3 productos más vendidos:\n",
      "1. Pepsi Cola: 89 unidades vendidas\n",
      "2. Mirinda: 85 unidades vendidas\n",
      "3. Sprite: 72 unidades vendidas\n"
     ]
    }
   ],
   "source": [
    "def ranking_productos(datos, top=3):\n",
    "    ventas_por_producto = unidades_vendidas(datos)\n",
    "\n",
    "    productos_ordenados = sorted(ventas_por_producto.items(), key=lambda x: x[1], reverse=True)\n",
    "\n",
    "    return productos_ordenados[:top]\n",
    "\n",
    "def listar_ranking(ranking):\n",
    "    print(f\"Top {len(ranking)} productos más vendidos:\")\n",
    "    for i, (producto, cantidad) in enumerate(ranking, start=1):\n",
    "        print(f\"{i}. {producto}: {cantidad} unidades vendidas\")\n",
    "\n",
    "ranking = ranking_productos(datos)\n",
    "listar_ranking(ranking)\n"
   ]
  },
  {
   "cell_type": "markdown",
   "metadata": {},
   "source": [
    "### Ejercicio 6: Listar las ventas por mes\n",
    "\n",
    "Realizar un listado del total de unidades vendidas por productos separada por mes."
   ]
  },
  {
   "cell_type": "code",
   "execution_count": 13,
   "metadata": {},
   "outputs": [
    {
     "name": "stdout",
     "output_type": "stream",
     "text": [
      "\n",
      "Ventas en 2024-08:\n",
      "Mirinda: 27 unidades vendidas\n",
      "Torasso: 8 unidades vendidas\n",
      "Pepsi Cola: 10 unidades vendidas\n",
      "\n",
      "Ventas en 2024-09:\n",
      "Mirinda: 58 unidades vendidas\n",
      "Sprite: 72 unidades vendidas\n",
      "Coca Cola: 57 unidades vendidas\n",
      "Pepsi Cola: 79 unidades vendidas\n",
      "Torasso: 11 unidades vendidas\n"
     ]
    }
   ],
   "source": [
    "def ventas_por_mes(datos):\n",
    "    ventas_mensuales = {}\n",
    "\n",
    "    for venta in datos:\n",
    "        fecha = venta['fecha']\n",
    "        producto = venta['producto']\n",
    "        cantidad = venta['cantidad']\n",
    "        \n",
    "        mes = fecha[:7]  \n",
    "\n",
    "        if mes not in ventas_mensuales:\n",
    "            ventas_mensuales[mes] = {}\n",
    "\n",
    "        if producto in ventas_mensuales[mes]:\n",
    "            ventas_mensuales[mes][producto] += cantidad\n",
    "        else:\n",
    "            ventas_mensuales[mes][producto] = cantidad\n",
    "\n",
    "    return ventas_mensuales\n",
    "\n",
    "def listar_ventas_mensuales(ventas):\n",
    "    for mes, productos in sorted(ventas.items()):\n",
    "        print(f\"\\nVentas en {mes}:\")\n",
    "        for producto, cantidad in productos.items():\n",
    "            print(f\"{producto}: {cantidad} unidades vendidas\")\n",
    "\n",
    "ventas = ventas_por_mes(datos)\n",
    "listar_ventas_mensuales(ventas)\n"
   ]
  },
  {
   "cell_type": "markdown",
   "metadata": {},
   "source": [
    "### Ejercicio 7: Informe general\n",
    "\n",
    "Mostrar un listado de productos ordenados alfabeticamente que contengan el precio promedio, la cantidad de unidades vendidas y el importe total vendido para cada producto"
   ]
  },
  {
   "cell_type": "code",
   "execution_count": 16,
   "metadata": {},
   "outputs": [
    {
     "name": "stdout",
     "output_type": "stream",
     "text": [
      "Producto             Precio Promedio    Cantidad Vendida   Total Vendido  \n",
      "***************************************************************************\n",
      "Coca Cola            $1066.32           57                 $60780.00      \n",
      "Mirinda              $1542.12           85                 $131080.00     \n",
      "Pepsi Cola           $1241.69           89                 $110510.00     \n",
      "Sprite               $847.78            72                 $61040.00      \n",
      "Torasso              $927.37            19                 $17620.00      \n"
     ]
    }
   ],
   "source": [
    "def resumen_ventas(datos):\n",
    "    resumen = {}\n",
    "\n",
    "    for venta in datos:\n",
    "        producto = venta['producto']\n",
    "        precio = venta['precio']\n",
    "        cantidad = venta['cantidad']\n",
    "        total_vendido = precio * cantidad\n",
    "\n",
    "        if producto not in resumen:\n",
    "            resumen[producto] = {\n",
    "                'cantidad_vendida': 0,\n",
    "                'suma_precios': 0,\n",
    "                'total_vendido': 0\n",
    "            }\n",
    "\n",
    "        resumen[producto]['cantidad_vendida'] += cantidad\n",
    "        resumen[producto]['suma_precios'] += total_vendido\n",
    "        resumen[producto]['total_vendido'] += total_vendido\n",
    "\n",
    "    for producto, datos_producto in resumen.items():\n",
    "        if datos_producto['cantidad_vendida'] > 0:\n",
    "            datos_producto['precio_promedio'] = datos_producto['suma_precios'] / datos_producto['cantidad_vendida']\n",
    "        else:\n",
    "            datos_producto['precio_promedio'] = 0\n",
    "\n",
    "    return resumen\n",
    "\n",
    "def informe_ventas(resumen):\n",
    "    productos_ordenados = sorted(resumen.items())\n",
    "\n",
    "    print(f\"{'Producto':<20} {'Precio Promedio':<18} {'Cantidad Vendida':<18} {'Total Vendido':<15}\")\n",
    "    print(\"*\"*75)\n",
    "    for producto, datos in productos_ordenados:\n",
    "        print(f\"{producto:<20} ${datos['precio_promedio']:<17.2f} {datos['cantidad_vendida']:<18} ${datos['total_vendido']:<14.2f}\")\n",
    "\n",
    "resumen = resumen_ventas(datos)\n",
    "informe_ventas(resumen)\n"
   ]
  },
  {
   "cell_type": "code",
   "execution_count": null,
   "metadata": {},
   "outputs": [],
   "source": []
  }
 ],
 "metadata": {
  "kernelspec": {
   "display_name": "Python 3 (ipykernel)",
   "language": "python",
   "name": "python3"
  },
  "language_info": {
   "codemirror_mode": {
    "name": "ipython",
    "version": 3
   },
   "file_extension": ".py",
   "mimetype": "text/x-python",
   "name": "python",
   "nbconvert_exporter": "python",
   "pygments_lexer": "ipython3",
   "version": "3.11.2"
  }
 },
 "nbformat": 4,
 "nbformat_minor": 4
}
