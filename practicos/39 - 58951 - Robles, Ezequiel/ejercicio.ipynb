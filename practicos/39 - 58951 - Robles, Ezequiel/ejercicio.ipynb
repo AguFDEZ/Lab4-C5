{
 "cells": [
  {
   "cell_type": "markdown",
   "metadata": {},
   "source": [
    "# Trabajo práctico 1\n",
    "\n"
   ]
  },
  {
   "cell_type": "markdown",
   "metadata": {},
   "source": [
    "## Ejercicio 1 \n",
    "\n",
    "Escribe una función en Python que procese una lista de cadenas de texto y realice las siguientes acciones:\n",
    "\n",
    "1. Tomar una lista de frases y convertir cada frase en una lista de palabras.\n",
    "1. Luego, debe crear una nueva lista que contenga la cantidad de palabras en cada frase.\n",
    "1. Tambien debe crear un lista que contenga la cantidad de caracteres en cada frase.\n",
    "1. Finalmente, debe imprimir cada frase original junto con la cantidad de palabras que contiene.\n",
    "Ejemplo de uso:\n",
    "```python\n",
    "    frases = [\n",
    "        \"Python es un lenguaje de programación\",\n",
    "        \"Me gusta resolver problemas con código\",\n",
    "        \"Las listas y los bucles son muy útiles\"\n",
    "    ]\n",
    "\n",
    "    procesar_frases(frases)\n",
    "```\n",
    "\n",
    "ejemplo de salida:\n",
    "```bash\n",
    "    La frase: \"Python es un...\"\n",
    "    tiene 6 palabras y 38 caracteres\n",
    "```\n"
   ]
  },
  {
   "cell_type": "code",
   "execution_count": 2,
   "metadata": {},
   "outputs": [
    {
     "name": "stdout",
     "output_type": "stream",
     "text": [
      "Frase: \"Messi es el mejor jugador del mundo\" - Cantidad de palabras: 7\n",
      "Frase: \"Messi es el mejor jugador del mundo\" - Cantidad de Caracteres: 35\n",
      " \n",
      "\n",
      "Frase: \"River te amo siempre\" - Cantidad de palabras: 4\n",
      "Frase: \"River te amo siempre\" - Cantidad de Caracteres: 20\n",
      " \n",
      "\n",
      "Frase: \"yo voy a la facultad de lunes a viernes.\" - Cantidad de palabras: 9\n",
      "Frase: \"yo voy a la facultad de lunes a viernes.\" - Cantidad de Caracteres: 40\n",
      " \n",
      "\n",
      "Frase: \"Laboratorio es la mejor materia del mundo\" - Cantidad de palabras: 7\n",
      "Frase: \"Laboratorio es la mejor materia del mundo\" - Cantidad de Caracteres: 41\n",
      " \n",
      "\n",
      "\n",
      "Cantidad de palabras por frase:\n",
      "[7, 4, 9, 7]\n",
      "\n",
      "Cantidad de caracteres por frase:\n",
      "[35, 20, 40, 41]\n"
     ]
    }
   ],
   "source": [
    "def procesar_frases(lista_frases):\n",
    "    lista_cantidad_palabras = []\n",
    "    lista_cantidad_caracteres = []\n",
    "\n",
    "    for frase in lista_frases:\n",
    "        palabras = frase.split()\n",
    "        \n",
    "        cantidad_palabras = len(palabras)\n",
    "        cantidad_caracteres = len(frase)\n",
    "        \n",
    "        lista_cantidad_palabras.append(cantidad_palabras)\n",
    "        lista_cantidad_caracteres.append(cantidad_caracteres)\n",
    "        \n",
    "       \n",
    "        print(f\"Frase: \\\"{frase}\\\" - Cantidad de palabras: {cantidad_palabras}\")\n",
    "        print(f\"Frase: \\\"{frase}\\\" - Cantidad de Caracteres: {cantidad_caracteres}\")\n",
    "        print(\" \\n\")\n",
    "\n",
    "    return lista_cantidad_palabras, lista_cantidad_caracteres\n",
    "\n",
    "frases = [\n",
    "    \"Messi es el mejor jugador del mundo\",\n",
    "    \"River te amo siempre\",\n",
    "    \"yo voy a la facultad de lunes a viernes.\",\n",
    "    \"Laboratorio es la mejor materia del mundo\"\n",
    "]\n",
    "\n",
    "cantidad_palabras, cantidad_caracteres = procesar_frases(frases)\n",
    "\n",
    "print(\"\\nCantidad de palabras por frase:\")\n",
    "print(cantidad_palabras)\n",
    "\n",
    "print(\"\\nCantidad de caracteres por frase:\")\n",
    "print(cantidad_caracteres)"
   ]
  },
  {
   "cell_type": "markdown",
   "metadata": {},
   "source": [
    "## Ejercicio 2\n",
    "\n",
    "Escribe una función en Python que encuentre los valores de `a`, `b`, y `c` para que la función cuadrática `f(x) = aX^2 + bX + c` pase exactamente por los siguientes puntos:\n",
    "\n",
    "| x  | y  |\n",
    "|---:|---:|\n",
    "|  0 |  0 |\n",
    "|  1 |  8 |\n",
    "|  2 | 12 |\n",
    "|  3 | 12 |\n",
    "|  5 |  0 |\n",
    "\n",
    "### Requisitos:\n",
    "- La función debe explorar posibles valores de `a`, `b`, y `c` utilizando un método de prueba y error.\n",
    "- Debe devolver los valores que hagan que la diferencia entre la función `f(x)` y los valores medidos `y` sea exactamente cero para cada punto.\n",
    "\n",
    "> **Pista**: Los valores de `a`, `b`, y `c` son números pequeños."
   ]
  },
  {
   "cell_type": "code",
   "execution_count": 1,
   "metadata": {},
   "outputs": [
    {
     "name": "stdout",
     "output_type": "stream",
     "text": [
      "Los coeficientes son: a=-2, b=10, c=0\n"
     ]
    }
   ],
   "source": [
    "def encontrar_coeficientes():\n",
    "    puntos = [(0, 0), (1, 8), (2, 12), (3, 12), (5, 0)]\n",
    "    \n",
    "    rango = range(-10, 11)  \n",
    "\n",
    "    for a in rango:\n",
    "        for b in rango:\n",
    "            for c in rango:\n",
    "                es_solucion = True\n",
    "                for x, y in puntos:\n",
    "                    if a * x**2 + b * x + c != y:\n",
    "                        es_solucion = False\n",
    "                        break\n",
    "                if es_solucion:\n",
    "                    return a, b, c\n",
    "\n",
    "    return None\n",
    "\n",
    "resultado = encontrar_coeficientes()\n",
    "if resultado:\n",
    "    print(f\"Los coeficientes son: a={resultado[0]}, b={resultado[1]}, c={resultado[2]}\")\n",
    "else:\n",
    "    print(\"No se encontraron coeficientes que cumplan con los requisitos.\")\n"
   ]
  },
  {
   "cell_type": "code",
   "execution_count": null,
   "metadata": {},
   "outputs": [],
   "source": []
  }
 ],
 "metadata": {
  "kernelspec": {
   "display_name": "Python 3 (ipykernel)",
   "language": "python",
   "name": "python3"
  },
  "language_info": {
   "codemirror_mode": {
    "name": "ipython",
    "version": 3
   },
   "file_extension": ".py",
   "mimetype": "text/x-python",
   "name": "python",
   "nbconvert_exporter": "python",
   "pygments_lexer": "ipython3",
   "version": "3.11.2"
  }
 },
 "nbformat": 4,
 "nbformat_minor": 4
}
