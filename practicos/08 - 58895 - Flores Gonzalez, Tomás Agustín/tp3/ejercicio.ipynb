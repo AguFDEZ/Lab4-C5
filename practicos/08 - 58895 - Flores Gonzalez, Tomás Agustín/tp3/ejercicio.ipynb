{
 "cells": [
  {
   "cell_type": "markdown",
   "metadata": {},
   "source": [
    "#TP3"
   ]
  },
  {
   "cell_type": "markdown",
   "metadata": {},
   "source": [
    "## Ejercicio 1: Cargar Datos de ventas.\n",
    "\n",
    "El archivo datos.dat contiene el registro de las ventas realizadas.\n",
    "\n",
    "Tiene un formato de ancho fijo:\n",
    "- fecha:    10 lugares\n",
    "- producto: 30 lugares\n",
    "- precio:   10 lugares\n",
    "- cantidad:  5 lugares\n",
    "\n",
    "hacer una funcion que carge los en una lista de diccionarios. \n",
    "\n",
    "nota: con \n",
    "```python\n",
    "lineas = open(\"datos.dat\", \"r\").readlines() \n",
    "```\n",
    "puede obtener la lista de string de todos los datos "
   ]
  },
  {
   "cell_type": "code",
   "execution_count": 7,
   "metadata": {},
   "outputs": [
    {
     "name": "stdout",
     "output_type": "stream",
     "text": [
      "{'fecha': '2024-08-27', 'producto': 'Mirinda', 'precio': 1510, 'cantidad': 14}\n",
      "{'fecha': '2024-08-27', 'producto': 'Mirinda', 'precio': 1560, 'cantidad': 12}\n",
      "{'fecha': '2024-08-28', 'producto': 'Torasso', 'precio': 940, 'cantidad': 8}\n",
      "{'fecha': '2024-08-29', 'producto': 'Pepsi Cola', 'precio': 1210, 'cantidad': 10}\n",
      "{'fecha': '2024-08-30', 'producto': 'Mirinda', 'precio': 1520, 'cantidad': 1}\n",
      "{'fecha': '2024-09-01', 'producto': 'Mirinda', 'precio': 1550, 'cantidad': 15}\n",
      "{'fecha': '2024-09-01', 'producto': 'Sprite', 'precio': 810, 'cantidad': 4}\n",
      "{'fecha': '2024-09-02', 'producto': 'Coca Cola', 'precio': 1100, 'cantidad': 4}\n",
      "{'fecha': '2024-09-02', 'producto': 'Pepsi Cola', 'precio': 1220, 'cantidad': 13}\n",
      "{'fecha': '2024-09-02', 'producto': 'Torasso', 'precio': 910, 'cantidad': 5}\n",
      "{'fecha': '2024-09-02', 'producto': 'Torasso', 'precio': 920, 'cantidad': 3}\n",
      "{'fecha': '2024-09-03', 'producto': 'Coca Cola', 'precio': 1020, 'cantidad': 8}\n",
      "{'fecha': '2024-09-03', 'producto': 'Mirinda', 'precio': 1570, 'cantidad': 7}\n",
      "{'fecha': '2024-09-03', 'producto': 'Mirinda', 'precio': 1590, 'cantidad': 2}\n",
      "{'fecha': '2024-09-04', 'producto': 'Pepsi Cola', 'precio': 1220, 'cantidad': 13}\n",
      "{'fecha': '2024-09-05', 'producto': 'Mirinda', 'precio': 1500, 'cantidad': 3}\n",
      "{'fecha': '2024-09-05', 'producto': 'Pepsi Cola', 'precio': 1300, 'cantidad': 5}\n",
      "{'fecha': '2024-09-06', 'producto': 'Coca Cola', 'precio': 1080, 'cantidad': 1}\n",
      "{'fecha': '2024-09-06', 'producto': 'Sprite', 'precio': 860, 'cantidad': 12}\n",
      "{'fecha': '2024-09-06', 'producto': 'Torasso', 'precio': 930, 'cantidad': 3}\n",
      "{'fecha': '2024-09-07', 'producto': 'Coca Cola', 'precio': 1080, 'cantidad': 14}\n",
      "{'fecha': '2024-09-07', 'producto': 'Sprite', 'precio': 870, 'cantidad': 13}\n",
      "{'fecha': '2024-09-08', 'producto': 'Coca Cola', 'precio': 1040, 'cantidad': 10}\n",
      "{'fecha': '2024-09-08', 'producto': 'Mirinda', 'precio': 1580, 'cantidad': 2}\n",
      "{'fecha': '2024-09-08', 'producto': 'Pepsi Cola', 'precio': 1240, 'cantidad': 9}\n",
      "{'fecha': '2024-09-09', 'producto': 'Mirinda', 'precio': 1500, 'cantidad': 3}\n",
      "{'fecha': '2024-09-09', 'producto': 'Sprite', 'precio': 850, 'cantidad': 9}\n",
      "{'fecha': '2024-09-10', 'producto': 'Mirinda', 'precio': 1590, 'cantidad': 8}\n",
      "{'fecha': '2024-09-10', 'producto': 'Pepsi Cola', 'precio': 1250, 'cantidad': 12}\n",
      "{'fecha': '2024-09-11', 'producto': 'Sprite', 'precio': 810, 'cantidad': 6}\n",
      "{'fecha': '2024-09-11', 'producto': 'Sprite', 'precio': 820, 'cantidad': 14}\n",
      "{'fecha': '2024-09-12', 'producto': 'Coca Cola', 'precio': 1080, 'cantidad': 4}\n",
      "{'fecha': '2024-09-13', 'producto': 'Mirinda', 'precio': 1580, 'cantidad': 5}\n",
      "{'fecha': '2024-09-13', 'producto': 'Pepsi Cola', 'precio': 1250, 'cantidad': 13}\n",
      "{'fecha': '2024-09-14', 'producto': 'Coca Cola', 'precio': 1080, 'cantidad': 15}\n",
      "{'fecha': '2024-09-14', 'producto': 'Pepsi Cola', 'precio': 1270, 'cantidad': 14}\n",
      "{'fecha': '2024-09-15', 'producto': 'Coca Cola', 'precio': 1100, 'cantidad': 1}\n",
      "{'fecha': '2024-09-15', 'producto': 'Mirinda', 'precio': 1500, 'cantidad': 13}\n",
      "{'fecha': '2024-09-15', 'producto': 'Sprite', 'precio': 870, 'cantidad': 14}\n",
      "{'fecha': '2024-09-15', 'producto': 'Torasso', 'precio': 900, 'cantidad': 13}\n"
     ]
    }
   ],
   "source": [
    "def cargar_datos():\n",
    "    lineas = open(\"datos.dat\", \"r\").readlines()\n",
    "    ventas = []\n",
    "\n",
    "    pos_fecha = slice(0,10)\n",
    "    pos_producto = slice (10,40)\n",
    "    pos_precio = slice (40,50)\n",
    "    pos_cantidad = slice(50,55)\n",
    "\n",
    "    for linea in lineas:\n",
    "        registro = {\n",
    "            \"fecha\": linea[pos_fecha].strip(),\n",
    "            \"producto\": linea[pos_producto].strip(),\n",
    "            \"precio\": int(linea[pos_precio].strip()),\n",
    "            \"cantidad\": int(linea[pos_cantidad].strip())\n",
    "        }\n",
    "        ventas.append(registro)\n",
    "    return ventas    \n",
    "\n",
    "datos = cargar_datos()\n",
    "\n",
    "for registro in datos:\n",
    "    print(registro)"
   ]
  },
  {
   "cell_type": "markdown",
   "metadata": {},
   "source": [
    "## Ejercicio 2: Calcular el total de ventas.\n",
    "\n",
    "Hacer una funcion que sume los importes vendidos (precio * cantidad) y las cantidades"
   ]
  },
  {
   "cell_type": "code",
   "execution_count": 23,
   "metadata": {},
   "outputs": [
    {
     "name": "stdout",
     "output_type": "stream",
     "text": [
      "Las ventas fueron de $392730.00 en 335 unidades\n"
     ]
    }
   ],
   "source": [
    "def calcular_totales(datos):\n",
    "    total_importe = 0\n",
    "    total_cantidad = 0\n",
    "    for registro in datos:\n",
    "        importe_venta = registro['precio'] * registro['cantidad']\n",
    "        total_importe += importe_venta\n",
    "\n",
    "        total_cantidad += registro['cantidad']\n",
    "        \n",
    "    return total_importe, total_cantidad\n",
    "\n",
    "datos = cargar_datos()\n",
    "\n",
    "importe, cantidad = calcular_totales(datos)\n",
    "\n",
    "print(f\"Las ventas fueron de ${importe:.2f} en {cantidad} unidades\")"
   ]
  },
  {
   "cell_type": "markdown",
   "metadata": {},
   "source": [
    "## Ejercicio 3: Listar las unidades vendidas.\n",
    "\n",
    "Listar cuantas unidades se vendieron en total para cada producto"
   ]
  },
  {
   "cell_type": "code",
   "execution_count": 29,
   "metadata": {},
   "outputs": [
    {
     "name": "stdout",
     "output_type": "stream",
     "text": [
      "Producto: Mirinda, Unidades Vendidas: 85\n",
      "Producto: Torasso, Unidades Vendidas: 32\n",
      "Producto: Pepsi Cola, Unidades Vendidas: 89\n",
      "Producto: Sprite, Unidades Vendidas: 72\n",
      "Producto: Coca Cola, Unidades Vendidas: 57\n"
     ]
    }
   ],
   "source": [
    "def unidades_vendidas(datos):\n",
    "    total_producto = {}\n",
    "\n",
    "    for registro in datos:\n",
    "        producto = registro['producto']\n",
    "        cantidad = registro['cantidad']\n",
    "\n",
    "        if producto in total_producto:\n",
    "            total_producto[producto] += cantidad\n",
    "        else: total_producto[producto] = cantidad\n",
    "    \n",
    "    return total_producto\n",
    "\n",
    "def listar_ventas(datos):\n",
    "    for producto, cantidad in ventas.items():\n",
    "        print(f\"Producto: {producto}, Unidades Vendidas: {cantidad}\")\n",
    "\n",
    "datos = cargar_datos()\n",
    "ventas = unidades_vendidas(datos)\n",
    "listar_ventas(ventas)\n"
   ]
  },
  {
   "cell_type": "markdown",
   "metadata": {},
   "source": [
    "##  Ejercicio 4: Listar el precio promedio por producto.\n",
    "\n",
    "Hacer un listado del precio promedio por productos."
   ]
  },
  {
   "cell_type": "code",
   "execution_count": 34,
   "metadata": {},
   "outputs": [
    {
     "name": "stdout",
     "output_type": "stream",
     "text": [
      "Producto: Mirinda, Precio Promedio: $1545.83\n",
      "Producto: Torasso, Precio Promedio: $920.00\n",
      "Producto: Pepsi Cola, Precio Promedio: $1245.00\n",
      "Producto: Sprite, Precio Promedio: $841.43\n",
      "Producto: Coca Cola, Precio Promedio: $1072.50\n"
     ]
    }
   ],
   "source": [
    "def precio_promedio(datos):\n",
    "    \n",
    "    suma_precios = {}\n",
    "    cantidad_precios = {}\n",
    "\n",
    "    for registro in datos:\n",
    "        producto = registro['producto']\n",
    "        precio = registro['precio']\n",
    "\n",
    "        \n",
    "        if producto in suma_precios:\n",
    "            suma_precios[producto] += precio\n",
    "            cantidad_precios[producto] += 1\n",
    "        else:\n",
    "            \n",
    "            suma_precios[producto] = precio\n",
    "            cantidad_precios[producto] = 1\n",
    "\n",
    "    promedio_precios = {}\n",
    "\n",
    "    for producto in suma_precios:\n",
    "        promedio_precios[producto] = suma_precios[producto] / cantidad_precios[producto]\n",
    "\n",
    "    return promedio_precios\n",
    "\n",
    "def listar_precios(precios):\n",
    "    \n",
    "    for producto, precio_promedio in precios.items():\n",
    "        print(f\"Producto: {producto}, Precio Promedio: ${precio_promedio:.2f}\")\n",
    "\n",
    "datos = cargar_datos()\n",
    "\n",
    "precios = precio_promedio(datos)\n",
    "\n",
    "listar_precios(precios)"
   ]
  },
  {
   "cell_type": "markdown",
   "metadata": {},
   "source": [
    "### Ejercicio 5: Ranking de productos\n",
    "\n",
    "Realizar un listado de los 3 productos mas vendidos ordenados la cantidad de unidades vendidas (ordenadas de mayor a menor)\n"
   ]
  },
  {
   "cell_type": "code",
   "execution_count": 38,
   "metadata": {},
   "outputs": [
    {
     "name": "stdout",
     "output_type": "stream",
     "text": [
      "1. Producto: Pepsi Cola, Unidades Vendidas: 89\n",
      "2. Producto: Mirinda, Unidades Vendidas: 85\n",
      "3. Producto: Sprite, Unidades Vendidas: 72\n"
     ]
    }
   ],
   "source": [
    "def ranking_productos(datos, top=3):\n",
    "    \n",
    "    total_por_producto = unidades_vendidas(datos)\n",
    "\n",
    "    lista_ordenada = sorted(total_por_producto.items(), key=lambda item: item[1], reverse=True)\n",
    "\n",
    "    return lista_ordenada[:top]\n",
    "\n",
    "def listar_ranking(ranking):\n",
    "    \n",
    "    for i, (producto, cantidad) in enumerate(ranking, 1):\n",
    "        print(f\"{i}. Producto: {producto}, Unidades Vendidas: {cantidad}\")\n",
    "\n",
    "datos = cargar_datos()\n",
    "ranking = ranking_productos(datos)\n",
    "listar_ranking(ranking)"
   ]
  },
  {
   "cell_type": "markdown",
   "metadata": {},
   "source": [
    "### Ejercicio 6: Listar las ventas por mes\n",
    "\n",
    "Realizar un listado del total de unidades vendidas por productos separada por mes."
   ]
  },
  {
   "cell_type": "code",
   "execution_count": 41,
   "metadata": {},
   "outputs": [
    {
     "name": "stdout",
     "output_type": "stream",
     "text": [
      "Ventas en 2024-08:\n",
      "  Mirinda: 27 unidades\n",
      "  Torasso: 8 unidades\n",
      "  Pepsi Cola: 10 unidades\n",
      "\n",
      "Ventas en 2024-09:\n",
      "  Mirinda: 58 unidades\n",
      "  Sprite: 72 unidades\n",
      "  Coca Cola: 57 unidades\n",
      "  Pepsi Cola: 79 unidades\n",
      "  Torasso: 24 unidades\n",
      "\n"
     ]
    }
   ],
   "source": [
    "def ventas_por_mes(datos):\n",
    "    ventas_mensuales = {}\n",
    "\n",
    "    for registro in datos:\n",
    "        fecha = registro['fecha'][:7]  \n",
    "        producto = registro['producto']\n",
    "        cantidad = registro['cantidad']\n",
    "\n",
    "        if fecha not in ventas_mensuales:\n",
    "            ventas_mensuales[fecha] = {}\n",
    "\n",
    "        if producto in ventas_mensuales[fecha]:\n",
    "            ventas_mensuales[fecha][producto] += cantidad\n",
    "        else:\n",
    "            ventas_mensuales[fecha][producto] = cantidad\n",
    "\n",
    "    return ventas_mensuales\n",
    "\n",
    "def listar_ventas_mensuales(ventas):\n",
    "    for mes, productos in ventas.items():\n",
    "        print(f\"Ventas en {mes}:\")\n",
    "        for producto, cantidad in productos.items():\n",
    "            print(f\"  {producto}: {cantidad} unidades\")\n",
    "        print()\n",
    "\n",
    "datos = cargar_datos()\n",
    "ventas_mensuales = ventas_por_mes(datos)\n",
    "listar_ventas_mensuales(ventas_mensuales)"
   ]
  },
  {
   "cell_type": "markdown",
   "metadata": {},
   "source": [
    "### Ejercicio 7: Informe general\n",
    "\n",
    "Mostrar un listado de productos ordenados alfabeticamente que contengan el precio promedio, la cantidad de unidades vendidas y el importe total vendido para cada producto"
   ]
  },
  {
   "cell_type": "code",
   "execution_count": 43,
   "metadata": {},
   "outputs": [
    {
     "name": "stdout",
     "output_type": "stream",
     "text": [
      "Producto: Coca Cola\n",
      "  Precio Promedio: $1072.50\n",
      "  Unidades Vendidas: 57\n",
      "  Importe Total: $60780.00\n",
      "\n",
      "Producto: Mirinda\n",
      "  Precio Promedio: $1545.83\n",
      "  Unidades Vendidas: 85\n",
      "  Importe Total: $131080.00\n",
      "\n",
      "Producto: Pepsi Cola\n",
      "  Precio Promedio: $1245.00\n",
      "  Unidades Vendidas: 89\n",
      "  Importe Total: $110510.00\n",
      "\n",
      "Producto: Sprite\n",
      "  Precio Promedio: $841.43\n",
      "  Unidades Vendidas: 72\n",
      "  Importe Total: $61040.00\n",
      "\n",
      "Producto: Torasso\n",
      "  Precio Promedio: $920.00\n",
      "  Unidades Vendidas: 32\n",
      "  Importe Total: $29320.00\n",
      "\n"
     ]
    }
   ],
   "source": [
    "def resumen_ventas(datos):\n",
    "    resumen = {}\n",
    "\n",
    "    for registro in datos:\n",
    "        producto = registro['producto']\n",
    "        precio = registro['precio']\n",
    "        cantidad = registro['cantidad']\n",
    "        importe = precio * cantidad\n",
    "\n",
    "        if producto not in resumen:\n",
    "            resumen[producto] = {\n",
    "                'total_cantidad': 0,\n",
    "                'total_importe': 0,\n",
    "                'total_precios': 0,\n",
    "                'conteo_precios': 0\n",
    "            }\n",
    "\n",
    "        resumen[producto]['total_cantidad'] += cantidad\n",
    "        resumen[producto]['total_importe'] += importe\n",
    "        resumen[producto]['total_precios'] += precio\n",
    "        resumen[producto]['conteo_precios'] += 1\n",
    "\n",
    "    \n",
    "    for producto in resumen:\n",
    "        resumen[producto]['precio_promedio'] = resumen[producto]['total_precios'] / resumen[producto]['conteo_precios']\n",
    "\n",
    "    return resumen\n",
    "\n",
    "def informe_ventas(resumen):\n",
    "    productos_ordenados = sorted(resumen.keys())  \n",
    "\n",
    "    for producto in productos_ordenados:\n",
    "        datos = resumen[producto]\n",
    "        precio_promedio = datos['precio_promedio']\n",
    "        total_cantidad = datos['total_cantidad']\n",
    "        total_importe = datos['total_importe']\n",
    "        \n",
    "        print(f\"Producto: {producto}\")\n",
    "        print(f\"  Precio Promedio: ${precio_promedio:.2f}\")\n",
    "        print(f\"  Unidades Vendidas: {total_cantidad}\")\n",
    "        print(f\"  Importe Total: ${total_importe:.2f}\")\n",
    "        print()\n",
    "\n",
    "datos = cargar_datos()\n",
    "resumen = resumen_ventas(datos)\n",
    "informe_ventas(resumen)"
   ]
  }
 ],
 "metadata": {
  "kernelspec": {
   "display_name": "Python 3",
   "language": "python",
   "name": "python3"
  },
  "language_info": {
   "codemirror_mode": {
    "name": "ipython",
    "version": 3
   },
   "file_extension": ".py",
   "mimetype": "text/x-python",
   "name": "python",
   "nbconvert_exporter": "python",
   "pygments_lexer": "ipython3",
   "version": "3.12.6"
  }
 },
 "nbformat": 4,
 "nbformat_minor": 2
}
