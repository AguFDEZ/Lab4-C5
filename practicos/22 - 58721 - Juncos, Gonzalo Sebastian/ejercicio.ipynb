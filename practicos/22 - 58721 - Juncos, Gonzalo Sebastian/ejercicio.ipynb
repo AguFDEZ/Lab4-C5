{
 "cells": [
  {
   "cell_type": "markdown",
   "metadata": {},
   "source": [
    "# Trabajo práctico 1\n",
    "\n"
   ]
  },
  {
   "cell_type": "markdown",
   "metadata": {},
   "source": [
    "## Ejercicio 1 \n",
    "\n",
    "Escribe una función en Python que procese una lista de cadenas de texto y realice las siguientes acciones:\n",
    "\n",
    "1. Tomar una lista de frases y convertir cada frase en una lista de palabras.\n",
    "1. Luego, debe crear una nueva lista que contenga la cantidad de palabras en cada frase.\n",
    "1. Tambien debe crear un lista que contenga la cantidad de caracteres en cada frase.\n",
    "1. Finalmente, debe imprimir cada frase original junto con la cantidad de palabras que contiene.\n",
    "Ejemplo de uso:\n",
    "```python\n",
    "    frases = [\n",
    "        \"Python es un lenguaje de programación\",\n",
    "        \"Me gusta resolver problemas con código\",\n",
    "        \"Las listas y los bucles son muy útiles\"\n",
    "    ]\n",
    "\n",
    "    procesar_frases(frases)\n",
    "```\n",
    "\n",
    "ejemplo de salida:\n",
    "```bash\n",
    "    La frase: \"Python es un...\"\n",
    "    tiene 6 palabras y 38 caracteres\n",
    "```\n"
   ]
  },
  {
   "cell_type": "code",
   "execution_count": 2,
   "metadata": {},
   "outputs": [
    {
     "name": "stdout",
     "output_type": "stream",
     "text": [
      "La frase: Python es un gran lenguaje de programación \n",
      " tiene 7 palabras y 43 caracteres \n",
      "La frase: Es un lenguaje estricto \n",
      " tiene 4 palabras y 24 caracteres \n",
      "La frase: Es una sintaxis dintinta a otros lenguajes \n",
      " tiene 7 palabras y 43 caracteres \n"
     ]
    }
   ],
   "source": [
    "\n",
    "frases = [\" Python es un gran lenguaje de programación\",\n",
    "          \" Es un lenguaje estricto\",\n",
    "          \" Es una sintaxis dintinta a otros lenguajes\"]\n",
    "\n",
    "def procesar_frases(frases):\n",
    "\n",
    "  for frase in frases:\n",
    "     palabras= frase.split()\n",
    "     \n",
    "     print(f\"La frase:{frase} \\n tiene {len (palabras) } palabras y {len(frase)} caracteres \")\n",
    "\n",
    "\n",
    "\n",
    "procesar_frases(frases)\n",
    "\n",
    "\n"
   ]
  },
  {
   "cell_type": "markdown",
   "metadata": {},
   "source": [
    "## Ejercicio 2\n",
    "\n",
    "Escribe una función en Python que encuentre los valores de `a`, `b`, y `c` para que la función cuadrática `f(x) = aX^2 + bX + c` pase exactamente por los siguientes puntos:\n",
    "\n",
    "| x  | y  |\n",
    "|---:|---:|\n",
    "|  0 |  0 |\n",
    "|  1 |  8 |\n",
    "|  2 | 12 |\n",
    "|  3 | 12 |\n",
    "|  5 |  0 |\n",
    "\n",
    "### Requisitos:\n",
    "- La función debe explorar posibles valores de `a`, `b`, y `c` utilizando un método de prueba y error.\n",
    "- Debe devolver los valores que hagan que la diferencia entre la función `f(x)` y los valores medidos `y` sea exactamente cero para cada punto.\n",
    "\n",
    "> **Pista**: Los valores de `a`, `b`, y `c` son números pequeños."
   ]
  },
  {
   "cell_type": "code",
   "execution_count": 43,
   "metadata": {},
   "outputs": [
    {
     "name": "stdout",
     "output_type": "stream",
     "text": [
      "Los posibles coeficientes son: a= -2, b= 10, c= 0\n"
     ]
    }
   ],
   "source": [
    "import itertools\n",
    "\n",
    "def funcion_cuadratica(x, a, b, c):\n",
    "    return a * x**2 + b*x + c\n",
    "\n",
    "puntos = [(0, 0), (1, 8), (2, 12), (3, 12), (5, 0)]\n",
    "\n",
    "\n",
    "combinaciones = itertools.product(range(-10, 11), repeat=3)\n",
    "\n",
    "for a, b, c in combinaciones:\n",
    "    es_correcto = True \n",
    "    for x, y in puntos:\n",
    "        if funcion_cuadratica(x, a, b, c) != y:\n",
    "            es_correcto = False\n",
    "            break  \n",
    "    if es_correcto:\n",
    "        print(f\"Los posibles coeficientes son: a= {a}, b= {b}, c= {c}\")\n",
    "\n",
    "\n",
    "\n",
    "  "
   ]
  }
 ],
 "metadata": {
  "kernelspec": {
   "display_name": "Python 3",
   "language": "python",
   "name": "python3"
  },
  "language_info": {
   "codemirror_mode": {
    "name": "ipython",
    "version": 3
   },
   "file_extension": ".py",
   "mimetype": "text/x-python",
   "name": "python",
   "nbconvert_exporter": "python",
   "pygments_lexer": "ipython3",
   "version": "3.12.5"
  }
 },
 "nbformat": 4,
 "nbformat_minor": 2
}
