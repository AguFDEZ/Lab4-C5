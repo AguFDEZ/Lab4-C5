{
 "cells": [
  {
   "cell_type": "markdown",
   "metadata": {},
   "source": [
    "#TP3"
   ]
  },
  {
   "cell_type": "markdown",
   "metadata": {},
   "source": [
    "## Ejercicio 1: Cargar Datos de ventas.\n",
    "\n",
    "El archivo datos.dat contiene el registro de las ventas realizadas.\n",
    "\n",
    "Tiene un formato de ancho fijo:\n",
    "- fecha:    10 lugares\n",
    "- producto: 30 lugares\n",
    "- precio:   10 lugares\n",
    "- cantidad:  5 lugares\n",
    "\n",
    "hacer una funcion que carge los en una lista de diccionarios. \n",
    "\n",
    "nota: con \n",
    "```python\n",
    "lineas = open(\"datos.dat\", \"r\").readlines() \n",
    "```\n",
    "puede obtener la lista de string de todos los datos "
   ]
  },
  {
   "cell_type": "code",
   "execution_count": null,
   "metadata": {},
   "outputs": [],
   "source": [
    "def cargar_datos():\n",
    "    with open(\"datos.dat\", \"r\") as f:\n",
    "        lineas = f.readlines()\n",
    "    \n",
    "    datos = []\n",
    "    for linea in lineas:\n",
    "        # Extraer la información de cada línea con el formato fijo\n",
    "        fecha = linea[:10].strip()\n",
    "        producto = linea[10:40].strip()\n",
    "        precio = float(linea[40:50].strip())\n",
    "        cantidad = int(linea[50:].strip())\n",
    "        \n",
    "        # Agregar el diccionario a la lista\n",
    "        datos.append({\"fecha\": fecha, \"producto\": producto, \"precio\": precio, \"cantidad\": cantidad})\n",
    "    \n",
    "    return datos\n",
    "datos = cargar_datos()"
   ]
  },
  {
   "cell_type": "markdown",
   "metadata": {},
   "source": [
    "## Ejercicio 2: Calcular el total de ventas.\n",
    "\n",
    "Hacer una funcion que sume los importes vendidos (precio * cantidad) y las cantidades"
   ]
  },
  {
   "cell_type": "code",
   "execution_count": null,
   "metadata": {},
   "outputs": [],
   "source": [
    "def calcular_totales(datos):\n",
    "    total_importe = 0\n",
    "    total_cantidad = 0\n",
    "    \n",
    "    for venta in datos:\n",
    "        total_importe += venta[\"precio\"] * venta[\"cantidad\"]\n",
    "        total_cantidad += venta[\"cantidad\"]\n",
    "    \n",
    "    return total_importe, total_cantidad\n",
    "importe, cantidad = calcular_totales(datos)\n",
    "print(f\"Las ventas fueron de ${importe:.2f} en {cantidad} unidades\\n\")"
   ]
  },
  {
   "cell_type": "markdown",
   "metadata": {},
   "source": [
    "## Ejercicio 3: Listar las unidades vendidas.\n",
    "\n",
    "Listar cuantas unidades se vendieron en total para cada producto"
   ]
  },
  {
   "cell_type": "code",
   "execution_count": null,
   "metadata": {},
   "outputs": [],
   "source": [
    "def unidades_vendidas(datos):\n",
    "    ventas = {}\n",
    "    \n",
    "    for venta in datos:\n",
    "        producto = venta[\"producto\"]\n",
    "        if producto in ventas:\n",
    "            ventas[producto][\"cantidad\"] += venta[\"cantidad\"]\n",
    "        else:\n",
    "            ventas[producto] = {\"cantidad\": venta[\"cantidad\"]}\n",
    "    \n",
    "    return ventas\n",
    "\n",
    "def listar_ventas(ventas):\n",
    "    print(\"Unidades vendidas por producto:\")\n",
    "    for producto, info in ventas.items():\n",
    "        print(f\"{producto}: {info['cantidad']} unidades\")\n",
    "ventas = unidades_vendidas(datos)\n",
    "listar_ventas(ventas)\n",
    "print()"
   ]
  },
  {
   "cell_type": "markdown",
   "metadata": {},
   "source": [
    "##  Ejercicio 4: Listar el precio promedio por producto.\n",
    "\n",
    "Hacer un listado del precio promedio por productos."
   ]
  },
  {
   "cell_type": "code",
   "execution_count": null,
   "metadata": {},
   "outputs": [],
   "source": [
    "def precio_promedio(datos):\n",
    "    precios = {}\n",
    "    \n",
    "    for venta in datos:\n",
    "        producto = venta[\"producto\"]\n",
    "        if producto in precios:\n",
    "            precios[producto][\"total_precio\"] += venta[\"precio\"] * venta[\"cantidad\"]\n",
    "            precios[producto][\"total_cantidad\"] += venta[\"cantidad\"]\n",
    "        else:\n",
    "            precios[producto] = {\"total_precio\": venta[\"precio\"] * venta[\"cantidad\"], \"total_cantidad\": venta[\"cantidad\"]}\n",
    "    \n",
    "    for producto, info in precios.items():\n",
    "        info[\"precio_promedio\"] = info[\"total_precio\"] / info[\"total_cantidad\"] if info[\"total_cantidad\"] > 0 else 0\n",
    "    \n",
    "    return precios\n",
    "\n",
    "def listar_precios(precios):\n",
    "    print(\"Precio promedio por producto:\")\n",
    "    for producto, info in precios.items():\n",
    "        print(f\"{producto}: ${info['precio_promedio']:.2f}\")\n",
    "precios = precio_promedio(datos)\n",
    "listar_precios(precios)\n",
    "print()      "
   ]
  },
  {
   "cell_type": "markdown",
   "metadata": {},
   "source": [
    "### Ejercicio 5: Ranking de productos\n",
    "\n",
    "Realizar un listado de los 3 productos mas vendidos ordenados la cantidad de unidades vendidas (ordenadas de mayor a menor)\n"
   ]
  },
  {
   "cell_type": "code",
   "execution_count": null,
   "metadata": {},
   "outputs": [],
   "source": [
    "def ranking_productos(datos, top=3):\n",
    "    ventas = unidades_vendidas(datos)\n",
    "    ranking = sorted(ventas.items(), key=lambda x: x[1][\"cantidad\"], reverse=True)\n",
    "    return ranking[:top]\n",
    "\n",
    "def listar_ranking(ranking):\n",
    "    print(\"Ranking de productos más vendidos:\")\n",
    "    for producto, info in ranking:\n",
    "        print(f\"{producto}: {info['cantidad']} unidades\")\n",
    "ranking = ranking_productos(datos)\n",
    "listar_ranking(ranking)\n",
    "print()        "
   ]
  },
  {
   "cell_type": "markdown",
   "metadata": {},
   "source": [
    "### Ejercicio 6: Listar las ventas por mes\n",
    "\n",
    "Realizar un listado del total de unidades vendidas por productos separada por mes."
   ]
  },
  {
   "cell_type": "code",
   "execution_count": null,
   "metadata": {},
   "outputs": [],
   "source": [
    "def ventas_por_mes(datos):\n",
    "    ventas = {}\n",
    "    \n",
    "    for venta in datos:\n",
    "        mes = venta[\"fecha\"][:7]  # Obtener el mes (formato YYYY-MM)\n",
    "        producto = venta[\"producto\"]\n",
    "        if mes not in ventas:\n",
    "            ventas[mes] = {}\n",
    "        if producto in ventas[mes]:\n",
    "            ventas[mes][producto][\"cantidad\"] += venta[\"cantidad\"]\n",
    "        else:\n",
    "            ventas[mes][producto] = {\"cantidad\": venta[\"cantidad\"]}\n",
    "    \n",
    "    return ventas\n",
    "\n",
    "def listar_ventas_mensuales(ventas):\n",
    "    print(\"Ventas por mes:\")\n",
    "    for mes, productos in ventas.items():\n",
    "        print(f\"Mes: {mes}\")\n",
    "        for producto, info in productos.items():\n",
    "            print(f\"  {producto}: {info['cantidad']} unidades\")\n",
    "ventas_mensuales = ventas_por_mes(datos)\n",
    "listar_ventas_mensuales(ventas_mensuales)\n",
    "print()"
   ]
  },
  {
   "cell_type": "markdown",
   "metadata": {},
   "source": [
    "### Ejercicio 7: Informe general\n",
    "\n",
    "Mostrar un listado de productos ordenados alfabeticamente que contengan el precio promedio, la cantidad de unidades vendidas y el importe total vendido para cada producto"
   ]
  },
  {
   "cell_type": "code",
   "execution_count": null,
   "metadata": {},
   "outputs": [],
   "source": [
    "def resumen_ventas(datos):\n",
    "    resumen = {}\n",
    "    \n",
    "    for venta in datos:\n",
    "        producto = venta[\"producto\"]\n",
    "        if producto in resumen:\n",
    "            resumen[producto][\"total_precio\"] += venta[\"precio\"] * venta[\"cantidad\"]\n",
    "            resumen[producto][\"total_cantidad\"] += venta[\"cantidad\"]\n",
    "        else:\n",
    "            resumen[producto] = {\"total_precio\": venta[\"precio\"] * venta[\"cantidad\"], \"total_cantidad\": venta[\"cantidad\"]}\n",
    "    \n",
    "    for producto, info in resumen.items():\n",
    "        info[\"precio_promedio\"] = info[\"total_precio\"] / info[\"total_cantidad\"] if info[\"total_cantidad\"] > 0 else 0\n",
    "    \n",
    "    return resumen\n",
    "\n",
    "def informe_ventas(resumen):\n",
    "    print(\"Informe general de ventas:\")\n",
    "    productos_ordenados = sorted(resumen.items())\n",
    "    for producto, info in productos_ordenados:\n",
    "        print(f\"{producto}:\")\n",
    "        print(f\"  Precio promedio: ${info['precio_promedio']:.2f}\")\n",
    "        print(f\"  Cantidad vendida: {info['total_cantidad']} unidades\")\n",
    "        print(f\"  Importe total vendido: ${info['total_precio']:.2f}\")\n",
    "resumen = resumen_ventas(datos)\n",
    "informe_ventas(resumen)       \n"
   ]
  }
 ],
 "metadata": {
  "kernelspec": {
   "display_name": "Python 3",
   "language": "python",
   "name": "python3"
  },
  "language_info": {
   "codemirror_mode": {
    "name": "ipython",
    "version": 3
   },
   "file_extension": ".py",
   "mimetype": "text/x-python",
   "name": "python",
   "nbconvert_exporter": "python",
   "pygments_lexer": "ipython3",
   "version": "3.12.5"
  }
 },
 "nbformat": 4,
 "nbformat_minor": 2
}
