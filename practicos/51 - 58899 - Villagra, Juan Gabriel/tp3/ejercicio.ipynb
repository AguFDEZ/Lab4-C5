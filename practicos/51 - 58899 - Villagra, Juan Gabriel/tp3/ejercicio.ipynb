{
 "cells": [
  {
   "cell_type": "markdown",
   "metadata": {},
   "source": [
    "#TP3"
   ]
  },
  {
   "cell_type": "markdown",
   "metadata": {},
   "source": [
    "## Ejercicio 1: Cargar Datos de ventas.\n",
    "\n",
    "El archivo datos.dat contiene el registro de las ventas realizadas.\n",
    "\n",
    "Tiene un formato de ancho fijo:\n",
    "- fecha:    10 lugares\n",
    "- producto: 30 lugares\n",
    "- precio:   10 lugares\n",
    "- cantidad:  5 lugares\n",
    "\n",
    "hacer una funcion que carge los en una lista de diccionarios. \n",
    "\n",
    "nota: con \n",
    "```python\n",
    "lineas = open(\"datos.dat\", \"r\").readlines() \n",
    "```\n",
    "puede obtener la lista de string de todos los datos "
   ]
  },
  {
   "cell_type": "code",
   "execution_count": 90,
   "metadata": {},
   "outputs": [
    {
     "name": "stdout",
     "output_type": "stream",
     "text": [
      "{'fecha': '2024-08-27', 'producto': 'Mirinda', 'precio': 1510.0, 'cantidad': 14}\n",
      "{'fecha': '2024-08-27', 'producto': 'Mirinda', 'precio': 1560.0, 'cantidad': 12}\n",
      "{'fecha': '2024-08-28', 'producto': 'Torasso', 'precio': 940.0, 'cantidad': 8}\n",
      "{'fecha': '2024-08-29', 'producto': 'Pepsi Cola', 'precio': 1210.0, 'cantidad': 10}\n",
      "{'fecha': '2024-08-30', 'producto': 'Mirinda', 'precio': 1520.0, 'cantidad': 1}\n",
      "{'fecha': '2024-09-01', 'producto': 'Mirinda', 'precio': 1550.0, 'cantidad': 15}\n",
      "{'fecha': '2024-09-01', 'producto': 'Sprite', 'precio': 810.0, 'cantidad': 4}\n",
      "{'fecha': '2024-09-02', 'producto': 'Coca Cola', 'precio': 1100.0, 'cantidad': 4}\n",
      "{'fecha': '2024-09-02', 'producto': 'Pepsi Cola', 'precio': 1220.0, 'cantidad': 13}\n",
      "{'fecha': '2024-09-02', 'producto': 'Torasso', 'precio': 910.0, 'cantidad': 5}\n",
      "{'fecha': '2024-09-02', 'producto': 'Torasso', 'precio': 920.0, 'cantidad': 3}\n",
      "{'fecha': '2024-09-03', 'producto': 'Coca Cola', 'precio': 1020.0, 'cantidad': 8}\n",
      "{'fecha': '2024-09-03', 'producto': 'Mirinda', 'precio': 1570.0, 'cantidad': 7}\n",
      "{'fecha': '2024-09-03', 'producto': 'Mirinda', 'precio': 1590.0, 'cantidad': 2}\n",
      "{'fecha': '2024-09-04', 'producto': 'Pepsi Cola', 'precio': 1220.0, 'cantidad': 13}\n",
      "{'fecha': '2024-09-05', 'producto': 'Mirinda', 'precio': 1500.0, 'cantidad': 3}\n",
      "{'fecha': '2024-09-05', 'producto': 'Pepsi Cola', 'precio': 1300.0, 'cantidad': 5}\n",
      "{'fecha': '2024-09-06', 'producto': 'Coca Cola', 'precio': 1080.0, 'cantidad': 1}\n",
      "{'fecha': '2024-09-06', 'producto': 'Sprite', 'precio': 860.0, 'cantidad': 12}\n",
      "{'fecha': '2024-09-06', 'producto': 'Torasso', 'precio': 930.0, 'cantidad': 3}\n",
      "{'fecha': '2024-09-07', 'producto': 'Coca Cola', 'precio': 1080.0, 'cantidad': 14}\n",
      "{'fecha': '2024-09-07', 'producto': 'Sprite', 'precio': 870.0, 'cantidad': 13}\n",
      "{'fecha': '2024-09-08', 'producto': 'Coca Cola', 'precio': 1040.0, 'cantidad': 10}\n",
      "{'fecha': '2024-09-08', 'producto': 'Mirinda', 'precio': 1580.0, 'cantidad': 2}\n",
      "{'fecha': '2024-09-08', 'producto': 'Pepsi Cola', 'precio': 1240.0, 'cantidad': 9}\n",
      "{'fecha': '2024-09-09', 'producto': 'Mirinda', 'precio': 1500.0, 'cantidad': 3}\n",
      "{'fecha': '2024-09-09', 'producto': 'Sprite', 'precio': 850.0, 'cantidad': 9}\n",
      "{'fecha': '2024-09-10', 'producto': 'Mirinda', 'precio': 1590.0, 'cantidad': 8}\n",
      "{'fecha': '2024-09-10', 'producto': 'Pepsi Cola', 'precio': 1250.0, 'cantidad': 12}\n",
      "{'fecha': '2024-09-11', 'producto': 'Sprite', 'precio': 810.0, 'cantidad': 6}\n",
      "{'fecha': '2024-09-11', 'producto': 'Sprite', 'precio': 820.0, 'cantidad': 14}\n",
      "{'fecha': '2024-09-12', 'producto': 'Coca Cola', 'precio': 1080.0, 'cantidad': 4}\n",
      "{'fecha': '2024-09-13', 'producto': 'Mirinda', 'precio': 1580.0, 'cantidad': 5}\n",
      "{'fecha': '2024-09-13', 'producto': 'Pepsi Cola', 'precio': 1250.0, 'cantidad': 13}\n",
      "{'fecha': '2024-09-14', 'producto': 'Coca Cola', 'precio': 1080.0, 'cantidad': 15}\n",
      "{'fecha': '2024-09-14', 'producto': 'Pepsi Cola', 'precio': 1270.0, 'cantidad': 14}\n",
      "{'fecha': '2024-09-15', 'producto': 'Coca Cola', 'precio': 1100.0, 'cantidad': 1}\n",
      "{'fecha': '2024-09-15', 'producto': 'Mirinda', 'precio': 1500.0, 'cantidad': 13}\n",
      "{'fecha': '2024-09-15', 'producto': 'Sprite', 'precio': 870.0, 'cantidad': 14}\n",
      "{'fecha': '2024-09-15', 'producto': 'Torasso', 'precio': 900.0, 'cantidad': 13}\n"
     ]
    }
   ],
   "source": [
    "def cargar_datos():\n",
    "\n",
    "    with open('datos.dat', 'r') as archivo:\n",
    "        lineas = archivo.readlines()\n",
    "    datos = []\n",
    "    \n",
    "\n",
    "    for linea in lineas:\n",
    "        fecha = linea[0:10].strip()          \n",
    "        producto = linea[10:40].strip()      \n",
    "        precio = float(linea[40:50].strip()) \n",
    "        cantidad = int(linea[50:55].strip())\n",
    "\n",
    "        r_ventas = {\n",
    "            'fecha': fecha,\n",
    "            'producto': producto,\n",
    "            'precio': precio,\n",
    "            'cantidad': cantidad\n",
    "        }\n",
    "        datos.append(r_ventas)\n",
    "\n",
    "    return datos\n",
    "\n",
    "datos = cargar_datos()\n",
    "for d in datos: print(d)"
   ]
  },
  {
   "cell_type": "markdown",
   "metadata": {},
   "source": [
    "## Ejercicio 2: Calcular el total de ventas.\n",
    "\n",
    "Hacer una funcion que sume los importes vendidos (precio * cantidad) y las cantidades"
   ]
  },
  {
   "cell_type": "code",
   "execution_count": 102,
   "metadata": {},
   "outputs": [
    {
     "name": "stdout",
     "output_type": "stream",
     "text": [
      "Las ventas fueron de: $392730.00 en 335 unidades\n"
     ]
    }
   ],
   "source": [
    "def calcular_totales(datos):\n",
    "   \n",
    "    total_p = sum(float(venta['precio']) * int(venta['cantidad']) for venta in datos)\n",
    "    total_c = sum(int(venta['cantidad']) for venta in datos)\n",
    "\n",
    "    return total_p, total_c\n",
    "\n",
    "datos = cargar_datos()\n",
    "importe, cantidad = calcular_totales(datos)\n",
    "\n",
    "print(f\"Las ventas fueron de: ${importe:.2f} en {cantidad} unidades\")"
   ]
  },
  {
   "cell_type": "markdown",
   "metadata": {},
   "source": [
    "## Ejercicio 3: Listar las unidades vendidas.\n",
    "\n",
    "Listar cuantas unidades se vendieron en total para cada producto"
   ]
  },
  {
   "cell_type": "code",
   "execution_count": 150,
   "metadata": {},
   "outputs": [
    {
     "name": "stdout",
     "output_type": "stream",
     "text": [
      "Producto: 'Mirinda'\n",
      "Unidades vendidas: 85\n",
      "\n",
      "Producto: 'Torasso'\n",
      "Unidades vendidas: 32\n",
      "\n",
      "Producto: 'Pepsi Cola'\n",
      "Unidades vendidas: 89\n",
      "\n",
      "Producto: 'Sprite'\n",
      "Unidades vendidas: 72\n",
      "\n",
      "Producto: 'Coca Cola'\n",
      "Unidades vendidas: 57\n",
      "\n"
     ]
    }
   ],
   "source": [
    "def unidades_vendidas(datos):\n",
    "    ventas = {}\n",
    "    \n",
    "    for producto in datos:\n",
    "        nombre_producto = producto['producto']\n",
    "        cantidad_vendida = int(producto['cantidad'])\n",
    "        \n",
    "        ventas[nombre_producto] = ventas.get(nombre_producto, 0) + cantidad_vendida\n",
    "    \n",
    "    return ventas\n",
    "\n",
    "def listar_ventas(ventas):\n",
    "    for producto, cantidad in ventas.items():\n",
    "        print(f\"Producto: '{producto}'\")\n",
    "        print(f\"Unidades vendidas: {cantidad}\")\n",
    "        print()\n",
    "\n",
    "ventas = unidades_vendidas(datos)\n",
    "listar_ventas(ventas)"
   ]
  },
  {
   "cell_type": "markdown",
   "metadata": {},
   "source": [
    "##  Ejercicio 4: Listar el precio promedio por producto.\n",
    "\n",
    "Hacer un listado del precio promedio por productos."
   ]
  },
  {
   "cell_type": "code",
   "execution_count": 147,
   "metadata": {},
   "outputs": [
    {
     "name": "stdout",
     "output_type": "stream",
     "text": [
      "Producto: 'Mirinda'\n",
      "Precio promedio: $1542.12\n",
      "\n",
      "Producto: 'Torasso'\n",
      "Precio promedio: $916.25\n",
      "\n",
      "Producto: 'Pepsi Cola'\n",
      "Precio promedio: $1241.69\n",
      "\n",
      "Producto: 'Sprite'\n",
      "Precio promedio: $847.78\n",
      "\n",
      "Producto: 'Coca Cola'\n",
      "Precio promedio: $1066.32\n",
      "\n"
     ]
    }
   ],
   "source": [
    "def precios_promedio(datos):\n",
    "    acumulado = {}\n",
    "\n",
    "    for producto in datos:\n",
    "        nombre_producto = producto['producto']\n",
    "        precio = float(producto['precio'])\n",
    "        cantidad = int(producto['cantidad'])\n",
    "        \n",
    "        if nombre_producto in acumulado:\n",
    "            acumulado[nombre_producto]['total_precio'] += precio * cantidad\n",
    "            acumulado[nombre_producto]['total_cantidad'] += cantidad\n",
    "        else:\n",
    "            acumulado[nombre_producto] = {'total_precio': precio * cantidad, 'total_cantidad': cantidad}\n",
    "\n",
    "    precios_promedio = {}\n",
    "    for producto, datos_acumulados in acumulado.items():\n",
    "        precios_promedio[producto] = datos_acumulados['total_precio'] / datos_acumulados['total_cantidad']\n",
    "\n",
    "    return precios_promedio\n",
    "\n",
    "def listar_precios_promedio(precios_promedio):\n",
    "    for producto, promedio in precios_promedio.items():\n",
    "        print(f\"Producto: '{producto}'\")\n",
    "        print(f\"Precio promedio: ${promedio:.2f}\")\n",
    "        print()\n",
    "\n",
    "precios_promedio = precios_promedio(datos)\n",
    "listar_precios_promedio(precios_promedio)\n"
   ]
  },
  {
   "cell_type": "markdown",
   "metadata": {},
   "source": [
    "### Ejercicio 5: Ranking de productos\n",
    "\n",
    "Realizar un listado de los 3 productos mas vendidos ordenados la cantidad de unidades vendidas (ordenadas de mayor a menor)\n"
   ]
  },
  {
   "cell_type": "code",
   "execution_count": 111,
   "metadata": {},
   "outputs": [
    {
     "name": "stdout",
     "output_type": "stream",
     "text": [
      "Top 3 productos más vendidos:\n",
      "1. Pepsi Cola: 89 unidades\n",
      "2. Mirinda: 85 unidades\n",
      "3. Sprite: 72 unidades\n"
     ]
    }
   ],
   "source": [
    "def ranking_productos(datos, top=3):\n",
    "    ventas_productos = {}\n",
    "\n",
    "    for dato in datos:\n",
    "        producto = dato['producto']\n",
    "        cantidad = int(dato['cantidad'])\n",
    "        ventas_productos[producto] = ventas_productos.get(producto, 0) + cantidad\n",
    "\n",
    "    ranking = []\n",
    "    for producto, cantidad in ventas_productos.items():\n",
    "        ranking.append((producto, cantidad))\n",
    "    \n",
    "    for i in range(len(ranking)):\n",
    "        for j in range(i + 1, len(ranking)):\n",
    "            if ranking[j][1] > ranking[i][1]:\n",
    "                ranking[i], ranking[j] = ranking[j], ranking[i]\n",
    "\n",
    "    return ranking[:top]\n",
    "\n",
    "def listar_ranking(ranking):\n",
    "    print(f\"Top {len(ranking)} productos más vendidos:\")\n",
    "    for i, (producto, cantidad) in enumerate(ranking, start=1):\n",
    "        print(f\"{i}. {producto}: {cantidad} unidades\")\n",
    "\n",
    "ranking = ranking_productos(datos)\n",
    "listar_ranking(ranking)"
   ]
  },
  {
   "cell_type": "markdown",
   "metadata": {},
   "source": [
    "### Ejercicio 6: Listar las ventas por mes\n",
    "\n",
    "Realizar un listado del total de unidades vendidas por productos separada por mes."
   ]
  },
  {
   "cell_type": "code",
   "execution_count": 131,
   "metadata": {},
   "outputs": [
    {
     "name": "stdout",
     "output_type": "stream",
     "text": [
      "Producto: 'Mirinda'\n",
      "  Mes: 08 -> Unidades vendidas: 27\n",
      "  Mes: 09 -> Unidades vendidas: 58\n",
      "\n",
      "Producto: 'Torasso'\n",
      "  Mes: 08 -> Unidades vendidas: 8\n",
      "  Mes: 09 -> Unidades vendidas: 24\n",
      "\n",
      "Producto: 'Pepsi Cola'\n",
      "  Mes: 08 -> Unidades vendidas: 10\n",
      "  Mes: 09 -> Unidades vendidas: 79\n",
      "\n",
      "Producto: 'Sprite'\n",
      "  Mes: 09 -> Unidades vendidas: 72\n",
      "\n",
      "Producto: 'Coca Cola'\n",
      "  Mes: 09 -> Unidades vendidas: 57\n",
      "\n"
     ]
    }
   ],
   "source": [
    "def ventas_por_mes(datos):\n",
    "    ventas = {}\n",
    "\n",
    "    for registro in datos:\n",
    "        fecha = registro['fecha']\n",
    "        producto = registro['producto']\n",
    "        mes = fecha[5:7]\n",
    "        cantidad = int(registro['cantidad']) \n",
    "       \n",
    "        if producto not in ventas:\n",
    "            ventas[producto] = {}\n",
    "        \n",
    "        if mes not in ventas[producto]:\n",
    "            ventas[producto][mes] = 0\n",
    "     \n",
    "        ventas[producto][mes] += cantidad\n",
    "\n",
    "    return ventas\n",
    "\n",
    "def listar_ventas_mensuales(ventas):\n",
    "    for producto, meses in ventas.items():\n",
    "        print(f\"Producto: '{producto}'\")\n",
    "        for mes, total in meses.items():\n",
    "            print(f\"  Mes: {mes} -> Unidades vendidas: {total}\")\n",
    "        print()\n",
    "\n",
    "ventas = ventas_por_mes(datos)\n",
    "listar_ventas_mensuales(ventas)\n"
   ]
  },
  {
   "cell_type": "markdown",
   "metadata": {},
   "source": [
    "### Ejercicio 7: Informe general\n",
    "\n",
    "Mostrar un listado de productos ordenados alfabeticamente que contengan el precio promedio, la cantidad de unidades vendidas y el importe total vendido para cada producto"
   ]
  },
  {
   "cell_type": "code",
   "execution_count": 153,
   "metadata": {},
   "outputs": [
    {
     "name": "stdout",
     "output_type": "stream",
     "text": [
      "Producto        Precio Promedio      Cantidad   Importe Total  \n",
      "------------------------------------------------------------\n",
      "\n",
      "-Coca Cola       $1,066.32               57       $60,780.00\n",
      "\n",
      "-Mirinda         $1,542.12               85       $131,080.00\n",
      "\n",
      "-Pepsi Cola      $1,241.69               89       $110,510.00\n",
      "\n",
      "-Sprite          $847.78                 72       $61,040.00\n",
      "\n",
      "-Torasso         $916.25                 32       $29,320.00\n",
      "\n",
      "------------------------------------------------------------\n"
     ]
    }
   ],
   "source": [
    "def resumen_ventas(datos):\n",
    "    resumen = {}\n",
    "    \n",
    "    for dato in datos:\n",
    "        producto = dato['producto'].strip()\n",
    "        precio = dato['precio'] \n",
    "        cantidad = dato['cantidad']\n",
    "        \n",
    "        if producto not in resumen: resumen[producto] = {\n",
    "                'total_cantidad': 0,\n",
    "                'total_importe': 0.0,\n",
    "                'num_registros': 0\n",
    "            }\n",
    "        \n",
    "        resumen[producto]['total_cantidad'] += cantidad\n",
    "        resumen[producto]['total_importe'] += precio * cantidad\n",
    "        resumen[producto]['num_registros'] += 1\n",
    "    \n",
    "    return resumen\n",
    "\n",
    "def informe_ventas(resumen):\n",
    "    informe = []\n",
    "    \n",
    "    for producto, datos in resumen.items():\n",
    "        precio_promedio = datos['total_importe'] / datos['total_cantidad']\n",
    "        cantidad = datos['total_cantidad']\n",
    "        importe_total = datos['total_importe']\n",
    "        \n",
    "        informe.append((producto, precio_promedio, cantidad, importe_total))\n",
    "    \n",
    "    informe.sort(key=lambda x: x[0])\n",
    "    \n",
    "    print(f\"{'Producto':<15} {'Precio Promedio':<20} {'Cantidad':<10} {'Importe Total':<15}\")\n",
    "    print(f'-'*60)\n",
    "    print()\n",
    "    for producto, precio_promedio, cantidad, importe_total in informe:\n",
    "        print(f\"-{producto:<15} ${precio_promedio:<22,.2f} {cantidad:<8} ${importe_total:,.2f}\")\n",
    "        print()\n",
    "    print(f\"-\"*60)\n",
    "resumen = resumen_ventas(datos)\n",
    "informe_ventas(resumen)"
   ]
  }
 ],
 "metadata": {
  "kernelspec": {
   "display_name": "Python 3",
   "language": "python",
   "name": "python3"
  },
  "language_info": {
   "codemirror_mode": {
    "name": "ipython",
    "version": 3
   },
   "file_extension": ".py",
   "mimetype": "text/x-python",
   "name": "python",
   "nbconvert_exporter": "python",
   "pygments_lexer": "ipython3",
   "version": "3.12.5"
  }
 },
 "nbformat": 4,
 "nbformat_minor": 2
}
