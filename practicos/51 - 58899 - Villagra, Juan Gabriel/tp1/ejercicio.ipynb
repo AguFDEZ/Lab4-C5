{
 "cells": [
  {
   "cell_type": "markdown",
   "metadata": {},
   "source": [
    "# Trabajo práctico 1\n",
    "\n"
   ]
  },
  {
   "cell_type": "markdown",
   "metadata": {},
   "source": [
    "## Ejercicio 1 \n",
    "\n",
    "Escribe una función en Python que procese una lista de cadenas de texto y realice las siguientes acciones:\n",
    "\n",
    "1. Tomar una lista de frases y convertir cada frase en una lista de palabras.\n",
    "1. Luego, debe crear una nueva lista que contenga la cantidad de palabras en cada frase.\n",
    "1. Tambien debe crear un lista que contenga la cantidad de caracteres en cada frase.\n",
    "1. Finalmente, debe imprimir cada frase original junto con la cantidad de palabras que contiene.\n",
    "Ejemplo de uso:\n",
    "```python\n",
    "    frases = [\n",
    "        \"Python es un lenguaje de programación\",\n",
    "        \"Me gusta resolver problemas con código\",\n",
    "        \"Las listas y los bucles son muy útiles\"\n",
    "    ]\n",
    "\n",
    "    procesar_frases(frases)\n",
    "```\n",
    "\n",
    "ejemplo de salida:\n",
    "```bash\n",
    "    La frase: \"Python es un...\"\n",
    "    tiene 6 palabras y 38 caracteres\n",
    "```\n"
   ]
  },
  {
   "cell_type": "code",
   "execution_count": 4,
   "metadata": {},
   "outputs": [
    {
     "name": "stdout",
     "output_type": "stream",
     "text": [
      "La frase: \"Python es el futuro\"\n",
      "Tiene 4 palabras y 19 caracteres\n",
      "\n",
      "La frase: \"Me gusta aprender nuevos leguajes\"\n",
      "Tiene 5 palabras y 33 caracteres\n",
      "\n",
      "La frase: \"La practica hace al maestro\"\n",
      "Tiene 5 palabras y 27 caracteres\n",
      "\n"
     ]
    }
   ],
   "source": [
    "# Implementar\n",
    "def procesar_frases(frases):\n",
    "    cant_pal = list(map(lambda frase: len(frase.split()), frases))\n",
    "    \n",
    "    cant_car = list(map(len, frases))\n",
    "    \n",
    "\n",
    "    for i, frase in enumerate(frases):\n",
    "        print(f\"La frase: \\\"{frase}\\\"\")\n",
    "        print(f\"Tiene {cant_pal[i]} palabras y {cant_car[i]} caracteres\\n\")\n",
    "\n",
    "\n",
    "frases = [\n",
    "    \"Python es el futuro\",\n",
    "    \"Me gusta aprender nuevos leguajes\",\n",
    "    \"La practica hace al maestro\"\n",
    "]\n",
    "\n",
    "procesar_frases(frases)\n"
   ]
  },
  {
   "cell_type": "markdown",
   "metadata": {},
   "source": [
    "## Ejercicio 2\n",
    "\n",
    "Escribe una función en Python que encuentre los valores de `a`, `b`, y `c` para que la función cuadrática `f(x) = aX^2 + bX + c` pase exactamente por los siguientes puntos:\n",
    "\n",
    "| x  | y  |\n",
    "|---:|---:|\n",
    "|  0 |  0 |\n",
    "|  1 |  8 |\n",
    "|  2 | 12 |\n",
    "|  3 | 12 |\n",
    "|  5 |  0 |\n",
    "\n",
    "### Requisitos:\n",
    "- La función debe explorar posibles valores de `a`, `b`, y `c` utilizando un método de prueba y error.\n",
    "- Debe devolver los valores que hagan que la diferencia entre la función `f(x)` y los valores medidos `y` sea exactamente cero para cada punto.\n",
    "\n",
    "> **Pista**: Los valores de `a`, `b`, y `c` son números pequeños."
   ]
  },
  {
   "cell_type": "code",
   "execution_count": 11,
   "metadata": {},
   "outputs": [
    {
     "name": "stdout",
     "output_type": "stream",
     "text": [
      "Valores encontrados: a = -2, b = 10, c = 0\n"
     ]
    }
   ],
   "source": [
    "\n",
    "puntos = [(0, 0), (1, 8), (2, 12), (3, 12), (5, 0)]\n",
    "\n",
    "def f_cuadratica(a, b, c, x):\n",
    "    return a * x ** 2 + b * x + c\n",
    "\n",
    "\n",
    "for a in range(-10, 11):\n",
    "    for b in range(-10, 11):\n",
    "        for c in range(-10, 11):\n",
    "            respeta = True\n",
    "            for x, y_real in puntos:\n",
    "                if f_cuadratica(a, b, c, x) != y_real:\n",
    "                    respeta = False\n",
    "                    break\n",
    "            if respeta:\n",
    "                print(f\"Valores encontrados: a = {a}, b = {b}, c = {c}\")\n"
   ]
  }
 ],
 "metadata": {
  "kernelspec": {
   "display_name": "Python 3",
   "language": "python",
   "name": "python3"
  },
  "language_info": {
   "codemirror_mode": {
    "name": "ipython",
    "version": 3
   },
   "file_extension": ".py",
   "mimetype": "text/x-python",
   "name": "python",
   "nbconvert_exporter": "python",
   "pygments_lexer": "ipython3",
   "version": "3.12.5"
  }
 },
 "nbformat": 4,
 "nbformat_minor": 2
}
