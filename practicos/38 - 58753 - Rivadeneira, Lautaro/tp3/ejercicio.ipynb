{
 "cells": [
  {
   "cell_type": "markdown",
   "metadata": {},
   "source": [
    "#TP3"
   ]
  },
  {
   "cell_type": "markdown",
   "metadata": {},
   "source": [
    "## Ejercicio 1: Cargar Datos de ventas.\n",
    "\n",
    "El archivo datos.dat contiene el registro de las ventas realizadas.\n",
    "\n",
    "Tiene un formato de ancho fijo:\n",
    "- fecha:    10 lugares\n",
    "- producto: 30 lugares\n",
    "- precio:   10 lugares\n",
    "- cantidad:  5 lugares\n",
    "\n",
    "hacer una funcion que carge los en una lista de diccionarios. \n",
    "\n",
    "nota: con \n",
    "```python\n",
    "lineas = open(\"datos.dat\", \"r\").readlines() \n",
    "```\n",
    "puede obtener la lista de string de todos los datos "
   ]
  },
  {
   "cell_type": "code",
   "execution_count": 4,
   "metadata": {},
   "outputs": [
    {
     "name": "stdout",
     "output_type": "stream",
     "text": [
      "[{'fecha': '2024-08-27', 'producto': 'Mirinda', 'precio': 1510, 'cantidad': 14}, {'fecha': '2024-08-27', 'producto': 'Mirinda', 'precio': 1560, 'cantidad': 12}, {'fecha': '2024-08-28', 'producto': 'Torasso', 'precio': 940, 'cantidad': 8}, {'fecha': '2024-08-29', 'producto': 'Pepsi Cola', 'precio': 1210, 'cantidad': 10}, {'fecha': '2024-08-30', 'producto': 'Mirinda', 'precio': 1520, 'cantidad': 1}]\n"
     ]
    }
   ],
   "source": [
    "def cargar_datos():\n",
    "    lineas = open(\"datos.dat\", \"r\").readlines()\n",
    "    datos = []\n",
    "\n",
    "    for linea in lineas:\n",
    "        fecha = linea[0:10].strip()\n",
    "        producto = linea[10:40].strip()\n",
    "        precio = int(linea[40:50].strip())\n",
    "        cantidad = int(linea[50:55].strip())\n",
    "\n",
    "        registro = {\n",
    "            \"fecha\": fecha,\n",
    "            \"producto\": producto,\n",
    "            \"precio\": precio,\n",
    "            \"cantidad\": cantidad\n",
    "        }\n",
    "\n",
    "        datos.append(registro)\n",
    "\n",
    "    return datos\n",
    "\n",
    "datos = cargar_datos()\n",
    "\n",
    "print(datos[:5]) # Muestro solo los primeros 5 registros para verificar que funciona"
   ]
  },
  {
   "cell_type": "markdown",
   "metadata": {},
   "source": [
    "## Ejercicio 2: Calcular el total de ventas.\n",
    "\n",
    "Hacer una funcion que sume los importes vendidos (precio * cantidad) y las cantidades"
   ]
  },
  {
   "cell_type": "code",
   "execution_count": 7,
   "metadata": {},
   "outputs": [
    {
     "name": "stdout",
     "output_type": "stream",
     "text": [
      "Las ventas fueron de $392730.00 en 335 unidades\n"
     ]
    }
   ],
   "source": [
    "def calcular_totales(datos):\n",
    "    total_importe = 0\n",
    "    total_cantidad = 0\n",
    "\n",
    "    for venta in  datos:\n",
    "        importe_venta = venta['precio'] * venta['cantidad']\n",
    "\n",
    "        total_importe += importe_venta\n",
    "        total_cantidad += venta['cantidad']\n",
    "\n",
    "    return total_importe, total_cantidad\n",
    "\n",
    "importe, cantidad = calcular_totales(datos)\n",
    "\n",
    "print(f\"Las ventas fueron de ${importe:.2f} en {cantidad} unidades\")"
   ]
  },
  {
   "cell_type": "markdown",
   "metadata": {},
   "source": [
    "## Ejercicio 3: Listar las unidades vendidas.\n",
    "\n",
    "Listar cuantas unidades se vendieron en total para cada producto"
   ]
  },
  {
   "cell_type": "code",
   "execution_count": 19,
   "metadata": {},
   "outputs": [
    {
     "name": "stdout",
     "output_type": "stream",
     "text": [
      "Producto        | Unidades vendidas\n",
      "------------------------------------\n",
      "Mirinda         | 85   \n",
      "Torasso         | 32   \n",
      "Pepsi Cola      | 89   \n",
      "Sprite          | 72   \n",
      "Coca Cola       | 57   \n"
     ]
    }
   ],
   "source": [
    "def unidades_vendidas(datos):\n",
    "    ventas_producto = {}\n",
    "\n",
    "    for venta in datos:\n",
    "        producto = venta['producto']\n",
    "        cantidad = venta['cantidad']\n",
    "\n",
    "        if producto in ventas_producto:\n",
    "            ventas_producto[producto] += cantidad\n",
    "        else:\n",
    "            ventas_producto[producto] = cantidad\n",
    "\n",
    "    return ventas_producto\n",
    "\n",
    "def listar_ventas(ventas):\n",
    "    print(\"Producto        | Unidades vendidas\")\n",
    "    print(\"------------------------------------\")\n",
    "\n",
    "    for producto, cantidad in ventas.items():\n",
    "        print(f\"{producto:<15} | {cantidad:<5}\")\n",
    "\n",
    "ventas = unidades_vendidas(datos)\n",
    "listar_ventas(ventas)\n"
   ]
  },
  {
   "cell_type": "markdown",
   "metadata": {},
   "source": [
    "##  Ejercicio 4: Listar el precio promedio por producto.\n",
    "\n",
    "Hacer un listado del precio promedio por productos."
   ]
  },
  {
   "cell_type": "code",
   "execution_count": 20,
   "metadata": {},
   "outputs": [
    {
     "name": "stdout",
     "output_type": "stream",
     "text": [
      "Producto        | Precio Promedio\n",
      "----------------------------------\n",
      "Mirinda         | $ 1545.83\n",
      "Torasso         | $  920.00\n",
      "Pepsi Cola      | $ 1245.00\n",
      "Sprite          | $  841.43\n",
      "Coca Cola       | $ 1072.50\n"
     ]
    }
   ],
   "source": [
    "def precio_promedio(datos):\n",
    "    precios_producto = {}\n",
    "    conteo_producto = {}\n",
    "\n",
    "    for venta in datos:\n",
    "        producto = venta['producto']\n",
    "        precio = venta['precio']\n",
    "\n",
    "        if producto in precios_producto:\n",
    "            precios_producto[producto] += precio\n",
    "            conteo_producto[producto] += 1\n",
    "        else:\n",
    "            precios_producto[producto] = precio\n",
    "            conteo_producto[producto] =  1\n",
    "\n",
    "    promedio_producto = {}\n",
    "    for producto in precios_producto:\n",
    "        promedio_producto[producto] = precios_producto[producto] / conteo_producto[producto]\n",
    "\n",
    "    return promedio_producto\n",
    "\n",
    "def listar_precios(precios):\n",
    "    print(\"Producto        | Precio Promedio\")\n",
    "    print(\"----------------------------------\")\n",
    "\n",
    "    for producto, precio in precios.items():\n",
    "        print(f\"{producto:<15} | ${precio:>8.2f}\")\n",
    "\n",
    "precios = precio_promedio(datos)\n",
    "listar_precios(precios)"
   ]
  },
  {
   "cell_type": "markdown",
   "metadata": {},
   "source": [
    "### Ejercicio 5: Ranking de productos\n",
    "\n",
    "Realizar un listado de los 3 productos mas vendidos ordenados la cantidad de unidades vendidas (ordenadas de mayor a menor)\n"
   ]
  },
  {
   "cell_type": "code",
   "execution_count": 21,
   "metadata": {},
   "outputs": [
    {
     "name": "stdout",
     "output_type": "stream",
     "text": [
      "Producto        | Unidades vendidas\n",
      "------------------------------------\n",
      "Pepsi Cola      |    89\n",
      "Mirinda         |    85\n",
      "Sprite          |    72\n"
     ]
    }
   ],
   "source": [
    "def ranking_productos(datos, top=3):\n",
    "    ventas_producto = {}\n",
    "\n",
    "    for venta in datos:\n",
    "        producto = venta['producto']\n",
    "        cantidad = venta['cantidad']\n",
    "\n",
    "        if producto in ventas_producto:\n",
    "            ventas_producto[producto] += cantidad\n",
    "        else:\n",
    "            ventas_producto[producto] = cantidad\n",
    "\n",
    "    lista_ventas = list(ventas_producto.items())\n",
    "\n",
    "    n = len(lista_ventas)\n",
    "    for i in range(n):\n",
    "        for j in range(0, n-i-1):\n",
    "            if lista_ventas[j][1] < lista_ventas[j+1][1]:\n",
    "                lista_ventas[j], lista_ventas[j+1] = lista_ventas[j+1], lista_ventas[j]\n",
    "\n",
    "    return lista_ventas[:top]\n",
    "\n",
    "def listar_ranking(ranking):\n",
    "    print(\"Producto        | Unidades vendidas\")\n",
    "    print(\"------------------------------------\")\n",
    "\n",
    "    for producto, cantidad in ranking:\n",
    "        print(f\"{producto:<15} | {cantidad:>5}\")\n",
    "\n",
    "ranking = ranking_productos(datos)\n",
    "listar_ranking(ranking)"
   ]
  },
  {
   "cell_type": "markdown",
   "metadata": {},
   "source": [
    "### Ejercicio 6: Listar las ventas por mes\n",
    "\n",
    "Realizar un listado del total de unidades vendidas por productos separada por mes."
   ]
  },
  {
   "cell_type": "code",
   "execution_count": 22,
   "metadata": {},
   "outputs": [
    {
     "name": "stdout",
     "output_type": "stream",
     "text": [
      "Mes: 2024-08\n",
      "Producto        | Unidades vendidas\n",
      "------------------------------------\n",
      "Mirinda         |    27\n",
      "Torasso         |     8\n",
      "Pepsi Cola      |    10\n",
      "\n",
      "Mes: 2024-09\n",
      "Producto        | Unidades vendidas\n",
      "------------------------------------\n",
      "Mirinda         |    58\n",
      "Sprite          |    72\n",
      "Coca Cola       |    57\n",
      "Pepsi Cola      |    79\n",
      "Torasso         |    24\n",
      "\n"
     ]
    }
   ],
   "source": [
    "def ventas_por_mes(datos):\n",
    "    ventas_mensuales = {}\n",
    "\n",
    "    for venta in datos:\n",
    "        fecha = venta['fecha']\n",
    "        mes = fecha[:7]\n",
    "        producto = venta['producto']\n",
    "        cantidad = venta['cantidad']\n",
    "\n",
    "        if mes not in ventas_mensuales:\n",
    "            ventas_mensuales[mes] = {}\n",
    "\n",
    "        if producto in ventas_mensuales[mes]:\n",
    "            ventas_mensuales[mes][producto] += cantidad\n",
    "        else:\n",
    "            ventas_mensuales[mes][producto] = cantidad\n",
    "\n",
    "    return ventas_mensuales\n",
    "\n",
    "def listar_ventas_mensuales(ventas):\n",
    "    for mes, productos in ventas.items():\n",
    "        print(f\"Mes: {mes}\")\n",
    "        print(\"Producto        | Unidades vendidas\")\n",
    "        print(\"------------------------------------\")\n",
    "\n",
    "        for producto, cantidad in productos.items():\n",
    "            print(f\"{producto:<15} | {cantidad:>5}\")\n",
    "\n",
    "        print()\n",
    "\n",
    "ventas = ventas_por_mes(datos)\n",
    "listar_ventas_mensuales(ventas)"
   ]
  },
  {
   "cell_type": "markdown",
   "metadata": {},
   "source": [
    "### Ejercicio 7: Informe general\n",
    "\n",
    "Mostrar un listado de productos ordenados alfabeticamente que contengan el precio promedio, la cantidad de unidades vendidas y el importe total vendido para cada producto"
   ]
  },
  {
   "cell_type": "code",
   "execution_count": 23,
   "metadata": {},
   "outputs": [
    {
     "name": "stdout",
     "output_type": "stream",
     "text": [
      "Producto        | Precio Promedio | Cantidad Vendida | Importe Total\n",
      "----------------------------------------------------------------------\n",
      "Coca Cola       | $       1066.32 |              57 | $    60780.00\n",
      "Mirinda         | $       1542.12 |              85 | $   131080.00\n",
      "Pepsi Cola      | $       1241.69 |              89 | $   110510.00\n",
      "Sprite          | $        847.78 |              72 | $    61040.00\n",
      "Torasso         | $        916.25 |              32 | $    29320.00\n"
     ]
    }
   ],
   "source": [
    "def resumen_ventas(datos):\n",
    "    resumen_producto = {}\n",
    "\n",
    "    for venta in datos:\n",
    "        producto = venta['producto']\n",
    "        precio = venta['precio']\n",
    "        cantidad = venta['cantidad']\n",
    "\n",
    "        if producto in resumen_producto:\n",
    "            resumen_producto[producto]['precio_total'] += precio * cantidad\n",
    "            resumen_producto[producto]['cantidad_total'] += cantidad\n",
    "            resumen_producto[producto]['conteo_ventas'] += 1\n",
    "        else:\n",
    "            resumen_producto[producto] = {\n",
    "                'precio_total': precio * cantidad,\n",
    "                'cantidad_total': cantidad,\n",
    "                'conteo_ventas': 1\n",
    "            }\n",
    "\n",
    "    for producto, datos in resumen_producto.items():\n",
    "        precio_promedio = datos['precio_total'] / datos['cantidad_total']\n",
    "        resumen_producto[producto]['precio_promedio'] = precio_promedio\n",
    "        resumen_producto[producto]['importe_total'] = datos['precio_total']\n",
    "\n",
    "    return resumen_producto\n",
    "\n",
    "def informe_ventas(resumen):\n",
    "    productos_ordenados = list(resumen.keys())\n",
    "\n",
    "    n = len(productos_ordenados)\n",
    "    for i in range(n):\n",
    "        for j in range(0, n-i-1):\n",
    "            if productos_ordenados[j] > productos_ordenados[j + 1]:\n",
    "                productos_ordenados[j], productos_ordenados[j + 1] = productos_ordenados[j + 1], productos_ordenados[j]\n",
    "\n",
    "    print(\"Producto        | Precio Promedio | Cantidad Vendida | Importe Total\")\n",
    "    print(\"----------------------------------------------------------------------\")\n",
    "\n",
    "    for producto in productos_ordenados:\n",
    "        precio_promedio = resumen[producto]['precio_promedio']\n",
    "        cantidad_total = resumen[producto]['cantidad_total']\n",
    "        importe_total = resumen[producto]['importe_total']\n",
    "\n",
    "        print(f\"{producto:<15} | ${precio_promedio:>14.2f} | {cantidad_total:>15} | ${importe_total:>12.2f}\")\n",
    "\n",
    "resumen = resumen_ventas(datos)\n",
    "informe_ventas(resumen)\n"
   ]
  },
  {
   "cell_type": "code",
   "execution_count": null,
   "metadata": {},
   "outputs": [],
   "source": []
  }
 ],
 "metadata": {
  "kernelspec": {
   "display_name": "Python 3 (ipykernel)",
   "language": "python",
   "name": "python3"
  },
  "language_info": {
   "codemirror_mode": {
    "name": "ipython",
    "version": 3
   },
   "file_extension": ".py",
   "mimetype": "text/x-python",
   "name": "python",
   "nbconvert_exporter": "python",
   "pygments_lexer": "ipython3",
   "version": "3.12.5"
  }
 },
 "nbformat": 4,
 "nbformat_minor": 4
}
