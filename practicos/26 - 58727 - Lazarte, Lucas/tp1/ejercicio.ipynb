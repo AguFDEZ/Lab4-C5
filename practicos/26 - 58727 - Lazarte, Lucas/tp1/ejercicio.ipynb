{
 "cells": [
  {
   "cell_type": "markdown",
   "metadata": {},
   "source": [
    "# Trabajo práctico 1\n",
    "\n"
   ]
  },
  {
   "cell_type": "markdown",
   "metadata": {},
   "source": [
    "## Ejercicio 1 \n",
    "\n",
    "Escribe una función en Python que procese una lista de cadenas de texto y realice las siguientes acciones:\n",
    "\n",
    "1. Tomar una lista de frases y convertir cada frase en una lista de palabras.\n",
    "1. Luego, debe crear una nueva lista que contenga la cantidad de palabras en cada frase.\n",
    "1. Tambien debe crear un lista que contenga la cantidad de caracteres en cada frase.\n",
    "1. Finalmente, debe imprimir cada frase original junto con la cantidad de palabras que contiene.\n",
    "Ejemplo de uso:\n",
    "```python\n",
    "    frases = [\n",
    "        \"Python es un lenguaje de programación\",\n",
    "        \"Me gusta resolver problemas con código\",\n",
    "        \"Las listas y los bucles son muy útiles\"\n",
    "    ]\n",
    "\n",
    "    procesar_frases(frases)\n",
    "```\n",
    "\n",
    "ejemplo de salida:\n",
    "```bash\n",
    "    La frase: \"Python es un...\"\n",
    "    tiene 6 palabras y 38 caracteres\n",
    "```\n"
   ]
  },
  {
   "cell_type": "code",
   "execution_count": 2,
   "metadata": {},
   "outputs": [
    {
     "name": "stdout",
     "output_type": "stream",
     "text": [
      "....................................................................\n",
      "La frase: \"Conviértete en el cambio que deseas ver en el mundo\"\n",
      "    tiene 10 palabras y 51 caracteres\n",
      "....................................................................\n",
      "La frase: \"La mejor manera de predecir el futuro es crearlo\"\n",
      "    tiene 9 palabras y 48 caracteres\n",
      "....................................................................\n",
      "La frase: \"Tienes que hacer las cosas que crees que no puedes hacer\"\n",
      "    tiene 11 palabras y 56 caracteres\n",
      "....................................................................\n",
      "La frase: \"Haz de cada día tu obra maestra\"\n",
      "    tiene 7 palabras y 31 caracteres\n"
     ]
    }
   ],
   "source": [
    "# Implementar\n",
    "def contador():\n",
    "\n",
    "    frases = [\"Conviértete en el cambio que deseas ver en el mundo\",\"La mejor manera de predecir el futuro es crearlo\",\"Tienes que hacer las cosas que crees que no puedes hacer\",\"Haz de cada día tu obra maestra\"]\n",
    "\n",
    "    for frase in frases:\n",
    "        palabras = frase.split()\n",
    "        num_palabras = len(palabras)\n",
    "        cant_caract = len(frase)\n",
    "\n",
    "        print(\"....................................................................\")\n",
    "        print(f'La frase: \"{frase}\"')\n",
    "        print(f\"    tiene {num_palabras} palabras y {cant_caract} caracteres\")\n",
    "\n",
    "\n",
    "\n",
    "contador()"
   ]
  },
  {
   "cell_type": "markdown",
   "metadata": {},
   "source": [
    "## Ejercicio 2\n",
    "\n",
    "Escribe una función en Python que encuentre los valores de `a`, `b`, y `c` para que la función cuadrática `f(x) = aX^2 + bX + c` pase exactamente por los siguientes puntos:\n",
    "\n",
    "| x  | y  |\n",
    "|---:|---:|\n",
    "|  0 |  0 |\n",
    "|  1 |  8 |\n",
    "|  2 | 12 |\n",
    "|  3 | 12 |\n",
    "|  5 |  0 |\n",
    "\n",
    "### Requisitos:\n",
    "- La función debe explorar posibles valores de `a`, `b`, y `c` utilizando un método de prueba y error.\n",
    "- Debe devolver los valores que hagan que la diferencia entre la función `f(x)` y los valores medidos `y` sea exactamente cero para cada punto.\n",
    "\n",
    "> **Pista**: Los valores de `a`, `b`, y `c` son números pequeños."
   ]
  },
  {
   "cell_type": "code",
   "execution_count": 3,
   "metadata": {},
   "outputs": [
    {
     "name": "stdout",
     "output_type": "stream",
     "text": [
      "....................................................................\n",
      "los coeficientes son: a=-2,b=10,c=0 del ejercicio 2\n"
     ]
    }
   ],
   "source": [
    "# Implementar\n",
    "def coeficientes():\n",
    "\n",
    "    puntos = [(0, 0), (1, 8), (2, 12), (3, 12), (5, 0)]\n",
    "\n",
    "    for a in range(-20, 20):\n",
    "        for b in range(-20, 20):\n",
    "            for c in range(-20, 20):\n",
    "                verificar = True\n",
    "                for x, y in puntos:\n",
    "                    funcion = a * x**2 + b * x + c\n",
    "                    if funcion != y:\n",
    "                        verificar = False\n",
    "                        break\n",
    "                if verificar:\n",
    "                    return a, b, c\n",
    "\n",
    "    return\n",
    "\n",
    "\n",
    "resultado = coeficientes()\n",
    "if resultado:\n",
    "    print(\"....................................................................\")\n",
    "    print(f\"los coeficientes son: a={resultado[0]},b={resultado[1]},c={resultado[2]} del ejercicio 2\")\n",
    "else:\n",
    "    print(\"No se encontraron coeficientes\")\n"
   ]
  }
 ],
 "metadata": {
  "kernelspec": {
   "display_name": "Python 3",
   "language": "python",
   "name": "python3"
  },
  "language_info": {
   "codemirror_mode": {
    "name": "ipython",
    "version": 3
   },
   "file_extension": ".py",
   "mimetype": "text/x-python",
   "name": "python",
   "nbconvert_exporter": "python",
   "pygments_lexer": "ipython3",
   "version": "3.12.5"
  }
 },
 "nbformat": 4,
 "nbformat_minor": 2
}
