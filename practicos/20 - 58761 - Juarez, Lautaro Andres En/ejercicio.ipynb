{
 "cells": [
  {
   "cell_type": "markdown",
   "metadata": {},
   "source": [
    "# Trabajo práctico 1\n",
    "\n"
   ]
  },
  {
   "cell_type": "markdown",
   "metadata": {},
   "source": [
    "## Ejercicio 1 \n",
    "\n",
    "Escribe una función en Python que procese una lista de cadenas de texto y realice las siguientes acciones:\n",
    "\n",
    "1. Tomar una lista de frases y convertir cada frase en una lista de palabras.\n",
    "1. Luego, debe crear una nueva lista que contenga la cantidad de palabras en cada frase.\n",
    "1. Tambien debe crear un lista que contenga la cantidad de caracteres en cada frase.\n",
    "1. Finalmente, debe imprimir cada frase original junto con la cantidad de palabras que contiene.\n",
    "Ejemplo de uso:\n",
    "```python\n",
    "    frases = [\n",
    "        \"Python es un lenguaje de programación\",\n",
    "        \"Me gusta resolver problemas con código\",\n",
    "        \"Las listas y los bucles son muy útiles\"\n",
    "    ]\n",
    "\n",
    "    procesar_frases(frases)\n",
    "```\n",
    "\n",
    "ejemplo de salida:\n",
    "```bash\n",
    "    La frase: \"Python es un...\"\n",
    "    tiene 6 palabras y 38 caracteres\n",
    "```\n"
   ]
  },
  {
   "cell_type": "code",
   "execution_count": null,
   "metadata": {},
   "outputs": [],
   "source": [
    "# Implementar\n",
    "def procesar_frases(frases):\n",
    "    cantidad_palabras = []\n",
    "    cantidad_caracteres = []\n",
    "    for i in range(len(frases)):\n",
    "        #frase_actual = \"\"\n",
    "        frase_actual = frases[i]\n",
    "        cantidad_caracteres.append(len(frase_actual)) #3\n",
    "        frases[i] = frases[i].split() #1\n",
    "        cantidad_palabras.append(len(frases[i])) #2\n",
    "        print(f\"La frase: '{frase_actual}'\\n tiene {cantidad_palabras[i]} palabras y {cantidad_caracteres[i]} caracteres\")\n",
    "\n",
    "\n",
    "frases = [\n",
    "    \"Hoy, en la mañana, desperté, pero algo se sentía diferente. Y al mirar sobre mi cama mi cuerpo aún seguía ahí.\",\n",
    "    \"Después del apocalipsis, el último hombre de la Tierra estaba en su habitación. Alguien llamó a la puerta.\",\n",
    "    \"Miré mi reflejo en el espejo antes de salir. Cuando regresé, aún estaba ahí.\",\n",
    "    \"¿Cuántas veces tengo que decirte que ya no te tengo miedo? Y le disparé a la cabeza una vez más.\",\n",
    "    \"No hay nada más bonito que escuchar la risa de un bebé. A menos que sean las 3 de la mañana y no tengas ningún bebé.\",\n",
    "    \"Todas las noches, mamá me acaricia, me besa y me consuela. Todo sería perfecto si no estuviese muerta.\",\n",
    "    \"Nunca me gustó esa vieja muñeca de porcelana. No soporto que me mire de ese modo.\",\n",
    "    \"Desperté de frío. Frente a mi cama veo a la anciana mecerse lentamente y con la mirada fija en mis ojos. Nunca más he vuelto a poner un espejo en mi cuarto.\",\n",
    "    \"He soñado que un hombre sin rostro me arrancaba la piel mientras dormía. Eso explica la sangre en la cama.\",\n",
    "    \"Estaba tumbado en el sofá, cuando de pronto un golpe en la pared me sobresaltó. Aún debía esperar a que se secara el cemento para poder pintar.\"\n",
    "]\n",
    "\n",
    "procesar_frases(frases)"
   ]
  },
  {
   "cell_type": "markdown",
   "metadata": {},
   "source": [
    "## Ejercicio 2\n",
    "\n",
    "Escribe una función en Python que encuentre los valores de `a`, `b`, y `c` para que la función cuadrática `f(x) = aX^2 + bX + c` pase exactamente por los siguientes puntos:\n",
    "\n",
    "| x  | y  |\n",
    "|---:|---:|\n",
    "|  0 |  0 |\n",
    "|  1 |  8 |\n",
    "|  2 | 12 |\n",
    "|  3 | 12 |\n",
    "|  5 |  0 |\n",
    "\n",
    "### Requisitos:\n",
    "- La función debe explorar posibles valores de `a`, `b`, y `c` utilizando un método de prueba y error.\n",
    "- Debe devolver los valores que hagan que la diferencia entre la función `f(x)` y los valores medidos `y` sea exactamente cero para cada punto.\n",
    "\n",
    "> **Pista**: Los valores de `a`, `b`, y `c` son números pequeños."
   ]
  },
  {
   "cell_type": "code",
   "execution_count": null,
   "metadata": {},
   "outputs": [],
   "source": [
    "# Implementar\n",
    "\n",
    "def buscar_coeficientes():\n",
    "    rango = range(-10, 11)\n",
    "    \n",
    "    for coef_a in rango:\n",
    "        for coef_b in rango:\n",
    "            for coef_c in rango:\n",
    "                condiciones = [\n",
    "                    (coef_a * 0**2 + coef_b * 0 + coef_c == 0),\n",
    "                    (coef_a * 1**2 + coef_b * 1 + coef_c == 8),\n",
    "                    (coef_a * 2**2 + coef_b * 2 + coef_c == 12),\n",
    "                    (coef_a * 3**2 + coef_b * 3 + coef_c == 12),\n",
    "                    (coef_a * 5**2 + coef_b * 5 + coef_c == 0)\n",
    "                ]\n",
    "                \n",
    "                if all(condiciones):\n",
    "                    return coef_a, coef_b, coef_c\n",
    "    \n",
    "    return \"No se encontraron valores.\"\n",
    "\n",
    "resultado = buscar_coeficientes()\n",
    "\n",
    "if isinstance(resultado, tuple):\n",
    "    coef_a, coef_b, coef_c = resultado\n",
    "    print(f\"Los coeficientes encontrados son: \\n a={coef_a} \\n b={coef_b} \\n c={coef_c}\")\n",
    "else:\n",
    "    print(resultado)\n"
   ]
  }
 ],
 "metadata": {
  "language_info": {
   "name": "python"
  }
 },
 "nbformat": 4,
 "nbformat_minor": 2
}
