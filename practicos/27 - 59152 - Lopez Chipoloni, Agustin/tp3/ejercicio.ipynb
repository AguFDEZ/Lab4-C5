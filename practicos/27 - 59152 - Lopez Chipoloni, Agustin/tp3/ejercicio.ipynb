{
 "cells": [
  {
   "cell_type": "markdown",
   "metadata": {},
   "source": [
    "#TP3"
   ]
  },
  {
   "cell_type": "markdown",
   "metadata": {},
   "source": [
    "## Ejercicio 1: Cargar Datos de ventas.\n",
    "\n",
    "El archivo datos.dat contiene el registro de las ventas realizadas.\n",
    "\n",
    "Tiene un formato de ancho fijo:\n",
    "- fecha:    10 lugares\n",
    "- producto: 30 lugares\n",
    "- precio:   10 lugares\n",
    "- cantidad:  5 lugares\n",
    "\n",
    "hacer una funcion que carge los en una lista de diccionarios. \n",
    "\n",
    "nota: con \n",
    "```python\n",
    "lineas = open(\"datos.dat\", \"r\").readlines() \n",
    "```\n",
    "puede obtener la lista de string de todos los datos "
   ]
  },
  {
   "cell_type": "code",
   "execution_count": 1,
   "metadata": {},
   "outputs": [
    {
     "name": "stdout",
     "output_type": "stream",
     "text": [
      "[{'fecha': '2024-08-27', 'producto': 'Mirinda', 'precio': 1510.0, 'cantidad': 14}, {'fecha': '2024-08-27', 'producto': 'Mirinda', 'precio': 1560.0, 'cantidad': 12}, {'fecha': '2024-08-28', 'producto': 'Torasso', 'precio': 940.0, 'cantidad': 8}, {'fecha': '2024-08-29', 'producto': 'Pepsi Cola', 'precio': 1210.0, 'cantidad': 10}, {'fecha': '2024-08-30', 'producto': 'Mirinda', 'precio': 1520.0, 'cantidad': 1}, {'fecha': '2024-09-01', 'producto': 'Mirinda', 'precio': 1550.0, 'cantidad': 15}, {'fecha': '2024-09-01', 'producto': 'Sprite', 'precio': 810.0, 'cantidad': 4}, {'fecha': '2024-09-02', 'producto': 'Coca Cola', 'precio': 1100.0, 'cantidad': 4}, {'fecha': '2024-09-02', 'producto': 'Pepsi Cola', 'precio': 1220.0, 'cantidad': 13}, {'fecha': '2024-09-02', 'producto': 'Torasso', 'precio': 910.0, 'cantidad': 5}, {'fecha': '2024-09-02', 'producto': 'Torasso', 'precio': 920.0, 'cantidad': 3}, {'fecha': '2024-09-03', 'producto': 'Coca Cola', 'precio': 1020.0, 'cantidad': 8}, {'fecha': '2024-09-03', 'producto': 'Mirinda', 'precio': 1570.0, 'cantidad': 7}, {'fecha': '2024-09-03', 'producto': 'Mirinda', 'precio': 1590.0, 'cantidad': 2}, {'fecha': '2024-09-04', 'producto': 'Pepsi Cola', 'precio': 1220.0, 'cantidad': 13}, {'fecha': '2024-09-05', 'producto': 'Mirinda', 'precio': 1500.0, 'cantidad': 3}, {'fecha': '2024-09-05', 'producto': 'Pepsi Cola', 'precio': 1300.0, 'cantidad': 5}, {'fecha': '2024-09-06', 'producto': 'Coca Cola', 'precio': 1080.0, 'cantidad': 1}, {'fecha': '2024-09-06', 'producto': 'Sprite', 'precio': 860.0, 'cantidad': 12}, {'fecha': '2024-09-06', 'producto': 'Torasso', 'precio': 930.0, 'cantidad': 3}, {'fecha': '2024-09-07', 'producto': 'Coca Cola', 'precio': 1080.0, 'cantidad': 14}, {'fecha': '2024-09-07', 'producto': 'Sprite', 'precio': 870.0, 'cantidad': 13}, {'fecha': '2024-09-08', 'producto': 'Coca Cola', 'precio': 1040.0, 'cantidad': 10}, {'fecha': '2024-09-08', 'producto': 'Mirinda', 'precio': 1580.0, 'cantidad': 2}, {'fecha': '2024-09-08', 'producto': 'Pepsi Cola', 'precio': 1240.0, 'cantidad': 9}, {'fecha': '2024-09-09', 'producto': 'Mirinda', 'precio': 1500.0, 'cantidad': 3}, {'fecha': '2024-09-09', 'producto': 'Sprite', 'precio': 850.0, 'cantidad': 9}, {'fecha': '2024-09-10', 'producto': 'Mirinda', 'precio': 1590.0, 'cantidad': 8}, {'fecha': '2024-09-10', 'producto': 'Pepsi Cola', 'precio': 1250.0, 'cantidad': 12}, {'fecha': '2024-09-11', 'producto': 'Sprite', 'precio': 810.0, 'cantidad': 6}, {'fecha': '2024-09-11', 'producto': 'Sprite', 'precio': 820.0, 'cantidad': 14}, {'fecha': '2024-09-12', 'producto': 'Coca Cola', 'precio': 1080.0, 'cantidad': 4}, {'fecha': '2024-09-13', 'producto': 'Mirinda', 'precio': 1580.0, 'cantidad': 5}, {'fecha': '2024-09-13', 'producto': 'Pepsi Cola', 'precio': 1250.0, 'cantidad': 13}, {'fecha': '2024-09-14', 'producto': 'Coca Cola', 'precio': 1080.0, 'cantidad': 15}, {'fecha': '2024-09-14', 'producto': 'Pepsi Cola', 'precio': 1270.0, 'cantidad': 14}, {'fecha': '2024-09-15', 'producto': 'Coca Cola', 'precio': 1100.0, 'cantidad': 1}, {'fecha': '2024-09-15', 'producto': 'Mirinda', 'precio': 1500.0, 'cantidad': 13}, {'fecha': '2024-09-15', 'producto': 'Sprite', 'precio': 870.0, 'cantidad': 14}, {'fecha': '2024-09-15', 'producto': 'Torasso', 'precio': 900.0, 'cantidad': 13}]\n"
     ]
    }
   ],
   "source": [
    "def cargar_datos():\n",
    "    \n",
    "    datos = []\n",
    "    \n",
    "    lineas = open(\"datos.dat\", \"r\").readlines() \n",
    "    \n",
    "    \n",
    "    for linea in lineas:\n",
    "\n",
    "        fecha = linea[0:10].strip()\n",
    "        producto = linea[10:40].strip()\n",
    "        precio = float(linea[40:50].strip())\n",
    "        cantidad = int(linea[50:55].strip())\n",
    "        \n",
    "        \n",
    "        dato = {\n",
    "            'fecha': fecha,\n",
    "            'producto': producto,\n",
    "            'precio': precio,\n",
    "            'cantidad': cantidad\n",
    "        }\n",
    "        \n",
    "        \n",
    "        datos.append(dato)\n",
    "    \n",
    "    return datos\n",
    "\n",
    "datos = cargar_datos()\n",
    "print(datos)\n"
   ]
  },
  {
   "cell_type": "markdown",
   "metadata": {},
   "source": [
    "## Ejercicio 2: Calcular el total de ventas.\n",
    "\n",
    "Hacer una funcion que sume los importes vendidos (precio * cantidad) y las cantidades"
   ]
  },
  {
   "cell_type": "code",
   "execution_count": 2,
   "metadata": {},
   "outputs": [
    {
     "name": "stdout",
     "output_type": "stream",
     "text": [
      "Las ventas fueron de $392730.00 en 335 unidades\n"
     ]
    }
   ],
   "source": [
    "def calcular_totales(datos):\n",
    "    total_importe = 0.0\n",
    "    total_cantidad = 0\n",
    "\n",
    "\n",
    "    for dato in datos:\n",
    "\n",
    "        importe_venta = dato['precio'] * dato['cantidad']\n",
    "\n",
    "        total_importe += importe_venta\n",
    "\n",
    "        total_cantidad += dato['cantidad']\n",
    "\n",
    "\n",
    "    return total_importe, total_cantidad\n",
    "\n",
    "\n",
    "datos = cargar_datos()\n",
    "\n",
    "\n",
    "importe, cantidad = calcular_totales(datos)\n",
    "\n",
    "\n",
    "print(f\"Las ventas fueron de ${importe:.2f} en {cantidad} unidades\")"
   ]
  },
  {
   "cell_type": "markdown",
   "metadata": {},
   "source": [
    "## Ejercicio 3: Listar las unidades vendidas.\n",
    "\n",
    "Listar cuantas unidades se vendieron en total para cada producto"
   ]
  },
  {
   "cell_type": "code",
   "execution_count": 3,
   "metadata": {},
   "outputs": [
    {
     "name": "stdout",
     "output_type": "stream",
     "text": [
      "Producto: Mirinda, Unidades vendidas: 85\n",
      "Producto: Torasso, Unidades vendidas: 32\n",
      "Producto: Pepsi Cola, Unidades vendidas: 89\n",
      "Producto: Sprite, Unidades vendidas: 72\n",
      "Producto: Coca Cola, Unidades vendidas: 57\n"
     ]
    }
   ],
   "source": [
    "def unidades_vendidas(datos):\n",
    "    ventas_producto = {}\n",
    "\n",
    "    for dato in datos:\n",
    "        producto = dato['producto']\n",
    "        cantidad = dato['cantidad']\n",
    "\n",
    "\n",
    "        if producto in ventas_producto:\n",
    "            ventas_producto[producto] += cantidad\n",
    "        else:\n",
    "\n",
    "            ventas_producto[producto] = cantidad\n",
    "\n",
    "    return ventas_producto\n",
    "\n",
    "def listar_ventas(datos):\n",
    "\n",
    "    for producto, cantidad in datos.items():\n",
    "        print(f\"Producto: {producto}, Unidades vendidas: {cantidad}\")\n",
    "\n",
    "\n",
    "datos = cargar_datos()\n",
    "\n",
    "\n",
    "ventas = unidades_vendidas(datos)\n",
    "\n",
    "listar_ventas(ventas)"
   ]
  },
  {
   "cell_type": "markdown",
   "metadata": {},
   "source": [
    "##  Ejercicio 4: Listar el precio promedio por producto.\n",
    "\n",
    "Hacer un listado del precio promedio por productos."
   ]
  },
  {
   "cell_type": "code",
   "execution_count": 27,
   "metadata": {},
   "outputs": [
    {
     "name": "stdout",
     "output_type": "stream",
     "text": [
      "Producto: Mirinda, Precio promedio: $1545.83\n",
      "Producto: Torasso, Precio promedio: $920.00\n",
      "Producto: Pepsi Cola, Precio promedio: $1245.00\n",
      "Producto: Sprite, Precio promedio: $841.43\n",
      "Producto: Coca Cola, Precio promedio: $1072.50\n"
     ]
    }
   ],
   "source": [
    "\n",
    "def precio_promedio(datos):\n",
    "    precios_producto = {}\n",
    "    conteo_producto = {}\n",
    "\n",
    "    for dato in datos:\n",
    "        producto = dato[\"producto\"]\n",
    "        precio = dato[\"precio\"]\n",
    "        \n",
    "        if producto in precios_producto:\n",
    "            precios_producto[producto] += precio\n",
    "            conteo_producto[producto] += 1\n",
    "        else:\n",
    "            precios_producto[producto] = precio\n",
    "            conteo_producto[producto] = 1\n",
    "    \n",
    "    \n",
    "    precios_promedio = {producto: precios_producto[producto] / conteo_producto[producto]\n",
    "                        for producto in precios_producto}\n",
    "    \n",
    "    return precios_promedio  \n",
    "\n",
    "\n",
    "def listar_precios(precios_promedio):\n",
    "    for producto, precio_promedio in precios_promedio.items():\n",
    "        print(f\"Producto: {producto}, Precio promedio: ${precio_promedio:.2f}\")\n",
    "datos = cargar_datos() \n",
    "precios_promedio = precio_promedio(datos) \n",
    "listar_precios(precios_promedio)  \n"
   ]
  },
  {
   "cell_type": "markdown",
   "metadata": {},
   "source": [
    "### Ejercicio 5: Ranking de productos\n",
    "\n",
    "Realizar un listado de los 3 productos mas vendidos ordenados la cantidad de unidades vendidas (ordenadas de mayor a menor)\n"
   ]
  },
  {
   "cell_type": "code",
   "execution_count": 6,
   "metadata": {},
   "outputs": [
    {
     "name": "stdout",
     "output_type": "stream",
     "text": [
      "rank 1: producto: Pepsi Cola, unidades: 89\n",
      "rank 2: producto: Mirinda, unidades: 85\n",
      "rank 3: producto: Sprite, unidades: 72\n"
     ]
    }
   ],
   "source": [
    "def ranking_productos(datos, top=3):\n",
    "    ventas_producto = unidades_vendidas(datos)\n",
    "\n",
    "    productos_ordenados = sorted(ventas_producto.items(), key = lambda x:x[1],reverse=True)\n",
    "\n",
    "    return productos_ordenados[:top]\n",
    "\n",
    "\n",
    "def listar_ranking(ranking):\n",
    "  for i, (producto,cantidad) in enumerate (ranking,start=1):\n",
    "     print(f\"rank {i}: producto: {producto}, unidades: {cantidad}\")   \n",
    "\n",
    "\n",
    "datos = cargar_datos()\n",
    "ranking = ranking_productos(datos)\n",
    "listar_ranking(ranking)\n"
   ]
  },
  {
   "cell_type": "markdown",
   "metadata": {},
   "source": [
    "### Ejercicio 6: Listar las ventas por mes\n",
    "\n",
    "Realizar un listado del total de unidades vendidas por productos separada por mes."
   ]
  },
  {
   "cell_type": "code",
   "execution_count": 11,
   "metadata": {},
   "outputs": [
    {
     "name": "stdout",
     "output_type": "stream",
     "text": [
      "\n",
      "Mes 24-08\n",
      "producto : Mirinda, unidades : 27\n",
      "producto : Torasso, unidades : 8\n",
      "producto : Pepsi Cola, unidades : 10\n",
      "\n",
      "Mes 24-09\n",
      "producto : Mirinda, unidades : 58\n",
      "producto : Sprite, unidades : 72\n",
      "producto : Coca Cola, unidades : 57\n",
      "producto : Pepsi Cola, unidades : 79\n",
      "producto : Torasso, unidades : 24\n"
     ]
    }
   ],
   "source": [
    "from collections import defaultdict\n",
    "from datetime import datetime\n",
    "\n",
    "def ventas_por_mes(datos):\n",
    "    ventas_producto_mes = defaultdict(lambda: defaultdict(int))\n",
    "\n",
    "    for dato in datos:\n",
    "        producto = dato [\"producto\"]\n",
    "        cantidad = dato [\"cantidad\"]\n",
    "\n",
    "        fecha = datetime.strptime(dato[\"fecha\"],\"%Y-%m-%d\" )\n",
    "        mes = fecha.strftime(\"%y-%m\")\n",
    "\n",
    "\n",
    "        ventas_producto_mes[mes][producto] += cantidad\n",
    "    \n",
    "    return ventas_producto_mes\n",
    "    \n",
    "\n",
    "def listar_ventas_mensuales(ventas_producto_mes):\n",
    "    for mes,producto in ventas_producto_mes.items():\n",
    "        print(f\"\\nMes {mes}\")\n",
    "        for producto,cantidad in producto.items():\n",
    "            print(f\"producto : { producto}, unidades : {cantidad}\")\n",
    "\n",
    "    \n",
    "datos = cargar_datos()\n",
    "ventas = ventas_por_mes(datos)\n",
    "listar_ventas_mensuales(ventas)"
   ]
  },
  {
   "cell_type": "markdown",
   "metadata": {},
   "source": [
    "### Ejercicio 7: Informe general\n",
    "\n",
    "Mostrar un listado de productos ordenados alfabeticamente que contengan el precio promedio, la cantidad de unidades vendidas y el importe total vendido para cada producto"
   ]
  },
  {
   "cell_type": "code",
   "execution_count": 14,
   "metadata": {},
   "outputs": [
    {
     "name": "stdout",
     "output_type": "stream",
     "text": [
      "Informe de ventas:\n",
      "Producto: Coca Cola\n",
      "  Precio promedio: $1072.50\n",
      "  Unidades vendidas: 57\n",
      "  Importe total vendido: $60780.00\n",
      "\n",
      "Producto: Mirinda\n",
      "  Precio promedio: $1545.83\n",
      "  Unidades vendidas: 85\n",
      "  Importe total vendido: $131080.00\n",
      "\n",
      "Producto: Pepsi Cola\n",
      "  Precio promedio: $1245.00\n",
      "  Unidades vendidas: 89\n",
      "  Importe total vendido: $110510.00\n",
      "\n",
      "Producto: Sprite\n",
      "  Precio promedio: $841.43\n",
      "  Unidades vendidas: 72\n",
      "  Importe total vendido: $61040.00\n",
      "\n",
      "Producto: Torasso\n",
      "  Precio promedio: $920.00\n",
      "  Unidades vendidas: 32\n",
      "  Importe total vendido: $29320.00\n",
      "\n"
     ]
    }
   ],
   "source": [
    "from collections import defaultdict\n",
    "\n",
    "def resumen_ventas(datos):\n",
    "    resumen_producto = defaultdict(lambda: {\"unidades\": 0, \"importe_total\": 0.0, \"precios_sum\": 0.0, \"num_precios\": 0})\n",
    "\n",
    "    for dato in datos:\n",
    "        producto = dato[\"producto\"]\n",
    "        cantidad = dato[\"cantidad\"]\n",
    "        precio = dato[\"precio\"]\n",
    "        importe_venta = precio * cantidad\n",
    "        \n",
    "        resumen_producto[producto][\"unidades\"] += cantidad\n",
    "        resumen_producto[producto][\"importe_total\"] += importe_venta\n",
    "        resumen_producto[producto][\"precios_sum\"] += precio\n",
    "        resumen_producto[producto][\"num_precios\"] += 1\n",
    "\n",
    "    for producto in resumen_producto:\n",
    "        resumen_producto[producto][\"precio_promedio\"] = resumen_producto[producto][\"precios_sum\"] / resumen_producto[producto][\"num_precios\"]\n",
    "\n",
    "    return resumen_producto\n",
    "\n",
    "def informe_ventas(resumen_producto):\n",
    "    productos_ordenados = sorted(resumen_producto.keys())\n",
    "\n",
    "    print(\"Informe de ventas:\")\n",
    "    for producto in productos_ordenados:\n",
    "        datos = resumen_producto[producto]\n",
    "        print(f\"Producto: {producto}\")\n",
    "        print(f\"  Precio promedio: ${datos['precio_promedio']:.2f}\")\n",
    "        print(f\"  Unidades vendidas: {datos['unidades']}\")\n",
    "        print(f\"  Importe total vendido: ${datos['importe_total']:.2f}\")\n",
    "        print (\"\")\n",
    "\n",
    "datos = cargar_datos()\n",
    "resumen = resumen_ventas(datos)\n",
    "informe_ventas(resumen)\n",
    "\n"
   ]
  }
 ],
 "metadata": {
  "kernelspec": {
   "display_name": "Python 3",
   "language": "python",
   "name": "python3"
  },
  "language_info": {
   "codemirror_mode": {
    "name": "ipython",
    "version": 3
   },
   "file_extension": ".py",
   "mimetype": "text/x-python",
   "name": "python",
   "nbconvert_exporter": "python",
   "pygments_lexer": "ipython3",
   "version": "3.12.5"
  }
 },
 "nbformat": 4,
 "nbformat_minor": 2
}
