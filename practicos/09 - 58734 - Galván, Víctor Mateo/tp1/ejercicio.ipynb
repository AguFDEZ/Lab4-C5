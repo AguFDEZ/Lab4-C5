{
 "cells": [
  {
   "cell_type": "markdown",
   "metadata": {},
   "source": [
    "# Trabajo práctico 1\n",
    "\n"
   ]
  },
  {
   "cell_type": "markdown",
   "metadata": {},
   "source": [
    "## Ejercicio 1 \n",
    "\n",
    "Escribe una función en Python que procese una lista de cadenas de texto y realice las siguientes acciones:\n",
    "\n",
    "1. Tomar una lista de frases y convertir cada frase en una lista de palabras.\n",
    "1. Luego, debe crear una nueva lista que contenga la cantidad de palabras en cada frase.\n",
    "1. Tambien debe crear un lista que contenga la cantidad de caracteres en cada frase.\n",
    "1. Finalmente, debe imprimir cada frase original junto con la cantidad de palabras que contiene.\n",
    "Ejemplo de uso:\n",
    "```python\n",
    "    frases = [\n",
    "        \"Python es un lenguaje de programación\",\n",
    "        \"Me gusta resolver problemas con código\",\n",
    "        \"Las listas y los bucles son muy útiles\"\n",
    "    ]\n",
    "\n",
    "    procesar_frases(frases)\n",
    "```\n",
    "\n",
    "ejemplo de salida:\n",
    "```bash\n",
    "    La frase: \"Python es un...\"\n",
    "    tiene 6 palabras y 38 caracteres\n",
    "```\n"
   ]
  },
  {
   "cell_type": "code",
   "execution_count": 3,
   "metadata": {},
   "outputs": [
    {
     "name": "stdout",
     "output_type": "stream",
     "text": [
      "La frase: \"mi idolo es messi\"\n",
      "    tiene 4 palabras y 17 caracteres\n",
      "La frase: \"si todos fueran buenos todo seria aburrido\"\n",
      "    tiene 7 palabras y 42 caracteres\n",
      "La frase: \"Aquellos que no pueden recordar el pasado están condenados a repetirlo\"\n",
      "    tiene 11 palabras y 70 caracteres\n"
     ]
    }
   ],
   "source": [
    "def procesar_frases(frases):\n",
    "    \n",
    "    lista_palabras = []\n",
    "    lista_caracteres = []\n",
    "\n",
    "    \n",
    "    for frase in frases:\n",
    "        \n",
    "        palabras = frase.split()\n",
    "\n",
    "        \n",
    "        num_palabras = len(palabras)\n",
    "        num_caracteres = len(frase)\n",
    "\n",
    "        \n",
    "        lista_palabras.append(num_palabras)\n",
    "        lista_caracteres.append(num_caracteres)\n",
    "\n",
    "      \n",
    "        print(f'La frase: \"{frase}\"\\n    tiene {num_palabras} palabras y {num_caracteres} caracteres')\n",
    "\n",
    "\n",
    "frases = [\n",
    "    \"mi idolo es messi\",\n",
    "    \"si todos fueran buenos todo seria aburrido\",\n",
    "    \"Aquellos que no pueden recordar el pasado están condenados a repetirlo\"\n",
    "]\n",
    "\n",
    "procesar_frases(frases)"
   ]
  },
  {
   "cell_type": "markdown",
   "metadata": {},
   "source": [
    "## Ejercicio 2\n",
    "\n",
    "Escribe una función en Python que encuentre los valores de `a`, `b`, y `c` para que la función cuadrática `f(x) = aX^2 + bX + c` pase exactamente por los siguientes puntos:\n",
    "\n",
    "| x  | y  |\n",
    "|---:|---:|\n",
    "|  0 |  0 |\n",
    "|  1 |  8 |\n",
    "|  2 | 12 |\n",
    "|  3 | 12 |\n",
    "|  5 |  0 |\n",
    "\n",
    "### Requisitos:\n",
    "- La función debe explorar posibles valores de `a`, `b`, y `c` utilizando un método de prueba y error.\n",
    "- Debe devolver los valores que hagan que la diferencia entre la función `f(x)` y los valores medidos `y` sea exactamente cero para cada punto.\n",
    "\n",
    "> **Pista**: Los valores de `a`, `b`, y `c` son números pequeños."
   ]
  },
  {
   "cell_type": "code",
   "execution_count": 4,
   "metadata": {},
   "outputs": [
    {
     "name": "stdout",
     "output_type": "stream",
     "text": [
      "Valores encontrados: a = -2, b = 10, c = 0\n"
     ]
    }
   ],
   "source": [
    "def cuadratica_prueba_y_error(puntos):\n",
    "    \n",
    "    \n",
    "    rango = range(-10, 11)  \n",
    "\n",
    "   \n",
    "    for a in rango:\n",
    "        for b in rango:\n",
    "            for c in rango:\n",
    "                es_valido = True\n",
    "        \n",
    "                for x, y in puntos:\n",
    "                    f_x = a * (x ** 2) + b * x + c  \n",
    "                    if f_x != y:  \n",
    "                        es_valido = False\n",
    "                        break\n",
    "               \n",
    "                if es_valido:\n",
    "                    return a, b, c\n",
    "  \n",
    "    return None\n",
    "\n",
    "puntos = [(0, 0), (1, 8), (2, 12), (3, 12), (5, 0)]\n",
    "\n",
    "resultado = cuadratica_prueba_y_error(puntos)\n",
    "\n",
    "if resultado:\n",
    "    print(f\"Valores encontrados: a = {resultado[0]}, b = {resultado[1]}, c = {resultado[2]}\")\n",
    "else:\n",
    "    print(\"No se encontraron valores que cumplan con los puntos dados.\")\n"
   ]
  }
 ],
 "metadata": {
  "kernelspec": {
   "display_name": "Python 3",
   "language": "python",
   "name": "python3"
  },
  "language_info": {
   "codemirror_mode": {
    "name": "ipython",
    "version": 3
   },
   "file_extension": ".py",
   "mimetype": "text/x-python",
   "name": "python",
   "nbconvert_exporter": "python",
   "pygments_lexer": "ipython3",
   "version": "3.12.5"
  }
 },
 "nbformat": 4,
 "nbformat_minor": 2
}
