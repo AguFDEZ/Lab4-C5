{
 "cells": [
  {
   "cell_type": "markdown",
   "metadata": {},
   "source": [
    "# Trabajo práctico 1\n",
    "\n"
   ]
  },
  {
   "cell_type": "markdown",
   "metadata": {},
   "source": [
    "## Ejercicio 1 \n",
    "\n",
    "Escribe una función en Python que procese una lista de cadenas de texto y realice las siguientes acciones:\n",
    "\n",
    "1. Tomar una lista de frases y convertir cada frase en una lista de palabras.\n",
    "1. Luego, debe crear una nueva lista que contenga la cantidad de palabras en cada frase.\n",
    "1. Tambien debe crear un lista que contenga la cantidad de caracteres en cada frase.\n",
    "1. Finalmente, debe imprimir cada frase original junto con la cantidad de palabras que contiene.\n",
    "Ejemplo de uso:\n",
    "```python\n",
    "    frases = [\n",
    "        \"Python es un lenguaje de programación\",\n",
    "        \"Me gusta resolver problemas con código\",\n",
    "        \"Las listas y los bucles son muy útiles\"\n",
    "    ]\n",
    "\n",
    "    procesar_frases(frases)\n",
    "```\n",
    "\n",
    "ejemplo de salida:\n",
    "```bash\n",
    "    La frase: \"Python es un...\"\n",
    "    tiene 6 palabras y 38 caracteres\n",
    "```\n"
   ]
  },
  {
   "cell_type": "code",
   "execution_count": 2,
   "metadata": {},
   "outputs": [
    {
     "name": "stdout",
     "output_type": "stream",
     "text": [
      "La frase es: \"Python es un lenguaje muy fácil\"\n",
      "La cantidad de caracteres es de: 31, y la cantidad de palabras es de: 6\n",
      "La frase es: \"Messi es un crack, como el profe programando en python\"\n",
      "La cantidad de caracteres es de: 54, y la cantidad de palabras es de: 10\n",
      "La frase es: \"JavaScript es difícil en comparación con python\"\n",
      "La cantidad de caracteres es de: 47, y la cantidad de palabras es de: 7\n",
      "La frase es: \"La UTN es la mejor universidad de todas\"\n",
      "La cantidad de caracteres es de: 39, y la cantidad de palabras es de: 8\n"
     ]
    }
   ],
   "source": [
    "# Implementar\n",
    "\n",
    "def procesar_palabras(frases):\n",
    "    cantidadPalabras = []\n",
    "    cantidadCaracteres = []\n",
    "\n",
    "    for frase in frases:  \n",
    "        palabras = frase.split()\n",
    "        cantidadCaracteres.append(len(frase)) \n",
    "        cantidadPalabras.append(len(palabras))\n",
    "\n",
    "    for i, frase in enumerate(frases):  \n",
    "        print(f'La frase es: \"{frase}\"')\n",
    "        print(f'La cantidad de caracteres es de: {cantidadCaracteres[i]}, y la cantidad de palabras es de: {cantidadPalabras[i]}')\n",
    "\n",
    "frases = [\n",
    "    'Python es un lenguaje muy fácil',\n",
    "    'Messi es un crack, como el profe programando en python',\n",
    "    'JavaScript es difícil en comparación con python',\n",
    "    'La UTN es la mejor universidad de todas'\n",
    "]\n",
    "\n",
    "procesar_palabras(frases)\n",
    "\n",
    "\n"
   ]
  },
  {
   "cell_type": "code",
   "execution_count": null,
   "metadata": {},
   "outputs": [],
   "source": []
  },
  {
   "cell_type": "markdown",
   "metadata": {},
   "source": [
    "## Ejercicio 2\n",
    "\n",
    "Escribe una función en Python que encuentre los valores de `a`, `b`, y `c` para que la función cuadrática `f(x) = aX^2 + bX + c` pase exactamente por los siguientes puntos:\n",
    "\n",
    "| x  | y  |\n",
    "|---:|---:|\n",
    "|  0 |  0 |\n",
    "|  1 |  8 |\n",
    "|  2 | 12 |\n",
    "|  3 | 12 |\n",
    "|  5 |  0 |\n",
    "\n",
    "### Requisitos:\n",
    "- La función debe explorar posibles valores de `a`, `b`, y `c` utilizando un método de prueba y error.\n",
    "- Debe devolver los valores que hagan que la diferencia entre la función `f(x)` y los valores medidos `y` sea exactamente cero para cada punto.\n",
    "\n",
    "> **Pista**: Los valores de `a`, `b`, y `c` son números pequeños."
   ]
  },
  {
   "cell_type": "code",
   "execution_count": 1,
   "metadata": {},
   "outputs": [
    {
     "name": "stdout",
     "output_type": "stream",
     "text": [
      "Valores encontrados: a=-2, b=10, c=0\n"
     ]
    }
   ],
   "source": [
    "# Implementar\n",
    "\n",
    "def encontrar_valores():\n",
    "    rango = range(-10, 11)\n",
    "  \n",
    "    for a in rango:\n",
    "        for b in rango:\n",
    "            for c in rango:\n",
    "                if (a * 0**2 + b * 0 + c == 0 and  \n",
    "                    a * 1**2 + b * 1 + c == 8 and  \n",
    "                    a * 2**2 + b * 2 + c == 12 and \n",
    "                    a * 3**2 + b * 3 + c == 12 and\n",
    "                    a * 5**2 + b * 5 + c == 0):  \n",
    "                    return a, b, c  \n",
    "\n",
    "    return None\n",
    "\n",
    "resultado = encontrar_valores()\n",
    "if resultado:\n",
    "    a, b, c = resultado\n",
    "    print(f\"Valores encontrados: a={a}, b={b}, c={c}\")\n",
    "else:\n",
    "    print(\"No se encontraron.\")\n"
   ]
  }
 ],
 "metadata": {
  "kernelspec": {
   "display_name": "Python 3",
   "language": "python",
   "name": "python3"
  },
  "language_info": {
   "codemirror_mode": {
    "name": "ipython",
    "version": 3
   },
   "file_extension": ".py",
   "mimetype": "text/x-python",
   "name": "python",
   "nbconvert_exporter": "python",
   "pygments_lexer": "ipython3",
   "version": "3.12.5"
  }
 },
 "nbformat": 4,
 "nbformat_minor": 2
}
