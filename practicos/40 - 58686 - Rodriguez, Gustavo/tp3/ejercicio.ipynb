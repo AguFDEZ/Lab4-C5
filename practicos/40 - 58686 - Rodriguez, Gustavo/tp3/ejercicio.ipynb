{
 "cells": [
  {
   "cell_type": "markdown",
   "metadata": {},
   "source": [
    "#TP3"
   ]
  },
  {
   "cell_type": "markdown",
   "metadata": {},
   "source": [
    "## Ejercicio 1: Cargar Datos de ventas.\n",
    "\n",
    "El archivo datos.dat contiene el registro de las ventas realizadas.\n",
    "\n",
    "Tiene un formato de ancho fijo:\n",
    "- fecha:    10 lugares\n",
    "- producto: 30 lugares\n",
    "- precio:   10 lugares\n",
    "- cantidad:  5 lugares\n",
    "\n",
    "hacer una funcion que carge los en una lista de diccionarios. \n",
    "\n",
    "nota: con \n",
    "```python\n",
    "lineas = open(\"datos.dat\", \"r\").readlines() \n",
    "```\n",
    "puede obtener la lista de string de todos los datos "
   ]
  },
  {
   "cell_type": "code",
   "execution_count": 7,
   "metadata": {},
   "outputs": [
    {
     "name": "stdout",
     "output_type": "stream",
     "text": [
      "[{'fecha': '2024-08-27', 'producto': 'Mirinda', 'precio': 1510.0, 'cantidad': 14}, {'fecha': '2024-08-27', 'producto': 'Mirinda', 'precio': 1560.0, 'cantidad': 12}, {'fecha': '2024-08-28', 'producto': 'Torasso', 'precio': 940.0, 'cantidad': 8}, {'fecha': '2024-08-29', 'producto': 'Pepsi Cola', 'precio': 1210.0, 'cantidad': 10}, {'fecha': '2024-08-30', 'producto': 'Mirinda', 'precio': 1520.0, 'cantidad': 1}, {'fecha': '2024-09-01', 'producto': 'Mirinda', 'precio': 1550.0, 'cantidad': 15}, {'fecha': '2024-09-01', 'producto': 'Sprite', 'precio': 810.0, 'cantidad': 4}, {'fecha': '2024-09-02', 'producto': 'Coca Cola', 'precio': 1100.0, 'cantidad': 4}, {'fecha': '2024-09-02', 'producto': 'Pepsi Cola', 'precio': 1220.0, 'cantidad': 13}, {'fecha': '2024-09-02', 'producto': 'Torasso', 'precio': 910.0, 'cantidad': 5}, {'fecha': '2024-09-02', 'producto': 'Torasso', 'precio': 920.0, 'cantidad': 3}, {'fecha': '2024-09-03', 'producto': 'Coca Cola', 'precio': 1020.0, 'cantidad': 8}, {'fecha': '2024-09-03', 'producto': 'Mirinda', 'precio': 1570.0, 'cantidad': 7}, {'fecha': '2024-09-03', 'producto': 'Mirinda', 'precio': 1590.0, 'cantidad': 2}, {'fecha': '2024-09-04', 'producto': 'Pepsi Cola', 'precio': 1220.0, 'cantidad': 13}, {'fecha': '2024-09-05', 'producto': 'Mirinda', 'precio': 1500.0, 'cantidad': 3}, {'fecha': '2024-09-05', 'producto': 'Pepsi Cola', 'precio': 1300.0, 'cantidad': 5}, {'fecha': '2024-09-06', 'producto': 'Coca Cola', 'precio': 1080.0, 'cantidad': 1}, {'fecha': '2024-09-06', 'producto': 'Sprite', 'precio': 860.0, 'cantidad': 12}, {'fecha': '2024-09-06', 'producto': 'Torasso', 'precio': 930.0, 'cantidad': 3}, {'fecha': '2024-09-07', 'producto': 'Coca Cola', 'precio': 1080.0, 'cantidad': 14}, {'fecha': '2024-09-07', 'producto': 'Sprite', 'precio': 870.0, 'cantidad': 13}, {'fecha': '2024-09-08', 'producto': 'Coca Cola', 'precio': 1040.0, 'cantidad': 10}, {'fecha': '2024-09-08', 'producto': 'Mirinda', 'precio': 1580.0, 'cantidad': 2}, {'fecha': '2024-09-08', 'producto': 'Pepsi Cola', 'precio': 1240.0, 'cantidad': 9}, {'fecha': '2024-09-09', 'producto': 'Mirinda', 'precio': 1500.0, 'cantidad': 3}, {'fecha': '2024-09-09', 'producto': 'Sprite', 'precio': 850.0, 'cantidad': 9}, {'fecha': '2024-09-10', 'producto': 'Mirinda', 'precio': 1590.0, 'cantidad': 8}, {'fecha': '2024-09-10', 'producto': 'Pepsi Cola', 'precio': 1250.0, 'cantidad': 12}, {'fecha': '2024-09-11', 'producto': 'Sprite', 'precio': 810.0, 'cantidad': 6}, {'fecha': '2024-09-11', 'producto': 'Sprite', 'precio': 820.0, 'cantidad': 14}, {'fecha': '2024-09-12', 'producto': 'Coca Cola', 'precio': 1080.0, 'cantidad': 4}, {'fecha': '2024-09-13', 'producto': 'Mirinda', 'precio': 1580.0, 'cantidad': 5}, {'fecha': '2024-09-13', 'producto': 'Pepsi Cola', 'precio': 1250.0, 'cantidad': 13}, {'fecha': '2024-09-14', 'producto': 'Coca Cola', 'precio': 1080.0, 'cantidad': 15}, {'fecha': '2024-09-14', 'producto': 'Pepsi Cola', 'precio': 1270.0, 'cantidad': 14}, {'fecha': '2024-09-15', 'producto': 'Coca Cola', 'precio': 1100.0, 'cantidad': 1}, {'fecha': '2024-09-15', 'producto': 'Mirinda', 'precio': 1500.0, 'cantidad': 13}, {'fecha': '2024-09-15', 'producto': 'Sprite', 'precio': 870.0, 'cantidad': 14}, {'fecha': '2024-09-15', 'producto': 'Torasso', 'precio': 900.0, 'cantidad': 13}]\n"
     ]
    }
   ],
   "source": [
    "def cargar_datos():\n",
    "    linea = open('datos.dat' , 'r').readlines()\n",
    "\n",
    "    datos = []\n",
    "\n",
    "    for linea in linea:\n",
    "        fecha = linea[0:10].strip()\n",
    "        producto = linea[10:40].strip()\n",
    "        precio = float(linea[40:50].strip())\n",
    "        cantidad = int(linea[50:55].strip())\n",
    "\n",
    "        registro_ = {\n",
    "            'fecha' : fecha,\n",
    "            'producto' : producto,\n",
    "            'precio' : precio,\n",
    "            'cantidad' : cantidad\n",
    "        }\n",
    "\n",
    "        datos.append(registro_)\n",
    "    \n",
    "    return datos\n",
    "\n",
    "pass # Implementar la función cargar_datos\n",
    "\n",
    "datos = cargar_datos()\n",
    "\n",
    "print(datos)"
   ]
  },
  {
   "cell_type": "markdown",
   "metadata": {},
   "source": [
    "## Ejercicio 2: Calcular el total de ventas.\n",
    "\n",
    "Hacer una funcion que sume los importes vendidos (precio * cantidad) y las cantidades"
   ]
  },
  {
   "cell_type": "code",
   "execution_count": 9,
   "metadata": {},
   "outputs": [
    {
     "name": "stdout",
     "output_type": "stream",
     "text": [
      "Las ventas fueron de $21140.000000 en 14 unidades\n"
     ]
    }
   ],
   "source": [
    "def calcular_totales(datos):\n",
    "  \n",
    "    importe_total = 0\n",
    "    cantidad_total = 0\n",
    "\n",
    "    for registro in datos:\n",
    "        precio = registro['precio']\n",
    "        cantidad = registro['cantidad']\n",
    "\n",
    "        importe_total += precio * cantidad\n",
    "\n",
    "        cantidad_total += cantidad\n",
    "\n",
    "        return importe_total, cantidad_total\n",
    "\n",
    "    pass # implementar\n",
    "\n",
    "importe, cantidad = calcular_totales(datos)\n",
    "\n",
    "print(f\"Las ventas fueron de ${importe:2f} en {cantidad} unidades\")"
   ]
  },
  {
   "cell_type": "markdown",
   "metadata": {},
   "source": [
    "## Ejercicio 3: Listar las unidades vendidas.\n",
    "\n",
    "Listar cuantas unidades se vendieron en total para cada producto"
   ]
  },
  {
   "cell_type": "code",
   "execution_count": 2,
   "metadata": {},
   "outputs": [
    {
     "name": "stdout",
     "output_type": "stream",
     "text": [
      "Mirinda: 15 unidades vendidas\n",
      "Torasso: 8 unidades vendidas\n"
     ]
    }
   ],
   "source": [
    "\n",
    "def unidades_vendidas(datos):\n",
    "    ventas_totales = {}\n",
    "\n",
    "    for linea in datos:\n",
    "        producto = linea[0]  \n",
    "        cantidad = linea[2]  \n",
    "\n",
    "        if producto in ventas_totales:\n",
    "            ventas_totales[producto] += cantidad\n",
    "        else:\n",
    "            ventas_totales[producto] = cantidad\n",
    "\n",
    "   \n",
    "    return ventas_totales\n",
    "\n",
    "\n",
    "def listar_ventas(ventas):\n",
    "    for producto, cantidad in ventas.items():\n",
    "        print(f'{producto}: {cantidad} unidades vendidas')\n",
    "\n",
    "\n",
    "Datos = [\n",
    "    ('Mirinda', 1510, 14),\n",
    "    ('Torasso', 940, 8),\n",
    "    ('Mirinda', 1250, 1),\n",
    "]\n",
    "\n",
    "\n",
    "ventas = unidades_vendidas(Datos)\n",
    "listar_ventas(ventas)\n"
   ]
  },
  {
   "cell_type": "markdown",
   "metadata": {},
   "source": [
    "##  Ejercicio 4: Listar el precio promedio por producto.\n",
    "\n",
    "Hacer un listado del precio promedio por productos."
   ]
  },
  {
   "cell_type": "code",
   "execution_count": 3,
   "metadata": {},
   "outputs": [
    {
     "name": "stdout",
     "output_type": "stream",
     "text": [
      "Coca Cola: 30.00\n",
      "Mirinda: 10.00\n",
      "Pepsi: 20.00\n",
      "Sprite: 43.00\n",
      "Torasso: 40.00\n"
     ]
    }
   ],
   "source": [
    "def precio_promedio(datos):\n",
    "\n",
    "    precios_por_productos = {}\n",
    "    for nombre_producto, precio_producto in datos:\n",
    "        if nombre_producto not in precios_por_productos:\n",
    "            precios_por_productos[nombre_producto] = []\n",
    "        precios_por_productos[nombre_producto].append(precio_producto)\n",
    "    \n",
    "    promedios = {producto: sum(precios) / len(precios) for producto, precios in precios_por_productos.items()}\n",
    "    return promedios\n",
    "\n",
    "def listar_precios(promedios):\n",
    "    for producto, promedio in sorted(promedios.items()):\n",
    "        print(f'{producto}: {promedio:.2f}')\n",
    "\n",
    "datos1 = [\n",
    "    ('Mirinda', 10),\n",
    "    ('Sprite' , 43),\n",
    "    ('Pepsi', 20),\n",
    "    ('Coca Cola', 30),\n",
    "    ('Torasso', 40),\n",
    "]\n",
    "\n",
    "precios = precio_promedio(datos1)\n",
    "listar_precios(precios)\n"
   ]
  },
  {
   "cell_type": "markdown",
   "metadata": {},
   "source": [
    "### Ejercicio 5: Ranking de productos\n",
    "\n",
    "Realizar un listado de los 3 productos mas vendidos ordenados la cantidad de unidades vendidas (ordenadas de mayor a menor)\n"
   ]
  },
  {
   "cell_type": "code",
   "execution_count": 4,
   "metadata": {},
   "outputs": [
    {
     "name": "stdout",
     "output_type": "stream",
     "text": [
      "1. Mirinda: 15 unidades vendidas\n",
      "2. Torasso: 8 unidades vendidas\n"
     ]
    }
   ],
   "source": [
    "def unidades_vendidas(datos):\n",
    "  \n",
    "    ventas_totales  = {}\n",
    "\n",
    "    for linea in datos:\n",
    "        producto = linea[0]  \n",
    "        cantidad = linea[2]  \n",
    "\n",
    "        if producto in ventas_totales:\n",
    "            ventas_totales[producto] += cantidad\n",
    "        else:\n",
    "            ventas_totales[producto] = cantidad\n",
    "    \n",
    "    return ventas_totales\n",
    "\n",
    "def ranking_productos(datos, top=3):\n",
    "    ventas_totales = unidades_vendidas(datos)  \n",
    "    ranking = sorted(ventas_totales.items(), key=lambda x: x[1], reverse=True)  \n",
    "    return ranking[:top]  # \n",
    "\n",
    "def listar_ranking(ranking):\n",
    "    for i, (producto, cantidad) in enumerate(ranking, 1):  \n",
    "        print(f\"{i}. {producto}: {cantidad} unidades vendidas\")\n",
    "\n",
    "\n",
    "datos = [\n",
    "    ('Mirinda', 1510, 14),\n",
    "    ('Torasso', 940, 8),\n",
    "    ('Mirinda', 1250, 1),\n",
    "]\n",
    "\n",
    "\n",
    "ranking = ranking_productos(datos)\n",
    "listar_ranking(ranking)"
   ]
  },
  {
   "cell_type": "markdown",
   "metadata": {},
   "source": [
    "### Ejercicio 6: Listar las ventas por mes\n",
    "\n",
    "Realizar un listado del total de unidades vendidas por productos separada por mes."
   ]
  },
  {
   "cell_type": "code",
   "execution_count": 6,
   "metadata": {},
   "outputs": [
    {
     "name": "stdout",
     "output_type": "stream",
     "text": [
      "Ventas del mes 2024-08:\n",
      "  Mirinda: 26 unidades\n",
      "  Torasso: 8 unidades\n",
      "\n",
      "Ventas del mes 2024-09:\n",
      "  Coca Cola: 4 unidades\n",
      "  Sprite: 4 unidades\n",
      "\n"
     ]
    }
   ],
   "source": [
    "def ventas_por_mes(datos):\n",
    "  ventas = {}  \n",
    "\n",
    "  for linea in datos:\n",
    "    \n",
    "        fecha_str = linea[:10]  \n",
    "        producto = linea[10:40].strip()  \n",
    "      \n",
    "        unidades_vendidas = int(linea[-2:].strip())\n",
    "    \n",
    "        mes_año = fecha_str[:7]\n",
    "\n",
    "      \n",
    "        if mes_año not in ventas:\n",
    "            ventas[mes_año] = {}\n",
    "\n",
    "     \n",
    "        if producto not in ventas[mes_año]:\n",
    "            ventas[mes_año][producto] = 0\n",
    "\n",
    "        ventas[mes_año][producto] += unidades_vendidas\n",
    "\n",
    "  return ventas\n",
    "\n",
    "  \n",
    "pass # Implementar\n",
    "\n",
    "def listar_ventas_mensuales(ventas):\n",
    "     for mes, productos in sorted(ventas.items()):\n",
    "        print(f\"Ventas del mes {mes}:\")\n",
    "        for producto, total_unidades in sorted(productos.items()):\n",
    "            print(f\"  {producto}: {total_unidades} unidades\")\n",
    "        print()  \n",
    "   \n",
    "\n",
    "\n",
    "pass # Implementar\n",
    "\n",
    "datos = [\n",
    "    \"2024-08-27Mirinda                             1510   14\",\n",
    "    \"2024-08-27Mirinda                             1560   12\",\n",
    "    \"2024-08-28Torasso                              940    8\",\n",
    "    \"2024-09-01Sprite                               810    4\",\n",
    "    \"2024-09-02Coca Cola                           1100    4\",\n",
    "  \n",
    "]\n",
    "\n",
    "ventas = ventas_por_mes(datos)\n",
    "listar_ventas_mensuales(ventas)"
   ]
  },
  {
   "cell_type": "markdown",
   "metadata": {},
   "source": []
  },
  {
   "cell_type": "markdown",
   "metadata": {},
   "source": [
    "### Ejercicio 7: Informe general\n",
    "\n",
    "Mostrar un listado de productos ordenados alfabeticamente que contengan el precio promedio, la cantidad de unidades vendidas y el importe total vendido para cada producto"
   ]
  },
  {
   "cell_type": "code",
   "execution_count": 2,
   "metadata": {},
   "outputs": [
    {
     "name": "stdout",
     "output_type": "stream",
     "text": [
      "Producto             Precio Promedio Cantidad Total  Importe Total  \n",
      "-----------------------------------------------------------------\n",
      "Mirinda              1533.08         26              39860.00       \n",
      "Torasso              940.00          8               7520.00        \n"
     ]
    }
   ],
   "source": [
    "def resumen_ventas(datos):\n",
    "      \n",
    "    resumen = {}\n",
    "    \n",
    "    for registro in datos:\n",
    "        producto = registro['producto']\n",
    "        precio = registro['precio']\n",
    "        cantidad = registro['cantidad']\n",
    "        \n",
    "        \n",
    "        if producto not in resumen:\n",
    "            resumen[producto] = {\n",
    "                'total_precio': 0,\n",
    "                'total_cantidad': 0,\n",
    "                'total_importe': 0\n",
    "            }\n",
    "        \n",
    "        resumen[producto]['total_precio'] += precio * cantidad\n",
    "        resumen[producto]['total_cantidad'] += cantidad\n",
    "        resumen[producto]['total_importe'] += precio * cantidad\n",
    "   \n",
    "    for producto, datos in resumen.items():\n",
    "        datos['precio_promedio'] = datos['total_precio'] / datos['total_cantidad'] if datos['total_cantidad'] > 0 else 0\n",
    "    \n",
    "    return resumen\n",
    "     \n",
    "\n",
    "\n",
    "def informe_ventas(datos):\n",
    "    \n",
    "    productos_ordenados = sorted(resumen.keys())\n",
    "\n",
    "    print(f\"{'Producto':<20} {'Precio Promedio':<15} {'Cantidad Total':<15} {'Importe Total':<15}\")\n",
    "    print(\"-\" * 65)\n",
    "    \n",
    "    for producto in productos_ordenados:\n",
    "        datos = resumen[producto]\n",
    "        precio_promedio = datos['precio_promedio']\n",
    "        cantidad_total = datos['total_cantidad']\n",
    "        importe_total = datos['total_importe']\n",
    "      \n",
    "        print(f\"{producto:<20} {precio_promedio:<15.2f} {cantidad_total:<15} {importe_total:<15.2f}\")\n",
    "\n",
    "\n",
    "datos = [\n",
    "    {'fecha': '2024-08-27', 'producto': 'Mirinda', 'precio': 1510, 'cantidad': 14},\n",
    "    {'fecha': '2024-08-27', 'producto': 'Mirinda', 'precio': 1560, 'cantidad': 12},\n",
    "    {'fecha': '2024-08-28', 'producto': 'Torasso', 'precio': 940, 'cantidad': 8},\n",
    "   \n",
    "]\n",
    "\n",
    "\n",
    "resumen = resumen_ventas(datos)\n",
    "informe_ventas(resumen)\n",
    "      \n",
    "   "
   ]
  },
  {
   "cell_type": "markdown",
   "metadata": {},
   "source": []
  }
 ],
 "metadata": {
  "kernelspec": {
   "display_name": "Python 3",
   "language": "python",
   "name": "python3"
  },
  "language_info": {
   "codemirror_mode": {
    "name": "ipython",
    "version": 3
   },
   "file_extension": ".py",
   "mimetype": "text/x-python",
   "name": "python",
   "nbconvert_exporter": "python",
   "pygments_lexer": "ipython3",
   "version": "3.12.5"
  }
 },
 "nbformat": 4,
 "nbformat_minor": 2
}
