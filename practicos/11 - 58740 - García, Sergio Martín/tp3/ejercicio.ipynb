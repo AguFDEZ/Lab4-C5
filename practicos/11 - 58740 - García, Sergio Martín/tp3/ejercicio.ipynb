{
 "cells": [
  {
   "cell_type": "markdown",
   "metadata": {},
   "source": [
    "#TP3"
   ]
  },
  {
   "cell_type": "markdown",
   "metadata": {},
   "source": [
    "## Ejercicio 1: Cargar Datos de ventas.\n",
    "\n",
    "El archivo datos.dat contiene el registro de las ventas realizadas.\n",
    "\n",
    "Tiene un formato de ancho fijo:\n",
    "- fecha:    10 lugares\n",
    "- producto: 30 lugares\n",
    "- precio:   10 lugares\n",
    "- cantidad:  5 lugares\n",
    "\n",
    "hacer una funcion que carge los en una lista de diccionarios. \n",
    "\n",
    "nota: con \n",
    "```python\n",
    "lineas = open(\"datos.dat\", \"r\").readlines() \n",
    "```\n",
    "puede obtener la lista de string de todos los datos "
   ]
  },
  {
   "cell_type": "code",
   "execution_count": 2,
   "metadata": {},
   "outputs": [
    {
     "name": "stdout",
     "output_type": "stream",
     "text": [
      "{'fecha': '2024-08-27', 'producto': 'Mirinda', 'precio': '1510', 'cantidad': '14'}\n",
      "{'fecha': '2024-08-27', 'producto': 'Mirinda', 'precio': '1560', 'cantidad': '12'}\n",
      "{'fecha': '2024-08-28', 'producto': 'Torasso', 'precio': '940', 'cantidad': '8'}\n",
      "{'fecha': '2024-08-29', 'producto': 'Pepsi Cola', 'precio': '1210', 'cantidad': '10'}\n",
      "{'fecha': '2024-08-30', 'producto': 'Mirinda', 'precio': '1520', 'cantidad': '1'}\n",
      "{'fecha': '2024-09-01', 'producto': 'Mirinda', 'precio': '1550', 'cantidad': '15'}\n",
      "{'fecha': '2024-09-01', 'producto': 'Sprite', 'precio': '810', 'cantidad': '4'}\n",
      "{'fecha': '2024-09-02', 'producto': 'Coca Cola', 'precio': '1100', 'cantidad': '4'}\n",
      "{'fecha': '2024-09-02', 'producto': 'Pepsi Cola', 'precio': '1220', 'cantidad': '13'}\n",
      "{'fecha': '2024-09-02', 'producto': 'Torasso', 'precio': '910', 'cantidad': '5'}\n",
      "{'fecha': '2024-09-02', 'producto': 'Torasso', 'precio': '920', 'cantidad': '3'}\n",
      "{'fecha': '2024-09-03', 'producto': 'Coca Cola', 'precio': '1020', 'cantidad': '8'}\n",
      "{'fecha': '2024-09-03', 'producto': 'Mirinda', 'precio': '1570', 'cantidad': '7'}\n",
      "{'fecha': '2024-09-03', 'producto': 'Mirinda', 'precio': '1590', 'cantidad': '2'}\n",
      "{'fecha': '2024-09-04', 'producto': 'Pepsi Cola', 'precio': '1220', 'cantidad': '13'}\n",
      "{'fecha': '2024-09-05', 'producto': 'Mirinda', 'precio': '1500', 'cantidad': '3'}\n",
      "{'fecha': '2024-09-05', 'producto': 'Pepsi Cola', 'precio': '1300', 'cantidad': '5'}\n",
      "{'fecha': '2024-09-06', 'producto': 'Coca Cola', 'precio': '1080', 'cantidad': '1'}\n",
      "{'fecha': '2024-09-06', 'producto': 'Sprite', 'precio': '860', 'cantidad': '12'}\n",
      "{'fecha': '2024-09-06', 'producto': 'Torasso', 'precio': '930', 'cantidad': '3'}\n",
      "{'fecha': '2024-09-07', 'producto': 'Coca Cola', 'precio': '1080', 'cantidad': '14'}\n",
      "{'fecha': '2024-09-07', 'producto': 'Sprite', 'precio': '870', 'cantidad': '13'}\n",
      "{'fecha': '2024-09-08', 'producto': 'Coca Cola', 'precio': '1040', 'cantidad': '10'}\n",
      "{'fecha': '2024-09-08', 'producto': 'Mirinda', 'precio': '1580', 'cantidad': '2'}\n",
      "{'fecha': '2024-09-08', 'producto': 'Pepsi Cola', 'precio': '1240', 'cantidad': '9'}\n",
      "{'fecha': '2024-09-09', 'producto': 'Mirinda', 'precio': '1500', 'cantidad': '3'}\n",
      "{'fecha': '2024-09-09', 'producto': 'Sprite', 'precio': '850', 'cantidad': '9'}\n",
      "{'fecha': '2024-09-10', 'producto': 'Mirinda', 'precio': '1590', 'cantidad': '8'}\n",
      "{'fecha': '2024-09-10', 'producto': 'Pepsi Cola', 'precio': '1250', 'cantidad': '12'}\n",
      "{'fecha': '2024-09-11', 'producto': 'Sprite', 'precio': '810', 'cantidad': '6'}\n",
      "{'fecha': '2024-09-11', 'producto': 'Sprite', 'precio': '820', 'cantidad': '14'}\n",
      "{'fecha': '2024-09-12', 'producto': 'Coca Cola', 'precio': '1080', 'cantidad': '4'}\n",
      "{'fecha': '2024-09-13', 'producto': 'Mirinda', 'precio': '1580', 'cantidad': '5'}\n",
      "{'fecha': '2024-09-13', 'producto': 'Pepsi Cola', 'precio': '1250', 'cantidad': '13'}\n",
      "{'fecha': '2024-09-14', 'producto': 'Coca Cola', 'precio': '1080', 'cantidad': '15'}\n",
      "{'fecha': '2024-09-14', 'producto': 'Pepsi Cola', 'precio': '1270', 'cantidad': '14'}\n",
      "{'fecha': '2024-09-15', 'producto': 'Coca Cola', 'precio': '1100', 'cantidad': '1'}\n",
      "{'fecha': '2024-09-15', 'producto': 'Mirinda', 'precio': '1500', 'cantidad': '13'}\n",
      "{'fecha': '2024-09-15', 'producto': 'Sprite', 'precio': '870', 'cantidad': '14'}\n",
      "{'fecha': '2024-09-15', 'producto': 'Torasso', 'precio': '900', 'cantidad': '13'}\n"
     ]
    }
   ],
   "source": [
    "\n",
    "def cargar_datos(archivo, formato):\n",
    "    pass # Implementar la función cargar_datos\n",
    "    \n",
    "    with open(archivo, \"r\") as f:\n",
    "        registros = f.readlines()\n",
    "    \n",
    "    datos = []\n",
    "    for registro in registros:\n",
    "        registro = registro.strip()\n",
    "        fecha = registro[:10]\n",
    "        producto = registro[10:40].strip()\n",
    "        precio = registro[40:50].strip()\n",
    "        cantidad = registro[50:].strip()\n",
    "\n",
    "        registro_diccionario = {\n",
    "            \"fecha\": fecha,\n",
    "            \"producto\": producto,\n",
    "            \"precio\": precio,\n",
    "            \"cantidad\": cantidad\n",
    "        }\n",
    "        datos.append(registro_diccionario)\n",
    "    \n",
    "    return datos\n",
    "\n",
    "archivo = \"datos.dat\"\n",
    "formato = \"fecha, producto, precio, cantidad\"\n",
    "datos = cargar_datos(archivo, formato)\n",
    "\n",
    "for registro in datos:\n",
    "    print(registro)"
   ]
  },
  {
   "cell_type": "markdown",
   "metadata": {},
   "source": [
    "## Ejercicio 2: Calcular el total de ventas.\n",
    "\n",
    "Hacer una funcion que sume los importes vendidos (precio * cantidad) y las cantidades"
   ]
  },
  {
   "cell_type": "code",
   "execution_count": 3,
   "metadata": {},
   "outputs": [
    {
     "name": "stdout",
     "output_type": "stream",
     "text": [
      "Las ventas fueron de $ 392730.00 en 335 unidades\n"
     ]
    }
   ],
   "source": [
    "def calcular_totales(datos):\n",
    "    pass # implementar\n",
    "    importe_total = 0\n",
    "    cantidad_total = 0\n",
    "    for registro in datos:\n",
    "        precio = float(registro[\"precio\"])\n",
    "        cantidad = int(registro[\"cantidad\"])\n",
    "        importe_total += precio * cantidad\n",
    "        cantidad_total += cantidad     \n",
    "    return importe_total, cantidad_total\n",
    "importe, cantidad = calcular_totales(datos)\n",
    "\n",
    "print(f\"Las ventas fueron de $ {importe:.2f} en {cantidad} unidades\")"
   ]
  },
  {
   "cell_type": "markdown",
   "metadata": {},
   "source": [
    "## Ejercicio 3: Listar las unidades vendidas.\n",
    "\n",
    "Listar cuantas unidades se vendieron en total para cada producto"
   ]
  },
  {
   "cell_type": "code",
   "execution_count": 7,
   "metadata": {},
   "outputs": [
    {
     "name": "stdout",
     "output_type": "stream",
     "text": [
      "Producto\t\t\tUnidades vendidas\n",
      "-------------------------------------\n",
      "Mirinda\t\t\t85\n",
      "Torasso\t\t\t32\n",
      "Pepsi Cola\t\t\t89\n",
      "Sprite\t\t\t72\n",
      "Coca Cola\t\t\t57\n"
     ]
    }
   ],
   "source": [
    "def unidades_vendidas(datos):\n",
    "    pass \n",
    "    ventas = {}\n",
    "    for registro in datos:\n",
    "        producto = registro[\"producto\"]\n",
    "        cantidad = int(registro[\"cantidad\"])\n",
    "        if producto in ventas:\n",
    "            ventas[producto] += cantidad\n",
    "        else:\n",
    "            ventas[producto] = cantidad        \n",
    "    return ventas\n",
    "\n",
    "def listar_ventas(datos):\n",
    "    pass \n",
    "    print(\"Producto\\t\\t\\tUnidades vendidas\")\n",
    "    print(\"-------------------------------------\")\n",
    "    for producto, cantidad in datos.items():\n",
    "        print(f\"{producto}\\t\\t\\t{cantidad}\")\n",
    "    \n",
    "   \n",
    "ventas = unidades_vendidas(datos)\n",
    "listar_ventas(ventas)\n",
    "\n"
   ]
  },
  {
   "cell_type": "markdown",
   "metadata": {},
   "source": [
    "##  Ejercicio 4: Listar el precio promedio por producto.\n",
    "\n",
    "Hacer un listado del precio promedio por productos."
   ]
  },
  {
   "cell_type": "code",
   "execution_count": 23,
   "metadata": {},
   "outputs": [
    {
     "name": "stdout",
     "output_type": "stream",
     "text": [
      "Producto\t\t\tPrecio promedio\n",
      "-------------------------------------\n",
      "Mirinda\t\t\t$1542.12\n",
      "Torasso\t\t\t$916.25\n",
      "Pepsi Cola\t\t\t$1241.69\n",
      "Sprite\t\t\t$847.78\n",
      "Coca Cola\t\t\t$1066.32\n"
     ]
    }
   ],
   "source": [
    "def precio_promedio(datos):\n",
    "    pass # Implementar\n",
    "    precios = {}\n",
    "    for registro in datos:\n",
    "        producto = registro[\"producto\"]\n",
    "        precio = float(registro[\"precio\"])\n",
    "        cantidad = int(registro[\"cantidad\"])\n",
    "        if producto in precios:\n",
    "            precios[producto][\"total\"] += precio * cantidad\n",
    "            precios[producto][\"cantidad\"] += cantidad\n",
    "        else:\n",
    "            precios[producto] = {\"total\": precio * cantidad, \"cantidad\": cantidad}\n",
    "    return precios\n",
    "\n",
    "def listar_precios(datos):\n",
    "    pass\n",
    "    print(\"Producto\\t\\t\\tPrecio promedio\")\n",
    "    print(\"-------------------------------------\")\n",
    "    for producto, precios in datos.items():\n",
    "        precio_promedio = precios[\"total\"] / precios[\"cantidad\"]\n",
    "        print(f\"{producto}\\t\\t\\t${precio_promedio:.2f}\")\n",
    "\n",
    "precios = precio_promedio(datos)\n",
    "listar_precios(precios)\n"
   ]
  },
  {
   "cell_type": "markdown",
   "metadata": {},
   "source": [
    "### Ejercicio 5: Ranking de productos\n",
    "\n",
    "Realizar un listado de los 3 productos mas vendidos ordenados la cantidad de unidades vendidas (ordenadas de mayor a menor)\n"
   ]
  },
  {
   "cell_type": "code",
   "execution_count": 9,
   "metadata": {},
   "outputs": [
    {
     "name": "stdout",
     "output_type": "stream",
     "text": [
      "Ranking de productos más vendidos\n",
      "-------------------------------------\n",
      "1. Pepsi Cola\t\t\t89 unidades vendidas\n",
      "2. Mirinda\t\t\t85 unidades vendidas\n",
      "3. Sprite\t\t\t72 unidades vendidas\n"
     ]
    }
   ],
   "source": [
    "def ranking_productos(datos, top=3):\n",
    "    pass # Implementar\n",
    "    ventas = {}\n",
    "    for registro in datos:\n",
    "        producto = registro[\"producto\"]\n",
    "        cantidad = int(registro[\"cantidad\"])\n",
    "        if producto in ventas:\n",
    "            ventas[producto] += cantidad\n",
    "        else:\n",
    "            ventas[producto] = cantidad\n",
    "    return sorted(ventas.items(), key=lambda x: x[1], reverse=True)[:top]\n",
    "\n",
    "def listar_ranking(ranking):\n",
    "    pass # Implementar\n",
    "    print(\"Ranking de productos más vendidos\")\n",
    "    print(\"-------------------------------------\")\n",
    "    for i, (producto, cantidad) in enumerate(ranking, start=1):\n",
    "        print(f\"{i}. {producto}\\t\\t\\t{cantidad} unidades vendidas\")\n",
    "        \n",
    "    \n",
    "ranking = ranking_productos(datos)\n",
    "listar_ranking(ranking)"
   ]
  },
  {
   "cell_type": "markdown",
   "metadata": {},
   "source": [
    "### Ejercicio 6: Listar las ventas por mes\n",
    "\n",
    "Realizar un listado del total de unidades vendidas por productos separada por mes."
   ]
  },
  {
   "cell_type": "code",
   "execution_count": 21,
   "metadata": {},
   "outputs": [
    {
     "name": "stdout",
     "output_type": "stream",
     "text": [
      "Ventas por mes y producto:\n",
      "==============================\n",
      "Mes: 8\n",
      "------------------------------\n",
      "  Mirinda: 27 unidades\n",
      "  Torasso: 8 unidades\n",
      "  Pepsi Cola: 10 unidades\n",
      "\n",
      "Mes: 9\n",
      "------------------------------\n",
      "  Mirinda: 58 unidades\n",
      "  Sprite: 72 unidades\n",
      "  Coca Cola: 57 unidades\n",
      "  Pepsi Cola: 79 unidades\n",
      "  Torasso: 24 unidades\n",
      "\n"
     ]
    }
   ],
   "source": [
    "def ventas_por_mes(datos):\n",
    "    pass # Implementar\n",
    "    ventas = {i: {} for i in range(1, 13)}\n",
    "    for registro in datos:\n",
    "        if \"fecha\" in registro:\n",
    "            fecha = registro[\"fecha\"]\n",
    "            mes = int(fecha.split(\"-\")[1])\n",
    "            producto = registro[\"producto\"]\n",
    "            cantidad = int(registro[\"cantidad\"])\n",
    "            if producto in ventas[mes]:\n",
    "                ventas[mes][producto] += cantidad\n",
    "            else:\n",
    "                ventas[mes][producto] = cantidad\n",
    "    return ventas\n",
    "    \n",
    "def listar_ventas_mensuales(ventas):\n",
    "    pass # Implementar\n",
    "    print(\"Ventas por mes y producto:\")\n",
    "    print(\"=\" * 30)\n",
    "    for mes, productos in ventas.items():\n",
    "        if productos:\n",
    "            print(f\"Mes: {mes}\")\n",
    "            print(\"-\" * 30)\n",
    "            for producto, cantidad in productos.items():\n",
    "                print(f\"  {producto}: {cantidad} unidades\")\n",
    "            print()\n",
    "    \n",
    "\n",
    "ventas = ventas_por_mes(datos)\n",
    "listar_ventas_mensuales(ventas)"
   ]
  },
  {
   "cell_type": "markdown",
   "metadata": {},
   "source": [
    "### Ejercicio 7: Informe general\n",
    "\n",
    "Mostrar un listado de productos ordenados alfabeticamente que contengan el precio promedio, la cantidad de unidades vendidas y el importe total vendido para cada producto"
   ]
  },
  {
   "cell_type": "code",
   "execution_count": 22,
   "metadata": {},
   "outputs": [
    {
     "name": "stdout",
     "output_type": "stream",
     "text": [
      "Informe de ventas:\n",
      "----------------------------------------------------------------------------\n",
      "Producto             Precio promedio      Cantidad vendida     Importe total vendido\n",
      "----------------------------------------------------------------------------\n",
      "Coca Cola            $1066.32             57                  $60780.00           \n",
      "Mirinda              $1542.12             85                  $131080.00          \n",
      "Pepsi Cola           $1241.69             89                  $110510.00          \n",
      "Sprite               $847.78              72                  $61040.00           \n",
      "Torasso              $916.25              32                  $29320.00           \n"
     ]
    }
   ],
   "source": [
    "def resumen_ventas(datos):\n",
    "    pass # Implementar\n",
    "    resumen = {}\n",
    "    for registro in datos:\n",
    "        producto = registro[\"producto\"]\n",
    "        precio = float(registro[\"precio\"])\n",
    "        cantidad = int(registro[\"cantidad\"])\n",
    "        if producto in resumen:\n",
    "            resumen[producto][\"total\"] += precio * cantidad\n",
    "            resumen[producto][\"cantidad\"] += cantidad\n",
    "        else:\n",
    "            resumen[producto] = {\"total\": precio * cantidad, \"cantidad\": cantidad, \"precio_promedio\": precio}\n",
    "    return resumen\n",
    "\n",
    "def informe_ventas(datos):\n",
    "    pass # Implementar\n",
    "    datos_ordenados = sorted(datos.items(), key=lambda x: x[0])\n",
    "    print(\"Informe de ventas:\")\n",
    "    print(\"----------------------------------------------------------------------------\")\n",
    "    print(f\"{'Producto':<20} {'Precio promedio':<20} {'Cantidad vendida':<20} {'Importe total vendido':<20}\")\n",
    "    print(\"----------------------------------------------------------------------------\")\n",
    "    \n",
    "    for producto, info in datos_ordenados:\n",
    "        precio_promedio = info[\"total\"] / info[\"cantidad\"]\n",
    "        print(f\"{producto:<20} ${precio_promedio:<19.2f} {info['cantidad']:<19} ${info['total']:<19.2f}\")\n",
    "\n",
    "resumen = resumen_ventas(datos)\n",
    "informe_ventas(resumen)\n"
   ]
  }
 ],
 "metadata": {
  "kernelspec": {
   "display_name": "Python 3",
   "language": "python",
   "name": "python3"
  },
  "language_info": {
   "codemirror_mode": {
    "name": "ipython",
    "version": 3
   },
   "file_extension": ".py",
   "mimetype": "text/x-python",
   "name": "python",
   "nbconvert_exporter": "python",
   "pygments_lexer": "ipython3",
   "version": "3.12.5"
  }
 },
 "nbformat": 4,
 "nbformat_minor": 2
}
