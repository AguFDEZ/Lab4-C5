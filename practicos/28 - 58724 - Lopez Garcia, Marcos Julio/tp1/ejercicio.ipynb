{
 "cells": [
  {
   "cell_type": "markdown",
   "metadata": {},
   "source": [
    "# Trabajo práctico 1\n",
    "\n"
   ]
  },
  {
   "cell_type": "markdown",
   "metadata": {},
   "source": [
    "## Ejercicio 1 \n",
    "\n",
    "Escribe una función en Python que procese una lista de cadenas de texto y realice las siguientes acciones:\n",
    "\n",
    "1. Tomar una lista de frases y convertir cada frase en una lista de palabras.\n",
    "1. Luego, debe crear una nueva lista que contenga la cantidad de palabras en cada frase.\n",
    "1. Tambien debe crear un lista que contenga la cantidad de caracteres en cada frase.\n",
    "1. Finalmente, debe imprimir cada frase original junto con la cantidad de palabras que contiene.\n",
    "Ejemplo de uso:\n",
    "```python\n",
    "    frases = [\n",
    "        \"Python es un lenguaje de programación\",\n",
    "        \"Me gusta resolver problemas con código\",\n",
    "        \"Las listas y los bucles son muy útiles\"\n",
    "    ]\n",
    "\n",
    "    procesar_frases(frases)\n",
    "```\n",
    "\n",
    "ejemplo de salida:\n",
    "```bash\n",
    "    La frase: \"Python es un...\"\n",
    "    tiene 6 palabras y 38 caracteres\n",
    "```\n"
   ]
  },
  {
   "cell_type": "code",
   "execution_count": null,
   "metadata": {},
   "outputs": [],
   "source": [
    "def procesar_frases(frases):\n",
    "    \n",
    "    cantidades_palabras = []\n",
    "    cantidades_caracteres = []\n",
    "    \n",
    "    \n",
    "    for frase in frases:\n",
    "       \n",
    "        palabras = frase.split()  \n",
    "        \n",
    "        cantidad_palabras = len(palabras)\n",
    "        cantidad_caracteres = len(frase)  \n",
    "        \n",
    "       \n",
    "        cantidades_palabras.append(cantidad_palabras)\n",
    "        cantidades_caracteres.append(cantidad_caracteres)\n",
    "        \n",
    "        \n",
    "        print(f\"Frase: '{frase}' - Palabras: {cantidad_palabras}\")\n",
    "    \n",
    "    return cantidades_palabras, cantidades_caracteres\n",
    "\n",
    "\n",
    "frases = [\n",
    "    \"Python es un lenguaje de programación\",\n",
    "    \"Me gusta resolver problemas con código\",\n",
    "    \"Las listas y los bucles son muy útiles\"\n",
    "]\n",
    "\n",
    "procesar_frases(frases)\n"
   ]
  },
  {
   "cell_type": "markdown",
   "metadata": {},
   "source": [
    "## Ejercicio 2\n",
    "\n",
    "Escribe una función en Python que encuentre los valores de `a`, `b`, y `c` para que la función cuadrática `f(x) = aX^2 + bX + c` pase exactamente por los siguientes puntos:\n",
    "\n",
    "| x  | y  |\n",
    "|---:|---:|\n",
    "|  0 |  0 |\n",
    "|  1 |  8 |\n",
    "|  2 | 12 |\n",
    "|  3 | 12 |\n",
    "|  5 |  0 |\n",
    "\n",
    "### Requisitos:\n",
    "- La función debe explorar posibles valores de `a`, `b`, y `c` utilizando un método de prueba y error.\n",
    "- Debe devolver los valores que hagan que la diferencia entre la función `f(x)` y los valores medidos `y` sea exactamente cero para cada punto.\n",
    "\n",
    "> **Pista**: Los valores de `a`, `b`, y `c` son números pequeños."
   ]
  },
  {
   "cell_type": "code",
   "execution_count": null,
   "metadata": {},
   "outputs": [],
   "source": [
    "def encontrar_coeficientes():\n",
    "    \n",
    "    puntos = [(0, 0), (1, 8), (2, 12), (3, 12), (5, 0)]\n",
    "\n",
    "    \n",
    "    for a in range(-10, 11):  \n",
    "        for b in range(-10, 11):  \n",
    "            for c in range(-10, 11):  \n",
    "                es_solucion = True\n",
    "                \n",
    "                for x, y in puntos:\n",
    "                    f_x = a * x**2 + b * x + c  \n",
    "                    if f_x != y:  \n",
    "                        es_solucion = False\n",
    "                        break\n",
    "                \n",
    "                if es_solucion:\n",
    "                    \n",
    "                    return a, b, c\n",
    "\n",
    "\n",
    "a, b, c = encontrar_coeficientes()\n",
    "print(f\"Los valores de a, b y c que hacen que la función pase por los puntos son: a={a}, b={b}, c={c}\")\n"
   ]
  }
 ],
 "metadata": {
  "language_info": {
   "name": "python"
  }
 },
 "nbformat": 4,
 "nbformat_minor": 2
}
