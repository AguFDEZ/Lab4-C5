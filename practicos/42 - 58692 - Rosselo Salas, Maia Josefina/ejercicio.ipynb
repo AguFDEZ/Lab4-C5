{
 "cells": [
  {
   "cell_type": "markdown",
   "metadata": {},
   "source": [
    "# Trabajo práctico 1\n",
    "\n"
   ]
  },
  {
   "cell_type": "markdown",
   "metadata": {},
   "source": [
    "## Ejercicio 1 \n",
    "\n",
    "Escribe una función en Python que procese una lista de cadenas de texto y realice las siguientes acciones:\n",
    "\n",
    "1. Tomar una lista de frases y convertir cada frase en una lista de palabras.\n",
    "1. Luego, debe crear una nueva lista que contenga la cantidad de palabras en cada frase.\n",
    "1. Tambien debe crear un lista que contenga la cantidad de caracteres en cada frase.\n",
    "1. Finalmente, debe imprimir cada frase original junto con la cantidad de palabras que contiene.\n",
    "Ejemplo de uso:\n",
    "```python\n",
    "    frases = [\n",
    "        \"Python es un lenguaje de programación\",\n",
    "        \"Me gusta resolver problemas con código\",\n",
    "        \"Las listas y los bucles son muy útiles\"\n",
    "    ]\n",
    "\n",
    "    procesar_frases(frases)\n",
    "```\n",
    "\n",
    "ejemplo de salida:\n",
    "```bash\n",
    "    La frase: \"Python es un...\"\n",
    "    tiene 6 palabras y 38 caracteres\n",
    "```\n"
   ]
  },
  {
   "cell_type": "code",
   "execution_count": 10,
   "metadata": {},
   "outputs": [
    {
     "name": "stdout",
     "output_type": "stream",
     "text": [
      "La frase: \"El hockey no es solo un juego, es una forma de vida.\"\n",
      "tiene 12 palabras y 52 caracteres\n",
      "\n",
      "La frase: \"El equipo más fuerte no siempre gana, sino el que juega con más corazón.\"\n",
      "tiene 14 palabras y 72 caracteres\n",
      "\n",
      "La frase: \"En el hockey, cada segundo cuenta.\"\n",
      "tiene 6 palabras y 34 caracteres\n",
      "\n"
     ]
    }
   ],
   "source": [
    "def procesar_frases(frases):\n",
    "    cant_palabras = []\n",
    "    cant_caracteres = []\n",
    "\n",
    "    for frase in frases:\n",
    "        palabras = frase.split()\n",
    "        cant_palabras.append(len(palabras))\n",
    "        cant_caracteres.append(len(frase))\n",
    "\n",
    "        print(f\"La frase: \\\"{frase}\\\"\")\n",
    "        print(f\"tiene {len(palabras)} palabras y {len(frase)} caracteres\\n\")\n",
    "\n",
    "frases = [\n",
    "    \"El hockey no es solo un juego, es una forma de vida.\",\n",
    "    \"El equipo más fuerte no siempre gana, sino el que juega con más corazón.\",\n",
    "    \"En el hockey, cada segundo cuenta.\"\n",
    "]\n",
    "\n",
    "procesar_frases(frases)"
   ]
  },
  {
   "cell_type": "markdown",
   "metadata": {},
   "source": [
    "## Ejercicio 2\n",
    "\n",
    "Escribe una función en Python que encuentre los valores de `a`, `b`, y `c` para que la función cuadrática `f(x) = aX^2 + bX + c` pase exactamente por los siguientes puntos:\n",
    "\n",
    "| x  | y  |\n",
    "|---:|---:|\n",
    "|  0 |  0 |\n",
    "|  1 |  8 |\n",
    "|  2 | 12 |\n",
    "|  3 | 12 |\n",
    "|  5 |  0 |\n",
    "\n",
    "### Requisitos:\n",
    "- La función debe explorar posibles valores de `a`, `b`, y `c` utilizando un método de prueba y error.\n",
    "- Debe devolver los valores que hagan que la diferencia entre la función `f(x)` y los valores medidos `y` sea exactamente cero para cada punto.\n",
    "\n",
    "> **Pista**: Los valores de `a`, `b`, y `c` son números pequeños."
   ]
  },
  {
   "cell_type": "code",
   "execution_count": 8,
   "metadata": {},
   "outputs": [
    {
     "name": "stdout",
     "output_type": "stream",
     "text": [
      "Valores encontrados: a=-2, b=10, c=0\n"
     ]
    },
    {
     "data": {
      "text/plain": [
       "(-2, 10, 0)"
      ]
     },
     "execution_count": 8,
     "metadata": {},
     "output_type": "execute_result"
    }
   ],
   "source": [
    "def hallar_valores():\n",
    "    puntos = [(0,0), (1,8),(2,12),(3,12),(5,0)]\n",
    "\n",
    "    def f(x, a, b, c):\n",
    "        return a * x**2 + b * x + c\n",
    "\n",
    "    for a in range (-10, 11):\n",
    "        for b in range (-10,11):\n",
    "            for c in range (-10,11):\n",
    "                valor_valido = True\n",
    "\n",
    "                for x, y in puntos:\n",
    "                    if f(x, a, b, c) != y:\n",
    "                        valor_valido = False\n",
    "                        break\n",
    "                if valor_valido:\n",
    "                    print(f\"Valores encontrados: a={a}, b={b}, c={c}\")\n",
    "                    return a,b,c\n",
    "    print (\"No se encontraron valores que cumplan con las condiciones\")\n",
    "    return None\n",
    "\n",
    "hallar_valores()"
   ]
  },
  {
   "cell_type": "code",
   "execution_count": null,
   "metadata": {},
   "outputs": [],
   "source": []
  }
 ],
 "metadata": {
  "kernelspec": {
   "display_name": "Python 3 (ipykernel)",
   "language": "python",
   "name": "python3"
  },
  "language_info": {
   "codemirror_mode": {
    "name": "ipython",
    "version": 3
   },
   "file_extension": ".py",
   "mimetype": "text/x-python",
   "name": "python",
   "nbconvert_exporter": "python",
   "pygments_lexer": "ipython3",
   "version": "3.12.5"
  }
 },
 "nbformat": 4,
 "nbformat_minor": 4
}
