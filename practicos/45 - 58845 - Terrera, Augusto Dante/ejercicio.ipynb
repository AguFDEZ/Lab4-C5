{
 "cells": [
  {
   "cell_type": "markdown",
   "metadata": {},
   "source": [
    "# Trabajo práctico 1\n",
    "\n"
   ]
  },
  {
   "cell_type": "markdown",
   "metadata": {},
   "source": [
    "## Ejercicio 1 \n",
    "\n",
    "Escribe una función en Python que procese una lista de cadenas de texto y realice las siguientes acciones:\n",
    "\n",
    "1. Tomar una lista de frases y convertir cada frase en una lista de palabras.\n",
    "1. Luego, debe crear una nueva lista que contenga la cantidad de palabras en cada frase.\n",
    "1. Tambien debe crear un lista que contenga la cantidad de caracteres en cada frase.\n",
    "1. Finalmente, debe imprimir cada frase original junto con la cantidad de palabras que contiene.\n",
    "Ejemplo de uso:\n",
    "```python\n",
    "    frases = [\n",
    "        \"Python es un lenguaje de programación\",\n",
    "        \"Me gusta resolver problemas con código\",\n",
    "        \"Las listas y los bucles son muy útiles\"\n",
    "    ]\n",
    "\n",
    "    procesar_frases(frases)\n",
    "```\n",
    "\n",
    "ejemplo de salida:\n",
    "```bash\n",
    "    La frase: \"Python es un...\"\n",
    "    tiene 6 palabras y 38 caracteres\n",
    "```\n"
   ]
  },
  {
   "cell_type": "code",
   "execution_count": 20,
   "metadata": {},
   "outputs": [
    {
     "name": "stdout",
     "output_type": "stream",
     "text": [
      "Frase: 'Hola mundo' tiene 2 palabras y 10 caracteres\n",
      "Frase: 'Python es un lenguaje de programación increíble' tiene 7 palabras y 47 caracteres\n",
      "Frase: 'Me encanta aprender nuevas cosas' tiene 5 palabras y 32 caracteres\n"
     ]
    }
   ],
   "source": [
    "# Implementar\n",
    "lista_de_frases = [\n",
    "    \"Hola mundo\",\n",
    "    \"Python es un lenguaje de programación increíble\",\n",
    "    \"Me encanta aprender nuevas cosas\"\n",
    "]\n",
    "\n",
    "def procesar_frases(frases):\n",
    "    palabras = [frase.split() for frase in frases]\n",
    "    cantidad_palabras = [len(palabras) for palabras in palabras]\n",
    "    cantidad_caracteres = [len(frase) for frase in frases]\n",
    "    \n",
    "    for i, frase in enumerate(frases):\n",
    "        print(f\"Frase: '{frase}' tiene {cantidad_palabras[i]} palabras y {cantidad_caracteres[i]} caracteres\")\n",
    "    \n",
    "procesar_frases(lista_de_frases)\n"
   ]
  },
  {
   "cell_type": "markdown",
   "metadata": {},
   "source": [
    "## Ejercicio 2\n",
    "\n",
    "Escribe una función en Python que encuentre los valores de `a`, `b`, y `c` para que la función cuadrática `f(x) = aX^2 + bX + c` pase exactamente por los siguientes puntos:\n",
    "\n",
    "| x  | y  |\n",
    "|---:|---:|\n",
    "|  0 |  0 |\n",
    "|  1 |  8 |\n",
    "|  2 | 12 |\n",
    "|  3 | 12 |\n",
    "|  5 |  0 |\n",
    "\n",
    "### Requisitos:\n",
    "- La función debe explorar posibles valores de `a`, `b`, y `c` utilizando un método de prueba y error.\n",
    "- Debe devolver los valores que hagan que la diferencia entre la función `f(x)` y los valores medidos `y` sea exactamente cero para cada punto.\n",
    "\n",
    "> **Pista**: Los valores de `a`, `b`, y `c` son números pequeños."
   ]
  },
  {
   "cell_type": "code",
   "execution_count": 22,
   "metadata": {},
   "outputs": [
    {
     "name": "stdout",
     "output_type": "stream",
     "text": [
      "Los valores son: a = -2, b = 10, c = 0\n"
     ]
    }
   ],
   "source": [
    "# Implementar\n",
    "def encontrar_coeficientes():\n",
    "    for a in range(-10, 11):\n",
    "        for b in range(-10, 11):\n",
    "            for c in range(-10, 11):\n",
    "                if (a*(0**2) + b*0 + c == 0 and  \n",
    "                    a*(1**2) + b*1 + c == 8 and  \n",
    "                    a*(2**2) + b*2 + c == 12 and \n",
    "                    a*(3**2) + b*3 + c == 12 and \n",
    "                    a*(5**2) + b*5 + c == 0):   \n",
    "                    return a, b, c\n",
    "    return None\n",
    "\n",
    "resultado = encontrar_coeficientes()\n",
    "\n",
    "if resultado:\n",
    "    a, b, c = resultado\n",
    "    print(f\"Los valores son: a = {a}, b = {b}, c = {c}\")\n",
    "else:\n",
    "    print(\"No se encontraron valores que cumplan con los puntos dados.\")"
   ]
  }
 ],
 "metadata": {
  "kernelspec": {
   "display_name": "Python 3",
   "language": "python",
   "name": "python3"
  },
  "language_info": {
   "codemirror_mode": {
    "name": "ipython",
    "version": 3
   },
   "file_extension": ".py",
   "mimetype": "text/x-python",
   "name": "python",
   "nbconvert_exporter": "python",
   "pygments_lexer": "ipython3",
   "version": "3.12.5"
  }
 },
 "nbformat": 4,
 "nbformat_minor": 2
}
