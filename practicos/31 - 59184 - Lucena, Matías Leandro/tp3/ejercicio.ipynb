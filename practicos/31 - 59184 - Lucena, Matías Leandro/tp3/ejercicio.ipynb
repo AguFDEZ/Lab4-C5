{
 "cells": [
  {
   "cell_type": "markdown",
   "metadata": {},
   "source": [
    "#TP3"
   ]
  },
  {
   "cell_type": "markdown",
   "metadata": {},
   "source": [
    "## Ejercicio 1: Cargar Datos de ventas.\n",
    "\n",
    "El archivo datos.dat contiene el registro de las ventas realizadas.\n",
    "\n",
    "Tiene un formato de ancho fijo:\n",
    "- fecha:    10 lugares\n",
    "- producto: 30 lugares\n",
    "- precio:   10 lugares\n",
    "- cantidad:  5 lugares\n",
    "\n",
    "hacer una funcion que carge los en una lista de diccionarios. \n",
    "\n",
    "nota: con \n",
    "```python\n",
    "lineas = open(\"datos.dat\", \"r\").readlines() \n",
    "```\n",
    "puede obtener la lista de string de todos los datos "
   ]
  },
  {
   "cell_type": "code",
   "execution_count": 9,
   "metadata": {},
   "outputs": [
    {
     "name": "stdout",
     "output_type": "stream",
     "text": [
      "{'fecha': '2024-08-27', 'producto': 'Mirinda', 'precio': 1510, 'cantidad': 14}\n",
      "{'fecha': '2024-08-27', 'producto': 'Mirinda', 'precio': 1560, 'cantidad': 12}\n",
      "{'fecha': '2024-08-28', 'producto': 'Torasso', 'precio': 940, 'cantidad': 8}\n",
      "{'fecha': '2024-08-29', 'producto': 'Pepsi Cola', 'precio': 1210, 'cantidad': 10}\n",
      "{'fecha': '2024-08-30', 'producto': 'Mirinda', 'precio': 1520, 'cantidad': 1}\n",
      "{'fecha': '2024-09-01', 'producto': 'Mirinda', 'precio': 1550, 'cantidad': 15}\n",
      "{'fecha': '2024-09-01', 'producto': 'Sprite', 'precio': 810, 'cantidad': 4}\n",
      "{'fecha': '2024-09-02', 'producto': 'Coca Cola', 'precio': 1100, 'cantidad': 4}\n",
      "{'fecha': '2024-09-02', 'producto': 'Pepsi Cola', 'precio': 1220, 'cantidad': 13}\n",
      "{'fecha': '2024-09-02', 'producto': 'Torasso', 'precio': 910, 'cantidad': 5}\n",
      "{'fecha': '2024-09-02', 'producto': 'Torasso', 'precio': 920, 'cantidad': 3}\n",
      "{'fecha': '2024-09-03', 'producto': 'Coca Cola', 'precio': 1020, 'cantidad': 8}\n",
      "{'fecha': '2024-09-03', 'producto': 'Mirinda', 'precio': 1570, 'cantidad': 7}\n",
      "{'fecha': '2024-09-03', 'producto': 'Mirinda', 'precio': 1590, 'cantidad': 2}\n",
      "{'fecha': '2024-09-04', 'producto': 'Pepsi Cola', 'precio': 1220, 'cantidad': 13}\n",
      "{'fecha': '2024-09-05', 'producto': 'Mirinda', 'precio': 1500, 'cantidad': 3}\n",
      "{'fecha': '2024-09-05', 'producto': 'Pepsi Cola', 'precio': 1300, 'cantidad': 5}\n",
      "{'fecha': '2024-09-06', 'producto': 'Coca Cola', 'precio': 1080, 'cantidad': 1}\n",
      "{'fecha': '2024-09-06', 'producto': 'Sprite', 'precio': 860, 'cantidad': 12}\n",
      "{'fecha': '2024-09-06', 'producto': 'Torasso', 'precio': 930, 'cantidad': 3}\n",
      "{'fecha': '2024-09-07', 'producto': 'Coca Cola', 'precio': 1080, 'cantidad': 14}\n",
      "{'fecha': '2024-09-07', 'producto': 'Sprite', 'precio': 870, 'cantidad': 13}\n",
      "{'fecha': '2024-09-08', 'producto': 'Coca Cola', 'precio': 1040, 'cantidad': 10}\n",
      "{'fecha': '2024-09-08', 'producto': 'Mirinda', 'precio': 1580, 'cantidad': 2}\n",
      "{'fecha': '2024-09-08', 'producto': 'Pepsi Cola', 'precio': 1240, 'cantidad': 9}\n",
      "{'fecha': '2024-09-09', 'producto': 'Mirinda', 'precio': 1500, 'cantidad': 3}\n",
      "{'fecha': '2024-09-09', 'producto': 'Sprite', 'precio': 850, 'cantidad': 9}\n",
      "{'fecha': '2024-09-10', 'producto': 'Mirinda', 'precio': 1590, 'cantidad': 8}\n",
      "{'fecha': '2024-09-10', 'producto': 'Pepsi Cola', 'precio': 1250, 'cantidad': 12}\n",
      "{'fecha': '2024-09-11', 'producto': 'Sprite', 'precio': 810, 'cantidad': 6}\n",
      "{'fecha': '2024-09-11', 'producto': 'Sprite', 'precio': 820, 'cantidad': 14}\n",
      "{'fecha': '2024-09-12', 'producto': 'Coca Cola', 'precio': 1080, 'cantidad': 4}\n",
      "{'fecha': '2024-09-13', 'producto': 'Mirinda', 'precio': 1580, 'cantidad': 5}\n",
      "{'fecha': '2024-09-13', 'producto': 'Pepsi Cola', 'precio': 1250, 'cantidad': 13}\n",
      "{'fecha': '2024-09-14', 'producto': 'Coca Cola', 'precio': 1080, 'cantidad': 15}\n",
      "{'fecha': '2024-09-14', 'producto': 'Pepsi Cola', 'precio': 1270, 'cantidad': 14}\n",
      "{'fecha': '2024-09-15', 'producto': 'Coca Cola', 'precio': 1100, 'cantidad': 1}\n",
      "{'fecha': '2024-09-15', 'producto': 'Mirinda', 'precio': 1500, 'cantidad': 13}\n",
      "{'fecha': '2024-09-15', 'producto': 'Sprite', 'precio': 870, 'cantidad': 14}\n",
      "{'fecha': '2024-09-15', 'producto': 'Torasso', 'precio': 900, 'cantidad': 13}\n"
     ]
    }
   ],
   "source": [
    "def cargar_datos():\n",
    "    \n",
    "    lineas = open(\"datos.dat\", \"r\").readlines()\n",
    "\n",
    "    datos = []\n",
    "\n",
    "    for linea in lineas:\n",
    "        fecha = linea[:10].strip()\n",
    "        producto = linea[10:40].strip()\n",
    "        precio = int(linea[40:50].strip())\n",
    "        cantidad = int(linea[50:].strip())\n",
    "\n",
    "        registro = {\n",
    "            'fecha': fecha,\n",
    "            'producto': producto,\n",
    "            'precio': precio,\n",
    "            'cantidad': cantidad\n",
    "        }\n",
    "\n",
    "        datos.append(registro)\n",
    "    \n",
    "    return datos\n",
    "\n",
    "datos = cargar_datos()\n",
    "\n",
    "for d in datos:\n",
    "    print(d)\n",
    "\n"
   ]
  },
  {
   "cell_type": "markdown",
   "metadata": {},
   "source": [
    "## Ejercicio 2: Calcular el total de ventas.\n",
    "\n",
    "Hacer una funcion que sume los importes vendidos (precio * cantidad) y las cantidades"
   ]
  },
  {
   "cell_type": "code",
   "execution_count": 10,
   "metadata": {},
   "outputs": [
    {
     "name": "stdout",
     "output_type": "stream",
     "text": [
      "Las ventas fueron de $392730.00 en 335 unidades\n"
     ]
    }
   ],
   "source": [
    "def calcular_totales(datos):\n",
    "\n",
    "    total_importe = 0\n",
    "    total_cantidad = 0\n",
    "\n",
    "    \n",
    "    for registro in datos:\n",
    "        \n",
    "        total_importe += registro['precio'] * registro['cantidad']\n",
    "        total_cantidad += registro['cantidad']\n",
    "\n",
    "    return total_importe, total_cantidad\n",
    "\n",
    "importe, cantidad = calcular_totales(datos)\n",
    "print(f\"Las ventas fueron de ${importe:.2f} en {cantidad} unidades\")\n",
    "\n"
   ]
  },
  {
   "cell_type": "markdown",
   "metadata": {},
   "source": [
    "## Ejercicio 3: Listar las unidades vendidas.\n",
    "\n",
    "Listar cuantas unidades se vendieron en total para cada producto"
   ]
  },
  {
   "cell_type": "code",
   "execution_count": 12,
   "metadata": {},
   "outputs": [
    {
     "name": "stdout",
     "output_type": "stream",
     "text": [
      "Producto             Unidades Vendidas\n",
      "Mirinda              85             \n",
      "Torasso              32             \n",
      "Pepsi Cola           89             \n",
      "Sprite               72             \n",
      "Coca Cola            57             \n"
     ]
    }
   ],
   "source": [
    "\n",
    "def unidades_vendidas(datos):\n",
    "    ventas_por_producto = {}\n",
    "\n",
    "    for registro in datos:\n",
    "        producto = registro['producto']\n",
    "        cantidad = registro['cantidad']\n",
    "\n",
    "        if producto in ventas_por_producto:\n",
    "            ventas_por_producto[producto] += cantidad\n",
    "        else:\n",
    "            ventas_por_producto[producto] = cantidad\n",
    "\n",
    "    return ventas_por_producto\n",
    "\n",
    "def listar_ventas(ventas):\n",
    "\n",
    "    print(f\"{'Producto':<20} {'Unidades Vendidas':<15}\")\n",
    "\n",
    "    for producto, cantidad in ventas.items():\n",
    "        print(f\"{producto:<20} {cantidad:<15}\")\n",
    "\n",
    "ventas = unidades_vendidas(datos)\n",
    "\n",
    "listar_ventas(ventas)\n"
   ]
  },
  {
   "cell_type": "markdown",
   "metadata": {},
   "source": [
    "##  Ejercicio 4: Listar el precio promedio por producto.\n",
    "\n",
    "Hacer un listado del precio promedio por productos."
   ]
  },
  {
   "cell_type": "code",
   "execution_count": 14,
   "metadata": {},
   "outputs": [
    {
     "name": "stdout",
     "output_type": "stream",
     "text": [
      "Producto             Precio Promedio\n",
      "Mirinda              $1545.83        \n",
      "Torasso              $920.00         \n",
      "Pepsi Cola           $1245.00        \n",
      "Sprite               $841.43         \n",
      "Coca Cola            $1072.50        \n"
     ]
    }
   ],
   "source": [
    "\n",
    "def precio_promedio(datos):\n",
    "    precios = {}\n",
    "\n",
    "    for registro in datos:\n",
    "        producto = registro['producto']\n",
    "        precio = registro['precio']\n",
    "\n",
    "        if producto in precios:\n",
    "            precios[producto]['suma'] += precio\n",
    "            precios[producto]['conteo'] += 1\n",
    "        else:\n",
    "            precios[producto] = {'suma': precio, 'conteo': 1}\n",
    "\n",
    "    precios_promedio = {}\n",
    "\n",
    "    for producto, datos in precios.items():\n",
    "        precios_promedio[producto] = datos['suma'] / datos['conteo']\n",
    "\n",
    "    return precios_promedio\n",
    "\n",
    "def listar_precios(precios):\n",
    "   \n",
    "    print(f\"{'Producto':<20} {'Precio Promedio':<15}\")\n",
    "    for producto, promedio in precios.items():\n",
    "        print(f\"{producto:<20} ${promedio:<15.2f}\")\n",
    "\n",
    "precios = precio_promedio(datos)\n",
    "\n",
    "listar_precios(precios)"
   ]
  },
  {
   "cell_type": "markdown",
   "metadata": {},
   "source": [
    "### Ejercicio 5: Ranking de productos\n",
    "\n",
    "Realizar un listado de los 3 productos mas vendidos ordenados la cantidad de unidades vendidas (ordenadas de mayor a menor)\n"
   ]
  },
  {
   "cell_type": "code",
   "execution_count": 16,
   "metadata": {},
   "outputs": [
    {
     "name": "stdout",
     "output_type": "stream",
     "text": [
      "Producto             Unidades Vendidas\n",
      "Pepsi Cola           89             \n",
      "Mirinda              85             \n",
      "Sprite               72             \n"
     ]
    }
   ],
   "source": [
    "\n",
    "def ranking_productos(datos, top=3):\n",
    "\n",
    "    ventas_por_producto = {}\n",
    "\n",
    "    for registro in datos:\n",
    "        producto = registro['producto']\n",
    "        cantidad = registro['cantidad']\n",
    "\n",
    "        if producto in ventas_por_producto:\n",
    "            ventas_por_producto[producto] += cantidad\n",
    "        else:\n",
    "            ventas_por_producto[producto] = cantidad\n",
    "\n",
    "    lista_ventas = []\n",
    "    for producto, cantidad in ventas_por_producto.items():\n",
    "        lista_ventas.append((producto, cantidad))\n",
    "\n",
    "    lista_ventas.sort(key=lambda x: x[1], reverse=True)\n",
    "\n",
    "    return lista_ventas[:top]\n",
    "\n",
    "def listar_ranking(ranking):\n",
    " \n",
    "    print(f\"{'Producto':<20} {'Unidades Vendidas':<15}\")\n",
    "    \n",
    "    for producto, cantidad in ranking:\n",
    "        print(f\"{producto:<20} {cantidad:<15}\")\n",
    "\n",
    "ranking = ranking_productos(datos)\n",
    "\n",
    "listar_ranking(ranking)\n"
   ]
  },
  {
   "cell_type": "markdown",
   "metadata": {},
   "source": [
    "### Ejercicio 6: Listar las ventas por mes\n",
    "\n",
    "Realizar un listado del total de unidades vendidas por productos separada por mes."
   ]
  },
  {
   "cell_type": "code",
   "execution_count": 18,
   "metadata": {},
   "outputs": [
    {
     "name": "stdout",
     "output_type": "stream",
     "text": [
      "Mes        Producto             Unidades Vendidas\n",
      "2024-08    Mirinda              27             \n",
      "2024-08    Torasso              8              \n",
      "2024-08    Pepsi Cola           10             \n",
      "2024-09    Mirinda              58             \n",
      "2024-09    Sprite               72             \n",
      "2024-09    Coca Cola            57             \n",
      "2024-09    Pepsi Cola           79             \n",
      "2024-09    Torasso              24             \n"
     ]
    }
   ],
   "source": [
    "\n",
    "def ventas_por_mes(datos):\n",
    "    ventas_mensuales = {}\n",
    "\n",
    "    for registro in datos:\n",
    "        fecha = registro['fecha']\n",
    "        producto = registro['producto']\n",
    "        cantidad = registro['cantidad']\n",
    "\n",
    "        mes = fecha[:7]\n",
    "\n",
    "        if mes not in ventas_mensuales:\n",
    "            ventas_mensuales[mes] = {}\n",
    "\n",
    "        if producto in ventas_mensuales[mes]:\n",
    "            ventas_mensuales[mes][producto] += cantidad\n",
    "        else:\n",
    "            ventas_mensuales[mes][producto] = cantidad\n",
    "\n",
    "    return ventas_mensuales\n",
    "\n",
    "def listar_ventas_mensuales(ventas):\n",
    "\n",
    "    print(f\"{'Mes':<10} {'Producto':<20} {'Unidades Vendidas':<15}\")\n",
    "\n",
    "    for mes, productos in ventas.items():\n",
    "        for producto, cantidad in productos.items():\n",
    "            print(f\"{mes:<10} {producto:<20} {cantidad:<15}\")\n",
    "\n",
    "ventas = ventas_por_mes(datos)\n",
    "\n",
    "listar_ventas_mensuales(ventas)\n"
   ]
  },
  {
   "cell_type": "markdown",
   "metadata": {},
   "source": [
    "### Ejercicio 7: Informe general\n",
    "\n",
    "Mostrar un listado de productos ordenados alfabeticamente que contengan el precio promedio, la cantidad de unidades vendidas y el importe total vendido para cada producto"
   ]
  },
  {
   "cell_type": "code",
   "execution_count": 20,
   "metadata": {},
   "outputs": [
    {
     "name": "stdout",
     "output_type": "stream",
     "text": [
      "Producto             Precio Promedio Unidades Vendidas  Importe Total  \n",
      "Mirinda              $1545.83         85                 $131080.00      \n",
      "Torasso              $920.00          32                 $29320.00       \n",
      "Pepsi Cola           $1245.00         89                 $110510.00      \n",
      "Sprite               $841.43          72                 $61040.00       \n",
      "Coca Cola            $1072.50         57                 $60780.00       \n"
     ]
    }
   ],
   "source": [
    "def resumen_ventas(datos):\n",
    "    resumen = {}\n",
    "\n",
    "    for registro in datos:\n",
    "        producto = registro['producto']\n",
    "        precio = registro['precio']\n",
    "        cantidad = registro['cantidad']\n",
    "\n",
    "        if producto in resumen:\n",
    "            resumen[producto]['total_precio'] += precio\n",
    "            resumen[producto]['total_cantidad'] += cantidad\n",
    "            resumen[producto]['total_importe'] += precio * cantidad\n",
    "            resumen[producto]['conteo'] += 1\n",
    "        else:\n",
    "\n",
    "            resumen[producto] = {\n",
    "                'total_precio': precio,\n",
    "                'total_cantidad': cantidad,\n",
    "                'total_importe': precio * cantidad,\n",
    "                'conteo': 1\n",
    "            }\n",
    "\n",
    "    for producto in resumen:\n",
    "        resumen[producto]['precio_promedio'] = resumen[producto]['total_precio'] / resumen[producto]['conteo']\n",
    "\n",
    "    return resumen\n",
    "\n",
    "def informe_ventas(resumen):\n",
    "\n",
    "    print(f\"{'Producto':<20} {'Precio Promedio':<15} {'Unidades Vendidas':<18} {'Importe Total':<15}\")\n",
    "\n",
    "\n",
    "    for producto in resumen:\n",
    "        precio_promedio = resumen[producto]['precio_promedio']\n",
    "        total_cantidad = resumen[producto]['total_cantidad']\n",
    "        total_importe = resumen[producto]['total_importe']\n",
    "\n",
    "        print(f\"{producto:<20} ${precio_promedio:<15.2f} {total_cantidad:<18} ${total_importe:<15.2f}\")\n",
    "\n",
    "resumen = resumen_ventas(datos)\n",
    "\n",
    "informe_ventas(resumen)\n",
    "\n",
    "\n"
   ]
  }
 ],
 "metadata": {
  "kernelspec": {
   "display_name": "Python 3",
   "language": "python",
   "name": "python3"
  },
  "language_info": {
   "codemirror_mode": {
    "name": "ipython",
    "version": 3
   },
   "file_extension": ".py",
   "mimetype": "text/x-python",
   "name": "python",
   "nbconvert_exporter": "python",
   "pygments_lexer": "ipython3",
   "version": "3.12.5"
  }
 },
 "nbformat": 4,
 "nbformat_minor": 2
}
