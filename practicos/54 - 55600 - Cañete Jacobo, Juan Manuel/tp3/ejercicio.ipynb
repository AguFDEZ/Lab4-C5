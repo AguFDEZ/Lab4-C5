{
 "cells": [
  {
   "cell_type": "markdown",
   "metadata": {},
   "source": [
    "#TP3"
   ]
  },
  {
   "cell_type": "markdown",
   "metadata": {},
   "source": [
    "## Ejercicio 1: Cargar Datos de ventas.\n",
    "\n",
    "El archivo datos.dat contiene el registro de las ventas realizadas.\n",
    "\n",
    "Tiene un formato de ancho fijo:\n",
    "- fecha:    10 lugares\n",
    "- producto: 30 lugares\n",
    "- precio:   10 lugares\n",
    "- cantidad:  5 lugares\n",
    "\n",
    "hacer una funcion que carge los en una lista de diccionarios. \n",
    "\n",
    "nota: con \n",
    "```python\n",
    "lineas = open(\"datos.dat\", \"r\").readlines() \n",
    "```\n",
    "puede obtener la lista de string de todos los datos "
   ]
  },
  {
   "cell_type": "code",
   "execution_count": null,
   "metadata": {},
   "outputs": [],
   "source": [
    "def cargar_datos():\n",
    "   datos = []\n",
    "   with open(\"datos.dat\", \"r\") as file:\n",
    "        lineas = file.readlines()\n",
    "        for linea in lineas:            \n",
    "            fecha = linea[:10].strip()\n",
    "            producto = linea[10:40].strip()\n",
    "            precio = int(linea[40:50].strip())\n",
    "            cantidad = int(linea[50:].strip())                       \n",
    "            datos.append({\n",
    "                'fecha': fecha,\n",
    "                'producto': producto,\n",
    "                'precio': precio,\n",
    "                'cantidad': cantidad\n",
    "            })\n",
    "   return datos\n",
    "datos = cargar_datos()"
   ]
  },
  {
   "cell_type": "markdown",
   "metadata": {},
   "source": [
    "## Ejercicio 2: Calcular el total de ventas.\n",
    "\n",
    "Hacer una funcion que sume los importes vendidos (precio * cantidad) y las cantidades"
   ]
  },
  {
   "cell_type": "code",
   "execution_count": null,
   "metadata": {},
   "outputs": [],
   "source": [
    "def calcular_totales(datos):\n",
    "    pass # implementar\n",
    "    total_importe = 0\n",
    "    total_cantidad = 0\n",
    "    for venta in datos:\n",
    "        total_importe += venta ['precio'] * venta ['cantidad']\n",
    "        total_cantidad += venta ['cantidad']\n",
    "\n",
    "    return total_importe, total_cantidad\n",
    "\n",
    "importe, cantidad = calcular_totales(datos)\n",
    "print(f\"Las ventas fueron de ${importe:2.f} en {cantidad} unidades\")"
   ]
  },
  {
   "cell_type": "markdown",
   "metadata": {},
   "source": [
    "## Ejercicio 3: Listar las unidades vendidas.\n",
    "\n",
    "Listar cuantas unidades se vendieron en total para cada producto"
   ]
  },
  {
   "cell_type": "code",
   "execution_count": null,
   "metadata": {},
   "outputs": [],
   "source": [
    "def unidades_vendidas(datos):\n",
    "    ventas = {}\n",
    "    for venta in datos:\n",
    "        producto = venta['producto']\n",
    "        if producto in ventas:\n",
    "            ventas[producto] += venta['cantidad']\n",
    "        else:\n",
    "            ventas[producto] = venta['cantidad']\n",
    "    return ventas\n",
    "\n",
    "def listar_ventas(datos):\n",
    "    for producto, cantidad in ventas.items():\n",
    "        print(f\"{producto}: {cantidad} unidades\")\n",
    "\n",
    "ventas = unidades_vendidas(datos)\n",
    "listar_ventas(ventas)\n"
   ]
  },
  {
   "cell_type": "markdown",
   "metadata": {},
   "source": [
    "##  Ejercicio 4: Listar el precio promedio por producto.\n",
    "\n",
    "Hacer un listado del precio promedio por productos."
   ]
  },
  {
   "cell_type": "code",
   "execution_count": null,
   "metadata": {},
   "outputs": [],
   "source": [
    "def precio_promedio(datos):\n",
    "\n",
    "    precios = {}\n",
    "    cantidades = {}\n",
    "\n",
    "    for venta in datos:\n",
    "        producto = venta['producto']\n",
    "        precio = venta['precio']\n",
    "        cantidad = venta['cantidad']\n",
    "\n",
    "    if producto in precios:\n",
    "            precios[producto] += precio * cantidad\n",
    "            cantidades[producto] += cantidad\n",
    "    else:\n",
    "            precios[producto] = precio * cantidad\n",
    "            cantidades[producto] = cantidad\n",
    "\n",
    "    promedios = {producto: precios[producto] / cantidades[producto] for producto in precios}\n",
    "    \n",
    "    return promedios\n",
    "\n",
    "\n",
    "def listar_precios(promedios):\n",
    "    for producto, promedio in promedios.items():\n",
    "        print(f\"{producto}: Precio promedio: ${promedio:.2f}\")\n",
    "\n",
    "precios = precio_promedio(datos)\n",
    "listar_precios(precios)\n"
   ]
  },
  {
   "cell_type": "markdown",
   "metadata": {},
   "source": [
    "### Ejercicio 5: Ranking de productos\n",
    "\n",
    "Realizar un listado de los 3 productos mas vendidos ordenados la cantidad de unidades vendidas (ordenadas de mayor a menor)\n"
   ]
  },
  {
   "cell_type": "code",
   "execution_count": null,
   "metadata": {},
   "outputs": [],
   "source": [
    "def ranking_productos(datos, top=3):    \n",
    "    ventas = unidades_vendidas(datos)\n",
    "    ranking = sorted(ventas.items(), key=lambda x: x[1], reverse=True)[:top]\n",
    "    return ranking\n",
    "\n",
    "def listar_ranking(ranking):\n",
    "    for producto, cantidad in ranking:\n",
    "        print(f\"{producto}: {cantidad} unidades\")\n",
    "\n",
    "ranking = ranking_productos(datos)\n",
    "listar_ranking(ranking)\n"
   ]
  },
  {
   "cell_type": "markdown",
   "metadata": {},
   "source": [
    "### Ejercicio 6: Listar las ventas por mes\n",
    "\n",
    "Realizar un listado del total de unidades vendidas por productos separada por mes."
   ]
  },
  {
   "cell_type": "code",
   "execution_count": null,
   "metadata": {},
   "outputs": [],
   "source": [
    "def ventas_por_mes(datos):\n",
    "    pass # Implementar\n",
    "    ventas_mensuales = {}\n",
    "    for venta in datos:\n",
    "        fecha = venta['fecha'][:7]\n",
    "        producto = venta['producto']\n",
    "        cantidad = venta['cantidad']\n",
    "        if fecha not in ventas_mensuales:\n",
    "            ventas_mensuales[fecha] = {}\n",
    "        if producto in ventas_mensuales[fecha]:\n",
    "            ventas_mensuales[fecha][producto] += cantidad\n",
    "        else:\n",
    "            ventas_mensuales[fecha][producto] = cantidad\n",
    "    return ventas_mensuales\n",
    "\n",
    "def listar_ventas_mensuales(ventas):\n",
    "    pass # Implementar\n",
    "    for mes, productos in ventas.items():\n",
    "        print(f\"Mes: {mes}\")\n",
    "        for producto, cantidad in productos.items():\n",
    "            print(f\"  {producto}: {cantidad} unidades\")\n",
    "\n",
    "ventas = ventas_por_mes(datos)\n",
    "listar_ventas_mensuales(ventas)"
   ]
  },
  {
   "cell_type": "markdown",
   "metadata": {},
   "source": [
    "### Ejercicio 7: Informe general\n",
    "\n",
    "Mostrar un listado de productos ordenados alfabeticamente que contengan el precio promedio, la cantidad de unidades vendidas y el importe total vendido para cada producto"
   ]
  },
  {
   "cell_type": "code",
   "execution_count": null,
   "metadata": {},
   "outputs": [],
   "source": [
    "\n",
    "def resumen_ventas(datos):\n",
    "    ventas = unidades_vendidas(datos)\n",
    "    precios = precio_promedio(datos)\n",
    "    importes = {}\n",
    "\n",
    "    for producto, cantidad in ventas.items():\n",
    "        importes[producto] = precios[producto] * cantidad\n",
    "    return sorted([(producto, precios[producto], cantidad, importes[producto])\n",
    "                   for producto, cantidad in ventas.items()])\n",
    "\n",
    "\n",
    "\n",
    "def informe_ventas(datos):\n",
    "    print(\"Producto | Precio Promedio | Unidades Vendidas | Importe Total\")\n",
    "    print(\" - - - - - - - -  - - - - - - - - - - - - - - - - - - - - - - - - \")\n",
    "    for producto, precio, cantidad, importe in resumen:\n",
    "        print(f\"{producto:20} | ${precio:.2f} | {cantidad} | ${importe:.2f}\")\n",
    "\n",
    "resumen = resumen_ventas(datos)\n",
    "informe_ventas(resumen)\n"
   ]
  }
 ],
 "metadata": {
  "kernelspec": {
   "display_name": "Python 3",
   "language": "python",
   "name": "python3"
  },
  "language_info": {
   "codemirror_mode": {
    "name": "ipython",
    "version": 3
   },
   "file_extension": ".py",
   "mimetype": "text/x-python",
   "name": "python",
   "nbconvert_exporter": "python",
   "pygments_lexer": "ipython3",
   "version": "3.12.5"
  }
 },
 "nbformat": 4,
 "nbformat_minor": 2
}
