{
 "cells": [
  {
   "cell_type": "markdown",
   "metadata": {},
   "source": [
    "# Trabajo práctico 1\n",
    "\n"
   ]
  },
  {
   "cell_type": "markdown",
   "metadata": {},
   "source": [
    "## Ejercicio 1 \n",
    "\n",
    "Escribe una función en Python que procese una lista de cadenas de texto y realice las siguientes acciones:\n",
    "\n",
    "1. La función debe tomar una lista de frases y convertir cada frase en una lista de palabras.\n",
    "1.  Luego, debe crear una nueva lista que contenga la cantidad de palabras en cada frase.\n",
    "1. Finalmente, la función debe imprimir cada frase original junto con la cantidad de palabras que contiene.\n",
    "Ejemplo de uso:\n",
    "```python\n",
    "    frases = [\n",
    "        \"Python es un lenguaje de programación\",\n",
    "        \"Me gusta resolver problemas con código\",\n",
    "        \"Las listas y los bucles son muy útiles\"\n",
    "    ]\n",
    "\n",
    "    procesar_frases(frases)\n",
    "```\n",
    "Requisitos:\n",
    "La función debe utilizar un bucle for para iterar sobre la lista de frases y contar las palabras en cada una.\n",
    "Debe crear y devolver una nueva lista con los conteos de palabras, y luego imprimir el resultado de forma clara."
   ]
  },
  {
   "cell_type": "code",
   "execution_count": null,
   "metadata": {},
   "outputs": [],
   "source": [
    "# Implementar\n",
    "def procesar_frases(frases):\n",
    "    cantidad_palabras = []\n",
    "    for frase in frases:\n",
    "        palabras = frase.split()\n",
    "        cantidad_palabras.append(len(palabras))\n",
    "        print(f\"'{frase}' tiene {len(palabras)} palabras.\")\n",
    "    return cantidad_palabras\n",
    "\n",
    "frases = [\n",
    "    \"Python es un lenguaje de programación\",\n",
    "    \"Me gusta resolver problemas con código\",\n",
    "    \"Las listas y los bucles son muy útiles\"\n",
    "]\n",
    "\n",
    "procesar_frases(frases)\n"
   ]
  },
  {
   "cell_type": "markdown",
   "metadata": {},
   "source": [
    "## Ejercicio 2\n",
    "\n",
    "Escribe una función en Python que encuentre los valores de `a`, `b`, y `c` para que la función cuadrática `f(x) = a x^2 + b x + c` pase exactamente por los siguientes puntos:\n",
    "\n",
    "| x  | y  |\n",
    "|---:|---:|\n",
    "|  0 |  0 |\n",
    "|  1 |  8 |\n",
    "|  2 | 12 |\n",
    "|  3 | 12 |\n",
    "|  5 |  0 |\n",
    "\n",
    "### Requisitos:\n",
    "- La función debe explorar posibles valores de `a`, `b`, y `c` utilizando un método de prueba y error.\n",
    "- Debe devolver los valores que hagan que la diferencia entre la función `f(x)` y los valores medidos `y` sea exactamente cero para cada punto.\n",
    "\n",
    "> **Pista**: Los valores de `a`, `b`, y `c` son números pequeños."
   ]
  },
  {
   "cell_type": "code",
   "execution_count": null,
   "metadata": {},
   "outputs": [],
   "source": [
    "# Implementar\n",
    "def f(x, a, b, c):\n",
    "    return a * x**2 + b * x + c\n",
    "\n",
    "def encontrar_abc():\n",
    "    puntos = [(0, 0), (1, 8), (2, 12), (3, 12), (5, 0)]\n",
    "    \n",
    "    for a in range(-10, 11):\n",
    "        for b in range(-10, 11):\n",
    "            for c in range(-10, 11):\n",
    "                es_correcto = True\n",
    "                for x, y in puntos:\n",
    "                    if f(x, a, b, c) != y:\n",
    "                        es_correcto = False\n",
    "                        break\n",
    "                if es_correcto:\n",
    "                    print(f\"Valores encontrados: a = {a}, b = {b}, c = {c}\")\n",
    "                    return a, b, c\n",
    "\n",
    "encontrar_abc()\n"
   ]
  }
 ],
 "metadata": {
  "kernelspec": {
   "display_name": "Python 3",
   "language": "python",
   "name": "python3"
  },
  "language_info": {
   "name": "python",
   "version": "3.12.5"
  }
 },
 "nbformat": 4,
 "nbformat_minor": 2
}
