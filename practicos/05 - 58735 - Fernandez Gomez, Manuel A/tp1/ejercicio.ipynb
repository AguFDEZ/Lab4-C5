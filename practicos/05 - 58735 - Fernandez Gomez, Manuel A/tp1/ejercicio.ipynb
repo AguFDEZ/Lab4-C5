{
 "cells": [
  {
   "cell_type": "markdown",
   "metadata": {},
   "source": [
    "# Trabajo práctico 1\n",
    "\n"
   ]
  },
  {
   "cell_type": "markdown",
   "metadata": {},
   "source": [
    "## Ejercicio 1 \n",
    "\n",
    "Escribe una función en Python que procese una lista de cadenas de texto y realice las siguientes acciones:\n",
    "\n",
    "1. Tomar una lista de frases y convertir cada frase en una lista de palabras.\n",
    "1. Luego, debe crear una nueva lista que contenga la cantidad de palabras en cada frase.\n",
    "1. Tambien debe crear un lista que contenga la cantidad de caracteres en cada frase.\n",
    "1. Finalmente, debe imprimir cada frase original junto con la cantidad de palabras que contiene.\n",
    "Ejemplo de uso:\n",
    "```python\n",
    "    frases = [\n",
    "        \"Python es un lenguaje de programación\",\n",
    "        \"Me gusta resolver problemas con código\",\n",
    "        \"Las listas y los bucles son muy útiles\"\n",
    "    ]\n",
    "\n",
    "    procesar_frases(frases)\n",
    "```\n",
    "\n",
    "ejemplo de salida:\n",
    "```bash\n",
    "    La frase: \"Python es un...\"\n",
    "    tiene 6 palabras y 38 caracteres\n",
    "```\n"
   ]
  },
  {
   "cell_type": "code",
   "execution_count": 1,
   "metadata": {},
   "outputs": [
    {
     "name": "stdout",
     "output_type": "stream",
     "text": [
      "La frase: \"Alien es la mejor pelicula de sci-fi/horror\"\n",
      "\ttiene 7 palabras y 43 caracteres\n",
      "\n",
      "La frase: \"Los xenomorfos son la forma de vida perfecta\"\n",
      "\ttiene 8 palabras y 44 caracteres\n",
      "\n",
      "La frase: \"Weyland-Yutani es la tipica empresa multiplanetaria de este tipo de peliculas (podrida)\"\n",
      "\ttiene 12 palabras y 87 caracteres\n",
      "\n"
     ]
    }
   ],
   "source": [
    "def procesar_frases(frases):\n",
    "    lista_palabras = []\n",
    "    lista_cantidad_palabras = []\n",
    "    lista_cantidad_caracteres = []\n",
    "\n",
    "    for frase in frases:\n",
    "        palabras = frase.split()\n",
    "        lista_palabras.append(palabras)\n",
    "        lista_cantidad_palabras.append(len(palabras))\n",
    "        lista_cantidad_caracteres.append(len(frase))\n",
    "\n",
    "    for i, frase in enumerate(frases):\n",
    "        print(f'La frase: \"{frase}\"')\n",
    "        print(f'\\ttiene {lista_cantidad_palabras[i]} palabras y {lista_cantidad_caracteres[i]} caracteres\\n')\n",
    "\n",
    "\n",
    "frases = [\n",
    "    \"Alien es la mejor pelicula de sci-fi/horror\",\n",
    "    \"Los xenomorfos son la forma de vida perfecta\",\n",
    "    \"Weyland-Yutani es la tipica empresa multiplanetaria de este tipo de peliculas (podrida)\"\n",
    "]\n",
    "\n",
    "procesar_frases(frases)"
   ]
  },
  {
   "cell_type": "markdown",
   "metadata": {},
   "source": [
    "## Ejercicio 2\n",
    "\n",
    "Escribe una función en Python que encuentre los valores de `a`, `b`, y `c` para que la función cuadrática `f(x) = aX^2 + bX + c` pase exactamente por los siguientes puntos:\n",
    "\n",
    "| x  | y  |\n",
    "|---:|---:|\n",
    "|  0 |  0 |\n",
    "|  1 |  8 |\n",
    "|  2 | 12 |\n",
    "|  3 | 12 |\n",
    "|  5 |  0 |\n",
    "\n",
    "### Requisitos:\n",
    "- La función debe explorar posibles valores de `a`, `b`, y `c` utilizando un método de prueba y error.\n",
    "- Debe devolver los valores que hagan que la diferencia entre la función `f(x)` y los valores medidos `y` sea exactamente cero para cada punto.\n",
    "\n",
    "> **Pista**: Los valores de `a`, `b`, y `c` son números pequeños."
   ]
  },
  {
   "cell_type": "code",
   "execution_count": null,
   "metadata": {},
   "outputs": [],
   "source": [
    "def encontrar_coeficientes():\n",
    "    \n",
    "    rango = range(-13, 14)\n",
    "    puntos = [(0, 0), (1, 8), (2, 12), (3, 12), (5, 0)]\n",
    "    \n",
    "    for a in rango:\n",
    "        for b in rango:\n",
    "            for c in rango:\n",
    "                coincide = True\n",
    "                for x, y in puntos:\n",
    "                    f_x = a * x**2 + b * x + c\n",
    "                    if f_x != y:\n",
    "                        coincide = False\n",
    "                        break\n",
    "                if coincide:\n",
    "                    return a, b, c\n",
    "    \n",
    "    return None\n",
    "\n",
    "coeficientes = encontrar_coeficientes()\n",
    "if coeficientes:\n",
    "    a, b, c = coeficientes\n",
    "    print(f\"Los valores que hacen que la función pase por los puntos dados son: a = {a}, b = {b}, c = {c}\")\n",
    "else:\n",
    "    print(\"No se encontraron coeficientes que satisfagan las condiciones.\")\n",
    "\n",
    "encontrar_coeficientes()\n"
   ]
  }
 ],
 "metadata": {
  "kernelspec": {
   "display_name": "Python 3",
   "language": "python",
   "name": "python3"
  },
  "language_info": {
   "codemirror_mode": {
    "name": "ipython",
    "version": 3
   },
   "file_extension": ".py",
   "mimetype": "text/x-python",
   "name": "python",
   "nbconvert_exporter": "python",
   "pygments_lexer": "ipython3",
   "version": "3.12.5"
  }
 },
 "nbformat": 4,
 "nbformat_minor": 2
}
