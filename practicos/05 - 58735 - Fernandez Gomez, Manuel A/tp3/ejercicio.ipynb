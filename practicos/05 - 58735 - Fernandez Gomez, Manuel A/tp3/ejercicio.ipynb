{
 "cells": [
  {
   "cell_type": "markdown",
   "metadata": {},
   "source": [
    "#TP3"
   ]
  },
  {
   "cell_type": "markdown",
   "metadata": {},
   "source": [
    "## Ejercicio 1: Cargar Datos de ventas.\n",
    "\n",
    "El archivo datos.dat contiene el registro de las ventas realizadas.\n",
    "\n",
    "Tiene un formato de ancho fijo:\n",
    "- fecha:    10 lugares\n",
    "- producto: 30 lugares\n",
    "- precio:   10 lugares\n",
    "- cantidad:  5 lugares\n",
    "\n",
    "hacer una funcion que carge los en una lista de diccionarios. \n",
    "\n",
    "nota: con \n",
    "```python\n",
    "lineas = open(\"datos.dat\", \"r\").readlines() \n",
    "```\n",
    "puede obtener la lista de string de todos los datos "
   ]
  },
  {
   "cell_type": "code",
   "execution_count": 25,
   "metadata": {},
   "outputs": [
    {
     "name": "stdout",
     "output_type": "stream",
     "text": [
      "{'fecha': '2024-08-27', 'producto': 'Mirinda', 'precio': 1510, 'cantidad': 14}\n",
      "{'fecha': '2024-08-27', 'producto': 'Mirinda', 'precio': 1560, 'cantidad': 12}\n",
      "{'fecha': '2024-08-28', 'producto': 'Torasso', 'precio': 940, 'cantidad': 8}\n",
      "{'fecha': '2024-08-29', 'producto': 'Pepsi Cola', 'precio': 1210, 'cantidad': 10}\n",
      "{'fecha': '2024-08-30', 'producto': 'Mirinda', 'precio': 1520, 'cantidad': 1}\n",
      "{'fecha': '2024-09-01', 'producto': 'Mirinda', 'precio': 1550, 'cantidad': 15}\n",
      "{'fecha': '2024-09-01', 'producto': 'Sprite', 'precio': 810, 'cantidad': 4}\n",
      "{'fecha': '2024-09-02', 'producto': 'Coca Cola', 'precio': 1100, 'cantidad': 4}\n",
      "{'fecha': '2024-09-02', 'producto': 'Pepsi Cola', 'precio': 1220, 'cantidad': 13}\n",
      "{'fecha': '2024-09-02', 'producto': 'Torasso', 'precio': 910, 'cantidad': 5}\n",
      "{'fecha': '2024-09-02', 'producto': 'Torasso', 'precio': 920, 'cantidad': 3}\n",
      "{'fecha': '2024-09-03', 'producto': 'Coca Cola', 'precio': 1020, 'cantidad': 8}\n",
      "{'fecha': '2024-09-03', 'producto': 'Mirinda', 'precio': 1570, 'cantidad': 7}\n",
      "{'fecha': '2024-09-03', 'producto': 'Mirinda', 'precio': 1590, 'cantidad': 2}\n",
      "{'fecha': '2024-09-04', 'producto': 'Pepsi Cola', 'precio': 1220, 'cantidad': 13}\n",
      "{'fecha': '2024-09-05', 'producto': 'Mirinda', 'precio': 1500, 'cantidad': 3}\n",
      "{'fecha': '2024-09-05', 'producto': 'Pepsi Cola', 'precio': 1300, 'cantidad': 5}\n",
      "{'fecha': '2024-09-06', 'producto': 'Coca Cola', 'precio': 1080, 'cantidad': 1}\n",
      "{'fecha': '2024-09-06', 'producto': 'Sprite', 'precio': 860, 'cantidad': 12}\n",
      "{'fecha': '2024-09-06', 'producto': 'Torasso', 'precio': 930, 'cantidad': 3}\n",
      "{'fecha': '2024-09-07', 'producto': 'Coca Cola', 'precio': 1080, 'cantidad': 14}\n",
      "{'fecha': '2024-09-07', 'producto': 'Sprite', 'precio': 870, 'cantidad': 13}\n",
      "{'fecha': '2024-09-08', 'producto': 'Coca Cola', 'precio': 1040, 'cantidad': 10}\n",
      "{'fecha': '2024-09-08', 'producto': 'Mirinda', 'precio': 1580, 'cantidad': 2}\n",
      "{'fecha': '2024-09-08', 'producto': 'Pepsi Cola', 'precio': 1240, 'cantidad': 9}\n",
      "{'fecha': '2024-09-09', 'producto': 'Mirinda', 'precio': 1500, 'cantidad': 3}\n",
      "{'fecha': '2024-09-09', 'producto': 'Sprite', 'precio': 850, 'cantidad': 9}\n",
      "{'fecha': '2024-09-10', 'producto': 'Mirinda', 'precio': 1590, 'cantidad': 8}\n",
      "{'fecha': '2024-09-10', 'producto': 'Pepsi Cola', 'precio': 1250, 'cantidad': 12}\n",
      "{'fecha': '2024-09-11', 'producto': 'Sprite', 'precio': 810, 'cantidad': 6}\n",
      "{'fecha': '2024-09-11', 'producto': 'Sprite', 'precio': 820, 'cantidad': 14}\n",
      "{'fecha': '2024-09-12', 'producto': 'Coca Cola', 'precio': 1080, 'cantidad': 4}\n",
      "{'fecha': '2024-09-13', 'producto': 'Mirinda', 'precio': 1580, 'cantidad': 5}\n",
      "{'fecha': '2024-09-13', 'producto': 'Pepsi Cola', 'precio': 1250, 'cantidad': 13}\n",
      "{'fecha': '2024-09-14', 'producto': 'Coca Cola', 'precio': 1080, 'cantidad': 15}\n",
      "{'fecha': '2024-09-14', 'producto': 'Pepsi Cola', 'precio': 1270, 'cantidad': 14}\n",
      "{'fecha': '2024-09-15', 'producto': 'Coca Cola', 'precio': 1100, 'cantidad': 1}\n",
      "{'fecha': '2024-09-15', 'producto': 'Mirinda', 'precio': 1500, 'cantidad': 13}\n",
      "{'fecha': '2024-09-15', 'producto': 'Sprite', 'precio': 870, 'cantidad': 14}\n",
      "{'fecha': '2024-09-15', 'producto': 'Torasso', 'precio': 900, 'cantidad': 13}\n"
     ]
    }
   ],
   "source": [
    "def cargar_datos():\n",
    "    datos = []\n",
    "    \n",
    "    \n",
    "    lineas = open(\"datos.dat\", \"r\").readlines()\n",
    "\n",
    "    \n",
    "    for linea in lineas:\n",
    "        fecha = linea[:10].strip()\n",
    "        producto = linea[10:40].strip()\n",
    "        precio = int(linea[40:50].strip())  \n",
    "        cantidad = int(linea[50:].strip())          \n",
    "        registro = {\n",
    "            'fecha': fecha,\n",
    "            'producto': producto,\n",
    "            'precio': precio,\n",
    "            'cantidad': cantidad\n",
    "        }\n",
    "        \n",
    "        datos.append(registro)\n",
    "    \n",
    "    return datos\n",
    "\n",
    "\n",
    "datos = cargar_datos()\n",
    "\n",
    "for dato in datos:\n",
    "    print(dato)\n"
   ]
  },
  {
   "cell_type": "markdown",
   "metadata": {},
   "source": [
    "## Ejercicio 2: Calcular el total de ventas.\n",
    "\n",
    "Hacer una funcion que sume los importes vendidos (precio * cantidad) y las cantidades"
   ]
  },
  {
   "cell_type": "code",
   "execution_count": 24,
   "metadata": {},
   "outputs": [
    {
     "name": "stdout",
     "output_type": "stream",
     "text": [
      "Las ventas fueron de $392730.00 en 335 unidades\n"
     ]
    }
   ],
   "source": [
    "def calcular_totales(datos):\n",
    "    total_importe = 0\n",
    "    total_cantidad = 0\n",
    "\n",
    "    for registro in datos:\n",
    "        precio = registro['precio']\n",
    "        cantidad = registro['cantidad']\n",
    "\n",
    "        total_importe += precio * cantidad\n",
    "        total_cantidad += cantidad\n",
    "\n",
    "    return total_importe, total_cantidad\n",
    "\n",
    "datos = cargar_datos()\n",
    "\n",
    "importe, cantidad = calcular_totales(datos)\n",
    "\n",
    "print(f\"Las ventas fueron de ${importe:.2f} en {cantidad} unidades\")\n"
   ]
  },
  {
   "cell_type": "markdown",
   "metadata": {},
   "source": [
    "## Ejercicio 3: Listar las unidades vendidas.\n",
    "\n",
    "Listar cuantas unidades se vendieron en total para cada producto"
   ]
  },
  {
   "cell_type": "code",
   "execution_count": 23,
   "metadata": {},
   "outputs": [
    {
     "name": "stdout",
     "output_type": "stream",
     "text": [
      "Producto - Unidades Vendidas\n",
      "Mirinda - 85\n",
      "Torasso - 32\n",
      "Pepsi Cola - 89\n",
      "Sprite - 72\n",
      "Coca Cola - 57\n"
     ]
    }
   ],
   "source": [
    "def cargar_datos():\n",
    "    lineas = open(\"datos.dat\", \"r\").readlines()\n",
    "    \n",
    "    datos = []\n",
    "\n",
    "    for linea in lineas:\n",
    "        fecha = linea[0:10].strip()\n",
    "        producto = linea[10:40].strip()\n",
    "        precio = int(linea[40:50].strip())\n",
    "        cantidad = int(linea[50:55].strip())\n",
    "        \n",
    "        datos.append({\n",
    "            'fecha': fecha,\n",
    "            'producto': producto,\n",
    "            'precio': precio,\n",
    "            'cantidad': cantidad\n",
    "        })\n",
    "    \n",
    "    return datos\n",
    "\n",
    "def unidades_vendidas(datos):\n",
    "    ventas_totales = {}\n",
    "\n",
    "    for registro in datos:\n",
    "        producto = registro['producto']\n",
    "        cantidad = registro['cantidad']\n",
    "\n",
    "        if producto in ventas_totales:\n",
    "            ventas_totales[producto] += cantidad\n",
    "        else:\n",
    "            ventas_totales[producto] = cantidad  # Si no, lo inicializamos\n",
    "\n",
    "    return ventas_totales\n",
    "\n",
    "def listar_ventas(ventas):\n",
    "    print(\"Producto - Unidades Vendidas\")\n",
    "    for producto, cantidad in ventas.items():\n",
    "        print(f\"{producto} - {cantidad}\")\n",
    "\n",
    "datos = cargar_datos()\n",
    "ventas = unidades_vendidas(datos)\n",
    "listar_ventas(ventas)\n"
   ]
  },
  {
   "cell_type": "markdown",
   "metadata": {},
   "source": [
    "##  Ejercicio 4: Listar el precio promedio por producto.\n",
    "\n",
    "Hacer un listado del precio promedio por productos."
   ]
  },
  {
   "cell_type": "code",
   "execution_count": 22,
   "metadata": {},
   "outputs": [
    {
     "name": "stdout",
     "output_type": "stream",
     "text": [
      "Producto - Precio Promedio\n",
      "Mirinda - 1545.83\n",
      "Torasso - 920.00\n",
      "Pepsi Cola - 1245.00\n",
      "Sprite - 841.43\n",
      "Coca Cola - 1072.50\n"
     ]
    }
   ],
   "source": [
    "def precio_promedio(datos):\n",
    "    suma_precios = {}\n",
    "    conteo_productos = {}\n",
    "\n",
    "    for registro in datos:\n",
    "        producto = registro['producto']\n",
    "        precio = registro['precio']\n",
    "\n",
    "        if producto in suma_precios:\n",
    "            suma_precios[producto] += precio\n",
    "            conteo_productos[producto] += 1\n",
    "        else:\n",
    "            suma_precios[producto] = precio\n",
    "            conteo_productos[producto] = 1\n",
    "\n",
    "    promedio_precios = {}\n",
    "    for producto in suma_precios:\n",
    "        promedio_precios[producto] = suma_precios[producto] / conteo_productos[producto]\n",
    "\n",
    "    return promedio_precios\n",
    "\n",
    "def listar_precios(precios):\n",
    "    print(\"Producto - Precio Promedio\")\n",
    "    for producto, precio in precios.items():\n",
    "        print(f\"{producto} - {precio:.2f}\")\n",
    "\n",
    "datos = cargar_datos()  \n",
    "precios = precio_promedio(datos)\n",
    "listar_precios(precios)\n"
   ]
  },
  {
   "cell_type": "markdown",
   "metadata": {},
   "source": [
    "### Ejercicio 5: Ranking de productos\n",
    "\n",
    "Realizar un listado de los 3 productos mas vendidos ordenados la cantidad de unidades vendidas (ordenadas de mayor a menor)\n"
   ]
  },
  {
   "cell_type": "code",
   "execution_count": 20,
   "metadata": {},
   "outputs": [
    {
     "name": "stdout",
     "output_type": "stream",
     "text": [
      "Ranking de productos más vendidos:\n",
      "1. Pepsi Cola - 89 unidades\n",
      "2. Mirinda - 85 unidades\n",
      "3. Sprite - 72 unidades\n"
     ]
    }
   ],
   "source": [
    "def ranking_productos(datos, top=3):\n",
    "    ventas_totales = {}\n",
    "\n",
    "    for registro in datos:\n",
    "        producto = registro['producto']\n",
    "        cantidad = registro['cantidad']\n",
    "\n",
    "        if producto in ventas_totales:\n",
    "            ventas_totales[producto] += cantidad\n",
    "        else:\n",
    "            ventas_totales[producto] = cantidad\n",
    "\n",
    "    ranking = sorted(ventas_totales.items(), key=lambda x: x[1], reverse=True)\n",
    "\n",
    "    return ranking[:top]\n",
    "\n",
    "def listar_ranking(ranking):\n",
    "    print(\"Ranking de productos más vendidos:\")\n",
    "    for idx, (producto, cantidad) in enumerate(ranking, 1):\n",
    "        print(f\"{idx}. {producto} - {cantidad} unidades\")\n",
    "\n",
    "datos = cargar_datos()  \n",
    "ranking = ranking_productos(datos)\n",
    "listar_ranking(ranking)\n"
   ]
  },
  {
   "cell_type": "markdown",
   "metadata": {},
   "source": [
    "### Ejercicio 6: Listar las ventas por mes\n",
    "\n",
    "Realizar un listado del total de unidades vendidas por productos separada por mes."
   ]
  },
  {
   "cell_type": "code",
   "execution_count": 19,
   "metadata": {},
   "outputs": [
    {
     "name": "stdout",
     "output_type": "stream",
     "text": [
      "Ventas por producto separadas por mes:\n",
      "\n",
      "Producto: Mirinda\n",
      "  2024-08: 27 unidades\n",
      "  2024-09: 58 unidades\n",
      "\n",
      "Producto: Torasso\n",
      "  2024-08: 8 unidades\n",
      "  2024-09: 24 unidades\n",
      "\n",
      "Producto: Pepsi Cola\n",
      "  2024-08: 10 unidades\n",
      "  2024-09: 79 unidades\n",
      "\n",
      "Producto: Sprite\n",
      "  2024-09: 72 unidades\n",
      "\n",
      "Producto: Coca Cola\n",
      "  2024-09: 57 unidades\n"
     ]
    }
   ],
   "source": [
    "from collections import defaultdict\n",
    "from datetime import datetime\n",
    "\n",
    "def ventas_por_mes(datos):\n",
    "    ventas_mensuales = defaultdict(lambda: defaultdict(int))  \n",
    "    \n",
    "    for registro in datos:\n",
    "        fecha_str = registro['fecha']\n",
    "        \n",
    "        fecha = datetime.strptime(fecha_str, \"%Y-%m-%d\")\n",
    "        \n",
    "        producto = registro['producto']\n",
    "        cantidad = registro['cantidad']\n",
    "        \n",
    "        mes_año = fecha.strftime('%Y-%m')\n",
    "        \n",
    "        ventas_mensuales[producto][mes_año] += cantidad\n",
    "    \n",
    "    return ventas_mensuales\n",
    "\n",
    "def listar_ventas_mensuales(ventas):\n",
    "    print(\"Ventas por producto separadas por mes:\")\n",
    "    for producto, ventas_por_mes in ventas.items():\n",
    "        print(f\"\\nProducto: {producto}\")\n",
    "        for mes_año, total in ventas_por_mes.items():\n",
    "            print(f\"  {mes_año}: {total} unidades\")\n",
    "\n",
    "datos = cargar_datos()  \n",
    "ventas = ventas_por_mes(datos)\n",
    "listar_ventas_mensuales(ventas)\n"
   ]
  },
  {
   "cell_type": "markdown",
   "metadata": {},
   "source": [
    "### Ejercicio 7: Informe general\n",
    "\n",
    "Mostrar un listado de productos ordenados alfabeticamente que contengan el precio promedio, la cantidad de unidades vendidas y el importe total vendido para cada producto"
   ]
  },
  {
   "cell_type": "code",
   "execution_count": 18,
   "metadata": {},
   "outputs": [
    {
     "name": "stdout",
     "output_type": "stream",
     "text": [
      "Producto             Precio Promedio Unidades Vendidas    Importe Total  \n",
      "----------------------------------------------------------------------\n",
      "Coca Cola            1066.32         57                   60780.00       \n",
      "Mirinda              1542.12         85                   131080.00      \n",
      "Pepsi Cola           1241.69         89                   110510.00      \n",
      "Sprite               847.78          72                   61040.00       \n",
      "Torasso              916.25          32                   29320.00       \n"
     ]
    }
   ],
   "source": [
    "from collections import defaultdict\n",
    "\n",
    "def resumen_ventas(datos):\n",
    "    resumen = defaultdict(lambda: {'total_precio': 0, 'total_cantidad': 0, 'total_importe': 0})\n",
    "    \n",
    "    for registro in datos:\n",
    "        producto = registro['producto']\n",
    "        precio = registro['precio']\n",
    "        cantidad = registro['cantidad']\n",
    "        \n",
    "        resumen[producto]['total_precio'] += precio * cantidad\n",
    "        resumen[producto]['total_cantidad'] += cantidad\n",
    "        resumen[producto]['total_importe'] += precio * cantidad\n",
    "\n",
    "    for producto, info in resumen.items():\n",
    "        total_precio = info['total_precio']\n",
    "        total_cantidad = info['total_cantidad']\n",
    "        if total_cantidad > 0:\n",
    "            info['precio_promedio'] = total_precio / total_cantidad\n",
    "        else:\n",
    "            info['precio_promedio'] = 0\n",
    "\n",
    "    return sorted(resumen.items())\n",
    "\n",
    "def informe_ventas(resumen):\n",
    "    print(f\"{'Producto':<20} {'Precio Promedio':<15} {'Unidades Vendidas':<20} {'Importe Total':<15}\")\n",
    "    print(\"-\" * 70)\n",
    "    for producto, info in resumen:\n",
    "        precio_promedio = info['precio_promedio']\n",
    "        unidades_vendidas = info['total_cantidad']\n",
    "        importe_total = info['total_importe']\n",
    "        print(f\"{producto:<20} {precio_promedio:<15.2f} {unidades_vendidas:<20} {importe_total:<15.2f}\")\n",
    "\n",
    "datos = cargar_datos()  \n",
    "resumen = resumen_ventas(datos)\n",
    "informe_ventas(resumen)\n"
   ]
  }
 ],
 "metadata": {
  "kernelspec": {
   "display_name": "Python 3",
   "language": "python",
   "name": "python3"
  },
  "language_info": {
   "codemirror_mode": {
    "name": "ipython",
    "version": 3
   },
   "file_extension": ".py",
   "mimetype": "text/x-python",
   "name": "python",
   "nbconvert_exporter": "python",
   "pygments_lexer": "ipython3",
   "version": "3.12.5"
  }
 },
 "nbformat": 4,
 "nbformat_minor": 2
}
