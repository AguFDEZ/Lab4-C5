{
 "cells": [
  {
   "cell_type": "markdown",
   "metadata": {},
   "source": [
    "#TP3"
   ]
  },
  {
   "cell_type": "markdown",
   "metadata": {},
   "source": [
    "## Ejercicio 1: Cargar Datos de ventas.\n",
    "\n",
    "El archivo datos.dat contiene el registro de las ventas realizadas.\n",
    "\n",
    "Tiene un formato de ancho fijo:\n",
    "- fecha:    10 lugares\n",
    "- producto: 30 lugares\n",
    "- precio:   10 lugares\n",
    "- cantidad:  5 lugares\n",
    "\n",
    "hacer una funcion que carge los en una lista de diccionarios. \n",
    "\n",
    "nota: con \n",
    "```python\n",
    "lineas = open(\"datos.dat\", \"r\").readlines() \n",
    "```\n",
    "puede obtener la lista de string de todos los datos "
   ]
  },
  {
   "cell_type": "code",
   "execution_count": 35,
   "metadata": {},
   "outputs": [],
   "source": [
    "def cargar_datos():\n",
    "    lista_datos = []   \n",
    "    traer_datos=open(\"datos.dat\",\"r\").readlines()\n",
    "    for dat in traer_datos:\n",
    "        diccionario={}\n",
    "        diccionario[\"fecha\"]=dat[0:10].strip().replace(\" \",\"\")\n",
    "        diccionario[\"producto\"]=dat[10:45].strip().replace(\" \",\"\")\n",
    "        diccionario[\"precio\"]=dat[45:50].strip().replace(\" \",\"\")\n",
    "        diccionario[\"cantidad\"]=dat[50:].strip().replace(\" \",\"\")\n",
    "        lista_datos.append(diccionario)\n",
    "    return lista_datos\n",
    "        \n",
    "\n",
    "\n",
    "datos = cargar_datos()"
   ]
  },
  {
   "cell_type": "markdown",
   "metadata": {},
   "source": [
    "## Ejercicio 2: Calcular el total de ventas.\n",
    "\n",
    "Hacer una funcion que sume los importes vendidos (precio * cantidad) y las cantidades"
   ]
  },
  {
   "cell_type": "code",
   "execution_count": 5,
   "metadata": {},
   "outputs": [
    {
     "name": "stdout",
     "output_type": "stream",
     "text": [
      "Las ventas fueron de $392730 en 335 unidades\n"
     ]
    }
   ],
   "source": [
    "def calcular_totales(datos):\n",
    "    importe=0\n",
    "    cantidad=0\n",
    "    for i in datos:\n",
    "        importe+=int(i['cantidad'])*int(i['precio'])\n",
    "        cantidad+=int(i['cantidad'])\n",
    "\n",
    "    return importe,cantidad\n",
    "\n",
    "importe, cantidad = calcular_totales(datos)\n",
    "\n",
    "print(f\"Las ventas fueron de ${importe:2} en {cantidad} unidades\")"
   ]
  },
  {
   "cell_type": "markdown",
   "metadata": {},
   "source": [
    "## Ejercicio 3: Listar las unidades vendidas.\n",
    "\n",
    "Listar cuantas unidades se vendieron en total para cada producto"
   ]
  },
  {
   "cell_type": "code",
   "execution_count": 6,
   "metadata": {},
   "outputs": [
    {
     "name": "stdout",
     "output_type": "stream",
     "text": [
      "El producto Mirinda tuvo un total de 85 ventas\n",
      "El producto Torasso tuvo un total de 32 ventas\n",
      "El producto PepsiCola tuvo un total de 89 ventas\n",
      "El producto Sprite tuvo un total de 72 ventas\n",
      "El producto CocaCola tuvo un total de 57 ventas\n"
     ]
    }
   ],
   "source": [
    "def unidades_vendidas(datos):\n",
    "   producto_vendido={}\n",
    "\n",
    "   for i in datos:\n",
    "       producto=i['producto']\n",
    "       cantidad=i['cantidad']\n",
    "\n",
    "       if(producto in producto_vendido):\n",
    "           producto_vendido[producto]+=int(cantidad)\n",
    "       else:\n",
    "           producto_vendido[producto]=int(cantidad)\n",
    "           \n",
    "   return producto_vendido\n",
    "\n",
    "def listar_ventas(datos):\n",
    "    list_ventas_cantidad=[]\n",
    "    for producto,ventas in datos.items():\n",
    "     print(f\"El producto {producto} tuvo un total de {ventas} ventas\")\n",
    "\n",
    "\n",
    "ventas = unidades_vendidas(datos)\n",
    "listar_ventas(ventas)\n"
   ]
  },
  {
   "cell_type": "markdown",
   "metadata": {},
   "source": [
    "##  Ejercicio 4: Listar el precio promedio por producto.\n",
    "\n",
    "Hacer un listado del precio promedio por productos."
   ]
  },
  {
   "cell_type": "code",
   "execution_count": 58,
   "metadata": {},
   "outputs": [
    {
     "name": "stdout",
     "output_type": "stream",
     "text": [
      "El producto Mirinda tuvo un precio promedio de 1542.12\n",
      "El producto Torasso tuvo un precio promedio de 916.25\n",
      "El producto PepsiCola tuvo un precio promedio de 1241.69\n",
      "El producto Sprite tuvo un precio promedio de 847.78\n",
      "El producto CocaCola tuvo un precio promedio de 1066.32\n"
     ]
    }
   ],
   "source": [
    "def precio_promedio(datos):\n",
    "    producto_vendido_precio = {}\n",
    "    \n",
    "    for i in datos:\n",
    "        producto = i['producto']\n",
    "        precio = i['precio']\n",
    "        cantidad = i['cantidad']\n",
    "\n",
    "        if producto not in producto_vendido_precio:\n",
    "            producto_vendido_precio[producto] = {'precio_total': 0, 'cantidad_total': 0}\n",
    "\n",
    "        producto_vendido_precio[producto]['precio_total'] += int(precio) * int(cantidad)\n",
    "        producto_vendido_precio[producto]['cantidad_total'] += int(cantidad)\n",
    "    \n",
    "    precio_promedio_prod = {}\n",
    "    \n",
    "    for prod, data in producto_vendido_precio.items():\n",
    "        cantidad_total = data['cantidad_total']\n",
    "        precio_total = data['precio_total']\n",
    "\n",
    "        if cantidad_total > 0:\n",
    "            precio_promedio_prod[prod] = precio_total / cantidad_total\n",
    "        else:\n",
    "            precio_promedio_prod[prod] = 0\n",
    "\n",
    "    return precio_promedio_prod\n",
    "\n",
    "\n",
    "def listar_precios(datos):\n",
    "    for producto, precio_promedio in datos.items():\n",
    "        print(f\"El producto {producto} tuvo un precio promedio de {precio_promedio:.2f}\")\n",
    "\n",
    "\n",
    "precios = precio_promedio(datos)\n",
    "listar_precios(precios)\n"
   ]
  },
  {
   "cell_type": "markdown",
   "metadata": {},
   "source": [
    "### Ejercicio 5: Ranking de productos\n",
    "\n",
    "Realizar un listado de los 3 productos mas vendidos ordenados la cantidad de unidades vendidas (ordenadas de mayor a menor)\n"
   ]
  },
  {
   "cell_type": "code",
   "execution_count": 34,
   "metadata": {},
   "outputs": [
    {
     "name": "stdout",
     "output_type": "stream",
     "text": [
      "Top productos más vendidos:\n",
      "1. PepsiCola: 89 unidades vendidas\n",
      "2. Mirinda: 85 unidades vendidas\n",
      "3. Sprite: 72 unidades vendidas\n"
     ]
    }
   ],
   "source": [
    "def ranking_productos(datos, top=3):\n",
    "     producto_vendido_cantidad={}\n",
    "\n",
    "     \n",
    "     for i in datos:\n",
    "          producto=i['producto']\n",
    "          cantidad=i['cantidad']\n",
    "\n",
    "\n",
    "          if(producto in producto_vendido_cantidad):\n",
    "               producto_vendido_cantidad[producto]+=int(cantidad)\n",
    "          else:\n",
    "               producto_vendido_cantidad[producto]=int(cantidad)\n",
    "\n",
    "     ranking = sorted(producto_vendido_cantidad.items(), key=lambda x: x[1], reverse=True)\n",
    "\n",
    "     return ranking[:top]\n",
    "\n",
    "\n",
    "     \n",
    "def listar_ranking(ranking):\n",
    "    print(\"Top 3 productos más vendidos:\")\n",
    "    for i, (producto, cantidad) in enumerate(ranking, 1):\n",
    "        print(f\"{i}. {producto}: {cantidad} unidades vendidas\")\n",
    "\n",
    "ranking = ranking_productos(datos)\n",
    "listar_ranking(ranking)"
   ]
  },
  {
   "cell_type": "markdown",
   "metadata": {},
   "source": [
    "### Ejercicio 6: Listar las ventas por mes\n",
    "\n",
    "Realizar un listado del total de unidades vendidas por productos separada por mes."
   ]
  },
  {
   "cell_type": "code",
   "execution_count": 42,
   "metadata": {},
   "outputs": [
    {
     "name": "stdout",
     "output_type": "stream",
     "text": [
      "Listado de ventas mensuales por producto:\n",
      "\n",
      "Producto: Mirinda\n",
      "   Mes: 2024-08, Unidades vendidas: 27\n",
      "   Mes: 2024-09, Unidades vendidas: 58\n",
      "\n",
      "Producto: Torasso\n",
      "   Mes: 2024-08, Unidades vendidas: 8\n",
      "   Mes: 2024-09, Unidades vendidas: 24\n",
      "\n",
      "Producto: PepsiCola\n",
      "   Mes: 2024-08, Unidades vendidas: 10\n",
      "   Mes: 2024-09, Unidades vendidas: 79\n",
      "\n",
      "Producto: Sprite\n",
      "   Mes: 2024-09, Unidades vendidas: 72\n",
      "\n",
      "Producto: CocaCola\n",
      "   Mes: 2024-09, Unidades vendidas: 57\n"
     ]
    }
   ],
   "source": [
    "def ventas_por_mes(datos):\n",
    "    ventas_mensuales = {}\n",
    "\n",
    "    for i in datos:\n",
    "        producto = i['producto']\n",
    "        cantidad = i['cantidad']\n",
    "        fecha = i['fecha']\n",
    "\n",
    "        ano_mes = fecha[:7]  \n",
    "\n",
    "        if producto not in ventas_mensuales:\n",
    "            ventas_mensuales[producto] = {}\n",
    "\n",
    "        if ano_mes not in ventas_mensuales[producto]:\n",
    "            ventas_mensuales[producto][ano_mes] = 0\n",
    "        \n",
    "        ventas_mensuales[producto][ano_mes] += int(cantidad)\n",
    "\n",
    "    return ventas_mensuales\n",
    "\n",
    "def listar_ventas_mensuales(ventas):\n",
    "    print(\"Listado de ventas mensuales por producto:\")\n",
    "    for producto, meses in ventas.items():\n",
    "        print(f\"\\nProducto: {producto}\")\n",
    "        for mes, cantidad in meses.items():\n",
    "            print(f\"   Mes: {mes}, Unidades vendidas: {cantidad}\")\n",
    "\n",
    "ventas = ventas_por_mes(datos)\n",
    "listar_ventas_mensuales(ventas)"
   ]
  },
  {
   "cell_type": "markdown",
   "metadata": {},
   "source": [
    "### Ejercicio 7: Informe general\n",
    "\n",
    "Mostrar un listado de productos ordenados alfabeticamente que contengan el precio promedio, la cantidad de unidades vendidas y el importe total vendido para cada producto"
   ]
  },
  {
   "cell_type": "code",
   "execution_count": 53,
   "metadata": {},
   "outputs": [
    {
     "name": "stdout",
     "output_type": "stream",
     "text": [
      "Producto: CocaCola\n",
      "   Unidades vendidas: 57\n",
      "   Precio promedio: 1066.32\n",
      "   Importe total vendido: 60780\n",
      "\n",
      "Producto: Mirinda\n",
      "   Unidades vendidas: 85\n",
      "   Precio promedio: 1542.12\n",
      "   Importe total vendido: 131080\n",
      "\n",
      "Producto: PepsiCola\n",
      "   Unidades vendidas: 89\n",
      "   Precio promedio: 1241.69\n",
      "   Importe total vendido: 110510\n",
      "\n",
      "Producto: Sprite\n",
      "   Unidades vendidas: 72\n",
      "   Precio promedio: 847.78\n",
      "   Importe total vendido: 61040\n",
      "\n",
      "Producto: Torasso\n",
      "   Unidades vendidas: 32\n",
      "   Precio promedio: 916.25\n",
      "   Importe total vendido: 29320\n",
      "\n"
     ]
    }
   ],
   "source": [
    "def resumen_ventas(datos):\n",
    "    resumen = {}\n",
    "\n",
    "    for i in datos:\n",
    "        producto = i['producto']\n",
    "        precio = i['precio']\n",
    "        cantidad = i['cantidad']\n",
    "\n",
    "        if producto not in resumen:\n",
    "            resumen[producto] = {'cantidad': 0, 'importe_total': 0, 'precio_total': 0}\n",
    "\n",
    "        resumen[producto]['cantidad'] += int(cantidad)\n",
    "        resumen[producto]['importe_total'] += int(precio) * int(cantidad)\n",
    "        resumen[producto]['precio_total'] += int(precio) * int(cantidad)\n",
    "\n",
    "    for producto in resumen:\n",
    "        cantidad_vendida = resumen[producto]['cantidad']\n",
    "        if cantidad_vendida > 0:\n",
    "            resumen[producto]['precio_promedio'] = resumen[producto]['precio_total'] / cantidad_vendida\n",
    "        else:\n",
    "            resumen[producto]['precio_promedio'] = 0\n",
    "\n",
    "    return resumen\n",
    "\n",
    "        \n",
    "def informe_ventas(datos):\n",
    "   productos_ordenados = sorted(resumen.keys())\n",
    "\n",
    "   for producto in productos_ordenados:\n",
    "        cantidad = resumen[producto]['cantidad']\n",
    "        precio_promedio = resumen[producto]['precio_promedio']\n",
    "        importe_total = resumen[producto]['importe_total']\n",
    "\n",
    "        print(f\"Producto: {producto}\")\n",
    "        print(f\"   Unidades vendidas: {cantidad}\")\n",
    "        print(f\"   Precio promedio: {precio_promedio:.2f}\")\n",
    "        print(f\"   Importe total vendido: {importe_total}\\n\")\n",
    "\n",
    "resumen = resumen_ventas(datos)\n",
    "informe_ventas(resumen)\n"
   ]
  }
 ],
 "metadata": {
  "kernelspec": {
   "display_name": "Python 3",
   "language": "python",
   "name": "python3"
  },
  "language_info": {
   "codemirror_mode": {
    "name": "ipython",
    "version": 3
   },
   "file_extension": ".py",
   "mimetype": "text/x-python",
   "name": "python",
   "nbconvert_exporter": "python",
   "pygments_lexer": "ipython3",
   "version": "3.12.6"
  }
 },
 "nbformat": 4,
 "nbformat_minor": 2
}
