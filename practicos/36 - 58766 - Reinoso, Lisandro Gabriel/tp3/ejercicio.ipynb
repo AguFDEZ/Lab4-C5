{
 "cells": [
  {
   "cell_type": "markdown",
   "metadata": {},
   "source": [
    "#TP3"
   ]
  },
  {
   "cell_type": "markdown",
   "metadata": {},
   "source": [
    "## Ejercicio 1: Cargar Datos de ventas.\n",
    "\n",
    "El archivo datos.dat contiene el registro de las ventas realizadas.\n",
    "\n",
    "Tiene un formato de ancho fijo:\n",
    "- fecha:    10 lugares\n",
    "- producto: 30 lugares\n",
    "- precio:   10 lugares\n",
    "- cantidad:  5 lugares\n",
    "\n",
    "hacer una funcion que carge los en una lista de diccionarios. \n",
    "\n",
    "nota: con \n",
    "```python\n",
    "lineas = open(\"datos.dat\", \"r\").readlines() \n",
    "```\n",
    "puede obtener la lista de string de todos los datos "
   ]
  },
  {
   "cell_type": "code",
   "execution_count": 1,
   "metadata": {},
   "outputs": [
    {
     "name": "stdout",
     "output_type": "stream",
     "text": [
      "[{'Fecha': '2024-08-27', 'Producto': 'Mirinda', 'Precio': '1510', 'Cantidad': '14'}, {'Fecha': '2024-08-27', 'Producto': 'Mirinda', 'Precio': '1560', 'Cantidad': '12'}, {'Fecha': '2024-08-28', 'Producto': 'Torasso', 'Precio': '940', 'Cantidad': ' 8'}, {'Fecha': '2024-08-29', 'Producto': 'Pepsi Cola', 'Precio': '1210', 'Cantidad': '10'}, {'Fecha': '2024-08-30', 'Producto': 'Mirinda', 'Precio': '1520', 'Cantidad': ' 1'}, {'Fecha': '2024-09-01', 'Producto': 'Mirinda', 'Precio': '1550', 'Cantidad': '15'}, {'Fecha': '2024-09-01', 'Producto': 'Sprite', 'Precio': '810', 'Cantidad': ' 4'}, {'Fecha': '2024-09-02', 'Producto': 'Coca Cola', 'Precio': '1100', 'Cantidad': ' 4'}, {'Fecha': '2024-09-02', 'Producto': 'Pepsi Cola', 'Precio': '1220', 'Cantidad': '13'}, {'Fecha': '2024-09-02', 'Producto': 'Torasso', 'Precio': '910', 'Cantidad': ' 5'}, {'Fecha': '2024-09-02', 'Producto': 'Torasso', 'Precio': '920', 'Cantidad': ' 3'}, {'Fecha': '2024-09-03', 'Producto': 'Coca Cola', 'Precio': '1020', 'Cantidad': ' 8'}, {'Fecha': '2024-09-03', 'Producto': 'Mirinda', 'Precio': '1570', 'Cantidad': ' 7'}, {'Fecha': '2024-09-03', 'Producto': 'Mirinda', 'Precio': '1590', 'Cantidad': ' 2'}, {'Fecha': '2024-09-04', 'Producto': 'Pepsi Cola', 'Precio': '1220', 'Cantidad': '13'}, {'Fecha': '2024-09-05', 'Producto': 'Mirinda', 'Precio': '1500', 'Cantidad': ' 3'}, {'Fecha': '2024-09-05', 'Producto': 'Pepsi Cola', 'Precio': '1300', 'Cantidad': ' 5'}, {'Fecha': '2024-09-06', 'Producto': 'Coca Cola', 'Precio': '1080', 'Cantidad': ' 1'}, {'Fecha': '2024-09-06', 'Producto': 'Sprite', 'Precio': '860', 'Cantidad': '12'}, {'Fecha': '2024-09-06', 'Producto': 'Torasso', 'Precio': '930', 'Cantidad': ' 3'}, {'Fecha': '2024-09-07', 'Producto': 'Coca Cola', 'Precio': '1080', 'Cantidad': '14'}, {'Fecha': '2024-09-07', 'Producto': 'Sprite', 'Precio': '870', 'Cantidad': '13'}, {'Fecha': '2024-09-08', 'Producto': 'Coca Cola', 'Precio': '1040', 'Cantidad': '10'}, {'Fecha': '2024-09-08', 'Producto': 'Mirinda', 'Precio': '1580', 'Cantidad': ' 2'}, {'Fecha': '2024-09-08', 'Producto': 'Pepsi Cola', 'Precio': '1240', 'Cantidad': ' 9'}, {'Fecha': '2024-09-09', 'Producto': 'Mirinda', 'Precio': '1500', 'Cantidad': ' 3'}, {'Fecha': '2024-09-09', 'Producto': 'Sprite', 'Precio': '850', 'Cantidad': ' 9'}, {'Fecha': '2024-09-10', 'Producto': 'Mirinda', 'Precio': '1590', 'Cantidad': ' 8'}, {'Fecha': '2024-09-10', 'Producto': 'Pepsi Cola', 'Precio': '1250', 'Cantidad': '12'}, {'Fecha': '2024-09-11', 'Producto': 'Sprite', 'Precio': '810', 'Cantidad': ' 6'}, {'Fecha': '2024-09-11', 'Producto': 'Sprite', 'Precio': '820', 'Cantidad': '14'}, {'Fecha': '2024-09-12', 'Producto': 'Coca Cola', 'Precio': '1080', 'Cantidad': ' 4'}, {'Fecha': '2024-09-13', 'Producto': 'Mirinda', 'Precio': '1580', 'Cantidad': ' 5'}, {'Fecha': '2024-09-13', 'Producto': 'Pepsi Cola', 'Precio': '1250', 'Cantidad': '13'}, {'Fecha': '2024-09-14', 'Producto': 'Coca Cola', 'Precio': '1080', 'Cantidad': '15'}, {'Fecha': '2024-09-14', 'Producto': 'Pepsi Cola', 'Precio': '1270', 'Cantidad': '14'}, {'Fecha': '2024-09-15', 'Producto': 'Coca Cola', 'Precio': '1100', 'Cantidad': ' 1'}, {'Fecha': '2024-09-15', 'Producto': 'Mirinda', 'Precio': '1500', 'Cantidad': '13'}, {'Fecha': '2024-09-15', 'Producto': 'Sprite', 'Precio': '870', 'Cantidad': '14'}, {'Fecha': '2024-09-15', 'Producto': 'Torasso', 'Precio': '900', 'Cantidad': '13'}]\n"
     ]
    }
   ],
   "source": [
    "def cargar_datos():\n",
    "    lineas = open(\"datos.dat\", \"r\").readlines()\n",
    "    fechas_clave = []\n",
    "    nombre_producto = []\n",
    "    precio = []\n",
    "    cantidad = []\n",
    "    \n",
    "    for p in lineas:\n",
    "        fechas_clave.append(p[:10])\n",
    "        nombre_producto.append(p[10:31].strip(\" \"))\n",
    "        precio.append(p[32:50].strip(\" \"))\n",
    "        cantidad.append(p[53:-1])\n",
    "        \n",
    "    lista_ventas = []    \n",
    "        \n",
    "    for clave, n, p, c in zip(fechas_clave, nombre_producto,precio, cantidad):\n",
    "        lista_ventas.append({\n",
    "            \"Fecha\": clave,\n",
    "            \"Producto\": n,\n",
    "            \"Precio\": p,\n",
    "            \"Cantidad\": c\n",
    "        })\n",
    "    \n",
    "    print(lista_ventas)       \n",
    "        \n",
    "datos = cargar_datos()"
   ]
  },
  {
   "cell_type": "markdown",
   "metadata": {},
   "source": [
    "## Ejercicio 2: Calcular el total de ventas.\n",
    "\n",
    "Hacer una funcion que sume los importes vendidos (precio * cantidad) y las cantidades"
   ]
  },
  {
   "cell_type": "code",
   "execution_count": 2,
   "metadata": {},
   "outputs": [
    {
     "name": "stdout",
     "output_type": "stream",
     "text": [
      "Las ventas fueron de $392730.00 en 335 unidades\n"
     ]
    }
   ],
   "source": [
    "datos = open(\"datos.dat\", \"r\").readlines()\n",
    "\n",
    "def calcular_totales(datos):\n",
    "    importe_total = 0\n",
    "    cantidad_total = 0\n",
    "    for d in datos:\n",
    "        precio = int(d[45:50])\n",
    "        cantidades = int(d[53: -1])\n",
    "        cantidad_total += cantidades \n",
    "        importe_total += precio * cantidades\n",
    "    \n",
    "    return importe_total, cantidad_total\n",
    "        \n",
    "      \n",
    "importe, cantidad = calcular_totales(datos)\n",
    "\n",
    "print(f\"Las ventas fueron de ${importe:.2f} en {cantidad} unidades\")"
   ]
  },
  {
   "cell_type": "markdown",
   "metadata": {},
   "source": [
    "## Ejercicio 3: Listar las unidades vendidas.\n",
    "\n",
    "Listar cuantas unidades se vendieron en total para cada producto"
   ]
  },
  {
   "cell_type": "code",
   "execution_count": 3,
   "metadata": {},
   "outputs": [
    {
     "name": "stdout",
     "output_type": "stream",
     "text": [
      "Del producto Mirinda se vendio 85 cantidades\n",
      "Del producto Torasso se vendio 32 cantidades\n",
      "Del producto Pepsi Cola se vendio 89 cantidades\n",
      "Del producto Sprite se vendio 72 cantidades\n",
      "Del producto Coca Cola se vendio 57 cantidades\n"
     ]
    }
   ],
   "source": [
    "datos = open(\"datos.dat\", \"r\").readlines()\n",
    "\n",
    "def unidades_vendidas(datos):\n",
    "    cantidad_mirinda = 0\n",
    "    cantidad_torasso = 0\n",
    "    cantidad_pepsi_cola = 0\n",
    "    cantidad_sprite = 0\n",
    "    cantidad_coca_cola = 0\n",
    "    \n",
    "    for d in datos:\n",
    "        producto_cantidad = d[10:]\n",
    "        \n",
    "        if \"Mirinda\" in producto_cantidad:\n",
    "            cantidad_mirinda += int(d[50: -1])\n",
    "            \n",
    "        elif \"Torasso\" in producto_cantidad:\n",
    "            cantidad_torasso += int(d[50: -1])\n",
    "                 \n",
    "        elif \"Pepsi Cola\" in producto_cantidad:\n",
    "            cantidad_pepsi_cola += int(d[50: -1])\n",
    "        \n",
    "        elif \"Sprite\" in producto_cantidad:\n",
    "            cantidad_sprite += int(d[50: -1]) \n",
    "            \n",
    "        elif \"Coca Cola\" in producto_cantidad:\n",
    "            cantidad_coca_cola += int(d[50: -1])\n",
    "                     \n",
    "    return {\"Mirinda\": cantidad_mirinda, \"Torasso\": cantidad_torasso, \n",
    "            \"Pepsi Cola\":cantidad_pepsi_cola, \"Sprite\": cantidad_sprite,\n",
    "            \"Coca Cola\": cantidad_coca_cola}\n",
    "\n",
    "def listar_ventas(datos):\n",
    "    for l, v in datos.items():\n",
    "        print(f\"Del producto {l} se vendio {v} cantidades\")\n",
    "        \n",
    "         \n",
    "\n",
    "ventas = unidades_vendidas(datos)\n",
    "listar_ventas(ventas)\n"
   ]
  },
  {
   "cell_type": "markdown",
   "metadata": {},
   "source": [
    "##  Ejercicio 4: Listar el precio promedio por producto.\n",
    "\n",
    "Hacer un listado del precio promedio por productos."
   ]
  },
  {
   "cell_type": "code",
   "execution_count": 4,
   "metadata": {},
   "outputs": [
    {
     "name": "stdout",
     "output_type": "stream",
     "text": [
      "El precio promedio de Mirinda es de 1545.83\n",
      "El precio promedio de Torasso es de 920.00\n",
      "El precio promedio de Pepsi Cola es de 1245.00\n",
      "El precio promedio de Sprite es de 841.43\n",
      "El precio promedio de Coca Cola es de 1072.50\n"
     ]
    }
   ],
   "source": [
    "datos = open(\"datos.dat\",\"r\").readlines()\n",
    "\n",
    "def precio_promedio(datos):\n",
    "    cantidad_precios_mirinda = []\n",
    "    suma_precios_mirinda = 0\n",
    "    cantidad_precios_torasso = []\n",
    "    suma_precios_torasso = 0\n",
    "    cantidad_precios_pepsi_cola = []\n",
    "    suma_precios_pepsi_cola = 0\n",
    "    cantidad_precios_sprite = []\n",
    "    suma_precios_sprite = 0\n",
    "    cantidad_precios_coca_cola = []\n",
    "    suma_precios_coca_cola = 0\n",
    "    \n",
    "    precios_promedio_por_productos = {\n",
    "        \"Mirinda\": 0,\n",
    "        \"Torasso\": 0,\n",
    "        \"Pepsi Cola\": 0,\n",
    "        \"Sprite\":0,\n",
    "        \"Coca Cola\":0\n",
    "    }\n",
    "    \n",
    "    for p in datos:\n",
    "        lista_sin_fechas = p[10:]\n",
    "        \n",
    "        if \"Mirinda\" in lista_sin_fechas:\n",
    "            cantidad_precios_mirinda.append(p[45:50])\n",
    "            suma_precios_mirinda += int(p[45:50])\n",
    "            promedio_mirinda = suma_precios_mirinda / len(cantidad_precios_mirinda)\n",
    "            precios_promedio_por_productos[\"Mirinda\"] = promedio_mirinda\n",
    "        \n",
    "        elif \"Torasso\" in lista_sin_fechas:\n",
    "            cantidad_precios_torasso.append(p[45:50])\n",
    "            suma_precios_torasso += int(p[45:50])\n",
    "            promedio_torasso = suma_precios_torasso / len(cantidad_precios_torasso)\n",
    "            precios_promedio_por_productos[\"Torasso\"] = promedio_torasso\n",
    "            \n",
    "        elif \"Pepsi Cola\" in lista_sin_fechas:\n",
    "            cantidad_precios_pepsi_cola.append(p[45:50])\n",
    "            suma_precios_pepsi_cola += int(p[45:50])\n",
    "            promedio_pepsi_cola = suma_precios_pepsi_cola / len(cantidad_precios_pepsi_cola)\n",
    "            precios_promedio_por_productos[\"Pepsi Cola\"] = promedio_pepsi_cola\n",
    "            \n",
    "        elif \"Sprite\" in lista_sin_fechas:\n",
    "            cantidad_precios_sprite.append(p[45:50])\n",
    "            suma_precios_sprite += int(p[45:50])\n",
    "            promedio_sprite = suma_precios_sprite / len(cantidad_precios_sprite)\n",
    "            precios_promedio_por_productos[\"Sprite\"] = promedio_sprite\n",
    "        \n",
    "        elif \"Coca Cola\" in lista_sin_fechas:\n",
    "            cantidad_precios_coca_cola.append(p[45:50])\n",
    "            suma_precios_coca_cola += int(p[45:50])\n",
    "            promedio_coca_cola = suma_precios_coca_cola / len(cantidad_precios_coca_cola)\n",
    "            precios_promedio_por_productos[\"Coca Cola\"] = promedio_coca_cola\n",
    "        \n",
    "    return precios_promedio_por_productos   \n",
    " \n",
    "          \n",
    "\n",
    "def listar_precios(datos):\n",
    "    for c, v in datos.items():\n",
    "        print(f\"El precio promedio de {c} es de {v:.2f}\")\n",
    "        \n",
    "\n",
    "precios = precio_promedio(datos)\n",
    "listar_precios(precios)"
   ]
  },
  {
   "cell_type": "markdown",
   "metadata": {},
   "source": [
    "### Ejercicio 5: Ranking de productos\n",
    "\n",
    "Realizar un listado de los 3 productos mas vendidos ordenados la cantidad de unidades vendidas (ordenadas de mayor a menor)\n"
   ]
  },
  {
   "cell_type": "code",
   "execution_count": 5,
   "metadata": {},
   "outputs": [
    {
     "name": "stdout",
     "output_type": "stream",
     "text": [
      "Ranking de productos mas vendidos son: \n",
      "\n",
      "Pepsi Cola con 89 unidades vendidas\n",
      "Mirinda con 85 unidades vendidas\n",
      "Sprite con 72 unidades vendidas\n"
     ]
    }
   ],
   "source": [
    "datos = open(\"datos.dat\", \"r\").readlines()\n",
    "\n",
    "def ranking_productos(datos, top=3):\n",
    "    total_mirinda = 0\n",
    "    total_torasso = 0\n",
    "    total_pepsi_cola= 0\n",
    "    total_sprite = 0\n",
    "    total_coca_cola = 0\n",
    "    r = {}\n",
    "\n",
    "    for c in datos:\n",
    "        lista_sin_fechas = c[10:]\n",
    "        \n",
    "        if \"Mirinda\" in lista_sin_fechas:\n",
    "            total_mirinda += int(c[50:-1])\n",
    "            r[\"Mirinda\"] = total_mirinda\n",
    "            \n",
    "        elif \"Torasso\" in lista_sin_fechas:\n",
    "            total_torasso += int(c[50:-1])\n",
    "            r[\"Torasso\"] = total_torasso\n",
    "            \n",
    "        elif \"Pepsi Cola\" in lista_sin_fechas:\n",
    "            total_pepsi_cola += int(c[50:-1])\n",
    "            r[\"Pepsi Cola\"] = total_pepsi_cola\n",
    "            \n",
    "        elif \"Sprite\" in lista_sin_fechas:\n",
    "            total_sprite += int(c[50:-1])\n",
    "            r[\"Sprite\"] = total_sprite\n",
    "            \n",
    "        elif \"Coca Cola\" in lista_sin_fechas:\n",
    "            total_coca_cola += int(c[50:-1])\n",
    "            r[\"Coca Cola\"] = total_coca_cola  \n",
    "    \n",
    "    ranking_top = dict(sorted(r.items(), key= lambda x: x[1], reverse=True)[:top])\n",
    "    return ranking_top\n",
    "    \n",
    "\n",
    "def listar_ranking(ranking):\n",
    "    print(\"Ranking de productos mas vendidos son: \\n\")\n",
    "    for c, v in ranking.items():\n",
    "        print(f\"{c} con {v} unidades vendidas\")\n",
    "    \n",
    "\n",
    "ranking = ranking_productos(datos)\n",
    "listar_ranking(ranking)"
   ]
  },
  {
   "cell_type": "markdown",
   "metadata": {},
   "source": [
    "### Ejercicio 6: Listar las ventas por mes\n",
    "\n",
    "Realizar un listado del total de unidades vendidas por productos separada por mes."
   ]
  },
  {
   "cell_type": "code",
   "execution_count": 6,
   "metadata": {},
   "outputs": [
    {
     "name": "stdout",
     "output_type": "stream",
     "text": [
      "En el mes del 2024-08 se vendieron\n",
      " \n",
      "Mirinda: 27\n",
      "Torasso: 8\n",
      "Pepsi Cola: 10\n",
      "Sprite: 0\n",
      "Coca Cola: 0\n",
      "\n",
      "En el mes del 2024-09 se vendieron\n",
      " \n",
      "Mirinda: 58\n",
      "Torasso: 24\n",
      "Pepsi Cola: 79\n",
      "Sprite: 72\n",
      "Coca Cola: 57\n",
      "\n"
     ]
    }
   ],
   "source": [
    "datos = open(\"datos.dat\", \"r\").readlines()\n",
    "\n",
    "def ventas_por_mes(datos):\n",
    "    ventas = {\n",
    "        \"2024-08\": {\n",
    "            \"Mirinda\": 0,\n",
    "            \"Torasso\": 0,\n",
    "            \"Pepsi Cola\": 0,\n",
    "            \"Sprite\": 0,\n",
    "            \"Coca Cola\": 0\n",
    "        },\n",
    "        \"2024-09\": {\n",
    "            \"Mirinda\": 0,\n",
    "            \"Torasso\": 0,\n",
    "            \"Pepsi Cola\": 0,\n",
    "            \"Sprite\": 0,\n",
    "            \"Coca Cola\": 0\n",
    "        }\n",
    "    }\n",
    "\n",
    "    for f in datos:\n",
    "        meses = f[:7]\n",
    "        productos = f[10:]\n",
    "\n",
    "        if meses in ventas:\n",
    "            if \"Mirinda\" in productos:\n",
    "                ventas[meses][\"Mirinda\"] += int(f[50:-1])\n",
    "                \n",
    "            elif \"Torasso\" in productos:\n",
    "                ventas[meses][\"Torasso\"] += int(f[50:-1])\n",
    "                \n",
    "            elif \"Pepsi Cola\" in productos:\n",
    "                ventas[meses][\"Pepsi Cola\"] += int(f[50:-1])\n",
    "                \n",
    "            elif \"Sprite\" in productos:\n",
    "                ventas[meses][\"Sprite\"] += int(f[50:-1])\n",
    "                \n",
    "            elif \"Coca Cola\" in productos:\n",
    "                ventas[meses][\"Coca Cola\"] += int(f[50:-1])\n",
    "\n",
    "    return ventas\n",
    "\n",
    "def listar_ventas_mensuales(ventas):\n",
    "    \n",
    "    for mes, productos in ventas.items():\n",
    "        print(f\"En el mes del {mes} se vendieron\")\n",
    "        print(\" \")\n",
    "        for producto, total in productos.items():\n",
    "            print(f\"{producto}: {total}\")\n",
    "        print(\"\")\n",
    "\n",
    "\n",
    "ventas = ventas_por_mes(datos)\n",
    "listar_ventas_mensuales(ventas)"
   ]
  },
  {
   "cell_type": "markdown",
   "metadata": {},
   "source": [
    "### Ejercicio 7: Informe general\n",
    "\n",
    "Mostrar un listado de productos ordenados alfabeticamente que contengan el precio promedio, la cantidad de unidades vendidas y el importe total vendido para cada producto"
   ]
  },
  {
   "cell_type": "code",
   "execution_count": 7,
   "metadata": {},
   "outputs": [
    {
     "name": "stdout",
     "output_type": "stream",
     "text": [
      "Mirinda tiene un precio promedio de 1545.83,  85 cantidades y un importe total de 131080\n",
      "Torasso tiene un precio promedio de 920.00,  32 cantidades y un importe total de 29320\n",
      "Pepsi Cola tiene un precio promedio de 1245.00,  89 cantidades y un importe total de 110510\n",
      "Sprite tiene un precio promedio de 841.43,  72 cantidades y un importe total de 61040\n",
      "Coca Cola tiene un precio promedio de 1072.50,  57 cantidades y un importe total de 60780\n"
     ]
    }
   ],
   "source": [
    "datos = open(\"datos.dat\", \"r\").readlines()\n",
    "\n",
    "# Diccionario para almacenar las métricas de cada producto\n",
    "informe_general = {\n",
    "    \"Mirinda\": {\"Precio_promedio\": 0, \"Cantidad_total\": 0, \"Importe_total\": 0, \"Precios\": []},\n",
    "    \"Torasso\": {\"Precio_promedio\": 0, \"Cantidad_total\": 0, \"Importe_total\": 0, \"Precios\": []},\n",
    "    \"Pepsi Cola\": {\"Precio_promedio\": 0, \"Cantidad_total\": 0, \"Importe_total\": 0, \"Precios\": []},\n",
    "    \"Sprite\": {\"Precio_promedio\": 0, \"Cantidad_total\": 0, \"Importe_total\": 0, \"Precios\": []},\n",
    "    \"Coca Cola\": {\"Precio_promedio\": 0, \"Cantidad_total\": 0, \"Importe_total\": 0, \"Precios\": []},\n",
    "}\n",
    "\n",
    "def resumen_ventas(datos):\n",
    "    for i in datos:\n",
    "        lista_sin_fecha = i[10:]\n",
    "\n",
    "        producto = lista_sin_fecha[:20].strip()  \n",
    "        precio = int(lista_sin_fecha[30:40].strip())  \n",
    "        cantidad = int(lista_sin_fecha[40:-1].strip()) \n",
    "        \n",
    "        if producto in informe_general:\n",
    "            informe_general[producto][\"Precios\"].append(precio)\n",
    "            informe_general[producto][\"Cantidad_total\"] += cantidad\n",
    "            informe_general[producto][\"Importe_total\"] += precio * cantidad\n",
    "\n",
    "    for producto, v in informe_general.items():\n",
    "        if v[\"Precios\"]:\n",
    "            v[\"Precio_promedio\"] = sum(v[\"Precios\"]) / len(v[\"Precios\"])\n",
    "\n",
    "    return informe_general\n",
    "\n",
    "\n",
    "def informe_ventas(datos):\n",
    " \n",
    "    for producto, v in datos.items():\n",
    "        print(f\"{producto} tiene un precio promedio de {v['Precio_promedio']:.2f},  {v['Cantidad_total']} cantidades y un importe total de {v['Importe_total']}\")\n",
    "\n",
    "\n",
    "resumen = resumen_ventas(datos)\n",
    "informe_ventas(resumen)\n"
   ]
  }
 ],
 "metadata": {
  "kernelspec": {
   "display_name": "Python 3",
   "language": "python",
   "name": "python3"
  },
  "language_info": {
   "codemirror_mode": {
    "name": "ipython",
    "version": 3
   },
   "file_extension": ".py",
   "mimetype": "text/x-python",
   "name": "python",
   "nbconvert_exporter": "python",
   "pygments_lexer": "ipython3",
   "version": "3.12.6"
  }
 },
 "nbformat": 4,
 "nbformat_minor": 2
}
