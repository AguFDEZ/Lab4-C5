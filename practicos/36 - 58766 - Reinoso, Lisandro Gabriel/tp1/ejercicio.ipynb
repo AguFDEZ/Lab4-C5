{
 "cells": [
  {
   "cell_type": "markdown",
   "metadata": {},
   "source": [
    "# Trabajo práctico 1\n"
   ]
  },
  {
   "cell_type": "markdown",
   "metadata": {},
   "source": [
    "## Ejercicio 1 \n",
    "\n",
    "Escribe una función en Python que procese una lista de cadenas de texto y realice las siguientes acciones:\n",
    "\n",
    "1. Tomar una lista de frases y convertir cada frase en una lista de palabras.\n",
    "1. Luego, debe crear una nueva lista que contenga la cantidad de palabras en cada frase.\n",
    "1. También debe crear una lista que contenga la cantidad de caracteres en cada frase.\n",
    "1. Finalmente, debe imprimir cada frase original junto con la cantidad de palabras que contiene.\n",
    "\n",
    "Ejemplo de uso:\n",
    "```python\n",
    "    frases = [\n",
    "        \"Python es un lenguaje de programación\",\n",
    "        \"Me gusta resolver problemas con código\",\n",
    "        \"Las listas y los bucles son muy útiles\"\n",
    "    ]\n",
    "\n",
    "    procesar_frases(frases)\n",
    "```\n",
    "\n",
    "Ejemplo de salida:\n",
    "```bash\n",
    "    La frase: \"Python es un...\"\n",
    "    tiene 6 palabras y 38 caracteres\n",
    "```"
   ]
  },
  {
   "cell_type": "code",
   "execution_count": null,
   "metadata": {},
   "outputs": [],
   "source": [
    "frases = [\"Python es un lenguaje de programación\",\n",
    "          \"Me gusta resolver problemas con código\",\n",
    "          \"Las listas y los bucles son muy útiles\"]\n",
    "\n",
    "lista_cantidad = []\n",
    "lista_palabras = []\n",
    "lista_caracteres = []\n",
    "\n",
    "def procesar_cadenas(cadena):\n",
    "    for n in cadena:\n",
    "        lista_palabras = n.split()\n",
    "        contador = 0  \n",
    "        \n",
    "        for a in lista_palabras:\n",
    "            contador += 1\n",
    "        lista_cantidad.append(contador)\n",
    "        lista_original = \" \".join(lista_palabras)\n",
    "        lista_caracteres.append(len(n))\n",
    "        print(f\"{lista_original} <- Esta frase tiene {lista_cantidad[-1]} palabras y {lista_caracteres[-1]} caracteres\")\n",
    "\n",
    "procesar_cadenas(frases)\n"
   ]
  },
  {
   "cell_type": "markdown",
   "metadata": {},
   "source": [
    "## Ejercicio 2\n",
    "\n",
    "Escribe una función en Python que encuentre los valores de `a`, `b`, y `c` para que la función cuadrática `f(x) = aX^2 + bX + c` pase exactamente por los siguientes puntos:\n",
    "\n",
    "| x  | y  |\n",
    "|---:|---:|\n",
    "|  0 |  0 |\n",
    "|  1 |  8 |\n",
    "|  2 | 12 |\n",
    "|  3 | 12 |\n",
    "|  5 |  0 |\n",
    "\n",
    "### Requisitos:\n",
    "- La función debe explorar posibles valores de `a`, `b`, y `c` utilizando un método de prueba y error.\n",
    "- Debe devolver los valores que hagan que la diferencia entre la función `f(x)` y los valores medidos `y` sea exactamente cero para cada punto.\n",
    "\n",
    "> **Pista**: Los valores de `a`, `b`, y `c` son números pequeños."
   ]
  },
  {
   "cell_type": "code",
   "execution_count": null,
   "metadata": {},
   "outputs": [],
   "source": [
    "import random\n",
    "\n",
    "puntos = {\n",
    "    \"A\": (0, 0),\n",
    "    \"B\": (1, 8),\n",
    "    \"C\": (2, 12),\n",
    "    \"D\": (3, 12),\n",
    "    \"E\": (5, 0)\n",
    "}\n",
    "\n",
    "def buscar_valores(puntos):\n",
    "    intentos = 0\n",
    "    while True:\n",
    "        a = random.randint(-5,15)\n",
    "        b = random.randint(-5,15)\n",
    "        c = random.randint(-5,15)\n",
    "        cumple = True\n",
    "        intentos += 1\n",
    "        for punto, (x,y) in puntos.items():\n",
    "            resultado_f = a * x**2 + b * x + c\n",
    "            if resultado_f != y:\n",
    "                cumple = False    \n",
    "        if cumple:\n",
    "            print(f\"Valores correctos encontrados: a = {a}   b = {b}   c = {c}\")\n",
    "            print(f\"Cantidad de pruebas realizadas: {intentos}\")  \n",
    "            return a,b,c\n",
    "\n",
    "buscar_valores(puntos)\n"
   ]
  }
 ],
 "metadata": {
  "language_info": {
   "name": "python"
  }
 },
 "nbformat": 4,
 "nbformat_minor": 2
}
