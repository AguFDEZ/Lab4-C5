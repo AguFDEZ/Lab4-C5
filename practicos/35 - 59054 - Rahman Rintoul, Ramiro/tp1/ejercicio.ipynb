{
 "cells": [
  {
   "cell_type": "markdown",
   "metadata": {},
   "source": [
    "# Trabajo práctico 1\n",
    "\n"
   ]
  },
  {
   "cell_type": "markdown",
   "metadata": {},
   "source": [
    "## Ejercicio 1 \n",
    "\n",
    "Escribe una función en Python que procese una lista de cadenas de texto y realice las siguientes acciones:\n",
    "\n",
    "1. Tomar una lista de frases y convertir cada frase en una lista de palabras.\n",
    "1. Luego, debe crear una nueva lista que contenga la cantidad de palabras en cada frase.\n",
    "1. Tambien debe crear un lista que contenga la cantidad de caracteres en cada frase.\n",
    "1. Finalmente, debe imprimir cada frase original junto con la cantidad de palabras que contiene.\n",
    "Ejemplo de uso:\n",
    "```python\n",
    "    frases = [\n",
    "        \"Python es un lenguaje de programación\",\n",
    "        \"Me gusta resolver problemas con código\",\n",
    "        \"Las listas y los bucles son muy útiles\"\n",
    "    ]\n",
    "\n",
    "    procesar_frases(frases)\n",
    "```\n",
    "\n",
    "ejemplo de salida:\n",
    "```bash\n",
    "    La frase: \"Python es un...\"\n",
    "    tiene 6 palabras y 38 caracteres\n",
    "```\n"
   ]
  },
  {
   "cell_type": "code",
   "execution_count": 75,
   "metadata": {},
   "outputs": [
    {
     "name": "stdout",
     "output_type": "stream",
     "text": [
      "La frase 'Python es un lenguaje de programación', tiene 6 palabras, y tiene 37 caracteres en total.\n",
      "La frase 'Me gusta resolver problemas con código', tiene 6 palabras, y tiene 38 caracteres en total.\n",
      "La frase 'Las listas y los bucles son muy útiles', tiene 8 palabras, y tiene 38 caracteres en total.\n"
     ]
    }
   ],
   "source": [
    "frases = [\n",
    "    \"Python es un lenguaje de programación\",\n",
    "    \"Me gusta resolver problemas con código\",\n",
    "    \"Las listas y los bucles son muy útiles\"\n",
    "]\n",
    "# Implementar un analizador que procese frases y determine la longitud de las mismas\n",
    "def procesar_frases(frases):\n",
    "    for frase in frases:\n",
    "        palabras = frase.split()\n",
    "        cantidad_palabras = len(palabras)\n",
    "        conteo_caracteres = len(frase)\n",
    "        print(\n",
    "            f\"La frase '{frase}', tiene {cantidad_palabras} palabras, y tiene {conteo_caracteres} caracteres en total.\"\n",
    "        )\n",
    "procesar_frases(frases)"
   ]
  },
  {
   "cell_type": "markdown",
   "metadata": {},
   "source": [
    "## Ejercicio 2\n",
    "\n",
    "Escribe una función en Python que encuentre los valores de `a`, `b`, y `c` para que la función cuadrática `f(x) = aX^2 + bX + c` pase exactamente por los siguientes puntos:\n",
    "\n",
    "| x  | y  |\n",
    "|---:|---:|\n",
    "|  0 |  0 |\n",
    "|  1 |  8 |\n",
    "|  2 | 12 |\n",
    "|  3 | 12 |\n",
    "|  5 |  0 |\n",
    "\n",
    "### Requisitos:\n",
    "- La función debe explorar posibles valores de `a`, `b`, y `c` utilizando un método de prueba y error.\n",
    "- Debe devolver los valores que hagan que la diferencia entre la función `f(x)` y los valores medidos `y` sea exactamente cero para cada punto.\n",
    "\n",
    "> **Pista**: Los valores de `a`, `b`, y `c` son números pequeños."
   ]
  },
  {
   "cell_type": "code",
   "execution_count": 72,
   "metadata": {},
   "outputs": [
    {
     "name": "stdout",
     "output_type": "stream",
     "text": [
      "Los coeficicientes de 'a' es: -2, el de 'b' es: 10, y el de 'c' es: 0 \n",
      "\n",
      "Los resultados son: (-2, 10, 0)\n"
     ]
    }
   ],
   "source": [
    "# implementar una función que encuentre los valores de a, b, y c, para la función cuadrática f(x) = ax^2 + bx + c\n",
    "# Valores de X y Y = (0,0) ; (1,8) ; (2,12) ; (3,12) ; (5,0)\n",
    "\n",
    "\n",
    "def encontrar_coeficientes():\n",
    "    puntos = [(0, 0), (1, 8), (2, 12), (3, 12), (5, 0)]\n",
    "    rango = range(-10, 11)\n",
    "    for a in rango:\n",
    "        for b in rango:\n",
    "            for c in rango:\n",
    "                coinciden = True\n",
    "                for x, y in puntos:\n",
    "                    fx = a * x**2 + b * x + c\n",
    "                    if fx != y:\n",
    "                        coinciden = False\n",
    "                        break\n",
    "                if coinciden:\n",
    "                    return a, b, c\n",
    "    return None\n",
    "\n",
    "\n",
    "resultado = encontrar_coeficientes()\n",
    "if resultado:\n",
    "    a, b, c = resultado\n",
    "    print(f\"Los coeficicientes de 'a' es: {a}, el de 'b' es: {b}, y el de 'c' es: {c} \")\n",
    "    print(f\"\\nLos resultados son: {a, b, c}\")"
   ]
  }
 ],
 "metadata": {
  "kernelspec": {
   "display_name": "Python 3",
   "language": "python",
   "name": "python3"
  },
  "language_info": {
   "codemirror_mode": {
    "name": "ipython",
    "version": 3
   },
   "file_extension": ".py",
   "mimetype": "text/x-python",
   "name": "python",
   "nbconvert_exporter": "python",
   "pygments_lexer": "ipython3",
   "version": "3.11.3"
  }
 },
 "nbformat": 4,
 "nbformat_minor": 2
}
