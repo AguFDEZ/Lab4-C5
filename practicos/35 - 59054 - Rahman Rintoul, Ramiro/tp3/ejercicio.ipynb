{
 "cells": [
  {
   "cell_type": "markdown",
   "metadata": {},
   "source": [
    "#TP3"
   ]
  },
  {
   "cell_type": "markdown",
   "metadata": {},
   "source": [
    "## Ejercicio 1: Cargar Datos de ventas.\n",
    "\n",
    "El archivo datos.dat contiene el registro de las ventas realizadas.\n",
    "\n",
    "Tiene un formato de ancho fijo:\n",
    "- fecha:    10 lugares\n",
    "- producto: 30 lugares\n",
    "- precio:   10 lugares\n",
    "- cantidad:  5 lugares\n",
    "\n",
    "hacer una funcion que carge los en una lista de diccionarios. \n",
    "\n",
    "nota: con \n",
    "```python\n",
    "lineas = open(\"datos.dat\", \"r\").readlines() \n",
    "```\n",
    "puede obtener la lista de string de todos los datos "
   ]
  },
  {
   "cell_type": "code",
   "execution_count": 7,
   "metadata": {},
   "outputs": [
    {
     "name": "stdout",
     "output_type": "stream",
     "text": [
      "{'fecha': '2024-08-27', 'producto': 'Mirinda', 'precio': 1510.0, 'cantidad': 14.0}\n",
      "{'fecha': '2024-08-27', 'producto': 'Mirinda', 'precio': 1560.0, 'cantidad': 12.0}\n",
      "{'fecha': '2024-08-28', 'producto': 'Torasso', 'precio': 940.0, 'cantidad': 8.0}\n",
      "{'fecha': '2024-08-29', 'producto': 'Pepsi Cola', 'precio': 1210.0, 'cantidad': 10.0}\n",
      "{'fecha': '2024-08-30', 'producto': 'Mirinda', 'precio': 1520.0, 'cantidad': 1.0}\n",
      "{'fecha': '2024-09-01', 'producto': 'Mirinda', 'precio': 1550.0, 'cantidad': 15.0}\n",
      "{'fecha': '2024-09-01', 'producto': 'Sprite', 'precio': 810.0, 'cantidad': 4.0}\n",
      "{'fecha': '2024-09-02', 'producto': 'Coca Cola', 'precio': 1100.0, 'cantidad': 4.0}\n",
      "{'fecha': '2024-09-02', 'producto': 'Pepsi Cola', 'precio': 1220.0, 'cantidad': 13.0}\n",
      "{'fecha': '2024-09-02', 'producto': 'Torasso', 'precio': 910.0, 'cantidad': 5.0}\n",
      "{'fecha': '2024-09-02', 'producto': 'Torasso', 'precio': 920.0, 'cantidad': 3.0}\n",
      "{'fecha': '2024-09-03', 'producto': 'Coca Cola', 'precio': 1020.0, 'cantidad': 8.0}\n",
      "{'fecha': '2024-09-03', 'producto': 'Mirinda', 'precio': 1570.0, 'cantidad': 7.0}\n",
      "{'fecha': '2024-09-03', 'producto': 'Mirinda', 'precio': 1590.0, 'cantidad': 2.0}\n",
      "{'fecha': '2024-09-04', 'producto': 'Pepsi Cola', 'precio': 1220.0, 'cantidad': 13.0}\n",
      "{'fecha': '2024-09-05', 'producto': 'Mirinda', 'precio': 1500.0, 'cantidad': 3.0}\n",
      "{'fecha': '2024-09-05', 'producto': 'Pepsi Cola', 'precio': 1300.0, 'cantidad': 5.0}\n",
      "{'fecha': '2024-09-06', 'producto': 'Coca Cola', 'precio': 1080.0, 'cantidad': 1.0}\n",
      "{'fecha': '2024-09-06', 'producto': 'Sprite', 'precio': 860.0, 'cantidad': 12.0}\n",
      "{'fecha': '2024-09-06', 'producto': 'Torasso', 'precio': 930.0, 'cantidad': 3.0}\n",
      "{'fecha': '2024-09-07', 'producto': 'Coca Cola', 'precio': 1080.0, 'cantidad': 14.0}\n",
      "{'fecha': '2024-09-07', 'producto': 'Sprite', 'precio': 870.0, 'cantidad': 13.0}\n",
      "{'fecha': '2024-09-08', 'producto': 'Coca Cola', 'precio': 1040.0, 'cantidad': 10.0}\n",
      "{'fecha': '2024-09-08', 'producto': 'Mirinda', 'precio': 1580.0, 'cantidad': 2.0}\n",
      "{'fecha': '2024-09-08', 'producto': 'Pepsi Cola', 'precio': 1240.0, 'cantidad': 9.0}\n",
      "{'fecha': '2024-09-09', 'producto': 'Mirinda', 'precio': 1500.0, 'cantidad': 3.0}\n",
      "{'fecha': '2024-09-09', 'producto': 'Sprite', 'precio': 850.0, 'cantidad': 9.0}\n",
      "{'fecha': '2024-09-10', 'producto': 'Mirinda', 'precio': 1590.0, 'cantidad': 8.0}\n",
      "{'fecha': '2024-09-10', 'producto': 'Pepsi Cola', 'precio': 1250.0, 'cantidad': 12.0}\n",
      "{'fecha': '2024-09-11', 'producto': 'Sprite', 'precio': 810.0, 'cantidad': 6.0}\n",
      "{'fecha': '2024-09-11', 'producto': 'Sprite', 'precio': 820.0, 'cantidad': 14.0}\n",
      "{'fecha': '2024-09-12', 'producto': 'Coca Cola', 'precio': 1080.0, 'cantidad': 4.0}\n",
      "{'fecha': '2024-09-13', 'producto': 'Mirinda', 'precio': 1580.0, 'cantidad': 5.0}\n",
      "{'fecha': '2024-09-13', 'producto': 'Pepsi Cola', 'precio': 1250.0, 'cantidad': 13.0}\n",
      "{'fecha': '2024-09-14', 'producto': 'Coca Cola', 'precio': 1080.0, 'cantidad': 15.0}\n",
      "{'fecha': '2024-09-14', 'producto': 'Pepsi Cola', 'precio': 1270.0, 'cantidad': 14.0}\n",
      "{'fecha': '2024-09-15', 'producto': 'Coca Cola', 'precio': 1100.0, 'cantidad': 1.0}\n",
      "{'fecha': '2024-09-15', 'producto': 'Mirinda', 'precio': 1500.0, 'cantidad': 13.0}\n",
      "{'fecha': '2024-09-15', 'producto': 'Sprite', 'precio': 870.0, 'cantidad': 14.0}\n",
      "{'fecha': '2024-09-15', 'producto': 'Torasso', 'precio': 900.0, 'cantidad': 13.0}\n"
     ]
    }
   ],
   "source": [
    "def cargar_datos():\n",
    "    lineas = open(\"datos.dat\", \"r\").readlines()\n",
    "    datos = []\n",
    "    for linea in lineas:\n",
    "        registro = {\n",
    "            \"fecha\": linea[0:10].strip(),\n",
    "            \"producto\": linea[10:40].strip(),\n",
    "            \"precio\": float(linea[40:50].strip()),\n",
    "            \"cantidad\": float(linea[50:55].strip()),\n",
    "        }\n",
    "        datos.append(registro)\n",
    "    return datos\n",
    "\n",
    "datos = cargar_datos()\n",
    "for venta in datos:\n",
    "    print(venta)"
   ]
  },
  {
   "cell_type": "markdown",
   "metadata": {},
   "source": [
    "## Ejercicio 2: Calcular el total de ventas.\n",
    "\n",
    "Hacer una funcion que sume los importes vendidos (precio * cantidad) y las cantidades"
   ]
  },
  {
   "cell_type": "code",
   "execution_count": 8,
   "metadata": {},
   "outputs": [
    {
     "name": "stdout",
     "output_type": "stream",
     "text": [
      "Las ventas fueron de $392730.00 en 335.0 unidades\n"
     ]
    }
   ],
   "source": [
    "def calcular_totales(datos):\n",
    "    importe = 0.0\n",
    "    cantidad = 0\n",
    "    for venta in datos:\n",
    "        importe += venta[\"precio\"] * venta[\"cantidad\"]\n",
    "        cantidad += venta[\"cantidad\"]\n",
    "    return importe, cantidad\n",
    "\n",
    "importe, cantidad = calcular_totales(datos)\n",
    "print(f\"Las ventas fueron de ${importe:.2f} en {cantidad} unidades\")"
   ]
  },
  {
   "cell_type": "markdown",
   "metadata": {},
   "source": [
    "## Ejercicio 3: Listar las unidades vendidas.\n",
    "\n",
    "Listar cuantas unidades se vendieron en total para cada producto"
   ]
  },
  {
   "cell_type": "code",
   "execution_count": 9,
   "metadata": {},
   "outputs": [
    {
     "name": "stdout",
     "output_type": "stream",
     "text": [
      "El producto Mirinda vendio 85.0 unidades\n",
      "El producto Torasso vendio 32.0 unidades\n",
      "El producto Pepsi Cola vendio 89.0 unidades\n",
      "El producto Sprite vendio 72.0 unidades\n",
      "El producto Coca Cola vendio 57.0 unidades\n"
     ]
    }
   ],
   "source": [
    "def unidades_vendidas(datos):\n",
    "    ventas = {}\n",
    "    for venta in datos:\n",
    "        producto = venta[\"producto\"]\n",
    "        cantidad = venta[\"cantidad\"]\n",
    "        if producto in ventas:\n",
    "            ventas[producto] += cantidad\n",
    "        else:\n",
    "            ventas[producto] = cantidad\n",
    "    return ventas\n",
    "\n",
    "def listar_ventas(datos):\n",
    "    for producto, cantidad in ventas.items():\n",
    "        print(f\"El producto {producto} vendio {cantidad} unidades\")\n",
    "\n",
    "ventas = unidades_vendidas(datos)\n",
    "listar_ventas(ventas)\n"
   ]
  },
  {
   "cell_type": "markdown",
   "metadata": {},
   "source": [
    "##  Ejercicio 4: Listar el precio promedio por producto.\n",
    "\n",
    "Hacer un listado del precio promedio por productos."
   ]
  },
  {
   "cell_type": "code",
   "execution_count": 13,
   "metadata": {},
   "outputs": [
    {
     "name": "stdout",
     "output_type": "stream",
     "text": [
      "El producto 'Mirinda' tiene un precio promedio de $1542.12\n",
      "El producto 'Torasso' tiene un precio promedio de $916.25\n",
      "El producto 'Pepsi Cola' tiene un precio promedio de $1241.69\n",
      "El producto 'Sprite' tiene un precio promedio de $847.78\n",
      "El producto 'Coca Cola' tiene un precio promedio de $1066.32\n"
     ]
    }
   ],
   "source": [
    "def precio_promedio(datos):\n",
    "    precios = {}\n",
    "    cantidades = {}\n",
    "    for venta in datos:\n",
    "        producto = venta[\"producto\"]\n",
    "        precio = venta[\"precio\"]\n",
    "        cantidad = venta[\"cantidad\"]\n",
    "        if producto in precios:\n",
    "            precios[producto] += precio * cantidad\n",
    "            cantidades[producto] += cantidad\n",
    "        else:\n",
    "            precios[producto] = precio * cantidad\n",
    "            cantidades[producto] = cantidad\n",
    "    promedios = {producto: precios[producto] / cantidades[producto] for producto in precios}\n",
    "    return promedios\n",
    "\n",
    "def listar_precios(promedios):\n",
    "    for producto, precio in promedios.items():\n",
    "        print(f\"El producto '{producto}' tiene un precio promedio de ${precio:.2f}\")\n",
    "\n",
    "precios = precio_promedio(datos)\n",
    "listar_precios(precios)"
   ]
  },
  {
   "cell_type": "markdown",
   "metadata": {},
   "source": [
    "### Ejercicio 5: Ranking de productos\n",
    "\n",
    "Realizar un listado de los 3 productos mas vendidos ordenados la cantidad de unidades vendidas (ordenadas de mayor a menor)\n"
   ]
  },
  {
   "cell_type": "code",
   "execution_count": 15,
   "metadata": {},
   "outputs": [
    {
     "name": "stdout",
     "output_type": "stream",
     "text": [
      "El producto Pepsi Cola vendio 89.0 unidades\n",
      "El producto Mirinda vendio 85.0 unidades\n",
      "El producto Sprite vendio 72.0 unidades\n"
     ]
    }
   ],
   "source": [
    "def ranking_productos(datos, top=3):\n",
    "    ventas = {}\n",
    "    for venta in datos:\n",
    "        producto = venta[\"producto\"]\n",
    "        cantidad = venta[\"cantidad\"]\n",
    "        if producto in ventas:\n",
    "            ventas[producto] += cantidad\n",
    "        else:\n",
    "            ventas[producto] = cantidad\n",
    "    return sorted(ventas.items(), key=lambda x: x[1], reverse=True)[:top]\n",
    "\n",
    "def listar_ranking(ranking):\n",
    "    for i in range(len(ranking)):\n",
    "        print(f\"El producto {ranking[i][0]} vendio {ranking[i][1]} unidades\")\n",
    "\n",
    "ranking = ranking_productos(datos)\n",
    "listar_ranking(ranking)"
   ]
  },
  {
   "cell_type": "markdown",
   "metadata": {},
   "source": [
    "### Ejercicio 6: Listar las ventas por mes\n",
    "\n",
    "Realizar un listado del total de unidades vendidas por productos separada por mes."
   ]
  },
  {
   "cell_type": "code",
   "execution_count": 26,
   "metadata": {},
   "outputs": [
    {
     "name": "stdout",
     "output_type": "stream",
     "text": [
      "En la fecha 2024-08 el producto Mirinda vendio 27.0 unidades\n",
      "En la fecha 2024-08 el producto Torasso vendio 8.0 unidades\n",
      "En la fecha 2024-08 el producto Pepsi Cola vendio 10.0 unidades\n",
      "En la fecha 2024-09 el producto Mirinda vendio 58.0 unidades\n",
      "En la fecha 2024-09 el producto Sprite vendio 72.0 unidades\n",
      "En la fecha 2024-09 el producto Coca Cola vendio 57.0 unidades\n",
      "En la fecha 2024-09 el producto Pepsi Cola vendio 79.0 unidades\n",
      "En la fecha 2024-09 el producto Torasso vendio 24.0 unidades\n"
     ]
    }
   ],
   "source": [
    "def ventas_por_mes(datos):\n",
    "    ventas = {}\n",
    "    for venta in datos:\n",
    "        fecha = venta[\"fecha\"]\n",
    "        producto = venta[\"producto\"]\n",
    "        cantidad = venta[\"cantidad\"]\n",
    "        mes = fecha[:7]\n",
    "        if mes in ventas:\n",
    "            if producto in ventas[mes]:\n",
    "                ventas[mes][producto] += cantidad\n",
    "            else:\n",
    "                ventas[mes][producto] = cantidad\n",
    "        else:\n",
    "            ventas[mes] = {producto: cantidad}\n",
    "    return ventas\n",
    "\n",
    "def listar_ventas_mensuales(ventas):\n",
    "    for mes, productos in ventas.items():\n",
    "        for producto, cantidad in productos.items():\n",
    "            print(f\"En la fecha {mes} el producto {producto} vendio {cantidad} unidades\")\n",
    "    \n",
    "\n",
    "ventas = ventas_por_mes(datos)\n",
    "listar_ventas_mensuales(ventas)"
   ]
  },
  {
   "cell_type": "markdown",
   "metadata": {},
   "source": [
    "### Ejercicio 7: Informe general\n",
    "\n",
    "Mostrar un listado de productos ordenados alfabeticamente que contengan el precio promedio, la cantidad de unidades vendidas y el importe total vendido para cada producto"
   ]
  },
  {
   "cell_type": "code",
   "execution_count": 29,
   "metadata": {},
   "outputs": [
    {
     "name": "stdout",
     "output_type": "stream",
     "text": [
      "El producto Mirinda tiene un precio promedio de $1542.12, vendio 85.0 unidades y un importe total de $131080.00\n",
      "El producto Pepsi Cola tiene un precio promedio de $1241.69, vendio 89.0 unidades y un importe total de $110510.00\n",
      "El producto Coca Cola tiene un precio promedio de $1066.32, vendio 57.0 unidades y un importe total de $60780.00\n",
      "El producto Torasso tiene un precio promedio de $916.25, vendio 32.0 unidades y un importe total de $29320.00\n",
      "El producto Sprite tiene un precio promedio de $847.78, vendio 72.0 unidades y un importe total de $61040.00\n"
     ]
    }
   ],
   "source": [
    "def resumen_ventas(datos):\n",
    "    resumen = {}\n",
    "    for venta in datos:\n",
    "        producto = venta[\"producto\"]\n",
    "        cantidad = venta[\"cantidad\"]\n",
    "        if producto in resumen:\n",
    "            resumen[producto][\"unidades\"] += cantidad\n",
    "            resumen[producto][\"total\"] += venta[\"precio\"] * cantidad\n",
    "        else:\n",
    "            resumen[producto] = {\n",
    "                \"unidades\": cantidad,\n",
    "                \"total\": venta[\"precio\"] * cantidad\n",
    "            }\n",
    "        for producto, datos in resumen.items():\n",
    "            datos[\"promedio\"] = datos[\"total\"] / datos[\"unidades\"]\n",
    "    return resumen\n",
    "\n",
    "def informe_ventas(datos):\n",
    "    productos_ordenados = sorted(resumen.items(), key=lambda x: x[1][\"promedio\"], reverse=True)\n",
    "    for producto, datos in productos_ordenados:\n",
    "        print(f\"El producto {producto} tiene un precio promedio de ${datos['promedio']:.2f}, vendio {datos['unidades']} unidades y un importe total de ${datos['total']:.2f}\")\n",
    "\n",
    "resumen = resumen_ventas(datos)\n",
    "informe_ventas(resumen)\n"
   ]
  }
 ],
 "metadata": {
  "kernelspec": {
   "display_name": "Python 3",
   "language": "python",
   "name": "python3"
  },
  "language_info": {
   "codemirror_mode": {
    "name": "ipython",
    "version": 3
   },
   "file_extension": ".py",
   "mimetype": "text/x-python",
   "name": "python",
   "nbconvert_exporter": "python",
   "pygments_lexer": "ipython3",
   "version": "3.11.3"
  }
 },
 "nbformat": 4,
 "nbformat_minor": 2
}
