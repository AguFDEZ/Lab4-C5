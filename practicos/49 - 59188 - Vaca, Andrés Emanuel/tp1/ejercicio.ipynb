{
 "cells": [
  {
   "cell_type": "markdown",
   "metadata": {},
   "source": [
    "# Trabajo práctico 1\n",
    "\n"
   ]
  },
  {
   "cell_type": "markdown",
   "metadata": {},
   "source": [
    "## Ejercicio 1 \n",
    "\n",
    "Escribe una función en Python que procese una lista de cadenas de texto y realice las siguientes acciones:\n",
    "\n",
    "1. Tomar una lista de frases y convertir cada frase en una lista de palabras.\n",
    "1. Luego, debe crear una nueva lista que contenga la cantidad de palabras en cada frase.\n",
    "1. Tambien debe crear un lista que contenga la cantidad de caracteres en cada frase.\n",
    "1. Finalmente, debe imprimir cada frase original junto con la cantidad de palabras que contiene.\n",
    "Ejemplo de uso:\n",
    "```python\n",
    "    frases = [\n",
    "        \"Python es un lenguaje de programación\",\n",
    "        \"Me gusta resolver problemas con código\",\n",
    "        \"Las listas y los bucles son muy útiles\"\n",
    "    ]\n",
    "\n",
    "    procesar_frases(frases)\n",
    "```\n",
    "\n",
    "ejemplo de salida:\n",
    "```bash\n",
    "    La frase: \"Python es un...\"\n",
    "    tiene 6 palabras y 38 caracteres\n",
    "```\n"
   ]
  },
  {
   "cell_type": "code",
   "execution_count": 8,
   "metadata": {},
   "outputs": [
    {
     "name": "stdout",
     "output_type": "stream",
     "text": [
      "La frase: \"python es un...\" y\n",
      "tiene 6 y 37 caracteres\n",
      "La frase: \"me gusta res...\" y\n",
      "tiene 6 y 38 caracteres\n",
      "La frase: \"las listas y...\" y\n",
      "tiene 8 y 38 caracteres\n"
     ]
    }
   ],
   "source": [
    "frases = [\n",
    "    \"python es un lenguaje de programación\",\n",
    "    \"me gusta resolver problemas con código\",\n",
    "    \"las listas y los bucles son muy utiles\"\n",
    "]\n",
    "\n",
    "def procesar_frases(frases):\n",
    "    for frase in frases:\n",
    "       palabras= frase.split()\n",
    "       num_palabras= len(palabras)\n",
    "       num_caracteres= len(frase)\n",
    "       print(f'La frase: \"{frase[:12]}...\" y')\n",
    "       print (f'tiene {num_palabras} y {num_caracteres} caracteres')\n",
    "\n",
    "procesar_frases(frases)"
   ]
  },
  {
   "cell_type": "markdown",
   "metadata": {},
   "source": [
    "## Ejercicio 2\n",
    "\n",
    "Escribe una función en Python que encuentre los valores de `a`, `b`, y `c` para que la función cuadrática `f(x) = aX^2 + bX + c` pase exactamente por los siguientes puntos:\n",
    "\n",
    "| x  | y  |\n",
    "|---:|---:|\n",
    "|  0 |  0 |\n",
    "|  1 |  8 |\n",
    "|  2 | 12 |\n",
    "|  3 | 12 |\n",
    "|  5 |  0 |\n",
    "\n",
    "### Requisitos:\n",
    "- La función debe explorar posibles valores de `a`, `b`, y `c` utilizando un método de prueba y error.\n",
    "- Debe devolver los valores que hagan que la diferencia entre la función `f(x)` y los valores medidos `y` sea exactamente cero para cada punto.\n",
    "\n",
    "> **Pista**: Los valores de `a`, `b`, y `c` son números pequeños."
   ]
  },
  {
   "cell_type": "code",
   "execution_count": 14,
   "metadata": {},
   "outputs": [],
   "source": [
    "\n",
    "\n",
    "def encontrar(x, y):\n",
    "    for a in range(-5, 6):\n",
    "        for b in range(-5, 6):\n",
    "            for c in range(-5, 6):\n",
    "                coincidencia = True\n",
    "                for i in range(len(x)):\n",
    "                    x_actual = x[i]\n",
    "                    y_actual = y[i]\n",
    "                    f_x = a * x_actual**2 + b * x_actual + c\n",
    "                    if f_x != y_actual:  \n",
    "                        coincidencia = False\n",
    "                        break\n",
    "                if coincidencia:\n",
    "                    print(f\"Solución encontrada: a = {a}, b = {b}, c = {c}\")\n",
    "\n",
    "                    \n"
   ]
  }
 ],
 "metadata": {
  "kernelspec": {
   "display_name": "Python 3",
   "language": "python",
   "name": "python3"
  },
  "language_info": {
   "codemirror_mode": {
    "name": "ipython",
    "version": 3
   },
   "file_extension": ".py",
   "mimetype": "text/x-python",
   "name": "python",
   "nbconvert_exporter": "python",
   "pygments_lexer": "ipython3",
   "version": "3.12.6"
  }
 },
 "nbformat": 4,
 "nbformat_minor": 2
}
