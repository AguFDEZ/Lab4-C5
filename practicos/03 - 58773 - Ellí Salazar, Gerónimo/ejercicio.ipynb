{
 "cells": [
  {
   "cell_type": "markdown",
   "metadata": {},
   "source": [
    "# Trabajo práctico 1\n",
    "\n"
   ]
  },
  {
   "cell_type": "markdown",
   "metadata": {},
   "source": [
    "## Ejercicio 1 \n",
    "\n",
    "Escribe una función en Python que procese una lista de cadenas de texto y realice las siguientes acciones:\n",
    "\n",
    "1. Tomar una lista de frases y convertir cada frase en una lista de palabras.\n",
    "1. Luego, debe crear una nueva lista que contenga la cantidad de palabras en cada frase.\n",
    "1. Tambien debe crear un lista que contenga la cantidad de caracteres en cada frase.\n",
    "1. Finalmente, debe imprimir cada frase original junto con la cantidad de palabras que contiene.\n",
    "Ejemplo de uso:\n",
    "```python\n",
    "    frases = [\n",
    "        \"Python es un lenguaje de programación\",\n",
    "        \"Me gusta resolver problemas con código\",\n",
    "        \"Las listas y los bucles son muy útiles\"\n",
    "    ]\n",
    "\n",
    "    procesar_frases(frases)\n",
    "```\n",
    "\n",
    "ejemplo de salida:\n",
    "```bash\n",
    "    La frase: \"Python es un...\"\n",
    "    tiene 6 palabras y 38 caracteres\n",
    "```\n"
   ]
  },
  {
   "cell_type": "code",
   "execution_count": 1,
   "metadata": {},
   "outputs": [
    {
     "name": "stdout",
     "output_type": "stream",
     "text": [
      "\"argentina tiene tres mundiales\" tiene 4 palabras y 30 caracteres\n",
      "\"yo estudio programacion\" tiene 3 palabras y 23 caracteres\n",
      "\"hoy es un dia soleado\" tiene 5 palabras y 21 caracteres\n"
     ]
    }
   ],
   "source": [
    "#Ejercicio 1\n",
    "frases = [\n",
    "    \"argentina tiene tres mundiales\",\n",
    "    \"yo estudio programacion\",\n",
    "    \"hoy es un dia soleado\"\n",
    "]\n",
    "def procesar_frases(frases):\n",
    "    \n",
    "    Frase_palabras = []\n",
    "    \n",
    "    Frase_caracteres = []\n",
    "    \n",
    "    for frase in frases:\n",
    "        \n",
    "        palabras = frase.split()\n",
    "        \n",
    "        Frase_palabras.append(len(palabras))\n",
    "        Frase_caracteres.append(len(frase))\n",
    "        \n",
    "        print(f'\"{frase}\" tiene {len(palabras)} palabras y {len(frase)} caracteres')\n",
    "    \n",
    "    return Frase_palabras, Frase_caracteres\n",
    "\n",
    "Frase_palabras, Frase_caracteres = procesar_frases(frases)\n"
   ]
  },
  {
   "cell_type": "markdown",
   "metadata": {},
   "source": [
    "## Ejercicio 2\n",
    "\n",
    "Escribe una función en Python que encuentre los valores de `a`, `b`, y `c` para que la función cuadrática `f(x) = aX^2 + bX + c` pase exactamente por los siguientes puntos:\n",
    "\n",
    "| x  | y  |\n",
    "|---:|---:|\n",
    "|  0 |  0 |\n",
    "|  1 |  8 |\n",
    "|  2 | 12 |\n",
    "|  3 | 12 |\n",
    "|  5 |  0 |\n",
    "\n",
    "### Requisitos:\n",
    "- La función debe explorar posibles valores de `a`, `b`, y `c` utilizando un método de prueba y error.\n",
    "- Debe devolver los valores que hagan que la diferencia entre la función `f(x)` y los valores medidos `y` sea exactamente cero para cada punto.\n",
    "\n",
    "> **Pista**: Los valores de `a`, `b`, y `c` son números pequeños."
   ]
  },
  {
   "cell_type": "code",
   "execution_count": 3,
   "metadata": {},
   "outputs": [
    {
     "name": "stdout",
     "output_type": "stream",
     "text": [
      "Los valores encontrados son: a = -2, b = 10, c = 0\n"
     ]
    }
   ],
   "source": [
    "def evaluar_funcion_cuadratica(a, b, c, x):\n",
    "    return a * x**2 + b * x + c\n",
    "\n",
    "def prueba_y_error():\n",
    "    \n",
    "    puntos = [(0, 0), (1, 8), (2, 12), (3, 12), (5, 0)]\n",
    "    \n",
    "    \n",
    "    for a in range(-10, 11):  \n",
    "        for b in range(-10, 11):  \n",
    "            for c in range(-10, 11):  \n",
    "                \n",
    "                error_total = 0\n",
    "                for (x, y) in puntos:\n",
    "                    y_calculado = evaluar_funcion_cuadratica(a, b, c, x)\n",
    "                    error_total += abs(y_calculado - y)\n",
    "                \n",
    "                if error_total == 0:\n",
    "                    return a, b, c\n",
    "\n",
    "a, b, c = prueba_y_error()\n",
    "print(f\"Los valores encontrados son: a = {a}, b = {b}, c = {c}\")"
   ]
  }
 ],
 "metadata": {
  "kernelspec": {
   "display_name": "Python 3",
   "language": "python",
   "name": "python3"
  },
  "language_info": {
   "codemirror_mode": {
    "name": "ipython",
    "version": 3
   },
   "file_extension": ".py",
   "mimetype": "text/x-python",
   "name": "python",
   "nbconvert_exporter": "python",
   "pygments_lexer": "ipython3",
   "version": "3.12.5"
  }
 },
 "nbformat": 4,
 "nbformat_minor": 2
}
