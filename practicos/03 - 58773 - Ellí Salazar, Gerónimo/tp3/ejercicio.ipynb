{
 "cells": [
  {
   "cell_type": "markdown",
   "metadata": {},
   "source": [
    "#TP3"
   ]
  },
  {
   "cell_type": "markdown",
   "metadata": {},
   "source": [
    "## Ejercicio 1: Cargar Datos de ventas.\n",
    "\n",
    "El archivo datos.dat contiene el registro de las ventas realizadas.\n",
    "\n",
    "Tiene un formato de ancho fijo:\n",
    "- fecha:    10 lugares\n",
    "- producto: 30 lugares\n",
    "- precio:   10 lugares\n",
    "- cantidad:  5 lugares\n",
    "\n",
    "hacer una funcion que carge los en una lista de diccionarios. \n",
    "\n",
    "nota: con \n",
    "```python\n",
    "lineas = open(\"datos.dat\", \"r\").readlines() \n",
    "```\n",
    "puede obtener la lista de string de todos los datos "
   ]
  },
  {
   "cell_type": "code",
   "execution_count": 1,
   "metadata": {},
   "outputs": [
    {
     "name": "stdout",
     "output_type": "stream",
     "text": [
      "{'fecha': '2024-08-27', 'producto': 'Mirinda', 'precio': 1510.0, 'cantidad': 14}\n",
      "{'fecha': '2024-08-27', 'producto': 'Mirinda', 'precio': 1560.0, 'cantidad': 12}\n",
      "{'fecha': '2024-08-28', 'producto': 'Torasso', 'precio': 940.0, 'cantidad': 8}\n",
      "{'fecha': '2024-08-29', 'producto': 'Pepsi Cola', 'precio': 1210.0, 'cantidad': 10}\n",
      "{'fecha': '2024-08-30', 'producto': 'Mirinda', 'precio': 1520.0, 'cantidad': 1}\n",
      "{'fecha': '2024-09-01', 'producto': 'Mirinda', 'precio': 1550.0, 'cantidad': 15}\n",
      "{'fecha': '2024-09-01', 'producto': 'Sprite', 'precio': 810.0, 'cantidad': 4}\n",
      "{'fecha': '2024-09-02', 'producto': 'Coca Cola', 'precio': 1100.0, 'cantidad': 4}\n",
      "{'fecha': '2024-09-02', 'producto': 'Pepsi Cola', 'precio': 1220.0, 'cantidad': 13}\n",
      "{'fecha': '2024-09-02', 'producto': 'Torasso', 'precio': 910.0, 'cantidad': 5}\n",
      "{'fecha': '2024-09-02', 'producto': 'Torasso', 'precio': 920.0, 'cantidad': 3}\n",
      "{'fecha': '2024-09-03', 'producto': 'Coca Cola', 'precio': 1020.0, 'cantidad': 8}\n",
      "{'fecha': '2024-09-03', 'producto': 'Mirinda', 'precio': 1570.0, 'cantidad': 7}\n",
      "{'fecha': '2024-09-03', 'producto': 'Mirinda', 'precio': 1590.0, 'cantidad': 2}\n",
      "{'fecha': '2024-09-04', 'producto': 'Pepsi Cola', 'precio': 1220.0, 'cantidad': 13}\n",
      "{'fecha': '2024-09-05', 'producto': 'Mirinda', 'precio': 1500.0, 'cantidad': 3}\n",
      "{'fecha': '2024-09-05', 'producto': 'Pepsi Cola', 'precio': 1300.0, 'cantidad': 5}\n",
      "{'fecha': '2024-09-06', 'producto': 'Coca Cola', 'precio': 1080.0, 'cantidad': 1}\n",
      "{'fecha': '2024-09-06', 'producto': 'Sprite', 'precio': 860.0, 'cantidad': 12}\n",
      "{'fecha': '2024-09-06', 'producto': 'Torasso', 'precio': 930.0, 'cantidad': 3}\n",
      "{'fecha': '2024-09-07', 'producto': 'Coca Cola', 'precio': 1080.0, 'cantidad': 14}\n",
      "{'fecha': '2024-09-07', 'producto': 'Sprite', 'precio': 870.0, 'cantidad': 13}\n",
      "{'fecha': '2024-09-08', 'producto': 'Coca Cola', 'precio': 1040.0, 'cantidad': 10}\n",
      "{'fecha': '2024-09-08', 'producto': 'Mirinda', 'precio': 1580.0, 'cantidad': 2}\n",
      "{'fecha': '2024-09-08', 'producto': 'Pepsi Cola', 'precio': 1240.0, 'cantidad': 9}\n",
      "{'fecha': '2024-09-09', 'producto': 'Mirinda', 'precio': 1500.0, 'cantidad': 3}\n",
      "{'fecha': '2024-09-09', 'producto': 'Sprite', 'precio': 850.0, 'cantidad': 9}\n",
      "{'fecha': '2024-09-10', 'producto': 'Mirinda', 'precio': 1590.0, 'cantidad': 8}\n",
      "{'fecha': '2024-09-10', 'producto': 'Pepsi Cola', 'precio': 1250.0, 'cantidad': 12}\n",
      "{'fecha': '2024-09-11', 'producto': 'Sprite', 'precio': 810.0, 'cantidad': 6}\n",
      "{'fecha': '2024-09-11', 'producto': 'Sprite', 'precio': 820.0, 'cantidad': 14}\n",
      "{'fecha': '2024-09-12', 'producto': 'Coca Cola', 'precio': 1080.0, 'cantidad': 4}\n",
      "{'fecha': '2024-09-13', 'producto': 'Mirinda', 'precio': 1580.0, 'cantidad': 5}\n",
      "{'fecha': '2024-09-13', 'producto': 'Pepsi Cola', 'precio': 1250.0, 'cantidad': 13}\n",
      "{'fecha': '2024-09-14', 'producto': 'Coca Cola', 'precio': 1080.0, 'cantidad': 15}\n",
      "{'fecha': '2024-09-14', 'producto': 'Pepsi Cola', 'precio': 1270.0, 'cantidad': 14}\n",
      "{'fecha': '2024-09-15', 'producto': 'Coca Cola', 'precio': 1100.0, 'cantidad': 1}\n",
      "{'fecha': '2024-09-15', 'producto': 'Mirinda', 'precio': 1500.0, 'cantidad': 13}\n",
      "{'fecha': '2024-09-15', 'producto': 'Sprite', 'precio': 870.0, 'cantidad': 14}\n",
      "{'fecha': '2024-09-15', 'producto': 'Torasso', 'precio': 900.0, 'cantidad': 13}\n"
     ]
    }
   ],
   "source": [
    "def cargar_datos():\n",
    "    datos = []\n",
    "    \n",
    "    lineas = open(\"datos.dat\", \"r\").readlines()\n",
    "    \n",
    "    for linea in lineas:\n",
    "        fecha = linea[:10].strip() \n",
    "        producto = linea[10:40].strip() \n",
    "        precio = float(linea[40:50].strip()) \n",
    "        cantidad = int(linea[50:55].strip())\n",
    "        \n",
    "        datos.append({\n",
    "            'fecha': fecha,\n",
    "            'producto': producto,\n",
    "            'precio': precio,\n",
    "            'cantidad': cantidad\n",
    "        })\n",
    "    \n",
    "    return datos\n",
    "datos = cargar_datos()\n",
    "for registro in datos:\n",
    " print(registro)"
   ]
  },
  {
   "cell_type": "markdown",
   "metadata": {},
   "source": [
    "## Ejercicio 2: Calcular el total de ventas.\n",
    "\n",
    "Hacer una funcion que sume los importes vendidos (precio * cantidad) y las cantidades"
   ]
  },
  {
   "cell_type": "code",
   "execution_count": 3,
   "metadata": {},
   "outputs": [
    {
     "name": "stdout",
     "output_type": "stream",
     "text": [
      "Las ventas fueron de $392730.00 en 335 unidades\n"
     ]
    }
   ],
   "source": [
    "def calcular_totales(datos):\n",
    "    total_importe = 0.0\n",
    "    total_cantidad = 0\n",
    "\n",
    "    for registro in datos:\n",
    "\n",
    "        importe_venta = registro['precio'] * registro['cantidad']\n",
    "\n",
    "        total_importe += importe_venta\n",
    "\n",
    "        total_cantidad += registro['cantidad']\n",
    "\n",
    "    return total_importe, total_cantidad\n",
    "\n",
    "\n",
    "datos = cargar_datos()\n",
    "\n",
    "importe, cantidad = calcular_totales(datos)\n",
    "\n",
    "print(f\"Las ventas fueron de ${importe:.2f} en {cantidad} unidades\")"
   ]
  },
  {
   "cell_type": "markdown",
   "metadata": {},
   "source": [
    "## Ejercicio 3: Listar las unidades vendidas.\n",
    "\n",
    "Listar cuantas unidades se vendieron en total para cada producto"
   ]
  },
  {
   "cell_type": "code",
   "execution_count": 4,
   "metadata": {},
   "outputs": [
    {
     "name": "stdout",
     "output_type": "stream",
     "text": [
      "Producto: Mirinda, Unidades vendidas: 85\n",
      "Producto: Torasso, Unidades vendidas: 32\n",
      "Producto: Pepsi Cola, Unidades vendidas: 89\n",
      "Producto: Sprite, Unidades vendidas: 72\n",
      "Producto: Coca Cola, Unidades vendidas: 57\n"
     ]
    }
   ],
   "source": [
    "def unidades_vendidas(datos):\n",
    "    ventas_por_producto = {}\n",
    "\n",
    "    for registro in datos:\n",
    "        producto = registro['producto']\n",
    "        cantidad = registro['cantidad']\n",
    "\n",
    "\n",
    "        if producto in ventas_por_producto:\n",
    "            ventas_por_producto[producto] += cantidad\n",
    "        else:\n",
    "\n",
    "            ventas_por_producto[producto] = cantidad\n",
    "\n",
    "    return ventas_por_producto\n",
    "\n",
    "def listar_ventas(datos):\n",
    "   for producto, cantidad in ventas.items():\n",
    "        print(f\"Producto: {producto}, Unidades vendidas: {cantidad}\")\n",
    "\n",
    "datos = cargar_datos()\n",
    "ventas = unidades_vendidas(datos)\n",
    "listar_ventas(ventas)\n"
   ]
  },
  {
   "cell_type": "markdown",
   "metadata": {},
   "source": [
    "##  Ejercicio 4: Listar el precio promedio por producto.\n",
    "\n",
    "Hacer un listado del precio promedio por productos."
   ]
  },
  {
   "cell_type": "code",
   "execution_count": 8,
   "metadata": {},
   "outputs": [
    {
     "name": "stdout",
     "output_type": "stream",
     "text": [
      "El precio promedio de Mirinda es $1545.83\n",
      "El precio promedio de Torasso es $920.00\n",
      "El precio promedio de Pepsi Cola es $1245.00\n",
      "El precio promedio de Sprite es $841.43\n",
      "El precio promedio de Coca Cola es $1072.50\n"
     ]
    }
   ],
   "source": [
    "def precio_promedio(datos):\n",
    "    suma_precios = {}\n",
    "    conteo_productos = {}\n",
    "\n",
    "    for producto in datos:\n",
    "        nombre = producto['producto']\n",
    "        precio = producto['precio']\n",
    "        \n",
    "        if nombre in suma_precios:\n",
    "            suma_precios[nombre] += precio\n",
    "            conteo_productos[nombre] += 1\n",
    "        else:\n",
    "            suma_precios[nombre] = precio\n",
    "            conteo_productos[nombre] = 1\n",
    "\n",
    "    precios_promedio = {}\n",
    "    for nombre in suma_precios:\n",
    "        precios_promedio[nombre] = suma_precios[nombre] / conteo_productos[nombre]\n",
    "    \n",
    "    return precios_promedio\n",
    "\n",
    "def listar_precios(datos):\n",
    "    for producto, precio in precios.items():\n",
    "        print(f\"El precio promedio de {producto} es ${precio:.2f}\")\n",
    "\n",
    "datos = cargar_datos()\n",
    "precios = precio_promedio(datos)\n",
    "listar_precios(precios)"
   ]
  },
  {
   "cell_type": "markdown",
   "metadata": {},
   "source": [
    "### Ejercicio 5: Ranking de productos\n",
    "\n",
    "Realizar un listado de los 3 productos mas vendidos ordenados la cantidad de unidades vendidas (ordenadas de mayor a menor)\n"
   ]
  },
  {
   "cell_type": "code",
   "execution_count": 5,
   "metadata": {},
   "outputs": [
    {
     "name": "stdout",
     "output_type": "stream",
     "text": [
      "1. Pepsi Cola: 89 unidades vendidas\n",
      "2. Mirinda: 85 unidades vendidas\n",
      "3. Sprite: 72 unidades vendidas\n"
     ]
    }
   ],
   "source": [
    "def ranking_productos(datos, top=3):\n",
    "    ventas_totales = {}\n",
    "\n",
    "    for producto in datos:\n",
    "        nombre = producto['producto']\n",
    "        cantidad = producto['cantidad']\n",
    "        \n",
    "        if nombre in ventas_totales:\n",
    "            ventas_totales[nombre] += cantidad\n",
    "        else:\n",
    "            ventas_totales[nombre] = cantidad\n",
    "\n",
    "    ranking = sorted(ventas_totales.items(), key=lambda x: x[1], reverse=True)\n",
    "\n",
    "    return ranking[:top]\n",
    "def listar_ranking(ranking):\n",
    "    for i, (producto, cantidad) in enumerate(ranking, start=1):\n",
    "        print(f\"{i}. {producto}: {cantidad} unidades vendidas\")\n",
    "\n",
    "datos = cargar_datos()\n",
    "ranking = ranking_productos(datos)\n",
    "listar_ranking(ranking)"
   ]
  },
  {
   "cell_type": "markdown",
   "metadata": {},
   "source": [
    "### Ejercicio 6: Listar las ventas por mes\n",
    "\n",
    "Realizar un listado del total de unidades vendidas por productos separada por mes."
   ]
  },
  {
   "cell_type": "code",
   "execution_count": 6,
   "metadata": {},
   "outputs": [
    {
     "name": "stdout",
     "output_type": "stream",
     "text": [
      "Ventas en 2024-08:\n",
      "  Mirinda: 27 unidades\n",
      "  Torasso: 8 unidades\n",
      "  Pepsi Cola: 10 unidades\n",
      "\n",
      "Ventas en 2024-09:\n",
      "  Mirinda: 58 unidades\n",
      "  Sprite: 72 unidades\n",
      "  Coca Cola: 57 unidades\n",
      "  Pepsi Cola: 79 unidades\n",
      "  Torasso: 24 unidades\n",
      "\n"
     ]
    }
   ],
   "source": [
    "def ventas_por_mes(datos):\n",
    "    ventas_mensuales = {}\n",
    "\n",
    "    for producto in datos:\n",
    "        fecha = producto['fecha']\n",
    "        nombre = producto['producto']\n",
    "        cantidad = producto['cantidad']\n",
    "        \n",
    "        anio_mes = fecha[:7] \n",
    "\n",
    "        if anio_mes not in ventas_mensuales:\n",
    "            ventas_mensuales[anio_mes] = {}\n",
    "        \n",
    "        if nombre not in ventas_mensuales[anio_mes]:\n",
    "            ventas_mensuales[anio_mes][nombre] = 0\n",
    "        \n",
    "        ventas_mensuales[anio_mes][nombre] += cantidad\n",
    "\n",
    "    return ventas_mensuales\n",
    "\n",
    "def listar_ventas_mensuales(ventas):\n",
    "    for anio_mes, productos in ventas.items():\n",
    "        print(f\"Ventas en {anio_mes}:\")\n",
    "        for producto, cantidad in productos.items():\n",
    "            print(f\"  {producto}: {cantidad} unidades\")\n",
    "        print() \n",
    "\n",
    "datos = cargar_datos()\n",
    "ventas = ventas_por_mes(datos)\n",
    "listar_ventas_mensuales(ventas)"
   ]
  },
  {
   "cell_type": "markdown",
   "metadata": {},
   "source": [
    "### Ejercicio 7: Informe general\n",
    "\n",
    "Mostrar un listado de productos ordenados alfabeticamente que contengan el precio promedio, la cantidad de unidades vendidas y el importe total vendido para cada producto"
   ]
  },
  {
   "cell_type": "code",
   "execution_count": 7,
   "metadata": {},
   "outputs": [
    {
     "name": "stdout",
     "output_type": "stream",
     "text": [
      "Producto                       Precio Promedio Cantidad Vendida Importe Total  \n",
      "===========================================================================\n",
      "Coca Cola                      $1066.3257              $60780.00\n",
      "Mirinda                        $1542.1285              $131080.00\n",
      "Pepsi Cola                     $1241.6989              $110510.00\n",
      "Sprite                         $847.7872              $61040.00\n",
      "Torasso                        $916.2532              $29320.00\n"
     ]
    }
   ],
   "source": [
    "def resumen_ventas(datos):\n",
    "    resumen = {}\n",
    "\n",
    "    for producto in datos:\n",
    "        nombre = producto['producto']\n",
    "        precio = producto['precio']\n",
    "        cantidad = producto['cantidad']\n",
    "\n",
    "        if nombre not in resumen:\n",
    "            resumen[nombre] = {\n",
    "                'total_cantidad': 0,\n",
    "                'total_importe': 0.0,\n",
    "                'precios': []\n",
    "            }\n",
    "        \n",
    "        resumen[nombre]['total_cantidad'] += cantidad\n",
    "        resumen[nombre]['total_importe'] += precio * cantidad\n",
    "        resumen[nombre]['precios'].append(precio)\n",
    "\n",
    "    for nombre in resumen:\n",
    "        total_cantidad = resumen[nombre]['total_cantidad']\n",
    "        total_importe = resumen[nombre]['total_importe']\n",
    "        promedio_precio = total_importe / total_cantidad if total_cantidad > 0 else 0\n",
    "\n",
    "        resumen[nombre]['precio_promedio'] = promedio_precio\n",
    "        resumen[nombre]['total_importe'] = total_importe\n",
    "\n",
    "    return resumen\n",
    "\n",
    "def informe_ventas(datos):\n",
    "    productos_ordenados = sorted(resumen.keys())\n",
    "\n",
    "    print(f\"{'Producto':<30} {'Precio Promedio':<15} {'Cantidad Vendida':<15} {'Importe Total':<15}\")\n",
    "    print(\"=\"*75)\n",
    "    for producto in productos_ordenados:\n",
    "        info = resumen[producto]\n",
    "        print(f\"{producto:<30} ${info['precio_promedio']:.2f}{info['total_cantidad']:<15} ${info['total_importe']:.2f}\")\n",
    "\n",
    "datos = cargar_datos()\n",
    "resumen = resumen_ventas(datos)\n",
    "informe_ventas(resumen)\n"
   ]
  }
 ],
 "metadata": {
  "kernelspec": {
   "display_name": "Python 3",
   "language": "python",
   "name": "python3"
  },
  "language_info": {
   "codemirror_mode": {
    "name": "ipython",
    "version": 3
   },
   "file_extension": ".py",
   "mimetype": "text/x-python",
   "name": "python",
   "nbconvert_exporter": "python",
   "pygments_lexer": "ipython3",
   "version": "3.12.5"
  }
 },
 "nbformat": 4,
 "nbformat_minor": 2
}
