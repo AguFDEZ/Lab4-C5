{
 "cells": [
  {
   "cell_type": "markdown",
   "metadata": {},
   "source": [
    "# Trabajo práctico 1\n",
    "\n"
   ]
  },
  {
   "cell_type": "markdown",
   "metadata": {},
   "source": [
    "## Ejercicio 1 \n",
    "\n",
    "Escribe una función en Python que procese una lista de cadenas de texto y realice las siguientes acciones:\n",
    "\n",
    "1. Tomar una lista de frases y convertir cada frase en una lista de palabras.\n",
    "1. Luego, debe crear una nueva lista que contenga la cantidad de palabras en cada frase.\n",
    "1. Tambien debe crear un lista que contenga la cantidad de caracteres en cada frase.\n",
    "1. Finalmente, debe imprimir cada frase original junto con la cantidad de palabras que contiene.\n",
    "Ejemplo de uso:\n",
    "```python\n",
    "    frases = [\n",
    "        \"Python es un lenguaje de programación\",\n",
    "        \"Me gusta resolver problemas con código\",\n",
    "        \"Las listas y los bucles son muy útiles\"\n",
    "    ]\n",
    "\n",
    "    procesar_frases(frases)\n",
    "```\n",
    "\n",
    "ejemplo de salida:\n",
    "```bash\n",
    "    La frase: \"Python es un...\"\n",
    "    tiene 6 palabras y 38 caracteres\n",
    "```\n"
   ]
  },
  {
   "cell_type": "code",
   "execution_count": 1,
   "metadata": {},
   "outputs": [
    {
     "name": "stdout",
     "output_type": "stream",
     "text": [
      "La frase: \"Hoy es un buen día para aprender Python\" tiene 8 palabras y 39 caracteres\n",
      "La frase: \"Las funciones hacen que el código sea reutilizable\" tiene 8 palabras y 50 caracteres\n",
      "La frase: \"Es importante practicar la lógica de programación\" tiene 7 palabras y 49 caracteres\n"
     ]
    }
   ],
   "source": [
    "def contar_frases(frases):\n",
    "    for frase in frases:\n",
    "        \n",
    "        num_palabras = len(frase.split())\n",
    "        num_caracteres = len(frase)\n",
    "        \n",
    "        print(f'La frase: \"{frase}\" tiene {num_palabras} palabras y {num_caracteres} caracteres')\n",
    "\n",
    "\n",
    "frases = [\n",
    "    \"Hoy es un buen día para aprender Python\",\n",
    "    \"Las funciones hacen que el código sea reutilizable\",\n",
    "    \"Es importante practicar la lógica de programación\"\n",
    "]\n",
    "\n",
    "contar_frases(frases)\n"
   ]
  },
  {
   "cell_type": "markdown",
   "metadata": {},
   "source": [
    "## Ejercicio 2\n",
    "\n",
    "Escribe una función en Python que encuentre los valores de `a`, `b`, y `c` para que la función cuadrática `f(x) = aX^2 + bX + c` pase exactamente por los siguientes puntos:\n",
    "\n",
    "| x  | y  |\n",
    "|---:|---:|\n",
    "|  0 |  0 |\n",
    "|  1 |  8 |\n",
    "|  2 | 12 |\n",
    "|  3 | 12 |\n",
    "|  5 |  0 |\n",
    "\n",
    "### Requisitos:\n",
    "- La función debe explorar posibles valores de `a`, `b`, y `c` utilizando un método de prueba y error.\n",
    "- Debe devolver los valores que hagan que la diferencia entre la función `f(x)` y los valores medidos `y` sea exactamente cero para cada punto.\n",
    "\n",
    "> **Pista**: Los valores de `a`, `b`, y `c` son números pequeños."
   ]
  },
  {
   "cell_type": "code",
   "execution_count": 5,
   "metadata": {},
   "outputs": [
    {
     "name": "stdout",
     "output_type": "stream",
     "text": [
      "Los valores de a, b, y c que cumplen con los puntos son: (-2, 10, 0)\n"
     ]
    }
   ],
   "source": [
    "def encontrar_coeficientes():\n",
    "    puntos = [(0, 0), (1, 8), (2, 12), (3, 12), (5, 0)]\n",
    "    \n",
    "    for a in range(-10, 11):\n",
    "        for b in range(-10, 11):\n",
    "            for c in range(-10, 11):\n",
    "                if all(a * x**2 + b * x + c == y for x, y in puntos):\n",
    "                    return a, b, c\n",
    "\n",
    "    return None\n",
    "\n",
    "coeficientes = encontrar_coeficientes()\n",
    "if coeficientes:\n",
    "    print(f\"Los valores de a, b, y c que cumplen con los puntos son: {coeficientes}\")\n",
    "else:\n",
    "    print(\"No se encontraron coeficientes que satisfagan los puntos.\")\n",
    "\n",
    "              "
   ]
  }
 ],
 "metadata": {
  "kernelspec": {
   "display_name": "Python 3",
   "language": "python",
   "name": "python3"
  },
  "language_info": {
   "codemirror_mode": {
    "name": "ipython",
    "version": 3
   },
   "file_extension": ".py",
   "mimetype": "text/x-python",
   "name": "python",
   "nbconvert_exporter": "python",
   "pygments_lexer": "ipython3",
   "version": "3.11.4"
  }
 },
 "nbformat": 4,
 "nbformat_minor": 2
}
