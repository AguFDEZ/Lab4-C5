{
 "cells": [
  {
   "cell_type": "markdown",
   "metadata": {},
   "source": [
    "# Trabajo práctico 1\n",
    "\n"
   ]
  },
  {
   "cell_type": "markdown",
   "metadata": {},
   "source": [
    "## Ejercicio 1 \n",
    "\n",
    "Escribe una función en Python que procese una lista de cadenas de texto y realice las siguientes acciones:\n",
    "\n",
    "1. Tomar una lista de frases y convertir cada frase en una lista de palabras.\n",
    "1. Luego, debe crear una nueva lista que contenga la cantidad de palabras en cada frase.\n",
    "1. Tambien debe crear un lista que contenga la cantidad de caracteres en cada frase.\n",
    "1. Finalmente, debe imprimir cada frase original junto con la cantidad de palabras que contiene.\n",
    "Ejemplo de uso:\n",
    "```python\n",
    "    frases = [\n",
    "        \"Python es un lenguaje de programación\",\n",
    "        \"Me gusta resolver problemas con código\",\n",
    "        \"Las listas y los bucles son muy útiles\"\n",
    "    ]\n",
    "\n",
    "    procesar_frases(frases)\n",
    "```\n",
    "\n",
    "ejemplo de salida:\n",
    "```bash\n",
    "    La frase: \"Python es un...\"\n",
    "    tiene 6 palabras y 38 caracteres\n",
    "```\n"
   ]
  },
  {
   "cell_type": "code",
   "execution_count": 3,
   "metadata": {},
   "outputs": [
    {
     "name": "stdout",
     "output_type": "stream",
     "text": [
      "La frase: \"Estoy aprendiendo Python\" tiene 3 palabras y 24 caracteres\n",
      "La frase: \"JavaScript es un lenguaje de programación que se utiliza mucho\" tiene 10 palabras y 62 caracteres\n",
      "La frase: \"Estoy usando Visual Studio Code\" tiene 5 palabras y 31 caracteres\n",
      "La frase: \"Este es el primer ejercicio\" tiene 5 palabras y 27 caracteres\n"
     ]
    }
   ],
   "source": [
    "# Implementar\n",
    "\n",
    "def procesar_frases(frases):\n",
    "    for frase in frases:\n",
    "        palabras = frase.split()\n",
    "        \n",
    "        cant_palabras = len(palabras)\n",
    "        cant_caracteres = len(frase)\n",
    "        \n",
    "        print(f'La frase: \"{frase}\" tiene {cant_palabras} palabras y {cant_caracteres} caracteres')\n",
    "\n",
    "frases = [\n",
    "    \"Estoy aprendiendo Python\",\n",
    "    \"JavaScript es un lenguaje de programación que se utiliza mucho\",\n",
    "    \"Estoy usando Visual Studio Code\",\n",
    "    \"Este es el primer ejercicio\"\n",
    "]\n",
    "\n",
    "procesar_frases(frases)"
   ]
  },
  {
   "cell_type": "markdown",
   "metadata": {},
   "source": [
    "## Ejercicio 2\n",
    "\n",
    "Escribe una función en Python que encuentre los valores de `a`, `b`, y `c` para que la función cuadrática `f(x) = aX^2 + bX + c` pase exactamente por los siguientes puntos:\n",
    "\n",
    "| x  | y  |\n",
    "|---:|---:|\n",
    "|  0 |  0 |\n",
    "|  1 |  8 |\n",
    "|  2 | 12 |\n",
    "|  3 | 12 |\n",
    "|  5 |  0 |\n",
    "\n",
    "### Requisitos:\n",
    "- La función debe explorar posibles valores de `a`, `b`, y `c` utilizando un método de prueba y error.\n",
    "- Debe devolver los valores que hagan que la diferencia entre la función `f(x)` y los valores medidos `y` sea exactamente cero para cada punto.\n",
    "\n",
    "> **Pista**: Los valores de `a`, `b`, y `c` son números pequeños."
   ]
  },
  {
   "cell_type": "code",
   "execution_count": 4,
   "metadata": {},
   "outputs": [
    {
     "name": "stdout",
     "output_type": "stream",
     "text": [
      "Coeficientes encontrados: a = -2, b = 10, c = 0\n"
     ]
    }
   ],
   "source": [
    "# Implementar\n",
    "\n",
    "def encontrar_coeficientes(valores_x, valores_y, rango=10, paso=1):\n",
    "    \n",
    "    valor_minimo = -rango\n",
    "    valor_maximo = rango\n",
    "\n",
    "    for a in range(valor_minimo, valor_maximo + 1, paso):\n",
    "        for b in range(valor_minimo, valor_maximo + 1, paso):\n",
    "            for c in range(valor_minimo, valor_maximo + 1, paso):\n",
    "                \n",
    "                todos_puntos_coinciden = True\n",
    "                for x, y in zip(valores_x, valores_y):\n",
    "                    if a * x**2 + b * x + c != y:\n",
    "                        todos_puntos_coinciden = False\n",
    "                        break\n",
    "                \n",
    "                if todos_puntos_coinciden:\n",
    "                    return a, b, c\n",
    "\n",
    "    return None, None, None  \n",
    "\n",
    "valores_x = [0, 1, 2, 3, 5]\n",
    "valores_y = [0, 8, 12, 12, 0]\n",
    "\n",
    "a, b, c = encontrar_coeficientes(valores_x, valores_y)\n",
    "\n",
    "if a is not None:\n",
    "    print(f\"Coeficientes encontrados: a = {a}, b = {b}, c = {c}\")\n",
    "else:\n",
    "    print(\"No se encontró una combinación que pase exactamente por todos los puntos.\")\n"
   ]
  }
 ],
 "metadata": {
  "kernelspec": {
   "display_name": "Python 3",
   "language": "python",
   "name": "python3"
  },
  "language_info": {
   "codemirror_mode": {
    "name": "ipython",
    "version": 3
   },
   "file_extension": ".py",
   "mimetype": "text/x-python",
   "name": "python",
   "nbconvert_exporter": "python",
   "pygments_lexer": "ipython3",
   "version": "3.12.5"
  }
 },
 "nbformat": 4,
 "nbformat_minor": 2
}
