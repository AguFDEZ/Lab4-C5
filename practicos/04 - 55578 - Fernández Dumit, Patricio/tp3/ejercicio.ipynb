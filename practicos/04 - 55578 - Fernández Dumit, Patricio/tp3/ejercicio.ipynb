{
 "cells": [
  {
   "cell_type": "markdown",
   "metadata": {},
   "source": [
    "#TP3"
   ]
  },
  {
   "cell_type": "markdown",
   "metadata": {},
   "source": [
    "## Ejercicio 1: Cargar Datos de ventas.\n",
    "\n",
    "El archivo datos.dat contiene el registro de las ventas realizadas.\n",
    "\n",
    "Tiene un formato de ancho fijo:\n",
    "- fecha:    10 lugares\n",
    "- producto: 30 lugares\n",
    "- precio:   10 lugares\n",
    "- cantidad:  5 lugares\n",
    "\n",
    "hacer una funcion que carge los en una lista de diccionarios. \n",
    "\n",
    "nota: con \n",
    "```python\n",
    "lineas = open(\"datos.dat\", \"r\").readlines() \n",
    "```\n",
    "puede obtener la lista de string de todos los datos "
   ]
  },
  {
   "cell_type": "code",
   "execution_count": 18,
   "metadata": {},
   "outputs": [
    {
     "name": "stdout",
     "output_type": "stream",
     "text": [
      "Fecha: 2024-08-27, Producto: Mirinda, Precio: 1510.0, Cantidad: 14\n",
      "\n",
      "Fecha: 2024-08-27, Producto: Mirinda, Precio: 1560.0, Cantidad: 12\n",
      "\n",
      "Fecha: 2024-08-28, Producto: Torasso, Precio: 940.0, Cantidad: 8\n",
      "\n",
      "Fecha: 2024-08-29, Producto: Pepsi Cola, Precio: 1210.0, Cantidad: 10\n",
      "\n",
      "Fecha: 2024-08-30, Producto: Mirinda, Precio: 1520.0, Cantidad: 1\n",
      "\n",
      "Fecha: 2024-09-01, Producto: Mirinda, Precio: 1550.0, Cantidad: 15\n",
      "\n",
      "Fecha: 2024-09-01, Producto: Sprite, Precio: 810.0, Cantidad: 4\n",
      "\n",
      "Fecha: 2024-09-02, Producto: Coca Cola, Precio: 1100.0, Cantidad: 4\n",
      "\n",
      "Fecha: 2024-09-02, Producto: Pepsi Cola, Precio: 1220.0, Cantidad: 13\n",
      "\n",
      "Fecha: 2024-09-02, Producto: Torasso, Precio: 910.0, Cantidad: 5\n",
      "\n",
      "Fecha: 2024-09-02, Producto: Torasso, Precio: 920.0, Cantidad: 3\n",
      "\n",
      "Fecha: 2024-09-03, Producto: Coca Cola, Precio: 1020.0, Cantidad: 8\n",
      "\n",
      "Fecha: 2024-09-03, Producto: Mirinda, Precio: 1570.0, Cantidad: 7\n",
      "\n",
      "Fecha: 2024-09-03, Producto: Mirinda, Precio: 1590.0, Cantidad: 2\n",
      "\n",
      "Fecha: 2024-09-04, Producto: Pepsi Cola, Precio: 1220.0, Cantidad: 13\n",
      "\n",
      "Fecha: 2024-09-05, Producto: Mirinda, Precio: 1500.0, Cantidad: 3\n",
      "\n",
      "Fecha: 2024-09-05, Producto: Pepsi Cola, Precio: 1300.0, Cantidad: 5\n",
      "\n",
      "Fecha: 2024-09-06, Producto: Coca Cola, Precio: 1080.0, Cantidad: 1\n",
      "\n",
      "Fecha: 2024-09-06, Producto: Sprite, Precio: 860.0, Cantidad: 12\n",
      "\n",
      "Fecha: 2024-09-06, Producto: Torasso, Precio: 930.0, Cantidad: 3\n",
      "\n",
      "Fecha: 2024-09-07, Producto: Coca Cola, Precio: 1080.0, Cantidad: 14\n",
      "\n",
      "Fecha: 2024-09-07, Producto: Sprite, Precio: 870.0, Cantidad: 13\n",
      "\n",
      "Fecha: 2024-09-08, Producto: Coca Cola, Precio: 1040.0, Cantidad: 10\n",
      "\n",
      "Fecha: 2024-09-08, Producto: Mirinda, Precio: 1580.0, Cantidad: 2\n",
      "\n",
      "Fecha: 2024-09-08, Producto: Pepsi Cola, Precio: 1240.0, Cantidad: 9\n",
      "\n",
      "Fecha: 2024-09-09, Producto: Mirinda, Precio: 1500.0, Cantidad: 3\n",
      "\n",
      "Fecha: 2024-09-09, Producto: Sprite, Precio: 850.0, Cantidad: 9\n",
      "\n",
      "Fecha: 2024-09-10, Producto: Mirinda, Precio: 1590.0, Cantidad: 8\n",
      "\n",
      "Fecha: 2024-09-10, Producto: Pepsi Cola, Precio: 1250.0, Cantidad: 12\n",
      "\n",
      "Fecha: 2024-09-11, Producto: Sprite, Precio: 810.0, Cantidad: 6\n",
      "\n",
      "Fecha: 2024-09-11, Producto: Sprite, Precio: 820.0, Cantidad: 14\n",
      "\n",
      "Fecha: 2024-09-12, Producto: Coca Cola, Precio: 1080.0, Cantidad: 4\n",
      "\n",
      "Fecha: 2024-09-13, Producto: Mirinda, Precio: 1580.0, Cantidad: 5\n",
      "\n",
      "Fecha: 2024-09-13, Producto: Pepsi Cola, Precio: 1250.0, Cantidad: 13\n",
      "\n",
      "Fecha: 2024-09-14, Producto: Coca Cola, Precio: 1080.0, Cantidad: 15\n",
      "\n",
      "Fecha: 2024-09-14, Producto: Pepsi Cola, Precio: 1270.0, Cantidad: 14\n",
      "\n",
      "Fecha: 2024-09-15, Producto: Coca Cola, Precio: 1100.0, Cantidad: 1\n",
      "\n",
      "Fecha: 2024-09-15, Producto: Mirinda, Precio: 1500.0, Cantidad: 13\n",
      "\n",
      "Fecha: 2024-09-15, Producto: Sprite, Precio: 870.0, Cantidad: 14\n",
      "\n",
      "Fecha: 2024-09-15, Producto: Torasso, Precio: 900.0, Cantidad: 13\n",
      "\n"
     ]
    }
   ],
   "source": [
    "def cargar_datos():\n",
    "    lista_ventas = []\n",
    "\n",
    "    with open(\"datos.dat\", \"r\") as file:\n",
    "        lineas = file.readlines()\n",
    "\n",
    "    for linea in lineas:\n",
    "       \n",
    "        fecha = linea[0:10].strip()\n",
    "        producto = linea[10:40].strip()\n",
    "        precio = float(linea[40:50].strip())\n",
    "        cantidad = int(linea[50:55].strip())\n",
    "\n",
    "        venta = {\n",
    "            'fecha': fecha,\n",
    "            'producto': producto,\n",
    "            'precio': precio,\n",
    "            'cantidad': cantidad\n",
    "        }\n",
    "\n",
    "        lista_ventas.append(venta)\n",
    "    \n",
    "    return lista_ventas\n",
    "\n",
    "datos = cargar_datos()\n",
    "\n",
    "for venta in datos:\n",
    "    print(f\"Fecha: {venta['fecha']}, Producto: {venta['producto']}, Precio: {venta['precio']}, Cantidad: {venta['cantidad']}\\n\")"
   ]
  },
  {
   "cell_type": "markdown",
   "metadata": {},
   "source": [
    "## Ejercicio 2: Calcular el total de ventas.\n",
    "\n",
    "Hacer una funcion que sume los importes vendidos (precio * cantidad) y las cantidades"
   ]
  },
  {
   "cell_type": "code",
   "execution_count": 19,
   "metadata": {},
   "outputs": [
    {
     "name": "stdout",
     "output_type": "stream",
     "text": [
      "Las ventas fueron de $392730.00 en 335 unidades\n"
     ]
    }
   ],
   "source": [
    "def calcular_totales(datos):\n",
    "    total_importe = 0.0 \n",
    "    total_cantidad = 0     \n",
    "    \n",
    "    for venta in datos:\n",
    "        importe = venta['precio'] * venta['cantidad']\n",
    "        \n",
    "        total_importe += importe\n",
    "\n",
    "        total_cantidad += venta['cantidad']\n",
    "    \n",
    "    return total_importe, total_cantidad\n",
    "\n",
    "datos = cargar_datos()\n",
    "\n",
    "importe, cantidad = calcular_totales(datos)\n",
    "\n",
    "print(f\"Las ventas fueron de ${importe:.2f} en {cantidad} unidades\")"
   ]
  },
  {
   "cell_type": "markdown",
   "metadata": {},
   "source": [
    "## Ejercicio 3: Listar las unidades vendidas.\n",
    "\n",
    "Listar cuantas unidades se vendieron en total para cada producto"
   ]
  },
  {
   "cell_type": "code",
   "execution_count": 20,
   "metadata": {},
   "outputs": [
    {
     "name": "stdout",
     "output_type": "stream",
     "text": [
      "Unidades vendidas por producto:\n",
      "\n",
      "Mirinda: 85 unidades\n",
      "\n",
      "Torasso: 32 unidades\n",
      "\n",
      "Pepsi Cola: 89 unidades\n",
      "\n",
      "Sprite: 72 unidades\n",
      "\n",
      "Coca Cola: 57 unidades\n",
      "\n"
     ]
    }
   ],
   "source": [
    "def unidades_vendidas(datos):\n",
    "    unidades_por_producto = {}\n",
    "    \n",
    "    for venta in datos:\n",
    "        producto = venta['producto']\n",
    "        cantidad = venta['cantidad']\n",
    "\n",
    "        if producto in unidades_por_producto:\n",
    "            unidades_por_producto[producto] += cantidad\n",
    "        else:\n",
    "            unidades_por_producto[producto] = cantidad\n",
    "    \n",
    "    return unidades_por_producto\n",
    "\n",
    "def listar_ventas(unidades):\n",
    "    print(\"Unidades vendidas por producto:\")\n",
    "    print()\n",
    "    for producto, cantidad in unidades.items():\n",
    "        print(f\"{producto}: {cantidad} unidades\")\n",
    "        print()\n",
    "\n",
    "datos = cargar_datos()\n",
    "\n",
    "ventas = unidades_vendidas(datos)\n",
    "\n",
    "listar_ventas(ventas)"
   ]
  },
  {
   "cell_type": "markdown",
   "metadata": {},
   "source": [
    "##  Ejercicio 4: Listar el precio promedio por producto.\n",
    "\n",
    "Hacer un listado del precio promedio por productos."
   ]
  },
  {
   "cell_type": "code",
   "execution_count": 21,
   "metadata": {},
   "outputs": [
    {
     "name": "stdout",
     "output_type": "stream",
     "text": [
      "Precio promedio por producto:\n",
      "\n",
      "Mirinda: $1542.12\n",
      "\n",
      "Torasso: $916.25\n",
      "\n",
      "Pepsi Cola: $1241.69\n",
      "\n",
      "Sprite: $847.78\n",
      "\n",
      "Coca Cola: $1066.32\n",
      "\n"
     ]
    }
   ],
   "source": [
    "def precio_promedio(datos):\n",
    "    total_precio = {}\n",
    "    total_cantidad = {}\n",
    "\n",
    "    for venta in datos:\n",
    "        producto = venta['producto']\n",
    "        precio = venta['precio']\n",
    "        cantidad = venta['cantidad']\n",
    "\n",
    "        if producto in total_precio:\n",
    "            total_precio[producto] += precio * cantidad \n",
    "            total_cantidad[producto] += cantidad          \n",
    "        else:\n",
    "            total_precio[producto] = precio * cantidad  \n",
    "            total_cantidad[producto] = cantidad          \n",
    "    \n",
    "    promedio_precio = {producto: total_precio[producto] / total_cantidad[producto] for producto in total_precio}\n",
    "    \n",
    "    return promedio_precio\n",
    "\n",
    "def listar_precios(precios):\n",
    "    print(\"Precio promedio por producto:\")\n",
    "    print()\n",
    "    for producto, promedio in precios.items():\n",
    "        print(f\"{producto}: ${promedio:.2f}\")\n",
    "        print()\n",
    "\n",
    "datos = cargar_datos()\n",
    "\n",
    "precios = precio_promedio(datos)\n",
    "\n",
    "listar_precios(precios)"
   ]
  },
  {
   "cell_type": "markdown",
   "metadata": {},
   "source": [
    "### Ejercicio 5: Ranking de productos\n",
    "\n",
    "Realizar un listado de los 3 productos mas vendidos ordenados la cantidad de unidades vendidas (ordenadas de mayor a menor)\n"
   ]
  },
  {
   "cell_type": "code",
   "execution_count": 22,
   "metadata": {},
   "outputs": [
    {
     "name": "stdout",
     "output_type": "stream",
     "text": [
      "Ranking de los 3 productos más vendidos (ordenados de mayor a menor):\n",
      "\n",
      "Pepsi Cola: 89 unidades\n",
      "\n",
      "Mirinda: 85 unidades\n",
      "\n",
      "Sprite: 72 unidades\n",
      "\n"
     ]
    }
   ],
   "source": [
    "def ranking_productos(datos, top=3):\n",
    "    unidades_por_producto = {}\n",
    "    \n",
    "    for venta in datos:\n",
    "        producto = venta['producto']\n",
    "        cantidad = venta['cantidad']\n",
    "        \n",
    "        if producto in unidades_por_producto:\n",
    "            unidades_por_producto[producto] += cantidad\n",
    "        else:\n",
    "            unidades_por_producto[producto] = cantidad\n",
    "\n",
    "    ranking_ordenado = sorted(unidades_por_producto.items(), key=lambda item: item[1], reverse=True)\n",
    "    \n",
    "    return ranking_ordenado[:top]\n",
    "\n",
    "def listar_ranking(ranking):\n",
    "    print(\"Ranking de los 3 productos más vendidos (ordenados de mayor a menor):\")\n",
    "    print()\n",
    "    for producto, cantidad in ranking:\n",
    "        print(f\"{producto}: {cantidad} unidades\")\n",
    "        print()\n",
    "\n",
    "datos = cargar_datos()\n",
    "\n",
    "ranking = ranking_productos(datos)\n",
    "\n",
    "listar_ranking(ranking)"
   ]
  },
  {
   "cell_type": "markdown",
   "metadata": {},
   "source": [
    "### Ejercicio 6: Listar las ventas por mes\n",
    "\n",
    "Realizar un listado del total de unidades vendidas por productos separada por mes."
   ]
  },
  {
   "cell_type": "code",
   "execution_count": 23,
   "metadata": {},
   "outputs": [
    {
     "name": "stdout",
     "output_type": "stream",
     "text": [
      "Ventas totales de cada producto por mes:\n",
      "\n",
      "Mes: 2024-08\n",
      "Mirinda: 27 unidades\n",
      "Torasso: 8 unidades\n",
      "Pepsi Cola: 10 unidades\n",
      "\n",
      "Mes: 2024-09\n",
      "Mirinda: 58 unidades\n",
      "Sprite: 72 unidades\n",
      "Coca Cola: 57 unidades\n",
      "Pepsi Cola: 79 unidades\n",
      "Torasso: 24 unidades\n"
     ]
    }
   ],
   "source": [
    "from collections import defaultdict\n",
    "from datetime import datetime\n",
    "\n",
    "def ventas_por_mes(datos):\n",
    "    ventas_mensuales = defaultdict(lambda: defaultdict(int))\n",
    "    \n",
    "    for venta in datos:\n",
    "        producto = venta['producto']\n",
    "        cantidad = venta['cantidad']\n",
    "        fecha = venta['fecha']  \n",
    "        \n",
    "        mes = datetime.strptime(fecha, '%Y-%m-%d').strftime('%Y-%m')  \n",
    "        \n",
    "        ventas_mensuales[mes][producto] += cantidad\n",
    "    \n",
    "    return dict(ventas_mensuales) \n",
    "\n",
    "def listar_ventas_mensuales(ventas):\n",
    "    print(\"Ventas totales de cada producto por mes:\")\n",
    "    for mes, productos in ventas.items():\n",
    "        print(f\"\\nMes: {mes}\")\n",
    "        for producto, cantidad in productos.items():\n",
    "            print(f\"{producto}: {cantidad} unidades\")\n",
    "\n",
    "datos = cargar_datos()\n",
    "\n",
    "ventas = ventas_por_mes(datos)\n",
    "\n",
    "listar_ventas_mensuales(ventas)"
   ]
  },
  {
   "cell_type": "markdown",
   "metadata": {},
   "source": [
    "### Ejercicio 7: Informe general\n",
    "\n",
    "Mostrar un listado de productos ordenados alfabeticamente que contengan el precio promedio, la cantidad de unidades vendidas y el importe total vendido para cada producto"
   ]
  },
  {
   "cell_type": "code",
   "execution_count": 15,
   "metadata": {},
   "outputs": [
    {
     "name": "stdout",
     "output_type": "stream",
     "text": [
      "Producto                       Precio promedio      Unidades vendidas    Importe total  \n",
      "==========================================================================================\n",
      "Coca Cola                      1066.32              57                   60780.00       \n",
      "\n",
      "Mirinda                        1542.12              85                   131080.00      \n",
      "\n",
      "Pepsi Cola                     1241.69              89                   110510.00      \n",
      "\n",
      "Sprite                         847.78               72                   61040.00       \n",
      "\n",
      "Torasso                        916.25               32                   29320.00       \n",
      "\n"
     ]
    }
   ],
   "source": [
    "def cargar_datos_ventas():\n",
    "    lista_ventas = []\n",
    "    \n",
    "    with open(\"datos.dat\", \"r\") as file:\n",
    "        lineas = file.readlines()\n",
    "        \n",
    "        for linea in lineas:\n",
    "            fecha = linea[0:10].strip()  \n",
    "            producto = linea[10:40].strip()   \n",
    "            precio = float(linea[40:50].strip())  \n",
    "            cantidad = int(linea[50:55].strip())  \n",
    "            \n",
    "            venta = {\n",
    "                'fecha': fecha,\n",
    "                'producto': producto,\n",
    "                'precio': precio,\n",
    "                'cantidad': cantidad\n",
    "            }\n",
    "            \n",
    "            lista_ventas.append(venta)\n",
    "    \n",
    "    return lista_ventas\n",
    "\n",
    "def resumen_ventas(datos):\n",
    "    resumen = {}\n",
    "\n",
    "    for venta in datos:\n",
    "        producto = venta['producto']\n",
    "        precio = venta['precio']\n",
    "        cantidad = venta['cantidad']\n",
    "        importe_total = precio * cantidad\n",
    "        \n",
    "        if producto not in resumen:\n",
    "            resumen[producto] = {\n",
    "                'total_cantidad': 0,\n",
    "                'total_importe': 0.0,\n",
    "                'num_ventas': 0\n",
    "            }\n",
    "\n",
    "        resumen[producto]['total_cantidad'] += cantidad\n",
    "        resumen[producto]['total_importe'] += importe_total\n",
    "        resumen[producto]['num_ventas'] += 1\n",
    " \n",
    "    for producto in resumen:\n",
    "        total_cantidad = resumen[producto]['total_cantidad']\n",
    "        total_importe = resumen[producto]['total_importe']\n",
    "        resumen[producto]['precio_promedio'] = total_importe / total_cantidad\n",
    "\n",
    "    return resumen\n",
    "\n",
    "def informe_ventas(resumen):\n",
    "    productos = sorted(resumen.keys())\n",
    "    \n",
    "    print(f\"{'Producto':<30} {'Precio promedio':<20} {'Unidades vendidas':<20} {'Importe total':<15}\")\n",
    "    print(\"=\" * 90)  \n",
    "    \n",
    "    for producto in productos:\n",
    "        datos_producto = resumen[producto]\n",
    "        print(f\"{producto:<30} {datos_producto['precio_promedio']:<20.2f} {datos_producto['total_cantidad']:<20} {datos_producto['total_importe']:<15.2f}\")\n",
    "        print()\n",
    "        \n",
    "datos_ventas = cargar_datos_ventas()  \n",
    "resumen = resumen_ventas(datos_ventas)  \n",
    "informe_ventas(resumen)                 "
   ]
  }
 ],
 "metadata": {
  "kernelspec": {
   "display_name": "Python 3",
   "language": "python",
   "name": "python3"
  },
  "language_info": {
   "codemirror_mode": {
    "name": "ipython",
    "version": 3
   },
   "file_extension": ".py",
   "mimetype": "text/x-python",
   "name": "python",
   "nbconvert_exporter": "python",
   "pygments_lexer": "ipython3",
   "version": "3.12.5"
  }
 },
 "nbformat": 4,
 "nbformat_minor": 2
}
