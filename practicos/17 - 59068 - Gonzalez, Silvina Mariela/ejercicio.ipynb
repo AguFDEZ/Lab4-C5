{
 "cells": [
  {
   "cell_type": "markdown",
   "metadata": {},
   "source": [
    "# Trabajo práctico 1\n",
    "\n"
   ]
  },
  {
   "cell_type": "markdown",
   "metadata": {},
   "source": [
    "## Ejercicio 1 \n",
    "\n",
    "Escribe una función en Python que procese una lista de cadenas de texto y realice las siguientes acciones:\n",
    "\n",
    "1. Tomar una lista de frases y convertir cada frase en una lista de palabras.\n",
    "1. Luego, debe crear una nueva lista que contenga la cantidad de palabras en cada frase.\n",
    "1. Tambien debe crear un lista que contenga la cantidad de caracteres en cada frase.\n",
    "1. Finalmente, debe imprimir cada frase original junto con la cantidad de palabras que contiene.\n",
    "Ejemplo de uso:\n",
    "```python\n",
    "    frases = [\n",
    "        \"Python es un lenguaje de programación\",\n",
    "        \"Me gusta resolver problemas con código\",\n",
    "        \"Las listas y los bucles son muy útiles\"\n",
    "    ]\n",
    "\n",
    "    procesar_frases(frases)\n",
    "```\n",
    "\n",
    "ejemplo de salida:\n",
    "```bash\n",
    "    La frase: \"Python es un...\"\n",
    "    tiene 6 palabras y 38 caracteres\n",
    "```\n"
   ]
  },
  {
   "cell_type": "code",
   "execution_count": 1,
   "metadata": {},
   "outputs": [
    {
     "name": "stdout",
     "output_type": "stream",
     "text": [
      "['La', 'única', 'manera', 'de', 'hacer', 'un', 'gran', 'trabajo', 'es', 'amar', 'lo', 'que', 'haces']\n",
      "La frase:  La única manera de hacer un gran trabajo es amar lo que haces \n",
      "tiene  13 palabras y  49  caráctares.\n",
      "['No', 'te', 'rindas,', 'sigue', 'adelante,', 'la', 'persverancia', 'es', 'la', 'clave', 'del', 'éxito']\n",
      "La frase:  No te rindas, sigue adelante, la persverancia es la clave del éxito \n",
      "tiene  12 palabras y  56  caráctares.\n",
      "['No', 'importa', 'cuan', 'lento', 'vayas,', 'siempre', 'y', 'cuando', 'no', 'te', 'detengas']\n",
      "La frase:  No importa cuan lento vayas, siempre y cuando no te detengas \n",
      "tiene  11 palabras y  50  caráctares.\n",
      "['La', 'única', 'persona', 'que', 'tienes', 'que', 'ser', 'mejor', 'que', 'es', 'la', 'que', 'fuíste', 'ayer']\n",
      "La frase:  La única persona que tienes que ser mejor que es la que fuíste ayer \n",
      "tiene  14 palabras y  54  caráctares.\n"
     ]
    }
   ],
   "source": [
    "# Implementar\n",
    "\n",
    "def procesar_frases(frases):\n",
    "    contarPalabras = 0\n",
    "    for frase in frases:\n",
    "        contarLetras = 0\n",
    "        palabras = frase.split()\n",
    "        print(palabras)\n",
    "        contarPalabras=len(palabras)\n",
    "        for palabra in palabras:\n",
    "            contarLetras+=len(palabra)\n",
    "        print(\"La frase: \", frase, \"\\ntiene \", contarPalabras, \"palabras y \", contarLetras, \" caráctares.\")\n",
    "\n",
    "frases = [\n",
    "    \"La única manera de hacer un gran trabajo es amar lo que haces\",\n",
    "    \"No te rindas, sigue adelante, la persverancia es la clave del éxito\",\n",
    "    \"No importa cuan lento vayas, siempre y cuando no te detengas\",\n",
    "    \"La única persona que tienes que ser mejor que es la que fuíste ayer\"\n",
    "]\n",
    "\n",
    "procesar_frases(frases)"
   ]
  },
  {
   "cell_type": "markdown",
   "metadata": {},
   "source": [
    "## Ejercicio 2\n",
    "\n",
    "Escribe una función en Python que encuentre los valores de `a`, `b`, y `c` para que la función cuadrática `f(x) = aX^2 + bX + c` pase exactamente por los siguientes puntos:\n",
    "\n",
    "| x  | y  |\n",
    "|---:|---:|\n",
    "|  0 |  0 |\n",
    "|  1 |  8 |\n",
    "|  2 | 12 |\n",
    "|  3 | 12 |\n",
    "|  5 |  0 |\n",
    "\n",
    "### Requisitos:\n",
    "- La función debe explorar posibles valores de `a`, `b`, y `c` utilizando un método de prueba y error.\n",
    "- Debe devolver los valores que hagan que la diferencia entre la función `f(x)` y los valores medidos `y` sea exactamente cero para cada punto.\n",
    "\n",
    "> **Pista**: Los valores de `a`, `b`, y `c` son números pequeños."
   ]
  },
  {
   "cell_type": "code",
   "execution_count": 14,
   "metadata": {},
   "outputs": [
    {
     "name": "stdout",
     "output_type": "stream",
     "text": [
      "Coeficientes: a = -2, b = 10 y c = 0\n"
     ]
    }
   ],
   "source": [
    "def encontrar_abc():\n",
    "    puntos = [(0, 0), (1, 8), (2, 12), (3, 12), (5, 0)]\n",
    "    rango = range(-20, 21)\n",
    "\n",
    "    for a in rango:\n",
    "        for b in rango:\n",
    "            for c in rango:\n",
    "                encontrado = True\n",
    "                for x, y_esperado in puntos:\n",
    "                    y_calculado = a * x**2 + b * x + c\n",
    "                    if round(y_calculado, 2) != y_esperado:\n",
    "                        encontrado = False\n",
    "                        break\n",
    "                if encontrado:\n",
    "                    return a, b, c\n",
    "    return None\n",
    "\n",
    "abc = encontrar_abc()\n",
    "if abc:\n",
    "    a, b, c = abc\n",
    "    print(f\"Coeficientes: a = {a}, b = {b} y c = {c}\")\n",
    "else:\n",
    "    print(\"No se ha encontrado soluciones.\")"
   ]
  }
 ],
 "metadata": {
  "kernelspec": {
   "display_name": "Python 3",
   "language": "python",
   "name": "python3"
  },
  "language_info": {
   "codemirror_mode": {
    "name": "ipython",
    "version": 3
   },
   "file_extension": ".py",
   "mimetype": "text/x-python",
   "name": "python",
   "nbconvert_exporter": "python",
   "pygments_lexer": "ipython3",
   "version": "3.12.2"
  }
 },
 "nbformat": 4,
 "nbformat_minor": 2
}
