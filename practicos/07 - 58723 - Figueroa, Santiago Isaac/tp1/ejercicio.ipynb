{
 "cells": [
  {
   "cell_type": "markdown",
   "metadata": {},
   "source": [
    "# Trabajo práctico 1\n",
    "\n"
   ]
  },
  {
   "cell_type": "markdown",
   "metadata": {},
   "source": [
    "## Ejercicio 1 \n",
    "\n",
    "Escribe una función en Python que procese una lista de cadenas de texto y realice las siguientes acciones:\n",
    "\n",
    "1. Tomar una lista de frases y convertir cada frase en una lista de palabras.\n",
    "1. Luego, debe crear una nueva lista que contenga la cantidad de palabras en cada frase.\n",
    "1. Tambien debe crear un lista que contenga la cantidad de caracteres en cada frase.\n",
    "1. Finalmente, debe imprimir cada frase original junto con la cantidad de palabras que contiene.\n",
    "Ejemplo de uso:\n",
    "```python\n",
    "    frases = [\n",
    "        \"Python es un lenguaje de programación\",\n",
    "        \"Me gusta resolver problemas con código\",\n",
    "        \"Las listas y los bucles son muy útiles\"\n",
    "    ]\n",
    "\n",
    "    procesar_frases(frases)\n",
    "```\n",
    "\n",
    "ejemplo de salida:\n",
    "```bash\n",
    "    La frase: \"Python es un...\"\n",
    "    tiene 6 palabras y 38 caracteres\n",
    "```\n"
   ]
  },
  {
   "cell_type": "code",
   "execution_count": 1,
   "metadata": {},
   "outputs": [
    {
     "name": "stdout",
     "output_type": "stream",
     "text": [
      "Python es un lenguaje de programacion, Cantidad de palabras: 6, Cantidad de caracteres: 37\n",
      "Me gusta resolver problemas con codigo, Cantidad de palabras: 6, Cantidad de caracteres: 38\n",
      "Las listas y los bucles son muy utiles, Cantidad de palabras: 8, Cantidad de caracteres: 38\n"
     ]
    }
   ],
   "source": [
    "# Implementar\n",
    "\n",
    "frases = [\"Python es un lenguaje de programacion\",\n",
    "          \"Me gusta resolver problemas con codigo\",\n",
    "          \"Las listas y los bucles son muy utiles\"]\n",
    "\n",
    "def procesar_frases(frases):\n",
    "    for i in frases:\n",
    "        cant_palabras = len(i.split())\n",
    "        cant_caract = len(i)\n",
    "\n",
    "        print(f\"{i}, Cantidad de palabras: {cant_palabras}, Cantidad de caracteres: {cant_caract}\")\n",
    "\n",
    "procesar_frases(frases)\n",
    "\n"
   ]
  },
  {
   "cell_type": "markdown",
   "metadata": {},
   "source": [
    "## Ejercicio 2\n",
    "\n",
    "Escribe una función en Python que encuentre los valores de `a`, `b`, y `c` para que la función cuadrática `f(x) = aX^2 + bX + c` pase exactamente por los siguientes puntos:\n",
    "\n",
    "| x  | y  |\n",
    "|---:|---:|\n",
    "|  0 |  0 |\n",
    "|  1 |  8 |\n",
    "|  2 | 12 |\n",
    "|  3 | 12 |\n",
    "|  5 |  0 |\n",
    "\n",
    "### Requisitos:\n",
    "- La función debe explorar posibles valores de `a`, `b`, y `c` utilizando un método de prueba y error.\n",
    "- Debe devolver los valores que hagan que la diferencia entre la función `f(x)` y los valores medidos `y` sea exactamente cero para cada punto.\n",
    "\n",
    "> **Pista**: Los valores de `a`, `b`, y `c` son números pequeños."
   ]
  },
  {
   "cell_type": "code",
   "execution_count": 2,
   "metadata": {},
   "outputs": [
    {
     "name": "stdout",
     "output_type": "stream",
     "text": [
      "Coeficientes encontrados: a = -2, b = 10, c = 0\n"
     ]
    }
   ],
   "source": [
    "# Implementar\n",
    "\n",
    "def encontrarcoeficiente():\n",
    "    puntos = [(0,0),(1,8),(2,12),(3,12),(5,0)]\n",
    "\n",
    "    for a in range(-10, 11):\n",
    "        for b in range(-10, 11):\n",
    "            for c in range(-10, 11):\n",
    "                es_valido = True\n",
    "                for x, y in puntos:\n",
    "                    fx = a * x**2 + b * x + c\n",
    "                    if fx != y:\n",
    "                        es_valido = False\n",
    "                        break \n",
    "                if es_valido:\n",
    "                    return a, b, c\n",
    "\n",
    "    return None  \n",
    "\n",
    "resultado = encontrarcoeficiente()\n",
    "\n",
    "if resultado:\n",
    "    a, b, c = resultado\n",
    "    print(f\"Coeficientes encontrados: a = {a}, b = {b}, c = {c}\")\n",
    "else:\n",
    "    print(\"No se encontraron coeficientes que satisfagan todos los puntos.\")"
   ]
  },
  {
   "cell_type": "code",
   "execution_count": null,
   "metadata": {},
   "outputs": [],
   "source": []
  }
 ],
 "metadata": {
  "kernelspec": {
   "display_name": "Python 3",
   "language": "python",
   "name": "python3"
  },
  "language_info": {
   "codemirror_mode": {
    "name": "ipython",
    "version": 3
   },
   "file_extension": ".py",
   "mimetype": "text/x-python",
   "name": "python",
   "nbconvert_exporter": "python",
   "pygments_lexer": "ipython3",
   "version": "3.12.6"
  }
 },
 "nbformat": 4,
 "nbformat_minor": 2
}
