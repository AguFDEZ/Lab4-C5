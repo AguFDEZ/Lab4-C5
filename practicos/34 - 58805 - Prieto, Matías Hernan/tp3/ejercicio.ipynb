{
 "cells": [
  {
   "cell_type": "markdown",
   "metadata": {},
   "source": [
    "#TP3"
   ]
  },
  {
   "cell_type": "markdown",
   "metadata": {},
   "source": [
    "## Ejercicio 1: Cargar Datos de ventas.\n",
    "\n",
    "El archivo datos.dat contiene el registro de las ventas realizadas.\n",
    "\n",
    "Tiene un formato de ancho fijo:\n",
    "- fecha:    10 lugares\n",
    "- producto: 30 lugares\n",
    "- precio:   10 lugares\n",
    "- cantidad:  5 lugares\n",
    "\n",
    "hacer una funcion que carge los en una lista de diccionarios. \n",
    "\n",
    "nota: con \n",
    "```python\n",
    "lineas = open(\"datos.dat\", \"r\").readlines() \n",
    "```\n",
    "puede obtener la lista de string de todos los datos "
   ]
  },
  {
   "cell_type": "code",
   "execution_count": 29,
   "metadata": {},
   "outputs": [
    {
     "name": "stdout",
     "output_type": "stream",
     "text": [
      "{'producto': 'Mirinda', 'fecha': '2024-08-27', 'precio': '1510', 'cantidad': '14'}\n",
      "{'producto': 'Mirinda', 'fecha': '2024-08-27', 'precio': '1560', 'cantidad': '12'}\n",
      "{'producto': 'Torasso', 'fecha': '2024-08-28', 'precio': '940', 'cantidad': '8'}\n",
      "{'producto': 'Pepsi Cola', 'fecha': '2024-08-29', 'precio': '1210', 'cantidad': '10'}\n",
      "{'producto': 'Mirinda', 'fecha': '2024-08-30', 'precio': '1520', 'cantidad': '1'}\n",
      "{'producto': 'Mirinda', 'fecha': '2024-09-01', 'precio': '1550', 'cantidad': '15'}\n",
      "{'producto': 'Sprite', 'fecha': '2024-09-01', 'precio': '810', 'cantidad': '4'}\n",
      "{'producto': 'Coca Cola', 'fecha': '2024-09-02', 'precio': '1100', 'cantidad': '4'}\n",
      "{'producto': 'Pepsi Cola', 'fecha': '2024-09-02', 'precio': '1220', 'cantidad': '13'}\n",
      "{'producto': 'Torasso', 'fecha': '2024-09-02', 'precio': '910', 'cantidad': '5'}\n",
      "{'producto': 'Torasso', 'fecha': '2024-09-02', 'precio': '920', 'cantidad': '3'}\n",
      "{'producto': 'Coca Cola', 'fecha': '2024-09-03', 'precio': '1020', 'cantidad': '8'}\n",
      "{'producto': 'Mirinda', 'fecha': '2024-09-03', 'precio': '1570', 'cantidad': '7'}\n",
      "{'producto': 'Mirinda', 'fecha': '2024-09-03', 'precio': '1590', 'cantidad': '2'}\n",
      "{'producto': 'Pepsi Cola', 'fecha': '2024-09-04', 'precio': '1220', 'cantidad': '13'}\n",
      "{'producto': 'Mirinda', 'fecha': '2024-09-05', 'precio': '1500', 'cantidad': '3'}\n",
      "{'producto': 'Pepsi Cola', 'fecha': '2024-09-05', 'precio': '1300', 'cantidad': '5'}\n",
      "{'producto': 'Coca Cola', 'fecha': '2024-09-06', 'precio': '1080', 'cantidad': '1'}\n",
      "{'producto': 'Sprite', 'fecha': '2024-09-06', 'precio': '860', 'cantidad': '12'}\n",
      "{'producto': 'Torasso', 'fecha': '2024-09-06', 'precio': '930', 'cantidad': '3'}\n",
      "{'producto': 'Coca Cola', 'fecha': '2024-09-07', 'precio': '1080', 'cantidad': '14'}\n",
      "{'producto': 'Sprite', 'fecha': '2024-09-07', 'precio': '870', 'cantidad': '13'}\n",
      "{'producto': 'Coca Cola', 'fecha': '2024-09-08', 'precio': '1040', 'cantidad': '10'}\n",
      "{'producto': 'Mirinda', 'fecha': '2024-09-08', 'precio': '1580', 'cantidad': '2'}\n",
      "{'producto': 'Pepsi Cola', 'fecha': '2024-09-08', 'precio': '1240', 'cantidad': '9'}\n",
      "{'producto': 'Mirinda', 'fecha': '2024-09-09', 'precio': '1500', 'cantidad': '3'}\n",
      "{'producto': 'Sprite', 'fecha': '2024-09-09', 'precio': '850', 'cantidad': '9'}\n",
      "{'producto': 'Mirinda', 'fecha': '2024-09-10', 'precio': '1590', 'cantidad': '8'}\n",
      "{'producto': 'Pepsi Cola', 'fecha': '2024-09-10', 'precio': '1250', 'cantidad': '12'}\n",
      "{'producto': 'Sprite', 'fecha': '2024-09-11', 'precio': '810', 'cantidad': '6'}\n",
      "{'producto': 'Sprite', 'fecha': '2024-09-11', 'precio': '820', 'cantidad': '14'}\n",
      "{'producto': 'Coca Cola', 'fecha': '2024-09-12', 'precio': '1080', 'cantidad': '4'}\n",
      "{'producto': 'Mirinda', 'fecha': '2024-09-13', 'precio': '1580', 'cantidad': '5'}\n",
      "{'producto': 'Pepsi Cola', 'fecha': '2024-09-13', 'precio': '1250', 'cantidad': '13'}\n",
      "{'producto': 'Coca Cola', 'fecha': '2024-09-14', 'precio': '1080', 'cantidad': '15'}\n",
      "{'producto': 'Pepsi Cola', 'fecha': '2024-09-14', 'precio': '1270', 'cantidad': '14'}\n",
      "{'producto': 'Coca Cola', 'fecha': '2024-09-15', 'precio': '1100', 'cantidad': '1'}\n",
      "{'producto': 'Mirinda', 'fecha': '2024-09-15', 'precio': '1500', 'cantidad': '13'}\n",
      "{'producto': 'Sprite', 'fecha': '2024-09-15', 'precio': '870', 'cantidad': '14'}\n",
      "{'producto': 'Torasso', 'fecha': '2024-09-15', 'precio': '900', 'cantidad': '13'}\n"
     ]
    }
   ],
   "source": [
    "def cargar_datos():\n",
    "    lineas = open(\"datos.dat\", \"r\").readlines()\n",
    "    diccionario_producto = {}\n",
    "    lista_diccionario = []\n",
    "    for producto in lineas:\n",
    "        partes = producto.strip()\n",
    "        fecha_producto = partes[:10]\n",
    "        resto = partes[10:].strip()\n",
    "        resto = \" \".join(resto.split())\n",
    "        nombre_producto = \" \".join(resto.split()[:-2])\n",
    "        precio_producto = resto.split()[-2]\n",
    "        cantidad_producto = resto.split()[-1]\n",
    "\n",
    "        lista_diccionario.append({\n",
    "            \"producto\": nombre_producto,\n",
    "            \"fecha\": fecha_producto,\n",
    "            \"precio\": precio_producto,\n",
    "            \"cantidad\": cantidad_producto\n",
    "        })\n",
    "    return lista_diccionario\n",
    "\n",
    "datos = cargar_datos()\n",
    "for i in datos:\n",
    "    print(i)"
   ]
  },
  {
   "cell_type": "markdown",
   "metadata": {},
   "source": [
    "## Ejercicio 2: Calcular el total de ventas.\n",
    "\n",
    "Hacer una funcion que sume los importes vendidos (precio * cantidad) y las cantidades"
   ]
  },
  {
   "cell_type": "code",
   "execution_count": 30,
   "metadata": {},
   "outputs": [
    {
     "name": "stdout",
     "output_type": "stream",
     "text": [
      "Las ventas fueron de $392730.00 en 335 unidades\n"
     ]
    }
   ],
   "source": [
    "def calcular_totales(datos):\n",
    "    importe = 0\n",
    "    cantidad = 0\n",
    "    for dato in datos:\n",
    "        importe += int(dato[\"cantidad\"]) * int(dato[\"precio\"])\n",
    "        cantidad += int(dato[\"cantidad\"])\n",
    "    return importe, cantidad\n",
    "\n",
    "importe, cantidad = calcular_totales(datos)\n",
    "\n",
    "print(f\"Las ventas fueron de ${importe:.2f} en {cantidad} unidades\")"
   ]
  },
  {
   "cell_type": "markdown",
   "metadata": {},
   "source": [
    "## Ejercicio 3: Listar las unidades vendidas.\n",
    "\n",
    "Listar cuantas unidades se vendieron en total para cada producto"
   ]
  },
  {
   "cell_type": "code",
   "execution_count": 31,
   "metadata": {},
   "outputs": [
    {
     "name": "stdout",
     "output_type": "stream",
     "text": [
      "Producto: Mirinda, Unidades vendidas: 85\n",
      "Producto: Torasso, Unidades vendidas: 32\n",
      "Producto: Pepsi Cola, Unidades vendidas: 89\n",
      "Producto: Sprite, Unidades vendidas: 72\n",
      "Producto: Coca Cola, Unidades vendidas: 57\n"
     ]
    }
   ],
   "source": [
    "def unidades_vendidas(datos):\n",
    "    productos_vendidos = {}\n",
    "    for dato in datos:\n",
    "        nombre_producto = dato[\"producto\"]\n",
    "        cantidad_vendida = int(dato[\"cantidad\"])\n",
    "        if nombre_producto in productos_vendidos:\n",
    "            productos_vendidos[nombre_producto] += cantidad_vendida\n",
    "        else:\n",
    "            productos_vendidos[nombre_producto] = cantidad_vendida\n",
    "\n",
    "    return productos_vendidos\n",
    "\n",
    "def listar_ventas(ventas):\n",
    "    for producto, cantidad in ventas.items():\n",
    "        print(f\"Producto: {producto}, Unidades vendidas: {cantidad}\")\n",
    "\n",
    "ventas = unidades_vendidas(datos)\n",
    "listar_ventas(ventas)\n"
   ]
  },
  {
   "cell_type": "markdown",
   "metadata": {},
   "source": [
    "##  Ejercicio 4: Listar el precio promedio por producto.\n",
    "\n",
    "Hacer un listado del precio promedio por productos."
   ]
  },
  {
   "cell_type": "code",
   "execution_count": 32,
   "metadata": {},
   "outputs": [
    {
     "name": "stdout",
     "output_type": "stream",
     "text": [
      "Producto: Mirinda, Precio promedio: 1542.12\n",
      "Producto: Torasso, Precio promedio: 916.25\n",
      "Producto: Pepsi Cola, Precio promedio: 1241.69\n",
      "Producto: Sprite, Precio promedio: 847.78\n",
      "Producto: Coca Cola, Precio promedio: 1066.32\n"
     ]
    }
   ],
   "source": [
    "def precio_promedio(datos):\n",
    "      productos_vendidos = {}\n",
    "      for dato in datos:\n",
    "        nombre_producto = dato[\"producto\"]\n",
    "        cantidad_vendida = int(dato[\"cantidad\"])\n",
    "        precio_producto = int(dato[\"precio\"])\n",
    "        if nombre_producto in productos_vendidos:\n",
    "            productos_vendidos[nombre_producto][\"cantidad\"] += cantidad_vendida\n",
    "            productos_vendidos[nombre_producto][\"precio_total\"] += precio_producto * cantidad_vendida\n",
    "        else:\n",
    "            productos_vendidos[nombre_producto] = {\n",
    "                \"cantidad\": cantidad_vendida,\n",
    "                \"precio_total\": precio_producto * cantidad_vendida\n",
    "            }\n",
    "    \n",
    "        for producto in productos_vendidos:\n",
    "            productos_vendidos[producto][\"precio_promedio\"] = productos_vendidos[producto][\"precio_total\"] / productos_vendidos[producto][\"cantidad\"]\n",
    "    \n",
    "      return productos_vendidos\n",
    "\n",
    "\n",
    "def listar_precios(datos):\n",
    "   for producto, datos in precios.items():\n",
    "        print(f\"Producto: {producto}, Precio promedio: {datos['precio_promedio']:.2f}\")\n",
    "\n",
    "precios = precio_promedio(datos)\n",
    "listar_precios(precios)"
   ]
  },
  {
   "cell_type": "markdown",
   "metadata": {},
   "source": [
    "### Ejercicio 5: Ranking de productos\n",
    "\n",
    "Realizar un listado de los 3 productos mas vendidos ordenados la cantidad de unidades vendidas (ordenadas de mayor a menor)\n"
   ]
  },
  {
   "cell_type": "code",
   "execution_count": 33,
   "metadata": {},
   "outputs": [
    {
     "name": "stdout",
     "output_type": "stream",
     "text": [
      "Producto: Pepsi Cola, Cantidad Vendida: 89\n",
      "Producto: Mirinda, Cantidad Vendida: 85\n",
      "Producto: Sprite, Cantidad Vendida: 72\n"
     ]
    }
   ],
   "source": [
    "def ranking_productos(datos, top=3):\n",
    "    cantidad = {}\n",
    "    for dato in datos:\n",
    "        nombre_producto = dato[\"producto\"]\n",
    "        cantidad_vendida = int(dato[\"cantidad\"])\n",
    "        if nombre_producto in cantidad:\n",
    "            cantidad[nombre_producto][\"cantidad vendida\"] += cantidad_vendida\n",
    "        else:\n",
    "            cantidad[nombre_producto]={\n",
    "                \"cantidad vendida\":cantidad_vendida\n",
    "            }\n",
    "    productos_ordenados = sorted(cantidad.items(), key=lambda x:x[1][\"cantidad vendida\"], reverse=True)\n",
    "\n",
    "    top_productos = productos_ordenados[:top]\n",
    "    return top_productos\n",
    "    \n",
    "\n",
    "def listar_ranking(ranking):\n",
    "     for producto, info in ranking:\n",
    "        print(f\"Producto: {producto}, Cantidad Vendida: {info['cantidad vendida']}\")\n",
    "\n",
    "ranking = ranking_productos(datos)\n",
    "listar_ranking(ranking)"
   ]
  },
  {
   "cell_type": "markdown",
   "metadata": {},
   "source": [
    "### Ejercicio 6: Listar las ventas por mes\n",
    "\n",
    "Realizar un listado del total de unidades vendidas por productos separada por mes."
   ]
  },
  {
   "cell_type": "code",
   "execution_count": 34,
   "metadata": {},
   "outputs": [
    {
     "name": "stdout",
     "output_type": "stream",
     "text": [
      "Fecha: 2024-08-27, Producto: Mirinda, Venta: 26\n",
      "Fecha: 2024-08-28, Producto: Torasso, Venta: 8\n",
      "Fecha: 2024-08-29, Producto: Pepsi Cola, Venta: 10\n",
      "Fecha: 2024-08-30, Producto: Mirinda, Venta: 1\n",
      "Fecha: 2024-09-01, Producto: Mirinda, Venta: 19\n",
      "Fecha: 2024-09-02, Producto: Coca Cola, Venta: 25\n",
      "Fecha: 2024-09-03, Producto: Coca Cola, Venta: 17\n",
      "Fecha: 2024-09-04, Producto: Pepsi Cola, Venta: 13\n",
      "Fecha: 2024-09-05, Producto: Mirinda, Venta: 8\n",
      "Fecha: 2024-09-06, Producto: Coca Cola, Venta: 16\n",
      "Fecha: 2024-09-07, Producto: Coca Cola, Venta: 27\n",
      "Fecha: 2024-09-08, Producto: Coca Cola, Venta: 21\n",
      "Fecha: 2024-09-09, Producto: Mirinda, Venta: 12\n",
      "Fecha: 2024-09-10, Producto: Mirinda, Venta: 20\n",
      "Fecha: 2024-09-11, Producto: Sprite, Venta: 20\n",
      "Fecha: 2024-09-12, Producto: Coca Cola, Venta: 4\n",
      "Fecha: 2024-09-13, Producto: Mirinda, Venta: 18\n",
      "Fecha: 2024-09-14, Producto: Coca Cola, Venta: 29\n",
      "Fecha: 2024-09-15, Producto: Coca Cola, Venta: 41\n"
     ]
    }
   ],
   "source": [
    "def ventas_por_mes(datos):\n",
    "    fecha_ventas = {}\n",
    "    for dato in datos:\n",
    "        producto = dato[\"producto\"]\n",
    "        fecha = dato[\"fecha\"]\n",
    "        cantidad = int(dato[\"cantidad\"])\n",
    "        if fecha in fecha_ventas:\n",
    "             fecha_ventas[fecha][\"cantidad\"] += cantidad\n",
    "        else:\n",
    "            fecha_ventas[fecha]= {\n",
    "                \"Producto\": producto,\n",
    "                \"cantidad\": cantidad\n",
    "            }\n",
    "    return fecha_ventas\n",
    "\n",
    "def listar_ventas_mensuales(ventas):\n",
    "     for fecha, info in ventas.items():\n",
    "        producto = info[\"Producto\"]\n",
    "        cantidad = info[\"cantidad\"]\n",
    "        print(f\"Fecha: {fecha}, Producto: {producto}, Venta: {cantidad}\")\n",
    "\n",
    "ventas = ventas_por_mes(datos)\n",
    "listar_ventas_mensuales(ventas)"
   ]
  },
  {
   "cell_type": "markdown",
   "metadata": {},
   "source": [
    "### Ejercicio 7: Informe general\n",
    "\n",
    "Mostrar un listado de productos ordenados alfabeticamente que contengan el precio promedio, la cantidad de unidades vendidas y el importe total vendido para cada producto"
   ]
  },
  {
   "cell_type": "code",
   "execution_count": 35,
   "metadata": {},
   "outputs": [
    {
     "name": "stdout",
     "output_type": "stream",
     "text": [
      " Producto: Coca Cola,  precio promedio: $1066.32, Cantidad vendida: 57, Importe total:  $60780\n",
      " Producto: Mirinda,  precio promedio: $1542.12, Cantidad vendida: 85, Importe total:  $131080\n",
      " Producto: Pepsi Cola,  precio promedio: $1241.69, Cantidad vendida: 89, Importe total:  $110510\n",
      " Producto: Sprite,  precio promedio: $847.78, Cantidad vendida: 72, Importe total:  $61040\n",
      " Producto: Torasso,  precio promedio: $916.25, Cantidad vendida: 32, Importe total:  $29320\n"
     ]
    }
   ],
   "source": [
    "def resumen_ventas(datos):\n",
    "     lista_informe = {}\n",
    "     for dato in datos:\n",
    "        nombre_producto = dato[\"producto\"]\n",
    "        cantidad_vendida = int(dato[\"cantidad\"])\n",
    "        precio_producto = int(dato[\"precio\"])\n",
    "        if nombre_producto in lista_informe:\n",
    "            lista_informe[nombre_producto][\"cantidad\"] += cantidad_vendida\n",
    "            lista_informe[nombre_producto][\"precio_total\"] += precio_producto * cantidad_vendida\n",
    "        else:\n",
    "            lista_informe[nombre_producto] = {\n",
    "                \"cantidad\": cantidad_vendida,\n",
    "                \"precio_total\": precio_producto * cantidad_vendida\n",
    "            }\n",
    "    \n",
    "        for producto in lista_informe:\n",
    "            lista_informe[producto][\"precio_promedio\"] = lista_informe[producto][\"precio_total\"] / lista_informe[producto][\"cantidad\"]\n",
    "    \n",
    "     return lista_informe\n",
    "\n",
    "def informe_ventas(datos):\n",
    "    datos = sorted(resumen.keys())\n",
    "    \n",
    "    for producto in datos:\n",
    "        cantidad = resumen[producto][\"cantidad\"]\n",
    "        total_vendido = resumen[producto][\"precio_total\"]\n",
    "        promedio_productos = resumen[producto][\"precio_promedio\"]\n",
    "        print(f\" Producto: {producto},  precio promedio: ${promedio_productos:.2f}, Cantidad vendida: {cantidad}, Importe total:  ${total_vendido}\")\n",
    "\n",
    "resumen = resumen_ventas(datos)\n",
    "informe_ventas(resumen)\n"
   ]
  }
 ],
 "metadata": {
  "kernelspec": {
   "display_name": "Python 3",
   "language": "python",
   "name": "python3"
  },
  "language_info": {
   "codemirror_mode": {
    "name": "ipython",
    "version": 3
   },
   "file_extension": ".py",
   "mimetype": "text/x-python",
   "name": "python",
   "nbconvert_exporter": "python",
   "pygments_lexer": "ipython3",
   "version": "3.11.2"
  }
 },
 "nbformat": 4,
 "nbformat_minor": 2
}
